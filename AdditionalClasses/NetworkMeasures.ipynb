{
 "cells": [
  {
   "cell_type": "code",
   "execution_count": 1,
   "metadata": {
    "collapsed": true
   },
   "outputs": [],
   "source": [
    "import networkx as nx\n",
    "import pandas as pd\n",
    "import collections as ct"
   ]
  },
  {
   "cell_type": "code",
   "execution_count": 3,
   "outputs": [],
   "source": [
    "class NetworkMeasures():\n",
    "    def __init__(self,G):\n",
    "        self.G = G\n",
    "        df_total = pd.read_excel('data/all_data.xlsx', sheet_name='percentChange', engine='openpyxl')\n",
    "        self.sectors = pd.read_excel(\"data/all_data.xlsx\",sheet_name='percentChange')\n",
    "        self.stock_symbols = []\n",
    "        for stock in df_total['Stock']:\n",
    "            self.stock_symbols.append(stock)\n",
    "\n",
    "        return\n",
    "\n",
    "    def SectorStats(self):\n",
    "\n",
    "        all_lists = []\n",
    "        c =0\n",
    "        for k in self.sectors['Sector']:\n",
    "            all_lists.append(str(k))\n",
    "        TotalSectorfrequency = (ct.Counter(all_lists)).most_common()\n",
    "        return TotalSectorfrequency\n",
    "    def degreeCentrality(self, Top = True):\n",
    "        if (Top == True):\n",
    "            temp =sorted(self.G.degree(self.G.nodes,weight='weight' ), key=lambda x: x[1], reverse=True)[:100]\n",
    "        else:\n",
    "            temp =sorted(self.G.degree(self.G.nodes,weight='weight' ), key=lambda x: x[1], reverse=True)[-100:]\n",
    "        lists = []\n",
    "\n",
    "        for t in temp:\n",
    "            f = self.sectors.loc[self.sectors['Stock'] == self.stock_symbols[int(t[0])]]\n",
    "            lists.append(f.iloc[0,1])\n",
    "            print(self.stock_symbols[int(t[0])] +  \" Sector \" + str(f.iloc[0,1]))\n",
    "        Sectorfrequency = (ct.Counter(lists)).most_common()\n",
    "        return Sectorfrequency\n",
    "    def EigenvectorCentrality(self, Top=True):\n",
    "        centrality = nx.eigenvector_centrality(self.G,weight='weight')\n",
    "        if (Top== True):\n",
    "            temp = sorted(((f\"{v:0.20f}\", c) for c ,v  in centrality.items()),reverse=True)[:100]\n",
    "        else:\n",
    "            temp = sorted(((f\"{v:0.20f}\", c) for c ,v  in centrality.items()),reverse=True)[-100:]\n",
    "        lists = []\n",
    "\n",
    "        for t in temp:\n",
    "            f = self.sectors.loc[self.sectors['Stock'] == self.stock_symbols[int(t[1])]]\n",
    "            lists.append(f.iloc[0,1])\n",
    "            print(self.stock_symbols[int(t[1])] +  \" Sector \" + str(f.iloc[0,1]))\n",
    "\n",
    "        Sectorfrequency =  (ct.Counter(lists)).most_common()\n",
    "        return Sectorfrequency\n",
    "    def SectorFraction(self, Sectorfrequency ):\n",
    "        SectorPercentage = []\n",
    "        SectorStat = self.SectorStats()\n",
    "        for a,b in Sectorfrequency\\\n",
    "                :\n",
    "            for c,d in SectorStat:\n",
    "                if (c == a):\n",
    "                    b = b/d\n",
    "                    if (d > 10):\n",
    "                        SectorPercentage.append((a,b))\n",
    "        print(sorted(SectorPercentage , key=lambda student: student[1], reverse=True))\n",
    "        return\n"
   ],
   "metadata": {
    "collapsed": false
   }
  },
  {
   "cell_type": "code",
   "execution_count": null,
   "outputs": [],
   "source": [],
   "metadata": {
    "collapsed": false
   }
  }
 ],
 "metadata": {
  "kernelspec": {
   "display_name": "Python 3",
   "language": "python",
   "name": "python3"
  },
  "language_info": {
   "codemirror_mode": {
    "name": "ipython",
    "version": 2
   },
   "file_extension": ".py",
   "mimetype": "text/x-python",
   "name": "python",
   "nbconvert_exporter": "python",
   "pygments_lexer": "ipython2",
   "version": "2.7.6"
  }
 },
 "nbformat": 4,
 "nbformat_minor": 0
}
