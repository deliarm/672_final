{
 "cells": [
  {
   "cell_type": "code",
   "execution_count": 2,
   "metadata": {
    "tags": []
   },
   "outputs": [],
   "source": [
    "import pandas as pd\n",
    "import networkx as nx\n",
    "%matplotlib inline"
   ]
  },
  {
   "cell_type": "code",
   "execution_count": 2,
   "metadata": {
    "collapsed": false,
    "jupyter": {
     "outputs_hidden": false
    }
   },
   "outputs": [],
   "source": [
    "class GraphFromFile():\n",
    "    def __init__(self):\n",
    "        return\n",
    "    def GraphFromFileTotalAbsWeights(self):\n",
    "        df_link=pd.read_csv(\"data/Filtered_links/links_total.csv\",delimiter=\"\\t\")\n",
    "        G = nx.Graph()\n",
    "        for index,row in df_link.iterrows():\n",
    "            G.add_edge(row['Source'],row['Target'] , weight=abs(row['Weight']))\n",
    "        return G\n",
    "    def GraphFromFileYearlyAbsWeights(self, year):\n",
    "        df_link=pd.read_csv(\"data/Filtered_links/links_\"+str(year)+\".csv\",delimiter=\"\\t\")\n",
    "        G = nx.Graph()\n",
    "        for index,row in df_link.iterrows():\n",
    "            G.add_edge(row['Source'],row['Target'] , weight=abs(row['Weight']))\n",
    "        return G\n",
    "    def GraphFromFileTotalWeights(self):\n",
    "            df_link=pd.read_csv(\"data/Filtered_links/links_total.csv\",delimiter=\"\\t\")\n",
    "            G = nx.Graph()\n",
    "            for index,row in df_link.iterrows():\n",
    "                G.add_edge(row['Source'],row['Target'] , weight=(row['Weight']))\n",
    "            return G\n",
    "    def GraphFromFileYearlyWeights(self,year):\n",
    "        df_link=pd.read_csv(\"data/Filtered_links/links_\"+str(year)+\".csv\",delimiter=\"\\t\")\n",
    "        G = nx.Graph()\n",
    "        for index,row in df_link.iterrows():\n",
    "            G.add_edge(row['Source'],row['Target'] , weight=(row['Weight']))\n",
    "        return G\n",
    "    def GraphFromFileTotalInversedAbsWeights(self):\n",
    "            df_link=pd.read_csv(\"data/Filtered_links/links_total.csv\",delimiter=\"\\t\")\n",
    "            G = nx.Graph()\n",
    "            for index,row in df_link.iterrows():\n",
    "                G.add_edge(row['Source'],row['Target'] , weight=abs(1/row['Weight']))\n",
    "            return G\n",
    "    def GraphFromFileYearlyInversedAbsWeights(self,year):\n",
    "        df_link=pd.read_csv(\"data/Filtered_links/links_\"+str(year)+\".csv\",delimiter=\"\\t\")\n",
    "        G = nx.Graph()\n",
    "        for index,row in df_link.iterrows():\n",
    "            G.add_edge(row['Source'],row['Target'] , weight=abs(1/row['Weight']))\n",
    "        return G"
   ]
  },
  {
   "cell_type": "code",
   "execution_count": null,
   "metadata": {
    "collapsed": false,
    "jupyter": {
     "outputs_hidden": false
    }
   },
   "outputs": [],
   "source": []
  }
 ],
 "metadata": {
  "kernelspec": {
   "display_name": "Python 3 (ipykernel)",
   "language": "python",
   "name": "python3"
  },
  "language_info": {
   "codemirror_mode": {
    "name": "ipython",
    "version": 3
   },
   "file_extension": ".py",
   "mimetype": "text/x-python",
   "name": "python",
   "nbconvert_exporter": "python",
   "pygments_lexer": "ipython3",
   "version": "3.9.1"
  }
 },
 "nbformat": 4,
 "nbformat_minor": 4
}
