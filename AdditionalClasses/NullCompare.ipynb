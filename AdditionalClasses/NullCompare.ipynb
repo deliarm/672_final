{
 "cells": [
  {
   "cell_type": "code",
   "execution_count": 59,
   "metadata": {
    "collapsed": true
   },
   "outputs": [],
   "source": [
    "import numpy as np\n",
    "import networkx as nx\n",
    "import matplotlib.pyplot as plt\n",
    "\n",
    "%matplotlib inline\n"
   ]
  },
  {
   "cell_type": "code",
   "execution_count": 60,
   "outputs": [],
   "source": [
    "class NullCompare():\n",
    "    def __init__(self, g):\n",
    "        self.G = g\n",
    "    def CalculateStats(self):\n",
    "        C = np.mean(list(nx.clustering(self.G).values()))\n",
    "        d = nx.average_shortest_path_length(self.G,weight= None)\n",
    "\n",
    "\n",
    "        return C,d"
   ],
   "metadata": {
    "collapsed": false
   }
  },
  {
   "cell_type": "code",
   "execution_count": 61,
   "outputs": [],
   "source": [
    "    def ERPlot(self):\n",
    "        GN = len(self.G.nodes())\n",
    "        max_L = GN*(GN-1)/2\n",
    "        actual_L = len(self.G.edges())\n",
    "        p = actual_L/max_L\n",
    "\n",
    "        ER = nx.erdos_renyi_graph(GN, p, directed=False)\n",
    "\n",
    "        self.plot_degree_dist(ER)"
   ],
   "metadata": {
    "collapsed": false
   }
  },
  {
   "cell_type": "code",
   "execution_count": 62,
   "outputs": [],
   "source": [
    "    def ERStats(self):\n",
    "        clustering_ER = []\n",
    "        short_path_ER = []\n",
    "        GN = len(self.G.nodes())\n",
    "        max_L = GN*(GN-1)/2\n",
    "        actual_L = len(self.G.edges())\n",
    "        p = actual_L/max_L\n",
    "        for i in range(10): # 1000 is better\n",
    "\n",
    "            ER = nx.erdos_renyi_graph(GN, p, directed=False)\n",
    "            print(\"Iteration \" + str(i))\n",
    "            C_ER = np.mean(list(nx.clustering(ER).values()))\n",
    "            if nx.is_connected(ER)==True:\n",
    "                d_ER = nx.average_shortest_path_length(ER,weight=None)\n",
    "            clustering_ER.append(C_ER)\n",
    "            short_path_ER.append(d_ER)\n",
    "\n",
    "\n",
    "        return clustering_ER,short_path_ER"
   ],
   "metadata": {
    "collapsed": false
   }
  },
  {
   "cell_type": "code",
   "execution_count": 63,
   "outputs": [],
   "source": [
    "    def ClusteringCoffPlot(clustering_ER, C):\n",
    "        fig = plt.figure(figsize=(6,4))\n",
    "\n",
    "        plt.boxplot(clustering_ER)\n",
    "        plt.plot(2,C,'r',marker='+',markersize=15)\n",
    "        ax = plt.gca()\n",
    "        ax.set_xticks([1,2],labels=[1,2])\n",
    "        plt.xlim([0.5,2.5])\n",
    "        plt.show()"
   ],
   "metadata": {
    "collapsed": false
   }
  },
  {
   "cell_type": "code",
   "execution_count": 64,
   "outputs": [],
   "source": [
    "    def ShortPathPlot(short_path_ER,d):\n",
    "        fig = plt.figure(figsize=(6,4))\n",
    "\n",
    "        plt.boxplot(short_path_ER)\n",
    "        plt.plot(2,d,'r',marker='+',markersize=15)\n",
    "        ax = plt.gca()\n",
    "        ax.set_xticks([1,2],labels=[1,2])\n",
    "        plt.xlim([0.5,2.5])\n",
    "        plt.show()"
   ],
   "metadata": {
    "collapsed": false
   }
  },
  {
   "cell_type": "code",
   "execution_count": 65,
   "outputs": [],
   "source": [
    "    # Calculating metrics for a Degree Preservation Graph\n",
    "    def DPPlot(self):\n",
    "        DP = self.G.copy() # the function edits the graph in place\n",
    "\n",
    "        nx.double_edge_swap(DP,nswap=self.G.number_of_edges(),max_tries=1000000)\n",
    "        self.plot_degree_dist(DP)\n",
    "        self.plot_degree_dist(self.G)"
   ],
   "metadata": {
    "collapsed": false
   }
  },
  {
   "cell_type": "code",
   "execution_count": 66,
   "outputs": [],
   "source": [
    "    def DPStats(self):\n",
    "        clustering_DP = []\n",
    "        short_path_DP = []\n",
    "        DP = self.G.copy()\n",
    "        for i in range(5): # 1000 is better\n",
    "\n",
    "            nx.double_edge_swap(DP,nswap=self.G.number_of_edges(),max_tries=1000000)\n",
    "            print(\"Iteration \" + str(i))\n",
    "            C_DP = np.mean(list(nx.clustering(DP).values()))\n",
    "            if nx.is_connected(DP)==True:\n",
    "                d_DP = nx.average_shortest_path_length(DP,weight=None)\n",
    "            clustering_DP.append(C_DP)\n",
    "            short_path_DP.append(d_DP)\n",
    "\n",
    "        print(np.mean(clustering_DP))\n",
    "        print(np.std(clustering_DP))\n",
    "\n",
    "        print(np.mean(short_path_DP))\n",
    "        print(np.std(short_path_DP))"
   ],
   "metadata": {
    "collapsed": false
   }
  },
  {
   "cell_type": "code",
   "execution_count": 67,
   "outputs": [],
   "source": [
    "    # Function Defintions\n",
    "\n",
    "    # Function to plot a degree distribution graph (P(k) vs k graph)\n",
    "    def plot_degree_dist(G):\n",
    "\n",
    "        degrees = [G.degree(n) for n in G.nodes()]\n",
    "        kmin = min(degrees)\n",
    "        kmax = max(degrees)\n",
    "\n",
    "        if kmin>0:\n",
    "            bin_edges = np.logspace(np.log10(kmin), np.log10(kmax)+1, num=20)\n",
    "        else:\n",
    "            bin_edges = np.logspace(0, np.log10(kmax)+1, num=20)\n",
    "        density, _ = np.histogram(degrees, bins=bin_edges, density=True)\n",
    "\n",
    "        fig = plt.figure(figsize=(6,4))\n",
    "\n",
    "        log_be = np.log10(bin_edges)\n",
    "        x = 10**((log_be[1:] + log_be[:-1])/2)\n",
    "        plt.loglog(x, density, marker='o', linestyle='none')\n",
    "        plt.xlabel(r\"degree $k$\", fontsize=16)\n",
    "        plt.ylabel(r\"$P(k)$\", fontsize=16)\n",
    "\n",
    "        ax = plt.gca()\n",
    "        ax.spines['right'].set_visible(False)\n",
    "        ax.spines['top'].set_visible(False)\n",
    "        ax.yaxis.set_ticks_position('left')\n",
    "        ax.xaxis.set_ticks_position('bottom')"
   ],
   "metadata": {
    "collapsed": false
   }
  },
  {
   "cell_type": "code",
   "execution_count": 58,
   "outputs": [],
   "source": [],
   "metadata": {
    "collapsed": false
   }
  },
  {
   "cell_type": "code",
   "execution_count": 33,
   "outputs": [],
   "source": [],
   "metadata": {
    "collapsed": false
   }
  }
 ],
 "metadata": {
  "kernelspec": {
   "display_name": "Python 3",
   "language": "python",
   "name": "python3"
  },
  "language_info": {
   "codemirror_mode": {
    "name": "ipython",
    "version": 2
   },
   "file_extension": ".py",
   "mimetype": "text/x-python",
   "name": "python",
   "nbconvert_exporter": "python",
   "pygments_lexer": "ipython2",
   "version": "2.7.6"
  }
 },
 "nbformat": 4,
 "nbformat_minor": 0
}
