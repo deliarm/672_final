{
 "cells": [
  {
   "cell_type": "markdown",
   "id": "c7c94856-fdd6-42ff-962f-0a8ad874035c",
   "metadata": {},
   "source": [
    "### CPSC 672 Network Project"
   ]
  },
  {
   "cell_type": "code",
   "execution_count": 15,
   "id": "da7831d8-5d79-479b-b17d-aaadc83c5ecf",
   "metadata": {},
   "outputs": [],
   "source": [
    "import numpy as np\n",
    "import pandas as pd\n",
    "import networkx as nx\n",
    "import matplotlib.pyplot as plt\n",
    "from scipy import spatial\n",
    "import csv\n",
    "import collections as ct\n",
    "from tqdm.notebook import tqdm\n",
    "import re\n",
    "%run AdditionalClasses/NullCompare.ipynb import *\n",
    "%run AdditionalClasses/GraphFromFile.ipynb import *\n",
    "%run AdditionalClasses/NetworkMeasures.ipynb import *\n",
    "%matplotlib inline"
   ]
  },
  {
   "cell_type": "markdown",
   "id": "939b8e33-d8ae-43bf-b9ce-5ad8cda37714",
   "metadata": {},
   "source": [
    "### Data\n",
    "\n",
    "The following few cells read in our data from a excel spreadsheet and organize them into a few arrays:\n",
    "- stock_symbols contains all the actual stock names\n",
    "- dates contains all the column headings (which are dates) from Feb 2010 to Dec 2021"
   ]
  },
  {
   "cell_type": "code",
   "execution_count": 2,
   "id": "dd9784af-3c04-4221-8e8b-3ff1ce635bff",
   "metadata": {},
   "outputs": [],
   "source": [
    "df_total = pd.read_excel('data/all_data.xlsx', sheet_name='percentChange',engine='openpyxl')"
   ]
  },
  {
   "cell_type": "code",
   "execution_count": 3,
   "id": "34deefe3-a627-47c2-b133-deb18bbd7295",
   "metadata": {},
   "outputs": [],
   "source": [
    "stock_symbols = []\n",
    "for stock in df_total['Stock']:\n",
    "    stock_symbols.append(stock)\n",
    "\n",
    "dates = df_total.columns.values\n",
    "dates = dates[2:]"
   ]
  },
  {
   "cell_type": "markdown",
   "id": "f546907a-6506-4d2a-be69-8dd73ace2373",
   "metadata": {},
   "source": [
    "### Calculating links\n",
    "\n",
    "To get the links between any two stocks, we use cosine similarity to determine how correlated two stocks are. The formula for cosine similarity is as follows:\n",
    "$$ \n",
    "x = {1 - \\frac{u \\cdot v}{||u|| * ||v||}  }\n",
    "$$\n",
    "                            \n",
    "the getSimilarities() functions do just that by comparing every stock, with every other stock, for any input date (column). Note one of the functions calculates this over a 12 month period (Yearly) whereas the other function uses the total dataset."
   ]
  },
  {
   "cell_type": "code",
   "execution_count": 6,
   "id": "4ced1a7b-6f3f-4e1c-9adb-03567312800a",
   "metadata": {},
   "outputs": [],
   "source": [
    "def getSimilaritiesTotal(dataFrame):\n",
    "    similarities = []\n",
    "    for i in tqdm(range(len(dataFrame))):\n",
    "        for j in range(i+1,len(dataFrame)):\n",
    "            first_stock = dataFrame.iloc[i,2:]\n",
    "            second_stock = dataFrame.iloc[j,2:]\n",
    "            result = 1 - spatial.distance.cosine(first_stock,second_stock)\n",
    "            similarities.append((stock_symbols[i], stock_symbols[j], result))\n",
    "    return similarities"
   ]
  },
  {
   "cell_type": "code",
   "execution_count": 7,
   "id": "22c88aa6-89ea-4bd7-a1c3-d18a93fade15",
   "metadata": {},
   "outputs": [],
   "source": [
    "def getSimilaritiesYearly(date,dataFrame):\n",
    "    similarities = []\n",
    "    elems = len(dataFrame[date])\n",
    "    start_col = (np.where(dates == date)[0][0]) + 2 # plus 2 is for indexing away from stock symbol & sector\n",
    "    end_col = start_col + 12\n",
    "    for i in tqdm(range(elems)):\n",
    "        for j in range(i+1,elems):\n",
    "            first_stock = dataFrame.iloc[i,start_col:end_col]\n",
    "            second_stock = dataFrame.iloc[j,start_col:end_col]\n",
    "            result = 1-spatial.distance.cosine(first_stock,second_stock)\n",
    "            similarities.append((stock_symbols[i], stock_symbols[j], result))\n",
    "    return similarities"
   ]
  },
  {
   "cell_type": "code",
   "execution_count": 8,
   "id": "adebe59f-f79d-40ba-ae31-348ab49626ce",
   "metadata": {},
   "outputs": [],
   "source": [
    "def getAllYears(dataFrame):\n",
    "    i = 0\n",
    "    arr = []\n",
    "    start_date = dates[i]\n",
    "    curr_year = start_date.year\n",
    "    while(curr_year < 2021):\n",
    "        yearly_similarity = getSimilaritiesYearly(start_date,dataFrame)\n",
    "        arr.append((start_date,yearly_similarity))\n",
    "        curr_year+=1\n",
    "        i+=12\n",
    "        start_date = dates[i]\n",
    "    return arr"
   ]
  },
  {
   "cell_type": "markdown",
   "id": "f869c832-5a8e-4aa3-b897-948a9990ccb7",
   "metadata": {},
   "source": [
    "### Getting the total and Yearly similarities"
   ]
  },
  {
   "cell_type": "code",
   "execution_count": null,
   "id": "07c3ecb9-9c84-43b8-989f-2deb990060c9",
   "metadata": {},
   "outputs": [],
   "source": [
    "total_similarities = getSimilaritiesTotal(df_total)"
   ]
  },
  {
   "cell_type": "code",
   "execution_count": null,
   "id": "da4a2755-e6a4-43e2-ab02-deb6e5bd5791",
   "metadata": {},
   "outputs": [],
   "source": [
    "yearly_similarites = getAllYears(df_total)"
   ]
  },
  {
   "cell_type": "markdown",
   "id": "e6e7b2e6-8318-4ae8-bf7b-c94cffe8043a",
   "metadata": {},
   "source": [
    "### Exporting\n",
    "At this point all the stock symbols are exported to csv files, each year has it's own specific set of links. And there is also a csv that contains the total similarity across the entire dataset"
   ]
  },
  {
   "cell_type": "code",
   "execution_count": 20,
   "id": "de33eed6-08d2-416d-bc90-8079348b8319",
   "metadata": {},
   "outputs": [],
   "source": [
    "def writeStocks():\n",
    "    sectors = pd.read_excel(\"data/all_data.xlsx\",sheet_name='percentChange',engine='openpyxl')\n",
    "    sectors = sectors[[\"Stock\",\"Sector\"]]\n",
    "    with open('data/stocks.csv','w', newline='') as file:\n",
    "        writer = csv.writer(file)\n",
    "        writer.writerow([\"ID\\tlabel\\tsector\"])\n",
    "        for stock in stock_symbols:\n",
    "            sect = ((sectors.loc[sectors[\"Stock\"] == stock][\"Sector\"]).to_string(index=False)).replace(\" \",\"\")\n",
    "            sect = re.sub('[^a-zA-Z]+', '', sect)\n",
    "            idx  = str(stock_symbols.index(stock))\n",
    "            writer.writerow([idx+\"\\t\"+stock+\"\\t\"+sect])"
   ]
  },
  {
   "cell_type": "code",
   "execution_count": 5,
   "id": "d80b4bcb",
   "metadata": {
    "collapsed": false,
    "jupyter": {
     "outputs_hidden": false
    },
    "pycharm": {
     "is_executing": true
    }
   },
   "outputs": [],
   "source": [
    "def writeTotal(threshold):\n",
    "    with open('data/Raw_links/links_total.csv', 'w', newline='') as file:\n",
    "        writer = csv.writer(file)\n",
    "        writer.writerow([\"Source\tTarget\tWeight\"])\n",
    "        for link in total_similarities:\n",
    "            first_stock_index = str(stock_symbols.index(link[0]))\n",
    "            second_stock_index = str(stock_symbols.index(link[1]))\n",
    "            link_weight = link[2]\n",
    "            if(abs(link_weight) > threshold):\n",
    "                writer.writerow([first_stock_index+\"\\t\"+second_stock_index+\"\\t\"+str(link_weight)])"
   ]
  },
  {
   "cell_type": "code",
   "execution_count": 6,
   "id": "343a003f-aeb8-4469-94a7-0b300d979ae2",
   "metadata": {},
   "outputs": [],
   "source": [
    "def writeYearly(yearly_calc,threshold):\n",
    "    for year in yearly_calc:\n",
    "        curr_year = year[0].year\n",
    "        links = year[1]\n",
    "        file_name = 'data/Raw_links/links_'+str(curr_year)+'.csv'\n",
    "        with open(file_name, 'w', newline='') as file:\n",
    "            writer = csv.writer(file)\n",
    "            writer.writerow([\"Source\tTarget\tWeight\"])\n",
    "            for link in links:\n",
    "                first_stock_index = str(stock_symbols.index(link[0]))\n",
    "                second_stock_index = str(stock_symbols.index(link[1]))\n",
    "                link_weight = link[2]\n",
    "                if(abs(link_weight) > threshold):\n",
    "                    writer.writerow([first_stock_index+\"\\t\"+second_stock_index+\"\\t\"+str(link_weight)])"
   ]
  },
  {
   "cell_type": "code",
   "execution_count": 21,
   "id": "2e35b6d6-52fa-416a-ae7a-054eab778c41",
   "metadata": {},
   "outputs": [],
   "source": [
    "writeStocks()\n",
    "#writeTotal(0.5)"
   ]
  },
  {
   "cell_type": "code",
   "execution_count": null,
   "id": "120db853-58a9-48f2-a59c-ec3519d5a62e",
   "metadata": {},
   "outputs": [],
   "source": [
    "writeYearly(yearly_similarites,0.6)"
   ]
  },
  {
   "cell_type": "markdown",
   "id": "b310190a-5b5f-4c37-b13a-120da003cb76",
   "metadata": {},
   "source": [
    "### Visualizing the Data\n",
    "Now that the data has been processed and exported into their own csv's , we can begin to do some visualiation and more graph theory related calculations.\n",
    "Also, due to lack of computational resources, we have decided to reduce the number of links to 100,000 . The following two functions take the original csv's and take the strongest 100,000 links and save them. Links who do not make the cut are simply discarded."
   ]
  },
  {
   "cell_type": "code",
   "execution_count": 11,
   "id": "1c8e1897-e16d-4bd8-9dde-fb4a92623c78",
   "metadata": {},
   "outputs": [],
   "source": [
    "def filterYearly(num_of_links):\n",
    "    for i in range(2010,2021):\n",
    "        df_link=pd.read_csv(\"data/Raw_links_\"+str(i)+\".csv\",delimiter=\"\\t\")\n",
    "        df_link = df_link.sort_values(by=['Weight'],key=abs,ascending=False,ignore_index=True)\n",
    "        df_link[:num_of_links].to_csv(\"data/Filtered_links/links_\"+str(i)+\".csv\",sep='\\t',index=False)"
   ]
  },
  {
   "cell_type": "code",
   "execution_count": 12,
   "id": "2383c6d9",
   "metadata": {
    "collapsed": false,
    "jupyter": {
     "outputs_hidden": false
    }
   },
   "outputs": [],
   "source": [
    "def filterTotal(num_of_links):\n",
    "        df_link=pd.read_csv(\"data/Raw_links_total.csv\",delimiter=\"\\t\")\n",
    "        df_link = df_link.sort_values(by=['Weight'],key=abs,ascending=False,ignore_index=True)\n",
    "        df_link[:num_of_links].to_csv(\"data/Filtered_links/links_total.csv\",sep=\"\\t\",index=False)"
   ]
  },
  {
   "cell_type": "code",
   "execution_count": null,
   "id": "126b6edb-904f-4e98-a920-e1256e153c07",
   "metadata": {},
   "outputs": [],
   "source": [
    "filterYearly(100000)\n",
    "filterTotal(100000)"
   ]
  },
  {
   "cell_type": "code",
   "execution_count": null,
   "id": "5800fb4a",
   "metadata": {
    "collapsed": false,
    "jupyter": {
     "outputs_hidden": false
    }
   },
   "outputs": [],
   "source": [
    "Yearly_Graphs = []\n",
    "for i in range(2010,2021):\n",
    "    G =GraphFromFile().GraphFromFileYearlyAbsWeights(i)\n",
    "    Yearly_Graphs.append(G)"
   ]
  },
  {
   "cell_type": "code",
   "execution_count": null,
   "id": "c9b1ac0a",
   "metadata": {
    "collapsed": false,
    "jupyter": {
     "outputs_hidden": false
    }
   },
   "outputs": [],
   "source": [
    "Total_Graph = []\n",
    "Total_Graph.append(GraphFromFile().GraphFromFileTotalAbsWeights())"
   ]
  },
  {
   "cell_type": "code",
   "execution_count": 16,
   "id": "0c2f24ac",
   "metadata": {
    "collapsed": false,
    "jupyter": {
     "outputs_hidden": false
    }
   },
   "outputs": [],
   "source": [
    "'''\n",
    "Source code obtained from:\n",
    "Author: Emma Towlson\n",
    "https://d2l.ucalgary.ca/d2l/le/content/472066/viewContent/5526868/View\n",
    "\n",
    "Modifications have been made from the original to fit our problem set\n",
    "'''\n",
    "def PlotGraphDegDistribution(Graph_list):\n",
    "    fig = plt.figure(figsize=(6,4))\n",
    "    plt.xlabel(r\"degree $k$\", fontsize=16)\n",
    "    plt.ylabel(r\"$P(k)$\", fontsize=16)\n",
    "    for i in range(len(Graph_list)):\n",
    "        G = Graph_list[i]\n",
    "        N = len(G)\n",
    "        L = G.size()\n",
    "        degrees = [G.degree(node,weight='weight') for node in G]\n",
    "        kmin = min(degrees)\n",
    "        kmax = max(degrees)\n",
    "\n",
    "        # Get 10 logarithmically spaced bins between kmin and kmax\n",
    "        bin_edges = np.logspace(np.log10(kmin), np.log10(kmax), num=10)\n",
    "\n",
    "        # histogram the data into these bins\n",
    "        density, _ = np.histogram(degrees, bins=bin_edges, density=True)\n",
    "\n",
    "\n",
    "        # \"x\" should be midpoint (IN LOG SPACE) of each bin\n",
    "        log_be = np.log10(bin_edges)\n",
    "        x = 10**((log_be[1:] + log_be[:-1])/2)\n",
    "        label = 2010 +i if len(Graph_list) > 1 else \"total\"\n",
    "        plt.loglog(x, density, marker='o', label = label,linestyle='none')\n",
    "\n",
    "\n",
    "        # remove right and top boundaries because they're ugly\n",
    "        ax = plt.gca()\n",
    "        ax.spines['right'].set_visible(False)\n",
    "        ax.spines['top'].set_visible(False)\n",
    "        ax.yaxis.set_ticks_position('left')\n",
    "        ax.xaxis.set_ticks_position('bottom')\n",
    "\n",
    "        # Show the plot\n",
    "    plt.legend()\n",
    "    plt.show()"
   ]
  },
  {
   "cell_type": "code",
   "execution_count": 17,
   "id": "d4f96e0c",
   "metadata": {
    "collapsed": false,
    "jupyter": {
     "outputs_hidden": false
    }
   },
   "outputs": [
    {
     "data": {
      "image/png": "[encoded data removed]",
      "text/plain": [
       "<Figure size 600x400 with 1 Axes>"
      ]
     },
     "metadata": {},
     "output_type": "display_data"
    }
   ],
   "source": [
    "PlotGraphDegDistribution(Yearly_Graphs)           #for ploting total graph degree distribution"
   ]
  },
  {
   "cell_type": "code",
   "execution_count": 18,
   "id": "768160cf-c958-4e0f-9b9d-2133950674e1",
   "metadata": {},
   "outputs": [
    {
     "data": {
      "image/png": "[encoded data removed]",
      "text/plain": [
       "<Figure size 600x400 with 1 Axes>"
      ]
     },
     "metadata": {},
     "output_type": "display_data"
    }
   ],
   "source": [
    "PlotGraphDegDistribution(Total_Graph)             #for ploting total graph degree distribution"
   ]
  },
  {
   "cell_type": "code",
   "execution_count": 7,
   "id": "60e1853b",
   "metadata": {
    "collapsed": false,
    "jupyter": {
     "outputs_hidden": false
    }
   },
   "outputs": [],
   "source": [
    "G = Total_Graph[0]\n",
    "CG = sorted(nx.connected_components(G), key=len, reverse=True)\n",
    "G = G.subgraph(CG[0])                 # select the biggest connected component"
   ]
  },
  {
   "cell_type": "code",
   "execution_count": 8,
   "id": "e47c98ff",
   "metadata": {
    "collapsed": false,
    "jupyter": {
     "outputs_hidden": false
    }
   },
   "outputs": [],
   "source": [
    "n = NullCompare(G)"
   ]
  },
  {
   "cell_type": "code",
   "execution_count": 9,
   "id": "eb17ac92",
   "metadata": {
    "collapsed": false,
    "jupyter": {
     "outputs_hidden": false
    }
   },
   "outputs": [
    {
     "name": "stdout",
     "output_type": "stream",
     "text": [
      "Average Clustering Coefficient:  0.6678847956398628\n",
      "Average Shortest Path:  2.728443762372391\n"
     ]
    }
   ],
   "source": [
    "C,d = n.CalculateStats()\n",
    "print(\"Average Clustering Coefficient: \", C)\n",
    "print(\"Average Shortest Path: \", d)"
   ]
  },
  {
   "cell_type": "code",
   "execution_count": null,
   "id": "c6228a2b",
   "metadata": {
    "collapsed": false,
    "jupyter": {
     "outputs_hidden": false
    }
   },
   "outputs": [],
   "source": [
    "clustering_ER,short_path_ER = n.ERStats(1000)\n",
    "print(np.mean(clustering_ER))\n",
    "print(np.std(clustering_ER))\n",
    "\n",
    "print(np.mean(short_path_ER))\n",
    "print(np.std(short_path_ER))"
   ]
  },
  {
   "cell_type": "code",
   "execution_count": 13,
   "id": "60ef932a",
   "metadata": {
    "collapsed": false,
    "jupyter": {
     "outputs_hidden": false
    }
   },
   "outputs": [
    {
     "data": {
      "image/png": "[encoded data removed]",
      "text/plain": [
       "<Figure size 600x400 with 1 Axes>"
      ]
     },
     "metadata": {},
     "output_type": "display_data"
    }
   ],
   "source": [
    "n.ClusteringCoffPlot(clustering_ER,C )"
   ]
  },
  {
   "cell_type": "code",
   "execution_count": 14,
   "id": "d6584b06",
   "metadata": {
    "collapsed": false,
    "jupyter": {
     "outputs_hidden": false
    }
   },
   "outputs": [
    {
     "data": {
      "image/png": "[encoded data removed]",
      "text/plain": [
       "<Figure size 600x400 with 1 Axes>"
      ]
     },
     "metadata": {},
     "output_type": "display_data"
    }
   ],
   "source": [
    "n.ShortPathPlot(short_path_ER,d)"
   ]
  },
  {
   "cell_type": "code",
   "execution_count": null,
   "id": "223f10a9",
   "metadata": {
    "collapsed": false,
    "jupyter": {
     "outputs_hidden": false
    },
    "pycharm": {
     "is_executing": true
    }
   },
   "outputs": [
    {
     "name": "stdout",
     "output_type": "stream",
     "text": [
      "Iteration 0\n",
      "Iteration 1\n",
      "Iteration 2\n",
      "Iteration 3\n",
      "Iteration 4\n",
      "Iteration 5\n",
      "Iteration 6\n",
      "Iteration 7\n",
      "Iteration 8\n"
     ]
    }
   ],
   "source": [
    "clustering_DP,short_path_DP = n.DPStats(1000)\n",
    "print(np.mean(clustering_DP))\n",
    "print(np.std(clustering_DP))\n",
    "\n",
    "print(np.mean(short_path_DP))\n",
    "print(np.std(short_path_DP))"
   ]
  },
  {
   "cell_type": "code",
   "execution_count": 59,
   "outputs": [],
   "source": [
    "G = GraphFromFile().GraphFromFileTotalAbsWeights()"
   ],
   "metadata": {
    "collapsed": false
   }
  },
  {
   "cell_type": "code",
   "execution_count": 60,
   "outputs": [],
   "source": [
    "Measure = NetworkMeasures(G)\n",
    "#Measure.SectorStats()"
   ],
   "metadata": {
    "collapsed": false
   }
  },
  {
   "cell_type": "code",
   "execution_count": 61,
   "outputs": [
    {
     "name": "stdout",
     "output_type": "stream",
     "text": [
      "RVT Sector ETF\n",
      "TY Sector ETF\n",
      "GDV Sector ETF\n",
      "EVT Sector ETF\n",
      "RMT Sector ETF\n",
      "CSQ Sector ETF\n",
      "USA Sector ETF\n",
      "GAM Sector ETF\n",
      "ETG Sector ETF\n",
      "ETO Sector ETF\n",
      "AVK Sector ETF\n",
      "BTO Sector Metals & Mining\n",
      "CHW Sector ETF\n",
      "MCN Sector ETF\n",
      "SCD Sector ETF\n",
      "FFA Sector ETF\n",
      "LNC Sector Insurance\n",
      "GAB Sector ETF\n",
      "LGI Sector ETF\n",
      "BDJ Sector ETF\n",
      "ETY Sector ETF\n",
      "PFG Sector Insurance\n",
      "PH Sector Machinery\n",
      "EXG Sector ETF\n",
      "NFJ Sector ETF\n",
      "EMR Sector Electrical Equipment\n",
      "WCC Sector Trading Companies & Distributors\n",
      "NIE Sector ETF\n",
      "PEO Sector ETF\n",
      "GL Sector Insurance\n",
      "PRU Sector Insurance\n",
      "HON Sector Industrial Conglomerates\n",
      "C Sector Banks\n",
      "AMP Sector Capital Markets\n",
      "MET Sector Insurance\n",
      "CR Sector Machinery\n",
      "CET Sector Asset Management\n",
      "ADX Sector ETF\n",
      "DDF Sector ETF\n",
      "RTX Sector Aerospace & Defense\n",
      "EWBC Sector Banks\n",
      "SLB Sector Energy Equipment & Services\n",
      "FLS Sector Machinery\n",
      "FUL Sector Chemicals\n",
      "CHI Sector ETF\n",
      "GLQ Sector ETF\n",
      "ASG Sector ETF\n",
      "SPXX Sector ETF\n",
      "CII Sector ETF\n",
      "ASB Sector Banks\n",
      "AOD Sector ETF\n",
      "CATY Sector Banks\n",
      "EMN Sector Chemicals\n",
      "TNL Sector Hotels, Restaurants & Leisure\n",
      "DAN Sector Auto Components\n",
      "PACW Sector Banks\n",
      "MAN Sector Professional Services\n",
      "KEY Sector Banks\n",
      "JCE Sector ETF\n",
      "CBRE Sector Real Estate Management & Development\n",
      "UNM Sector Insurance\n",
      "COF Sector Consumer Finance\n",
      "DEX Sector ETF\n",
      "RJF Sector Capital Markets\n",
      "HYT Sector ETF\n",
      "EOI Sector ETF\n",
      "AGD Sector ETF\n",
      "SNA Sector Machinery\n",
      "CFR Sector Banks\n",
      "EEA Sector ETF\n",
      "GGT Sector ETF\n",
      "BMO Sector Banks\n",
      "BOE Sector ETF\n",
      "FOF Sector ETF\n",
      "CHY Sector ETF\n",
      "DRH Sector Equity Real Estate Investment Trusts ...\n",
      "ARW Sector Electronic Equipment, Instruments & C...\n",
      "MS Sector Capital Markets\n",
      "APH Sector Electronic Equipment, Instruments & C...\n",
      "LAMR Sector Equity Real Estate Investment Trusts ...\n",
      "HST Sector Equity Real Estate Investment Trusts ...\n",
      "PNC Sector Banks\n",
      "AWP Sector Equity Real Estate Investment Trusts ...\n",
      "MGU Sector ETF\n",
      "ETW Sector ETF\n",
      "ZION Sector Banks\n",
      "ARCC Sector Capital Markets\n",
      "FHN Sector Banks\n",
      "FITB Sector Banks\n",
      "MFC Sector Insurance\n",
      "TEL Sector Electronic Equipment, Instruments & C...\n",
      "BGR Sector ETF\n",
      "CMA Sector Banks\n",
      "AIMC Sector Machinery\n",
      "EOS Sector ETF\n",
      "GLO Sector Uranium\n",
      "MAR Sector Hotels, Restaurants & Leisure\n",
      "NCV Sector ETF\n",
      "AIT Sector Trading Companies & Distributors\n",
      "GRX Sector ETF\n",
      "[('ETF', 47), ('Banks', 13), ('Insurance', 7), ('Machinery', 5), ('Capital Markets', 4), ('Equity Real Estate Investment Trusts ...', 4), ('Electronic Equipment, Instruments & C...', 3), ('Trading Companies & Distributors', 2), ('Chemicals', 2), ('Hotels, Restaurants & Leisure', 2), ('Metals & Mining', 1), ('Electrical Equipment', 1), ('Industrial Conglomerates', 1), ('Asset Management', 1), ('Aerospace & Defense', 1), ('Energy Equipment & Services', 1), ('Auto Components', 1), ('Professional Services', 1), ('Real Estate Management & Development', 1), ('Consumer Finance', 1), ('Uranium', 1)]\n"
     ]
    }
   ],
   "source": [
    "result = Measure.EigenvectorCentrality(Top= True)\n",
    "print(result)"
   ],
   "metadata": {
    "collapsed": false
   }
  },
  {
   "cell_type": "code",
   "execution_count": 62,
   "outputs": [
    {
     "name": "stdout",
     "output_type": "stream",
     "text": [
      "[('ETF', 0.15460526315789475), ('Insurance', 0.09333333333333334), ('Trading Companies & Distributors', 0.08), ('Consumer Finance', 0.06666666666666667), ('Machinery', 0.05813953488372093), ('Capital Markets', 0.05263157894736842), ('Banks', 0.05179282868525897), ('Auto Components', 0.047619047619047616), ('Real Estate Management & Development', 0.043478260869565216), ('Equity Real Estate Investment Trusts ...', 0.04081632653061224), ('Hotels, Restaurants & Leisure', 0.0392156862745098), ('Electronic Equipment, Instruments & C...', 0.038461538461538464), ('Chemicals', 0.038461538461538464), ('Electrical Equipment', 0.03571428571428571), ('Professional Services', 0.02857142857142857), ('Aerospace & Defense', 0.02702702702702703), ('Energy Equipment & Services', 0.02631578947368421), ('Metals & Mining', 0.009433962264150943)]\n"
     ]
    }
   ],
   "source": [
    "Measure.SectorFraction(result)"
   ],
   "metadata": {
    "collapsed": false
   }
  },
  {
   "cell_type": "code",
   "execution_count": 63,
   "outputs": [],
   "source": [
    "G = GraphFromFile().GraphFromFileTotalAbsWeights()"
   ],
   "metadata": {
    "collapsed": false
   }
  },
  {
   "cell_type": "code",
   "execution_count": 64,
   "outputs": [
    {
     "name": "stdout",
     "output_type": "stream",
     "text": [
      "gamma=  1.2802636927483235\n"
     ]
    },
    {
     "data": {
      "text/plain": "<Figure size 600x400 with 1 Axes>",
      "image/png": "[encoded data removed]"
     },
     "metadata": {},
     "output_type": "display_data"
    }
   ],
   "source": [
    "NullCompare(G).plot_degree_dist_and_fit()"
   ],
   "metadata": {
    "collapsed": false
   }
  },
  {
   "cell_type": "code",
   "execution_count": null,
   "outputs": [],
   "source": [],
   "metadata": {
    "collapsed": false
   }
  }
 ],
 "metadata": {
  "kernelspec": {
   "display_name": "Python 3 (ipykernel)",
   "language": "python",
   "name": "python3"
  },
  "language_info": {
   "codemirror_mode": {
    "name": "ipython",
    "version": 3
   },
   "file_extension": ".py",
   "mimetype": "text/x-python",
   "name": "python",
   "nbconvert_exporter": "python",
   "pygments_lexer": "ipython3",
   "version": "3.9.1"
  }
 },
 "nbformat": 4,
 "nbformat_minor": 5
}
