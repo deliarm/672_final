{
 "cells": [
  {
   "cell_type": "markdown",
   "id": "c7c94856-fdd6-42ff-962f-0a8ad874035c",
   "metadata": {},
   "source": [
    "### CPSC 672 Network Project"
   ]
  },
  {
   "cell_type": "code",
   "execution_count": 63,
   "id": "da7831d8-5d79-479b-b17d-aaadc83c5ecf",
   "metadata": {},
   "outputs": [],
   "source": [
    "import numpy as np\n",
    "import pandas as pd\n",
    "import networkx as nx\n",
    "import matplotlib.pyplot as plt\n",
    "from scipy import spatial\n",
    "import csv\n",
    "import collections as ct\n",
    "from tqdm.notebook import tqdm\n",
    "%run AdditionalClasses/NullCompare.ipynb import *\n",
    "%run AdditionalClasses/GraphFromFile.ipynb import *\n",
    "%matplotlib inline"
   ]
  },
  {
   "cell_type": "markdown",
   "id": "939b8e33-d8ae-43bf-b9ce-5ad8cda37714",
   "metadata": {},
   "source": [
    "### Data\n",
    "\n",
    "The following few cells read in our data from a excel spreadsheet and organize them into a few arrays:\n",
    "- stock_symbols contains all the actual stock names\n",
    "- dates contains all the column headings (which are dates) from Feb 2010 to Dec 2021"
   ]
  },
  {
   "cell_type": "code",
   "execution_count": 20,
   "id": "dd9784af-3c04-4221-8e8b-3ff1ce635bff",
   "metadata": {},
   "outputs": [],
   "source": [
    "df_total = pd.read_excel('data/all_data.xlsx', sheet_name='percentChange')\n",
    "df_subset = pd.read_excel('data/subset_data.xlsx',sheet_name='percentChange')"
   ]
  },
  {
   "cell_type": "code",
   "execution_count": 21,
   "id": "34deefe3-a627-47c2-b133-deb18bbd7295",
   "metadata": {},
   "outputs": [],
   "source": [
    "stock_symbols = []\n",
    "for stock in df_total['Stock']:\n",
    "    stock_symbols.append(stock)\n",
    "\n",
    "dates = df_total.columns.values\n",
    "dates = dates[2:]"
   ]
  },
  {
   "cell_type": "markdown",
   "id": "f546907a-6506-4d2a-be69-8dd73ace2373",
   "metadata": {},
   "source": [
    "### Calculating links\n",
    "\n",
    "To get the links between any two stocks, we use cosine similarity to determine how correlated two stocks are. The formula for cosine similarity is as follows:\n",
    "$$ \n",
    "x = {1 - \\frac{u \\cdot v}{||u|| * ||v||}  }\n",
    "$$\n",
    "                            \n",
    "the getSimilarities() functions do just that by comparing every stock, with every other stock, for any input date (column). Note one of the functions calculates this over a 12 month period (Yearly) whereas the other function uses the total dataset."
   ]
  },
  {
   "cell_type": "code",
   "execution_count": 6,
   "id": "4ced1a7b-6f3f-4e1c-9adb-03567312800a",
   "metadata": {},
   "outputs": [],
   "source": [
    "def getSimilaritiesTotal(dataFrame):\n",
    "    similarities = []\n",
    "    for i in tqdm(range(len(dataFrame))):\n",
    "        for j in range(i+1,len(dataFrame)):\n",
    "            first_stock = dataFrame.iloc[i,2:]\n",
    "            second_stock = dataFrame.iloc[j,2:]\n",
    "            result = 1 - spatial.distance.cosine(first_stock,second_stock)\n",
    "            similarities.append((stock_symbols[i], stock_symbols[j], result))\n",
    "    return similarities"
   ]
  },
  {
   "cell_type": "code",
   "execution_count": 7,
   "id": "22c88aa6-89ea-4bd7-a1c3-d18a93fade15",
   "metadata": {},
   "outputs": [],
   "source": [
    "def getSimilaritiesYearly(date,dataFrame):\n",
    "    similarities = []\n",
    "    elems = len(dataFrame[date])\n",
    "    start_col = (np.where(dates == date)[0][0]) + 2 # plus 2 is for indexing away from stock symbol & sector\n",
    "    end_col = start_col + 12\n",
    "    for i in tqdm(range(elems)):\n",
    "        for j in range(i+1,elems):\n",
    "            first_stock = dataFrame.iloc[i,start_col:end_col]\n",
    "            second_stock = dataFrame.iloc[j,start_col:end_col]\n",
    "            result = 1-spatial.distance.cosine(first_stock,second_stock)\n",
    "            similarities.append((stock_symbols[i], stock_symbols[j], result))\n",
    "    return similarities"
   ]
  },
  {
   "cell_type": "code",
   "execution_count": 8,
   "id": "adebe59f-f79d-40ba-ae31-348ab49626ce",
   "metadata": {},
   "outputs": [],
   "source": [
    "def getAllYears(dataFrame):\n",
    "    i = 0\n",
    "    arr = []\n",
    "    start_date = dates[i]\n",
    "    curr_year = start_date.year\n",
    "    while(curr_year < 2021):\n",
    "        yearly_similarity = getSimilaritiesYearly(start_date,dataFrame)\n",
    "        arr.append((start_date,yearly_similarity))\n",
    "        curr_year+=1\n",
    "        i+=12\n",
    "        start_date = dates[i]\n",
    "    return arr"
   ]
  },
  {
   "cell_type": "markdown",
   "id": "f869c832-5a8e-4aa3-b897-948a9990ccb7",
   "metadata": {},
   "source": [
    "### Getting the total and Yearly similarities"
   ]
  },
  {
   "cell_type": "code",
   "execution_count": null,
   "id": "07c3ecb9-9c84-43b8-989f-2deb990060c9",
   "metadata": {},
   "outputs": [],
   "source": [
    "total_similarities = getSimilaritiesTotal(df_total)"
   ]
  },
  {
   "cell_type": "code",
   "execution_count": null,
   "id": "da4a2755-e6a4-43e2-ab02-deb6e5bd5791",
   "metadata": {},
   "outputs": [],
   "source": [
    "yearly_similarites = getAllYears(df_total)"
   ]
  },
  {
   "cell_type": "markdown",
   "id": "e6e7b2e6-8318-4ae8-bf7b-c94cffe8043a",
   "metadata": {},
   "source": [
    "### Exporting\n",
    "At this point all the stock symbols are exported to csv files, each year has it's own specific set of links. And there is also a csv that contains the total similarity across the entire dataset"
   ]
  },
  {
   "cell_type": "code",
   "execution_count": 9,
   "id": "de33eed6-08d2-416d-bc90-8079348b8319",
   "metadata": {},
   "outputs": [],
   "source": [
    "def writeStocks():\n",
    "    with open('data/stocks.csv','w', newline='') as file:\n",
    "        writer = csv.writer(file)\n",
    "        writer.writerow([\"ID\tlabel\"])\n",
    "        for stock in stock_symbols:\n",
    "            writer.writerow([str(stock_symbols.index(stock))+\"\\t\"+stock])"
   ]
  },
  {
   "cell_type": "code",
   "execution_count": 10,
   "id": "d80b4bcb",
   "metadata": {
    "collapsed": false,
    "jupyter": {
     "outputs_hidden": false
    },
    "pycharm": {
     "is_executing": true
    }
   },
   "outputs": [],
   "source": [
    "def writeTotal(threshold):\n",
    "    with open('data/links_total.csv', 'w', newline='') as file:\n",
    "        writer = csv.writer(file)\n",
    "        writer.writerow([\"Source\tTarget\tWeight\"])\n",
    "        for link in total_similarities:\n",
    "            first_stock_index = str(stock_symbols.index(link[0]))\n",
    "            second_stock_index = str(stock_symbols.index(link[1]))\n",
    "            link_weight = link[2]\n",
    "            if(abs(link_weight) > threshold):\n",
    "                writer.writerow([first_stock_index+\"\\t\"+second_stock_index+\"\\t\"+str(link_weight)])"
   ]
  },
  {
   "cell_type": "code",
   "execution_count": 11,
   "id": "343a003f-aeb8-4469-94a7-0b300d979ae2",
   "metadata": {},
   "outputs": [],
   "source": [
    "def writeYearly(yearly_calc,threshold):\n",
    "    for year in yearly_calc:\n",
    "        curr_year = year[0].year\n",
    "        links = year[1]\n",
    "        file_name = 'data/links_'+str(curr_year)+'.csv'\n",
    "        with open(file_name, 'w', newline='') as file:\n",
    "            writer = csv.writer(file)\n",
    "            writer.writerow([\"Source\tTarget\tWeight\"])\n",
    "            for link in links:\n",
    "                first_stock_index = str(stock_symbols.index(link[0]))\n",
    "                second_stock_index = str(stock_symbols.index(link[1]))\n",
    "                link_weight = link[2]\n",
    "                if(abs(link_weight) > threshold):\n",
    "                    writer.writerow([first_stock_index+\"\\t\"+second_stock_index+\"\\t\"+str(link_weight)])"
   ]
  },
  {
   "cell_type": "code",
   "execution_count": null,
   "id": "2e35b6d6-52fa-416a-ae7a-054eab778c41",
   "metadata": {},
   "outputs": [],
   "source": [
    "writeStocks()\n",
    "writeTotal(0.5)"
   ]
  },
  {
   "cell_type": "code",
   "execution_count": null,
   "id": "120db853-58a9-48f2-a59c-ec3519d5a62e",
   "metadata": {},
   "outputs": [],
   "source": [
    "writeYearly(yearly_similarites,0.6)"
   ]
  },
  {
   "cell_type": "markdown",
   "id": "b310190a-5b5f-4c37-b13a-120da003cb76",
   "metadata": {},
   "source": [
    "### Visualizing the Data\n",
    "Now that the data has been processed and exported into their own csv's , we can begin to do some visualiation and more graph theory related calculations.\n",
    "Also, due to lack of computational resources, we have decided to reduce the number of links to 100,000 . The following two functions take the original csv's and take the strongest 100,000 links and save them. Links who do not make the cut are simply discarded."
   ]
  },
  {
   "cell_type": "code",
   "execution_count": 5,
   "id": "1c8e1897-e16d-4bd8-9dde-fb4a92623c78",
   "metadata": {},
   "outputs": [],
   "source": [
    "def filterYearly(num_of_links):\n",
    "    for i in range(2010,2021):\n",
    "        df_link=pd.read_csv(\"data/links_\"+str(i)+\".csv\",delimiter=\"\\t\")\n",
    "        df_link = df_link.sort_values(by=['Weight'],key=abs,ascending=False,ignore_index=True)\n",
    "        df_link[:num_of_links].to_csv(\"data/Filtered/links_\"+str(i)+\".csv\",sep='\\t',index=False)"
   ]
  },
  {
   "cell_type": "code",
   "execution_count": 6,
   "id": "2383c6d9",
   "metadata": {
    "collapsed": false,
    "jupyter": {
     "outputs_hidden": false
    }
   },
   "outputs": [],
   "source": [
    "def filterTotal(num_of_links):\n",
    "        df_link=pd.read_csv(\"data/links_total.csv\",delimiter=\"\\t\")\n",
    "        df_link = df_link.sort_values(by=['Weight'],key=abs,ascending=False,ignore_index=True)\n",
    "        df_link[:num_of_links].to_csv(\"data/Filtered/links_total.csv\",sep=\"\\t\",index=False)"
   ]
  },
  {
   "cell_type": "code",
   "execution_count": null,
   "id": "126b6edb-904f-4e98-a920-e1256e153c07",
   "metadata": {},
   "outputs": [],
   "source": [
    "filterYearly(100000)\n",
    "filterTotal(100000)\n"
   ]
  },
  {
   "cell_type": "code",
   "execution_count": 14,
   "id": "5800fb4a",
   "metadata": {
    "collapsed": false,
    "jupyter": {
     "outputs_hidden": false
    }
   },
   "outputs": [],
   "source": [
    "Yearly_Graphs = []\n",
    "for i in range(2010,2021):\n",
    "    G =GraphFromFile().GraphFromFileYearlyAbsWeights(i)\n",
    "    Yearly_Graphs.append(G)"
   ]
  },
  {
   "cell_type": "code",
   "execution_count": 15,
   "id": "c9b1ac0a",
   "metadata": {
    "collapsed": false,
    "jupyter": {
     "outputs_hidden": false
    }
   },
   "outputs": [],
   "source": [
    "Total_Graph = []\n",
    "Total_Graph.append(GraphFromFile().GraphFromFileTotalAbsWeights())\n"
   ]
  },
  {
   "cell_type": "code",
   "execution_count": 16,
   "id": "0c2f24ac",
   "metadata": {
    "collapsed": false,
    "jupyter": {
     "outputs_hidden": false
    }
   },
   "outputs": [],
   "source": [
    "def PlotGraphDegDistribution(Graph_list):\n",
    "    fig = plt.figure(figsize=(6,4))\n",
    "    plt.xlabel(r\"degree $k$\", fontsize=16)\n",
    "    plt.ylabel(r\"$P(k)$\", fontsize=16)\n",
    "    for i in range(len(Graph_list)):\n",
    "        G = Graph_list[i]\n",
    "        N = len(G)\n",
    "        L = G.size()\n",
    "        degrees = [G.degree(node,weight='weight') for node in G]\n",
    "        kmin = min(degrees)\n",
    "        kmax = max(degrees)\n",
    "\n",
    "        # Get 10 logarithmically spaced bins between kmin and kmax\n",
    "        bin_edges = np.logspace(np.log10(kmin), np.log10(kmax), num=10)\n",
    "\n",
    "        # histogram the data into these bins\n",
    "        density, _ = np.histogram(degrees, bins=bin_edges, density=True)\n",
    "\n",
    "\n",
    "        # \"x\" should be midpoint (IN LOG SPACE) of each bin\n",
    "        log_be = np.log10(bin_edges)\n",
    "        x = 10**((log_be[1:] + log_be[:-1])/2)\n",
    "        label = 2010 +i if len(Graph_list) > 1 else \"total\"\n",
    "        plt.loglog(x, density, marker='o', label = label,linestyle='none')\n",
    "\n",
    "\n",
    "        # remove right and top boundaries because they're ugly\n",
    "        ax = plt.gca()\n",
    "        ax.spines['right'].set_visible(False)\n",
    "        ax.spines['top'].set_visible(False)\n",
    "        ax.yaxis.set_ticks_position('left')\n",
    "        ax.xaxis.set_ticks_position('bottom')\n",
    "\n",
    "        # Show the plot\n",
    "    plt.legend()\n",
    "    plt.show()\n"
   ]
  },
  {
   "cell_type": "code",
   "execution_count": 17,
   "id": "d4f96e0c",
   "metadata": {
    "collapsed": false,
    "jupyter": {
     "outputs_hidden": false
    }
   },
   "outputs": [
    {
     "data": {
      "image/png": "[encoded data removed]",
      "text/plain": [
       "<Figure size 600x400 with 1 Axes>"
      ]
     },
     "metadata": {},
     "output_type": "display_data"
    }
   ],
   "source": [
    "PlotGraphDegDistribution(Yearly_Graphs)           #for ploting total graph degree distribution"
   ]
  },
  {
   "cell_type": "code",
   "execution_count": 18,
   "id": "768160cf-c958-4e0f-9b9d-2133950674e1",
   "metadata": {},
   "outputs": [
    {
     "data": {
      "image/png": "[encoded data removed]",
      "text/plain": [
       "<Figure size 600x400 with 1 Axes>"
      ]
     },
     "metadata": {},
     "output_type": "display_data"
    }
   ],
   "source": [
    "PlotGraphDegDistribution(Total_Graph)             #for ploting total graph degree distribution"
   ]
  },
  {
   "cell_type": "code",
   "execution_count": 30,
   "id": "db10a490",
   "metadata": {
    "collapsed": false,
    "jupyter": {
     "outputs_hidden": false
    }
   },
   "outputs": [],
   "source": []
  },
  {
   "cell_type": "code",
   "execution_count": 7,
   "id": "60e1853b",
   "metadata": {
    "collapsed": false,
    "jupyter": {
     "outputs_hidden": false
    }
   },
   "outputs": [],
   "source": [
    "G = Total_Graph[0]\n",
    "CG = sorted(nx.connected_components(G), key=len, reverse=True)\n",
    "G = G.subgraph(CG[0])                 # select the biggest connected component"
   ]
  },
  {
   "cell_type": "code",
   "execution_count": 8,
   "id": "e47c98ff",
   "metadata": {
    "collapsed": false,
    "jupyter": {
     "outputs_hidden": false
    }
   },
   "outputs": [],
   "source": [
    "n = NullCompare(G)"
   ]
  },
  {
   "cell_type": "code",
   "execution_count": 9,
   "id": "eb17ac92",
   "metadata": {
    "collapsed": false,
    "jupyter": {
     "outputs_hidden": false
    }
   },
   "outputs": [
    {
     "name": "stdout",
     "output_type": "stream",
     "text": [
      "Average Clustering Coefficient:  0.6678847956398628\n",
      "Average Shortest Path:  2.728443762372391\n"
     ]
    }
   ],
   "source": [
    "C,d = n.CalculateStats()\n",
    "print(\"Average Clustering Coefficient: \", C)\n",
    "print(\"Average Shortest Path: \", d)"
   ]
  },
  {
   "cell_type": "code",
   "execution_count": 64,
   "id": "c6228a2b",
   "metadata": {
    "collapsed": false,
    "jupyter": {
     "outputs_hidden": false
    }
   },
   "outputs": [
    {
     "ename": "TypeError",
     "evalue": "NullCompare.ERStats() missing 1 required positional argument: 'iterations'",
     "output_type": "error",
     "traceback": [
      "\u001B[1;31m---------------------------------------------------------------------------\u001B[0m",
      "\u001B[1;31mTypeError\u001B[0m                                 Traceback (most recent call last)",
      "Cell \u001B[1;32mIn[64], line 1\u001B[0m\n\u001B[1;32m----> 1\u001B[0m clustering_ER,short_path_ER \u001B[38;5;241m=\u001B[39m \u001B[43mn\u001B[49m\u001B[38;5;241;43m.\u001B[39;49m\u001B[43mERStats\u001B[49m\u001B[43m(\u001B[49m\u001B[43m)\u001B[49m\n\u001B[0;32m      2\u001B[0m \u001B[38;5;28mprint\u001B[39m(np\u001B[38;5;241m.\u001B[39mmean(clustering_ER))\n\u001B[0;32m      3\u001B[0m \u001B[38;5;28mprint\u001B[39m(np\u001B[38;5;241m.\u001B[39mstd(clustering_ER))\n",
      "\u001B[1;31mTypeError\u001B[0m: NullCompare.ERStats() missing 1 required positional argument: 'iterations'"
     ]
    }
   ],
   "source": [
    "clustering_ER,short_path_ER = n.ERStats()\n",
    "print(np.mean(clustering_ER))\n",
    "print(np.std(clustering_ER))\n",
    "\n",
    "print(np.mean(short_path_ER))\n",
    "print(np.std(short_path_ER))"
   ]
  },
  {
   "cell_type": "code",
   "execution_count": 13,
   "id": "60ef932a",
   "metadata": {
    "collapsed": false,
    "jupyter": {
     "outputs_hidden": false
    }
   },
   "outputs": [
    {
     "data": {
      "image/png": "[encoded data removed]",
      "text/plain": [
       "<Figure size 600x400 with 1 Axes>"
      ]
     },
     "metadata": {},
     "output_type": "display_data"
    }
   ],
   "source": [
    "n.ClusteringCoffPlot(clustering_ER,C )\n"
   ]
  },
  {
   "cell_type": "code",
   "execution_count": 14,
   "id": "d6584b06",
   "metadata": {
    "collapsed": false,
    "jupyter": {
     "outputs_hidden": false
    }
   },
   "outputs": [
    {
     "data": {
      "image/png": "[encoded data removed]",
      "text/plain": [
       "<Figure size 600x400 with 1 Axes>"
      ]
     },
     "metadata": {},
     "output_type": "display_data"
    }
   ],
   "source": [
    "n.ShortPathPlot(short_path_ER,d)"
   ]
  },
  {
   "cell_type": "code",
   "execution_count": null,
   "outputs": [],
   "source": [
    "clustering_DP,short_path_DP = n.DPStats()\n",
    "print(np.mean(clustering_DP))\n",
    " print(np.std(clustering_DP))\n",
    "\n",
    "print(np.mean(short_path_DP))\n",
    "print(np.std(short_path_DP))"
   ],
   "metadata": {
    "collapsed": false
   }
  },
  {
   "cell_type": "code",
   "execution_count": 62,
   "id": "ce9f9c91",
   "metadata": {
    "collapsed": false,
    "jupyter": {
     "outputs_hidden": false
    }
   },
   "outputs": [],
   "source": [
    "G = GraphFromFile().GraphFromFileTotalAbsWeights()"
   ]
  },
  {
   "cell_type": "code",
   "execution_count": 23,
   "id": "c816a914",
   "metadata": {
    "collapsed": false,
    "jupyter": {
     "outputs_hidden": false
    }
   },
   "outputs": [
    {
     "name": "stdout",
     "output_type": "stream",
     "text": [
      "[('Banks', 271), ('Biotechnology', 163), ('Oil, Gas & Consumable Fuels', 128), ('Equity Real Estate Investment Trusts ...', 101), ('Metals & Mining', 95), ('Machinery', 93), ('Electronic Equipment, Instruments & C...', 88), ('Capital Markets', 87), ('Health Care Equipment & Supplies', 87), ('Insurance', 80), ('Semiconductors & Semiconductor Equipment', 75), ('Software', 70), ('Specialty Retail', 63), ('IT Services', 58), ('Commercial Services & Supplies', 57), ('Pharmaceuticals', 56), ('Chemicals', 55), ('Hotels, Restaurants & Leisure', 54), ('Thrifts & Mortgage Finance', 52), ('Communications Equipment', 50), ('Health Care Providers & Services', 48), ('Food Products', 47), ('Media', 47), ('Aerospace & Defense', 43), ('Household Durables', 43), ('Professional Services', 38), ('Energy Equipment & Services', 34), ('Blank Check / SPAC', 32), ('Electrical Equipment', 31), ('Textiles, Apparel & Luxury Goods', 30), ('Electric Utilities', 29), ('Trading Companies & Distributors', 28), ('Real Estate Management & Development', 28), ('Building Products', 27), ('Entertainment', 26), ('Technology Hardware, Storage & Periph...', 24), ('Construction & Engineering', 23), ('Road & Rail', 23), ('Consumer Finance', 23), ('Beverages', 22), ('Auto Components', 21), ('Diversified Telecommunication Services', 21), ('Life Sciences Tools & Services', 20), ('Multi-Utilities', 19), ('Internet & Direct Marketing Retail', 19), ('Personal Products', 19), ('Diversified Consumer Services', 18), ('Mortgage Real Estate Investment Trust...', 18), ('Shell Companies', 18), ('Marine', 16), ('Airlines', 15), ('Food & Staples Retailing', 15), ('Wireless Telecommunication Services', 14), ('Containers & Packaging', 14), ('Software-Application', 13), ('Water Utilities', 13), ('Gas Utilities', 13), ('Air Freight & Logistics', 12), ('Leisure Products', 12), ('Health Care Technology', 12), ('Interactive Media & Services', 11), ('Household Products', 10), ('Automobiles', 9), ('Construction Materials', 8), ('Multiline Retail', 8), ('Independent Power and Renewable Elect...', 7), ('Paper & Forest Products', 7), ('Diversified Financial Services', 6), ('Industrial Conglomerates', 6), ('Distributors', 6), ('Medical Instruments & Supplies', 5), ('Tobacco', 5), ('Information Technology Services', 5), ('Medical Devices', 4), ('Drug Manufacturers-Specialty & Generic', 4), ('Asset Management', 4), ('Specialty Industrial Machinery', 4), ('Telecom Services', 4), ('Furnishings, Fixtures & Appliances', 4), ('Banks-Regional', 4), ('Transportation Infrastructure', 3), ('Health Information Services', 3), ('Electrical Equipment & Parts', 3), ('Other Industrial Metals & Mining', 3), ('Scientific & Technical Instruments', 2), ('Gold', 2), ('Security & Protection Services', 2), ('Auto Parts', 2), ('Gambling', 2), ('Communication Equipment', 2), ('Software-Infrastructure', 2), ('Health Care', 2), ('Medical Care Facilities', 2), ('Computer Hardware', 2), ('Building Products & Equipment', 1), ('Auto Manufacturers', 1), ('Electronic Components', 1), ('Agricultural Inputs', 1), ('Internet Content & Information', 1), ('Securities and Commodity Exchanges', 1), ('Farm Products', 1), ('Utilities-Renewable', 1), ('Industrial Distribution', 1), ('Electronic Gaming & Multimedia', 1), ('Education & Training Services', 1), ('Pharmaceutical Retailers', 1), ('nan', 1), ('Oil & Gas Drilling', 1), ('Banks-Diversified', 1), ('Internet Retail', 1), ('Rental & Leasing Services', 1), ('Staffing & Employment Services', 1), ('Auto & Truck Dealerships', 1), ('Electromedical and Electrotherapeutic...', 1), ('REIT-Mortgage', 1), ('Petroleum Refineries', 1), ('Advertising Agencies', 1), ('Diagnostics & Research', 1), ('Specialty Business Services', 1), ('Uranium', 1), ('Engineering & Construction', 1), ('Packaged Foods', 1), ('REIT-Residential', 1), ('Beverages-Wineries & Distilleries', 1), ('Semiconductors', 1)]\n"
     ]
    }
   ],
   "source": [
    "sectors = pd.read_excel(\"data/all_data.xlsx\",sheet_name='percentChange')\n",
    "all_lists = []\n",
    "for k in sectors['Sector']:\n",
    "    all_lists.append(str(k))\n",
    "x1 = (ct.Counter(all_lists)).most_common()\n",
    "print(x1)\n"
   ]
  },
  {
   "cell_type": "code",
   "execution_count": 24,
   "id": "6b6ab99a",
   "metadata": {
    "collapsed": false,
    "jupyter": {
     "outputs_hidden": false
    }
   },
   "outputs": [
    {
     "name": "stdout",
     "output_type": "stream",
     "text": [
      "RVT\n",
      "Electromedical and Electrotherapeutic...\n",
      "TY\n",
      "Aerospace & Defense\n",
      "GDV\n",
      "Blank Check / SPAC\n",
      "EVT\n",
      "Hotels, Restaurants & Leisure\n",
      "RMT\n",
      "Real Estate Management & Development\n",
      "CSQ\n",
      "IT Services\n",
      "USA\n",
      "Uranium\n",
      "GAM\n",
      "Biotechnology\n",
      "ETO\n",
      "Biotechnology\n",
      "ETG\n",
      "Furnishings, Fixtures & Appliances\n",
      "BTO\n",
      "Entertainment\n",
      "AVK\n",
      "Pharmaceuticals\n",
      "CHW\n",
      "Hotels, Restaurants & Leisure\n",
      "SCD\n",
      "Metals & Mining\n",
      "MCN\n",
      "Software-Application\n",
      "LNC\n",
      "Insurance\n",
      "LGI\n",
      "Capital Markets\n",
      "FFA\n",
      "Chemicals\n",
      "PH\n",
      "Machinery\n",
      "PFG\n",
      "Insurance\n",
      "BDJ\n",
      "Electronic Equipment, Instruments & C...\n",
      "GAB\n",
      "IT Services\n",
      "ETY\n",
      "Software-Application\n",
      "EXG\n",
      "Software-Application\n",
      "HON\n",
      "Industrial Conglomerates\n",
      "NIE\n",
      "Consumer Finance\n",
      "WCC\n",
      "Trading Companies & Distributors\n",
      "EMR\n",
      "Electrical Equipment\n",
      "PEO\n",
      "Hotels, Restaurants & Leisure\n",
      "GL\n",
      "Insurance\n",
      "NFJ\n",
      "Gold\n",
      "PRU\n",
      "Insurance\n",
      "AMP\n",
      "Capital Markets\n",
      "C\n",
      "Banks\n",
      "CATY\n",
      "Banks\n",
      "ASB\n",
      "Banks\n",
      "MET\n",
      "Insurance\n",
      "EWBC\n",
      "Banks\n",
      "ADX\n",
      "Biotechnology\n",
      "CR\n",
      "Machinery\n",
      "MGU\n",
      "Biotechnology\n",
      "CET\n",
      "Asset Management\n",
      "SLB\n",
      "Energy Equipment & Services\n",
      "DDF\n",
      "Technology Hardware, Storage & Periph...\n",
      "PACW\n",
      "Banks\n",
      "ASG\n",
      "Blank Check / SPAC\n",
      "RTX\n",
      "Aerospace & Defense\n",
      "KEY\n",
      "Banks\n",
      "FUL\n",
      "Chemicals\n",
      "CHI\n",
      "Hotels, Restaurants & Leisure\n",
      "JCE\n",
      "Machinery\n",
      "FLS\n",
      "Machinery\n",
      "CII\n",
      "Professional Services\n",
      "RJF\n",
      "Capital Markets\n",
      "ZION\n",
      "Banks\n",
      "AWP\n",
      "Water Utilities\n",
      "HYT\n",
      "Diversified Consumer Services\n",
      "EMN\n",
      "Chemicals\n",
      "DAN\n",
      "Auto Components\n",
      "DEX\n",
      "Internet & Direct Marketing Retail\n",
      "CBRE\n",
      "Real Estate Management & Development\n",
      "TNL\n",
      "Hotels, Restaurants & Leisure\n",
      "MAN\n",
      "Professional Services\n",
      "EEA\n",
      "Utilities-Renewable\n",
      "BOE\n",
      "Internet Content & Information\n",
      "SPXX\n",
      "Machinery\n",
      "FOF\n",
      "Capital Markets\n",
      "ARW\n",
      "Electronic Equipment, Instruments & C...\n",
      "UNM\n",
      "Insurance\n",
      "GLQ\n",
      "Equity Real Estate Investment Trusts ...\n",
      "APH\n",
      "Electronic Equipment, Instruments & C...\n",
      "CHY\n",
      "Energy Equipment & Services\n",
      "DRH\n",
      "Equity Real Estate Investment Trusts ...\n",
      "FHN\n",
      "Banks\n",
      "CFR\n",
      "Banks\n",
      "PNC\n",
      "Banks\n",
      "EOI\n",
      "Oil, Gas & Consumable Fuels\n",
      "COF\n",
      "Consumer Finance\n",
      "SNA\n",
      "Machinery\n",
      "AOD\n",
      "Blank Check / SPAC\n",
      "CMA\n",
      "Banks\n",
      "ITW\n",
      "Machinery\n",
      "ARCC\n",
      "Capital Markets\n",
      "IGR\n",
      "Blank Check / SPAC\n",
      "FITB\n",
      "Banks\n",
      "TEL\n",
      "Electronic Equipment, Instruments & C...\n",
      "ETW\n",
      "Internet & Direct Marketing Retail\n",
      "LAMR\n",
      "Equity Real Estate Investment Trusts ...\n",
      "HST\n",
      "Equity Real Estate Investment Trusts ...\n",
      "BGR\n",
      "Biotechnology\n",
      "MS\n",
      "Capital Markets\n",
      "FNB\n",
      "Banks\n",
      "BMO\n",
      "Banks\n",
      "ETN\n",
      "Electrical Equipment\n",
      "AGD\n",
      "Machinery\n",
      "AME\n",
      "Electrical Equipment\n",
      "AIT\n",
      "Trading Companies & Distributors\n",
      "GRX\n",
      "Specialty Retail\n",
      "MFC\n",
      "Insurance\n",
      "GGT\n",
      "Auto Parts\n",
      "[('Banks', 14), ('Machinery', 8), ('Insurance', 7), ('Capital Markets', 6), ('Hotels, Restaurants & Leisure', 5), ('Biotechnology', 5), ('Blank Check / SPAC', 4), ('Electronic Equipment, Instruments & C...', 4), ('Equity Real Estate Investment Trusts ...', 4), ('Software-Application', 3), ('Chemicals', 3), ('Electrical Equipment', 3), ('Aerospace & Defense', 2), ('Real Estate Management & Development', 2), ('IT Services', 2), ('Consumer Finance', 2), ('Trading Companies & Distributors', 2), ('Energy Equipment & Services', 2), ('Professional Services', 2), ('Internet & Direct Marketing Retail', 2), ('Electromedical and Electrotherapeutic...', 1), ('Uranium', 1), ('Furnishings, Fixtures & Appliances', 1), ('Entertainment', 1), ('Pharmaceuticals', 1), ('Metals & Mining', 1), ('Industrial Conglomerates', 1), ('Gold', 1), ('Asset Management', 1), ('Technology Hardware, Storage & Periph...', 1), ('Water Utilities', 1), ('Diversified Consumer Services', 1), ('Auto Components', 1), ('Utilities-Renewable', 1), ('Internet Content & Information', 1), ('Oil, Gas & Consumable Fuels', 1), ('Specialty Retail', 1), ('Auto Parts', 1)]\n"
     ]
    }
   ],
   "source": [
    "\n",
    "\n",
    "temp =sorted(G.degree(G.nodes,weight='weight' ), key=lambda x: x[1], reverse=True)[:100]\n",
    "\n",
    "lists = []\n",
    "\n",
    "for t in temp:\n",
    "    f = sectors.loc[sectors['Stock'] == stock_symbols[int(t[0])]]\n",
    "    lists.append(f.iloc[0,1])\n",
    "    print(stock_symbols[int(t[0])])\n",
    "    print(f.iloc[0,1])\n",
    "x2 =  (ct.Counter(lists)).most_common()\n",
    "print(x2)"
   ]
  },
  {
   "cell_type": "code",
   "execution_count": 25,
   "id": "7b983a41",
   "metadata": {
    "collapsed": false,
    "jupyter": {
     "outputs_hidden": false
    }
   },
   "outputs": [
    {
     "name": "stdout",
     "output_type": "stream",
     "text": [
      "[('Hotels, Restaurants & Leisure', 0.09259259259259259), ('Insurance', 0.0875), ('Machinery', 0.08602150537634409), ('Capital Markets', 0.06896551724137931), ('Chemicals', 0.05454545454545454), ('Banks', 0.05166051660516605), ('Electronic Equipment, Instruments & C...', 0.045454545454545456), ('Equity Real Estate Investment Trusts ...', 0.039603960396039604), ('IT Services', 0.034482758620689655), ('Biotechnology', 0.03067484662576687), ('Pharmaceuticals', 0.017857142857142856), ('Specialty Retail', 0.015873015873015872), ('Metals & Mining', 0.010526315789473684), ('Oil, Gas & Consumable Fuels', 0.0078125)]\n"
     ]
    }
   ],
   "source": [
    "x3 = []\n",
    "for a,b in x2:\n",
    "    for c,d in x1:\n",
    "        if (c == a):\n",
    "            b = b/d\n",
    "            if (d > 50):\n",
    "                x3.append((a,b))\n",
    "print(sorted(x3 , key=lambda student: student[1], reverse=True))"
   ]
  },
  {
   "cell_type": "code",
   "execution_count": 75,
   "id": "2e404206",
   "metadata": {
    "collapsed": false,
    "jupyter": {
     "outputs_hidden": false
    }
   },
   "outputs": [
    {
     "name": "stdout",
     "output_type": "stream",
     "text": [
      "ACC\n",
      "ACH\n",
      "ADX\n",
      "AEF\n",
      "AFB\n",
      "AGD\n",
      "AINV\n",
      "ALJJ\n",
      "AOD\n",
      "ASG\n",
      "AUTO\n",
      "AVK\n",
      "AWF\n",
      "AWP\n",
      "AXU\n",
      "BANFP\n",
      "BBI\n",
      "BBQ\n",
      "BCV\n",
      "BDJ\n",
      "BDSI\n",
      "BFK\n",
      "BFZ\n",
      "BGR\n",
      "BGT\n",
      "BGY\n",
      "BHK\n",
      "BHV\n",
      "BKEP\n",
      "BKN\n",
      "BKT\n",
      "BLE\n",
      "BLW\n",
      "BME\n",
      "BNY\n",
      "BOE\n",
      "BPOPM\n",
      "BRCN\n",
      "BRW\n",
      "BTA\n",
      "BTO\n",
      "BTZ\n",
      "BXMX\n",
      "BYM\n",
      "CAF\n",
      "CDR\n",
      "CEE\n",
      "CEV\n",
      "CGO\n",
      "CHI\n",
      "CHN\n",
      "CHSCP\n",
      "CHW\n",
      "CHY\n",
      "CIF\n",
      "CII\n",
      "CIK\n",
      "CLBS\n",
      "CLM\n",
      "CMU\n",
      "CRF\n",
      "CSQ\n",
      "CTEK\n",
      "CTXS\n",
      "CUBA\n",
      "CXE\n",
      "CXH\n",
      "CYCCP\n",
      "DDF\n",
      "DDT\n",
      "DEX\n",
      "DHF\n",
      "DHY\n",
      "DMF\n",
      "DNP\n",
      "DRE\n",
      "DSM\n",
      "DSU\n",
      "DTF\n",
      "EAD\n",
      "ECF\n",
      "ECOL\n",
      "EDD\n",
      "EEA\n",
      "EFR\n",
      "EFT\n",
      "EGF\n",
      "EHI\n",
      "EIM\n",
      "ELY\n",
      "EMD\n",
      "EMF\n",
      "ENDP\n",
      "ENX\n",
      "EOD\n",
      "EOI\n",
      "EOS\n",
      "EOT\n",
      "ERC\n",
      "ERH\n",
      "ETB\n",
      "ETG\n",
      "ETJ\n",
      "ETO\n",
      "ETV\n",
      "ETW\n",
      "ETY\n",
      "EVF\n",
      "EVG\n",
      "EVM\n",
      "EVN\n",
      "EVOL\n",
      "EVT\n",
      "EVV\n",
      "EXG\n",
      "FAM\n",
      "FAX\n",
      "FCO\n",
      "FCT\n",
      "FEN\n",
      "FEO\n",
      "FFA\n",
      "FFC\n",
      "FGB\n",
      "FLC\n",
      "FMN\n",
      "FMO\n",
      "FMY\n",
      "FOF\n",
      "FRA\n",
      "FT\n",
      "FTF\n",
      "GAB\n",
      "GAM\n",
      "GBL\n",
      "GCV\n",
      "GDL\n",
      "GDO\n",
      "GDV\n",
      "GF\n",
      "GGN\n",
      "GGT\n",
      "GIM\n",
      "GJH\n",
      "GJO\n",
      "GJS\n",
      "GLO\n",
      "GLQ\n",
      "GLU\n",
      "GLV\n",
      "GOF\n",
      "GPL\n",
      "GRF\n",
      "GRX\n",
      "GSS\n",
      "GSV\n",
      "GUT\n",
      "HBP\n",
      "HIO\n",
      "HIX\n",
      "HNGR\n",
      "HNW\n",
      "HOVNP\n",
      "HPF\n",
      "HPI\n",
      "HPS\n",
      "HQH\n",
      "HQL\n",
      "HTD\n",
      "HTY\n",
      "HYB\n",
      "HYT\n",
      "IAE\n",
      "IAF\n",
      "IFN\n",
      "IGA\n",
      "IGD\n",
      "IGI\n",
      "IGR\n",
      "IIF\n",
      "IIM\n",
      "IIVI\n",
      "INSI\n",
      "IQI\n",
      "IRL\n",
      "ISBC\n",
      "JCE\n",
      "JEQ\n",
      "JFR\n",
      "JHI\n",
      "JHS\n",
      "JLS\n",
      "JMM\n",
      "JOF\n",
      "JPC\n",
      "JPS\n",
      "JQC\n",
      "JRO\n",
      "JRS\n",
      "JSM\n",
      "KF\n",
      "KSM\n",
      "KTF\n",
      "KTH\n",
      "KTN\n",
      "KYN\n",
      "LEO\n",
      "LFC\n",
      "LGI\n",
      "LJPC\n",
      "MANT\n",
      "MAV\n",
      "MCA\n",
      "MCI\n",
      "MCN\n",
      "MCR\n",
      "MFD\n",
      "MFM\n",
      "MFV\n",
      "MGF\n",
      "MGU\n",
      "MHD\n",
      "MHF\n",
      "MHI\n",
      "MHN\n",
      "MIN\n",
      "MIY\n",
      "MMT\n",
      "MMU\n",
      "MNP\n",
      "MPA\n",
      "MPV\n",
      "MQT\n",
      "MQY\n",
      "MSD\n",
      "MUA\n",
      "MUC\n",
      "MUE\n",
      "MUI\n",
      "MUJ\n",
      "MVF\n",
      "MVO\n",
      "MVT\n",
      "MXE\n",
      "MXF\n",
      "MYC\n",
      "MYD\n",
      "MYI\n",
      "MYJ\n",
      "MYN\n",
      "NAC\n",
      "NAD\n",
      "NAN\n",
      "NAZ\n",
      "NBH\n",
      "NBO\n",
      "NBW\n",
      "NCA\n",
      "NCV\n",
      "NCZ\n",
      "NEA\n",
      "NEV\n",
      "NFJ\n",
      "NHS\n",
      "NIE\n",
      "NIM\n",
      "NKG\n",
      "NKX\n",
      "NMI\n",
      "NMT\n",
      "NMZ\n",
      "NNY\n",
      "NOM\n",
      "NPV\n",
      "NQP\n",
      "NRK\n",
      "NRO\n",
      "NSL\n",
      "NUAN\n",
      "NUO\n",
      "NUV\n",
      "NUW\n",
      "NVG\n",
      "NXC\n",
      "NXDT\n",
      "NXJ\n",
      "NXN\n",
      "NXP\n",
      "NZF\n",
      "OIA\n",
      "PAI\n",
      "PCF\n",
      "PCK\n",
      "PCM\n",
      "PCN\n",
      "PCQ\n",
      "PDT\n",
      "PEO\n",
      "PFD\n",
      "PFL\n",
      "PFN\n",
      "PFO\n",
      "PGP\n",
      "PHD\n",
      "PHK\n",
      "PHT\n",
      "PIM\n",
      "PMF\n",
      "PML\n",
      "PMM\n",
      "PMO\n",
      "PMX\n",
      "PNF\n",
      "PNI\n",
      "POLY\n",
      "PPT\n",
      "PTR\n",
      "PTY\n",
      "PYN\n",
      "PYS\n",
      "PYT\n",
      "PZC\n",
      "QQQX\n",
      "RCG\n",
      "RCS\n",
      "RFI\n",
      "RMT\n",
      "RNP\n",
      "ROLL\n",
      "RQI\n",
      "RVT\n",
      "SBI\n",
      "SCD\n",
      "SHI\n",
      "SLMBP\n",
      "SMED\n",
      "SOR\n",
      "SPE\n",
      "SPXX\n",
      "SRV\n",
      "STK\n",
      "SWZ\n",
      "SYN\n",
      "SYNL\n",
      "TDF\n",
      "TEI\n",
      "TPZ\n",
      "TSI\n",
      "TVC\n",
      "TVE\n",
      "TWN\n",
      "TY\n",
      "UBOH\n",
      "USA\n",
      "USAK\n",
      "UTF\n",
      "UTG\n",
      "VBF\n",
      "VCV\n",
      "VFL\n",
      "VGM\n",
      "VKI\n",
      "VKQ\n",
      "VLT\n",
      "VMO\n",
      "VPV\n",
      "VTN\n",
      "VVR\n",
      "VWTR\n",
      "WEA\n",
      "WIA\n",
      "WIW\n",
      "WVFC\n",
      "ZIONP\n",
      "ZTR\n",
      "375\n"
     ]
    }
   ],
   "source": [
    "sectors = pd.read_excel(\"data/all_data.xlsx\",sheet_name='percentChange')\n",
    "sectors2 = pd.read_excel(\"data/all_data.xlsx\",sheet_name='sectors')\n",
    "c = 0\n",
    "for t in sectors['Stock']:\n",
    "        f = sectors2.loc[sectors2['Symbol'] == (t)]\n",
    "        if (f.empty):\n",
    "            print(t)\n",
    "            c +=1\n",
    "print (c)\n"
   ]
  },
  {
   "cell_type": "code",
   "execution_count": null,
   "outputs": [],
   "source": [],
   "metadata": {
    "collapsed": false
   }
  },
  {
   "cell_type": "code",
   "execution_count": 61,
   "id": "1fd15540",
   "metadata": {
    "collapsed": false,
    "jupyter": {
     "outputs_hidden": false
    }
   },
   "outputs": [
    {
     "name": "stdout",
     "output_type": "stream",
     "text": [
      "0\n"
     ]
    }
   ],
   "source": [
    "sectors = pd.read_excel(\"data/all_data.xlsx\",sheet_name='percentChange')\n",
    "all_lists = []\n",
    "c =0\n",
    "for k in sectors['Sector']:\n",
    "    all_lists.append(str(k))\n",
    "x1 = (ct.Counter(all_lists)).most_common()\n",
    "print(c)"
   ]
  },
  {
   "cell_type": "code",
   "execution_count": null,
   "outputs": [],
   "source": [],
   "metadata": {
    "collapsed": false
   }
  }
 ],
 "metadata": {
  "kernelspec": {
   "display_name": "Python 3 (ipykernel)",
   "language": "python",
   "name": "python3"
  },
  "language_info": {
   "codemirror_mode": {
    "name": "ipython",
    "version": 3
   },
   "file_extension": ".py",
   "mimetype": "text/x-python",
   "name": "python",
   "nbconvert_exporter": "python",
   "pygments_lexer": "ipython3",
   "version": "3.10.5"
  }
 },
 "nbformat": 4,
 "nbformat_minor": 5
}
