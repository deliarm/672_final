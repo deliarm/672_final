{
 "cells": [
  {
   "cell_type": "markdown",
   "id": "c7c94856-fdd6-42ff-962f-0a8ad874035c",
   "metadata": {},
   "source": [
    "### CPSC 672 Network Project"
   ]
  },
  {
   "cell_type": "code",
   "execution_count": 1,
   "id": "da7831d8-5d79-479b-b17d-aaadc83c5ecf",
   "metadata": {},
   "outputs": [],
   "source": [
    "import numpy as np\n",
    "import pandas as pd\n",
    "import networkx as nx\n",
    "import matplotlib.pyplot as plt\n",
    "from scipy import spatial\n",
    "import csv\n",
    "import collections as ct\n",
    "from tqdm.notebook import tqdm\n",
    "import re\n",
    "%run AdditionalClasses/NullCompare.ipynb import *\n",
    "%run AdditionalClasses/GraphFromFile.ipynb import *\n",
    "%run AdditionalClasses/NetworkMeasures.ipynb import *\n",
    "%matplotlib inline"
   ]
  },
  {
   "cell_type": "markdown",
   "id": "939b8e33-d8ae-43bf-b9ce-5ad8cda37714",
   "metadata": {},
   "source": [
    "### Data\n",
    "\n",
    "The following few cells read in our data from a excel spreadsheet and organize them into a few arrays:\n",
    "- stock_symbols contains all the actual stock names\n",
    "- dates contains all the column headings (which are dates) from Feb 2010 to Dec 2021"
   ]
  },
  {
   "cell_type": "code",
   "execution_count": 2,
   "id": "dd9784af-3c04-4221-8e8b-3ff1ce635bff",
   "metadata": {},
   "outputs": [],
   "source": [
    "df_total = pd.read_excel('data/all_data.xlsx', sheet_name='percentChange',engine='openpyxl')"
   ]
  },
  {
   "cell_type": "code",
   "execution_count": 3,
   "id": "34deefe3-a627-47c2-b133-deb18bbd7295",
   "metadata": {},
   "outputs": [],
   "source": [
    "stock_symbols = []\n",
    "for stock in df_total['Stock']:\n",
    "    stock_symbols.append(stock)\n",
    "\n",
    "dates = df_total.columns.values\n",
    "dates = dates[2:]"
   ]
  },
  {
   "cell_type": "markdown",
   "id": "f546907a-6506-4d2a-be69-8dd73ace2373",
   "metadata": {},
   "source": [
    "### Calculating links\n",
    "\n",
    "To get the links between any two stocks, we use cosine similarity to determine how correlated two stocks are. The formula for cosine similarity is as follows:\n",
    "$$ \n",
    "x = {1 - \\frac{u \\cdot v}{||u|| * ||v||}  }\n",
    "$$\n",
    "                            \n",
    "the getSimilarities() functions do just that by comparing every stock, with every other stock, for any input date (column). Note one of the functions calculates this over a 12 month period (Yearly) whereas the other function uses the total dataset."
   ]
  },
  {
   "cell_type": "code",
   "execution_count": 6,
   "id": "4ced1a7b-6f3f-4e1c-9adb-03567312800a",
   "metadata": {},
   "outputs": [],
   "source": [
    "def getSimilaritiesTotal(dataFrame):\n",
    "    similarities = []\n",
    "    for i in tqdm(range(len(dataFrame))):\n",
    "        for j in range(i+1,len(dataFrame)):\n",
    "            first_stock = dataFrame.iloc[i,2:]\n",
    "            second_stock = dataFrame.iloc[j,2:]\n",
    "            result = 1 - spatial.distance.cosine(first_stock,second_stock)\n",
    "            similarities.append((stock_symbols[i], stock_symbols[j], result))\n",
    "    return similarities"
   ]
  },
  {
   "cell_type": "code",
   "execution_count": 7,
   "id": "22c88aa6-89ea-4bd7-a1c3-d18a93fade15",
   "metadata": {},
   "outputs": [],
   "source": [
    "def getSimilaritiesYearly(date,dataFrame):\n",
    "    similarities = []\n",
    "    elems = len(dataFrame[date])\n",
    "    start_col = (np.where(dates == date)[0][0]) + 2 # plus 2 is for indexing away from stock symbol & sector\n",
    "    end_col = start_col + 12\n",
    "    for i in tqdm(range(elems)):\n",
    "        for j in range(i+1,elems):\n",
    "            first_stock = dataFrame.iloc[i,start_col:end_col]\n",
    "            second_stock = dataFrame.iloc[j,start_col:end_col]\n",
    "            result = 1-spatial.distance.cosine(first_stock,second_stock)\n",
    "            similarities.append((stock_symbols[i], stock_symbols[j], result))\n",
    "    return similarities"
   ]
  },
  {
   "cell_type": "code",
   "execution_count": 8,
   "id": "adebe59f-f79d-40ba-ae31-348ab49626ce",
   "metadata": {},
   "outputs": [],
   "source": [
    "def getAllYears(dataFrame):\n",
    "    i = 0\n",
    "    arr = []\n",
    "    start_date = dates[i]\n",
    "    curr_year = start_date.year\n",
    "    while(curr_year < 2021):\n",
    "        yearly_similarity = getSimilaritiesYearly(start_date,dataFrame)\n",
    "        arr.append((start_date,yearly_similarity))\n",
    "        curr_year+=1\n",
    "        i+=12\n",
    "        start_date = dates[i]\n",
    "    return arr"
   ]
  },
  {
   "cell_type": "markdown",
   "id": "f869c832-5a8e-4aa3-b897-948a9990ccb7",
   "metadata": {},
   "source": [
    "### Getting the total and Yearly similarities"
   ]
  },
  {
   "cell_type": "code",
   "execution_count": null,
   "id": "07c3ecb9-9c84-43b8-989f-2deb990060c9",
   "metadata": {},
   "outputs": [],
   "source": [
    "total_similarities = getSimilaritiesTotal(df_total)"
   ]
  },
  {
   "cell_type": "code",
   "execution_count": null,
   "id": "da4a2755-e6a4-43e2-ab02-deb6e5bd5791",
   "metadata": {},
   "outputs": [],
   "source": [
    "yearly_similarites = getAllYears(df_total)"
   ]
  },
  {
   "cell_type": "markdown",
   "id": "e6e7b2e6-8318-4ae8-bf7b-c94cffe8043a",
   "metadata": {},
   "source": [
    "### Exporting\n",
    "At this point all the stock symbols are exported to csv files, each year has it's own specific set of links. And there is also a csv that contains the total similarity across the entire dataset"
   ]
  },
  {
   "cell_type": "code",
   "execution_count": 20,
   "id": "de33eed6-08d2-416d-bc90-8079348b8319",
   "metadata": {},
   "outputs": [],
   "source": [
    "def writeStocks():\n",
    "    sectors = pd.read_excel(\"data/all_data.xlsx\",sheet_name='percentChange',engine='openpyxl')\n",
    "    sectors = sectors[[\"Stock\",\"Sector\"]]\n",
    "    with open('data/stocks.csv','w', newline='') as file:\n",
    "        writer = csv.writer(file)\n",
    "        writer.writerow([\"ID\\tlabel\\tsector\"])\n",
    "        for stock in stock_symbols:\n",
    "            sect = ((sectors.loc[sectors[\"Stock\"] == stock][\"Sector\"]).to_string(index=False)).replace(\" \",\"\")\n",
    "            sect = re.sub('[^a-zA-Z]+', '', sect)\n",
    "            idx  = str(stock_symbols.index(stock))\n",
    "            writer.writerow([idx+\"\\t\"+stock+\"\\t\"+sect])"
   ]
  },
  {
   "cell_type": "code",
   "execution_count": 5,
   "id": "d80b4bcb",
   "metadata": {
    "collapsed": false,
    "jupyter": {
     "outputs_hidden": false
    },
    "pycharm": {
     "is_executing": true
    }
   },
   "outputs": [],
   "source": [
    "def writeTotal(threshold):\n",
    "    with open('data/Raw_links/links_total.csv', 'w', newline='') as file:\n",
    "        writer = csv.writer(file)\n",
    "        writer.writerow([\"Source\tTarget\tWeight\"])\n",
    "        for link in total_similarities:\n",
    "            first_stock_index = str(stock_symbols.index(link[0]))\n",
    "            second_stock_index = str(stock_symbols.index(link[1]))\n",
    "            link_weight = link[2]\n",
    "            if(abs(link_weight) > threshold):\n",
    "                writer.writerow([first_stock_index+\"\\t\"+second_stock_index+\"\\t\"+str(link_weight)])"
   ]
  },
  {
   "cell_type": "code",
   "execution_count": 6,
   "id": "343a003f-aeb8-4469-94a7-0b300d979ae2",
   "metadata": {},
   "outputs": [],
   "source": [
    "def writeYearly(yearly_calc,threshold):\n",
    "    for year in yearly_calc:\n",
    "        curr_year = year[0].year\n",
    "        links = year[1]\n",
    "        file_name = 'data/Raw_links/links_'+str(curr_year)+'.csv'\n",
    "        with open(file_name, 'w', newline='') as file:\n",
    "            writer = csv.writer(file)\n",
    "            writer.writerow([\"Source\tTarget\tWeight\"])\n",
    "            for link in links:\n",
    "                first_stock_index = str(stock_symbols.index(link[0]))\n",
    "                second_stock_index = str(stock_symbols.index(link[1]))\n",
    "                link_weight = link[2]\n",
    "                if(abs(link_weight) > threshold):\n",
    "                    writer.writerow([first_stock_index+\"\\t\"+second_stock_index+\"\\t\"+str(link_weight)])"
   ]
  },
  {
   "cell_type": "code",
   "execution_count": 21,
   "id": "2e35b6d6-52fa-416a-ae7a-054eab778c41",
   "metadata": {},
   "outputs": [],
   "source": [
    "writeStocks()\n",
    "#writeTotal(0.5)"
   ]
  },
  {
   "cell_type": "code",
   "execution_count": null,
   "id": "120db853-58a9-48f2-a59c-ec3519d5a62e",
   "metadata": {},
   "outputs": [],
   "source": [
    "writeYearly(yearly_similarites,0.6)"
   ]
  },
  {
   "cell_type": "markdown",
   "id": "b310190a-5b5f-4c37-b13a-120da003cb76",
   "metadata": {},
   "source": [
    "### Visualizing the Data\n",
    "Now that the data has been processed and exported into their own csv's , we can begin to do some visualiation and more graph theory related calculations.\n",
    "Also, due to lack of computational resources, we have decided to reduce the number of links to 100,000 . The following two functions take the original csv's and take the strongest 100,000 links and save them. Links who do not make the cut are simply discarded."
   ]
  },
  {
   "cell_type": "code",
   "execution_count": 11,
   "id": "1c8e1897-e16d-4bd8-9dde-fb4a92623c78",
   "metadata": {},
   "outputs": [],
   "source": [
    "def filterYearly(num_of_links):\n",
    "    for i in range(2010,2021):\n",
    "        df_link=pd.read_csv(\"data/Raw_links_\"+str(i)+\".csv\",delimiter=\"\\t\")\n",
    "        df_link = df_link.sort_values(by=['Weight'],key=abs,ascending=False,ignore_index=True)\n",
    "        df_link[:num_of_links].to_csv(\"data/Filtered_links/links_\"+str(i)+\".csv\",sep='\\t',index=False)"
   ]
  },
  {
   "cell_type": "code",
   "execution_count": 12,
   "id": "2383c6d9",
   "metadata": {
    "collapsed": false,
    "jupyter": {
     "outputs_hidden": false
    }
   },
   "outputs": [],
   "source": [
    "def filterTotal(num_of_links):\n",
    "        df_link=pd.read_csv(\"data/Raw_links_total.csv\",delimiter=\"\\t\")\n",
    "        df_link = df_link.sort_values(by=['Weight'],key=abs,ascending=False,ignore_index=True)\n",
    "        df_link[:num_of_links].to_csv(\"data/Filtered_links/links_total.csv\",sep=\"\\t\",index=False)"
   ]
  },
  {
   "cell_type": "code",
   "execution_count": null,
   "id": "126b6edb-904f-4e98-a920-e1256e153c07",
   "metadata": {},
   "outputs": [],
   "source": [
    "filterYearly(100000)\n",
    "filterTotal(100000)"
   ]
  },
  {
   "cell_type": "code",
   "execution_count": 26,
   "id": "5800fb4a",
   "metadata": {
    "collapsed": false,
    "jupyter": {
     "outputs_hidden": false
    }
   },
   "outputs": [],
   "source": [
    "Yearly_Graphs = []\n",
    "for i in range(2010,2021):\n",
    "    G =GraphFromFile().GraphFromFileYearlyAbsWeights(i)\n",
    "    Yearly_Graphs.append(G)"
   ]
  },
  {
   "cell_type": "code",
   "execution_count": 27,
   "id": "c9b1ac0a",
   "metadata": {
    "collapsed": false,
    "jupyter": {
     "outputs_hidden": false
    }
   },
   "outputs": [],
   "source": [
    "Total_Graph = []\n",
    "Total_Graph.append(GraphFromFile().GraphFromFileTotalAbsWeights())"
   ]
  },
  {
   "cell_type": "code",
   "execution_count": 28,
   "id": "0c2f24ac",
   "metadata": {
    "collapsed": false,
    "jupyter": {
     "outputs_hidden": false
    }
   },
   "outputs": [],
   "source": [
    "'''\n",
    "Source code obtained from:\n",
    "Author: Emma Towlson\n",
    "https://d2l.ucalgary.ca/d2l/le/content/472066/viewContent/5526868/View\n",
    "\n",
    "Modifications have been made from the original to fit our problem set\n",
    "'''\n",
    "def PlotGraphDegDistribution(Graph_list):\n",
    "    fig = plt.figure(figsize=(6,4))\n",
    "    plt.xlabel(r\"degree $k$\", fontsize=16)\n",
    "    plt.ylabel(r\"$P(k)$\", fontsize=16)\n",
    "    for i in range(len(Graph_list)):\n",
    "        G = Graph_list[i]\n",
    "        N = len(G)\n",
    "        L = G.size()\n",
    "        degrees = [G.degree(node,weight='weight') for node in G]\n",
    "        kmin = min(degrees)\n",
    "        kmax = max(degrees)\n",
    "\n",
    "        # Get 10 logarithmically spaced bins between kmin and kmax\n",
    "        bin_edges = np.logspace(np.log10(kmin), np.log10(kmax), num=20)\n",
    "\n",
    "        # histogram the data into these bins\n",
    "        density, _ = np.histogram(degrees, bins=bin_edges, density=True)\n",
    "\n",
    "\n",
    "        # \"x\" should be midpoint (IN LOG SPACE) of each bin\n",
    "        log_be = np.log10(bin_edges)\n",
    "        x = 10**((log_be[1:] + log_be[:-1])/2)\n",
    "        label = 2010 +i if len(Graph_list) > 1 else \"total\"\n",
    "        plt.loglog(x, density, marker='o', label = label,linestyle='none')\n",
    "\n",
    "\n",
    "        # remove right and top boundaries because they're ugly\n",
    "        ax = plt.gca()\n",
    "        ax.spines['right'].set_visible(False)\n",
    "        ax.spines['top'].set_visible(False)\n",
    "        ax.yaxis.set_ticks_position('left')\n",
    "        ax.xaxis.set_ticks_position('bottom')\n",
    "\n",
    "        # Show the plot\n",
    "    plt.legend()\n",
    "    plt.show()"
   ]
  },
  {
   "cell_type": "code",
   "execution_count": 29,
   "id": "d4f96e0c",
   "metadata": {
    "collapsed": false,
    "jupyter": {
     "outputs_hidden": false
    }
   },
   "outputs": [
    {
     "data": {
      "text/plain": "<Figure size 600x400 with 1 Axes>",
      "image/png": "[encoded data removed]"
     },
     "metadata": {},
     "output_type": "display_data"
    }
   ],
   "source": [
    "PlotGraphDegDistribution(Yearly_Graphs)           #for ploting total graph degree distribution"
   ]
  },
  {
   "cell_type": "code",
   "execution_count": 30,
   "id": "768160cf-c958-4e0f-9b9d-2133950674e1",
   "metadata": {},
   "outputs": [
    {
     "data": {
      "text/plain": "<Figure size 600x400 with 1 Axes>",
      "image/png": "[encoded data removed]"
     },
     "metadata": {},
     "output_type": "display_data"
    }
   ],
   "source": [
    "PlotGraphDegDistribution(Total_Graph)             #for ploting total graph degree distribution"
   ]
  },
  {
   "cell_type": "code",
   "execution_count": 7,
   "id": "60e1853b",
   "metadata": {
    "collapsed": false,
    "jupyter": {
     "outputs_hidden": false
    }
   },
   "outputs": [],
   "source": [
    "G = Total_Graph[0]\n",
    "CG = sorted(nx.connected_components(G), key=len, reverse=True)\n",
    "G = G.subgraph(CG[0])                 # select the biggest connected component"
   ]
  },
  {
   "cell_type": "code",
   "execution_count": 8,
   "id": "e47c98ff",
   "metadata": {
    "collapsed": false,
    "jupyter": {
     "outputs_hidden": false
    }
   },
   "outputs": [],
   "source": [
    "n = NullCompare(G)"
   ]
  },
  {
   "cell_type": "code",
   "execution_count": 9,
   "id": "eb17ac92",
   "metadata": {
    "collapsed": false,
    "jupyter": {
     "outputs_hidden": false
    }
   },
   "outputs": [
    {
     "name": "stdout",
     "output_type": "stream",
     "text": [
      "Average Clustering Coefficient:  0.6678847956398628\n",
      "Average Shortest Path:  2.728443762372391\n"
     ]
    }
   ],
   "source": [
    "C,d = n.CalculateStats()\n",
    "print(\"Average Clustering Coefficient: \", C)\n",
    "print(\"Average Shortest Path: \", d)"
   ]
  },
  {
   "cell_type": "code",
   "execution_count": null,
   "id": "c6228a2b",
   "metadata": {
    "collapsed": false,
    "jupyter": {
     "outputs_hidden": false
    }
   },
   "outputs": [],
   "source": [
    "clustering_ER,short_path_ER = n.ERStats(1000)\n",
    "print(np.mean(clustering_ER))\n",
    "print(np.std(clustering_ER))\n",
    "\n",
    "print(np.mean(short_path_ER))\n",
    "print(np.std(short_path_ER))"
   ]
  },
  {
   "cell_type": "code",
   "execution_count": 13,
   "id": "60ef932a",
   "metadata": {
    "collapsed": false,
    "jupyter": {
     "outputs_hidden": false
    }
   },
   "outputs": [
    {
     "data": {
      "image/png": "[encoded data removed]",
      "text/plain": [
       "<Figure size 600x400 with 1 Axes>"
      ]
     },
     "metadata": {},
     "output_type": "display_data"
    }
   ],
   "source": [
    "n.ClusteringCoffPlot(clustering_ER,C )"
   ]
  },
  {
   "cell_type": "code",
   "execution_count": 14,
   "id": "d6584b06",
   "metadata": {
    "collapsed": false,
    "jupyter": {
     "outputs_hidden": false
    }
   },
   "outputs": [
    {
     "data": {
      "image/png": "[encoded data removed]",
      "text/plain": [
       "<Figure size 600x400 with 1 Axes>"
      ]
     },
     "metadata": {},
     "output_type": "display_data"
    }
   ],
   "source": [
    "n.ShortPathPlot(short_path_ER,d)"
   ]
  },
  {
   "cell_type": "code",
   "execution_count": null,
   "id": "223f10a9",
   "metadata": {
    "collapsed": false,
    "jupyter": {
     "outputs_hidden": false
    },
    "pycharm": {
     "is_executing": true
    }
   },
   "outputs": [
    {
     "name": "stdout",
     "output_type": "stream",
     "text": [
      "Iteration 0\n",
      "Iteration 1\n",
      "Iteration 2\n",
      "Iteration 3\n",
      "Iteration 4\n",
      "Iteration 5\n",
      "Iteration 6\n",
      "Iteration 7\n",
      "Iteration 8\n"
     ]
    }
   ],
   "source": [
    "clustering_DP,short_path_DP = n.DPStats(1000)\n",
    "print(np.mean(clustering_DP))\n",
    "print(np.std(clustering_DP))\n",
    "\n",
    "print(np.mean(short_path_DP))\n",
    "print(np.std(short_path_DP))"
   ]
  },
  {
   "cell_type": "code",
   "execution_count": 59,
   "outputs": [],
   "source": [
    "G = GraphFromFile().GraphFromFileTotalAbsWeights()"
   ],
   "metadata": {
    "collapsed": false
   }
  },
  {
   "cell_type": "code",
   "execution_count": 60,
   "outputs": [],
   "source": [
    "Measure = NetworkMeasures(G)\n",
    "#Measure.SectorStats()"
   ],
   "metadata": {
    "collapsed": false
   }
  },
  {
   "cell_type": "code",
   "execution_count": 61,
   "outputs": [
    {
     "name": "stdout",
     "output_type": "stream",
     "text": [
      "RVT Sector ETF\n",
      "TY Sector ETF\n",
      "GDV Sector ETF\n",
      "EVT Sector ETF\n",
      "RMT Sector ETF\n",
      "CSQ Sector ETF\n",
      "USA Sector ETF\n",
      "GAM Sector ETF\n",
      "ETG Sector ETF\n",
      "ETO Sector ETF\n",
      "AVK Sector ETF\n",
      "BTO Sector Metals & Mining\n",
      "CHW Sector ETF\n",
      "MCN Sector ETF\n",
      "SCD Sector ETF\n",
      "FFA Sector ETF\n",
      "LNC Sector Insurance\n",
      "GAB Sector ETF\n",
      "LGI Sector ETF\n",
      "BDJ Sector ETF\n",
      "ETY Sector ETF\n",
      "PFG Sector Insurance\n",
      "PH Sector Machinery\n",
      "EXG Sector ETF\n",
      "NFJ Sector ETF\n",
      "EMR Sector Electrical Equipment\n",
      "WCC Sector Trading Companies & Distributors\n",
      "NIE Sector ETF\n",
      "PEO Sector ETF\n",
      "GL Sector Insurance\n",
      "PRU Sector Insurance\n",
      "HON Sector Industrial Conglomerates\n",
      "C Sector Banks\n",
      "AMP Sector Capital Markets\n",
      "MET Sector Insurance\n",
      "CR Sector Machinery\n",
      "CET Sector Asset Management\n",
      "ADX Sector ETF\n",
      "DDF Sector ETF\n",
      "RTX Sector Aerospace & Defense\n",
      "EWBC Sector Banks\n",
      "SLB Sector Energy Equipment & Services\n",
      "FLS Sector Machinery\n",
      "FUL Sector Chemicals\n",
      "CHI Sector ETF\n",
      "GLQ Sector ETF\n",
      "ASG Sector ETF\n",
      "SPXX Sector ETF\n",
      "CII Sector ETF\n",
      "ASB Sector Banks\n",
      "AOD Sector ETF\n",
      "CATY Sector Banks\n",
      "EMN Sector Chemicals\n",
      "TNL Sector Hotels, Restaurants & Leisure\n",
      "DAN Sector Auto Components\n",
      "PACW Sector Banks\n",
      "MAN Sector Professional Services\n",
      "KEY Sector Banks\n",
      "JCE Sector ETF\n",
      "CBRE Sector Real Estate Management & Development\n",
      "UNM Sector Insurance\n",
      "COF Sector Consumer Finance\n",
      "DEX Sector ETF\n",
      "RJF Sector Capital Markets\n",
      "HYT Sector ETF\n",
      "EOI Sector ETF\n",
      "AGD Sector ETF\n",
      "SNA Sector Machinery\n",
      "CFR Sector Banks\n",
      "EEA Sector ETF\n",
      "GGT Sector ETF\n",
      "BMO Sector Banks\n",
      "BOE Sector ETF\n",
      "FOF Sector ETF\n",
      "CHY Sector ETF\n",
      "DRH Sector Equity Real Estate Investment Trusts ...\n",
      "ARW Sector Electronic Equipment, Instruments & C...\n",
      "MS Sector Capital Markets\n",
      "APH Sector Electronic Equipment, Instruments & C...\n",
      "LAMR Sector Equity Real Estate Investment Trusts ...\n",
      "HST Sector Equity Real Estate Investment Trusts ...\n",
      "PNC Sector Banks\n",
      "AWP Sector Equity Real Estate Investment Trusts ...\n",
      "MGU Sector ETF\n",
      "ETW Sector ETF\n",
      "ZION Sector Banks\n",
      "ARCC Sector Capital Markets\n",
      "FHN Sector Banks\n",
      "FITB Sector Banks\n",
      "MFC Sector Insurance\n",
      "TEL Sector Electronic Equipment, Instruments & C...\n",
      "BGR Sector ETF\n",
      "CMA Sector Banks\n",
      "AIMC Sector Machinery\n",
      "EOS Sector ETF\n",
      "GLO Sector Uranium\n",
      "MAR Sector Hotels, Restaurants & Leisure\n",
      "NCV Sector ETF\n",
      "AIT Sector Trading Companies & Distributors\n",
      "GRX Sector ETF\n",
      "[('ETF', 47), ('Banks', 13), ('Insurance', 7), ('Machinery', 5), ('Capital Markets', 4), ('Equity Real Estate Investment Trusts ...', 4), ('Electronic Equipment, Instruments & C...', 3), ('Trading Companies & Distributors', 2), ('Chemicals', 2), ('Hotels, Restaurants & Leisure', 2), ('Metals & Mining', 1), ('Electrical Equipment', 1), ('Industrial Conglomerates', 1), ('Asset Management', 1), ('Aerospace & Defense', 1), ('Energy Equipment & Services', 1), ('Auto Components', 1), ('Professional Services', 1), ('Real Estate Management & Development', 1), ('Consumer Finance', 1), ('Uranium', 1)]\n"
     ]
    }
   ],
   "source": [
    "result = Measure.EigenvectorCentrality(Top= True)\n",
    "print(result)"
   ],
   "metadata": {
    "collapsed": false
   }
  },
  {
   "cell_type": "code",
   "execution_count": 62,
   "outputs": [
    {
     "name": "stdout",
     "output_type": "stream",
     "text": [
      "[('ETF', 0.15460526315789475), ('Insurance', 0.09333333333333334), ('Trading Companies & Distributors', 0.08), ('Consumer Finance', 0.06666666666666667), ('Machinery', 0.05813953488372093), ('Capital Markets', 0.05263157894736842), ('Banks', 0.05179282868525897), ('Auto Components', 0.047619047619047616), ('Real Estate Management & Development', 0.043478260869565216), ('Equity Real Estate Investment Trusts ...', 0.04081632653061224), ('Hotels, Restaurants & Leisure', 0.0392156862745098), ('Electronic Equipment, Instruments & C...', 0.038461538461538464), ('Chemicals', 0.038461538461538464), ('Electrical Equipment', 0.03571428571428571), ('Professional Services', 0.02857142857142857), ('Aerospace & Defense', 0.02702702702702703), ('Energy Equipment & Services', 0.02631578947368421), ('Metals & Mining', 0.009433962264150943)]\n"
     ]
    }
   ],
   "source": [
    "Measure.SectorFraction(result)"
   ],
   "metadata": {
    "collapsed": false
   }
  },
  {
   "cell_type": "code",
   "execution_count": 63,
   "outputs": [],
   "source": [
    "G = GraphFromFile().GraphFromFileTotalAbsWeights()"
   ],
   "metadata": {
    "collapsed": false
   }
  },
  {
   "cell_type": "code",
   "execution_count": 64,
   "outputs": [
    {
     "name": "stdout",
     "output_type": "stream",
     "text": [
      "gamma=  1.2802636927483235\n"
     ]
    },
    {
     "data": {
      "text/plain": "<Figure size 600x400 with 1 Axes>",
      "image/png": "[encoded data removed]"
     },
     "metadata": {},
     "output_type": "display_data"
    }
   ],
   "source": [
    "NullCompare(G).plot_degree_dist_and_fit()"
   ],
   "metadata": {
    "collapsed": false
   }
  },
  {
   "cell_type": "code",
   "execution_count": 34,
   "outputs": [
    {
     "name": "stdout",
     "output_type": "stream",
     "text": [
      "[3, 3, 10, 9, 85, 95, 13, 12, 7, 5, 237, 210, 1, 1, 390, 339, 501, 702, 368, 436, 458, 425, 403, 425, 768, 901, 204, 112, 38, 10, 557, 551, 177, 160, 38, 11, 27, 27, 646, 744, 683, 694, 90, 75, 195, 106, 103, 831, 800, 759, 596, 599, 354, 271, 37, 42, 215, 202, 6, 5, 404, 533, 328, 311, 255, 245, 551, 279, 288, 69, 78, 39, 93, 62, 430, 101, 101, 47, 51, 293, 128, 68, 52, 105, 105, 31, 30, 100, 100, 402, 168, 170, 100, 100, 160, 9, 9, 722, 51, 413, 462, 631, 102, 83, 45, 533, 8, 411, 163, 422, 99, 117, 425, 387, 1, 1, 570, 119, 119, 233, 253, 424, 237, 441, 415, 163, 442, 374, 18, 15, 364, 88, 88, 329, 480, 330, 280, 3, 1, 273, 51, 51, 604, 519, 449, 343, 229, 140, 506, 63, 32, 43, 341, 647, 5, 101, 100, 105, 81, 125, 396, 470, 424, 101, 356, 614, 103, 3, 3, 450, 276, 196, 102, 106, 17, 100, 329, 141, 144, 474, 315, 195, 141, 444, 571, 432, 246, 209, 441, 16, 44, 216, 159, 213, 430, 304, 412, 34, 100, 271, 330, 101, 272, 239, 111, 226, 374, 655, 162, 432, 334, 345, 106, 207, 187, 365, 249, 236, 340, 100, 290, 164, 377, 39, 115, 94, 93, 101, 103, 280, 166, 429, 64, 80, 366, 399, 347, 350, 61, 63, 60, 100, 173, 268, 83, 51, 2, 1, 113, 87, 235, 105, 499, 57, 110, 36, 300, 334, 272, 20, 173, 204, 489, 231, 252, 258, 253, 272, 456, 329, 455, 439, 148, 256, 188, 286, 103, 103, 380, 166, 121, 64, 332, 105, 468, 213, 199, 438, 295, 98, 32, 503, 240, 169, 5, 5, 101, 101, 511, 103, 99, 102, 92, 94, 51, 246, 584, 435, 226, 389, 406, 393, 46, 388, 257, 283, 504, 104, 246, 365, 102, 98, 319, 154, 102, 102, 100, 106, 83, 91, 366, 128, 90, 335, 82, 69, 137, 122, 114, 184, 403, 139, 333, 105, 98, 100, 3, 2, 581, 558, 29, 26, 478, 268, 267, 99, 66, 52, 403, 121, 376, 285, 100, 349, 101, 128, 36, 33, 1, 1, 203, 251, 245, 233, 305, 260, 146, 214, 96, 41, 37, 34, 9, 99, 93, 240, 218, 359, 543, 99, 180, 335, 393, 195, 193, 405, 201, 80, 136, 404, 167, 252, 98, 367, 111, 268, 35, 288, 205, 222, 30, 68, 79, 100, 247, 343, 226, 212, 56, 38, 257, 1, 1, 332, 267, 389, 13, 19, 316, 35, 30, 96, 525, 108, 58, 12, 259, 223, 329, 84, 472, 5, 64, 81, 2, 44, 62, 181, 225, 70, 42, 433, 287, 89, 390, 88, 29, 62, 18, 98, 555, 351, 81, 51, 140, 39, 214, 327, 170, 98, 10, 426, 98, 107, 6, 33, 303, 198, 289, 203, 180, 286, 4, 4, 102, 70, 382, 102, 219, 267, 185, 7, 5, 20, 249, 326, 44, 173, 298, 294, 374, 548, 97, 224, 98, 295, 332, 6, 292, 197, 149, 124, 290, 26, 20, 93, 45, 215, 312, 98, 172, 95, 92, 228, 288, 47, 322, 152, 261, 97, 6, 5, 181, 205, 96, 441, 213, 51, 88, 163, 216, 489, 97, 114, 213, 29, 200, 422, 286, 291, 215, 167, 77, 21, 99, 307, 2, 2, 150, 360, 101, 133, 462, 98, 110, 96, 444, 311, 122, 133, 98, 107, 422, 43, 236, 215, 36, 384, 96, 9, 7, 318, 16, 85, 34, 5, 188, 12, 8, 187, 80, 245, 206, 49, 28, 36, 48, 229, 453, 194, 31, 221, 16, 39, 359, 4, 6, 297, 42, 176, 196, 49, 261, 346, 313, 332, 31, 161, 53, 293, 373, 398, 301, 76, 10, 323, 296, 29, 23, 453, 139, 213, 219, 96, 34, 93, 158, 93, 45, 64, 83, 111, 448, 156, 5, 10, 29, 119, 45, 147, 131, 197, 294, 2, 4, 8, 44, 80, 256, 447, 131, 396, 153, 34, 168, 184, 80, 109, 92, 29, 20, 81, 11, 13, 258, 219, 190, 475, 78, 209, 222, 11, 10, 192, 141, 141, 34, 425, 255, 2, 1, 180, 156, 218, 192, 40, 138, 105, 35, 98, 33, 186, 7, 9, 73, 228, 140, 6, 254, 120, 329, 51, 94, 331, 1, 1, 188, 85, 69, 393, 410, 20, 436, 87, 89, 6, 256, 59, 243, 250, 244, 170, 69, 252, 120, 79, 144, 184, 146, 35, 17, 36, 151, 94, 29, 89, 154, 32, 81, 27, 245, 291, 94, 142, 240, 136, 10, 314, 4, 94, 273, 318, 27, 158, 212, 146, 327, 133, 23, 41, 241, 169, 104, 104, 352, 158, 333, 62, 101, 327, 317, 15, 54, 143, 114, 188, 194, 293, 176, 280, 2, 2, 67, 90, 28, 87, 89, 152, 56, 43, 5, 70, 93, 92, 58, 319, 33, 292, 34, 133, 31, 302, 87, 14, 5, 189, 66, 105, 53, 8, 163, 385, 15, 90, 159, 7, 200, 376, 58, 167, 371, 25, 300, 14, 39, 45, 57, 131, 33, 275, 28, 38, 37, 124, 344, 94, 302, 144, 28, 98, 32, 70, 60, 173, 241, 304, 82, 11, 137, 11, 82, 323, 175, 158, 50, 53, 142, 10, 11, 295, 195, 163, 1, 1, 309, 197, 95, 165, 91, 28, 48, 85, 58, 213, 5, 266, 114, 23, 245, 3, 11, 5, 2, 164, 119, 159, 211, 127, 108, 128, 34, 3, 4, 206, 148, 130, 140, 47, 18, 50, 31, 92, 9, 83, 86, 59, 113, 94, 88, 71, 76, 129, 98, 138, 20, 160, 103, 49, 46, 33, 43, 65, 80, 4, 218, 10, 6, 89, 6, 75, 132, 120, 9, 31, 121, 26, 127, 36, 26, 94, 125, 162, 1, 1, 219, 42, 16, 277, 85, 48, 37, 283, 303, 22, 219, 14, 84, 85, 103, 243, 33, 283, 135, 93, 44, 121, 292, 13, 3, 89, 18, 174, 218, 29, 38, 52, 276, 11, 130, 2, 21, 124, 67, 132, 55, 11, 1, 1, 17, 68, 94, 5, 87, 216, 48, 148, 5, 31, 3, 1, 84, 6, 170, 2, 27, 44, 115, 49, 101, 19, 164, 78, 18, 31, 24, 218, 26, 219, 148, 100, 74, 18, 5, 264, 240, 111, 3, 2, 41, 2, 19, 15, 19, 22, 40, 79, 109, 63, 60, 75, 30, 116, 4, 23, 7, 74, 175, 173, 2, 2, 139, 37, 5, 53, 132, 152, 137, 78, 43, 57, 8, 71, 14, 66, 98, 195, 59, 112, 62, 231, 25, 9, 101, 48, 1, 6, 19, 70, 114, 25, 223, 54, 203, 58, 32, 150, 90, 69, 160, 2, 4, 71, 176, 4, 66, 11, 14, 217, 161, 49, 136, 213, 99, 91, 128, 72, 110, 17, 165, 106, 22, 97, 80, 38, 124, 44, 133, 97, 123, 1, 1, 172, 4, 3, 201, 87, 91, 10, 92, 154, 25, 186, 83, 28, 2, 95, 28, 59, 19, 157, 159, 2, 40, 7, 25, 26, 83, 20, 2, 2, 80, 98, 13, 17, 1, 1, 7, 2, 33, 23, 16, 130, 24, 6, 20, 70, 65, 2, 1, 1, 8, 2, 128, 69, 31, 24, 125, 125, 106, 5, 77, 2, 15, 33, 48, 2, 64, 75, 2, 2, 15, 139, 132, 186, 20, 54, 38, 5, 59, 80, 66, 47, 113, 68, 1, 1, 108, 80, 20, 62, 29, 171, 84, 120, 17, 57, 71, 20, 43, 6, 98, 16, 6, 58, 138, 20, 9, 53, 54, 120, 8, 11, 58, 49, 54, 80, 41, 44, 45, 8, 6, 101, 16, 57, 77, 12, 82, 78, 24, 125, 98, 59, 60, 110, 15, 115, 51, 36, 1, 112, 106, 22, 47, 51, 65, 31, 63, 6, 39, 94, 95, 33, 71, 86, 43, 35, 15, 63, 25, 20, 41, 2, 3, 9, 1, 5, 8, 1, 1, 66, 37, 81, 21, 55, 31, 80, 69, 18, 6, 91, 11, 19, 2, 5, 82, 63, 49, 89, 85, 142, 42, 35, 88, 24, 66, 71, 1, 2, 21, 5, 64, 22, 53, 9, 2, 3, 61, 2, 10, 41, 80, 77, 32, 27, 3, 7, 4, 20, 10, 63, 38, 24, 12, 31, 2, 71, 4, 1, 17, 63, 13, 9, 3, 49, 40, 43, 91, 25, 48, 33, 9, 1, 49, 58, 34, 1, 1, 8, 18, 67, 5, 15, 4, 3, 23, 8, 10, 14, 11, 45, 2, 17, 16, 51, 23, 31, 19, 6, 23, 38, 41, 1, 77, 25, 1, 4, 1, 1, 54, 14, 68, 33, 46, 16, 13, 6, 19, 35, 3, 3, 36, 22, 57, 81, 17, 5, 22, 7, 25, 16, 3, 32, 7, 7, 1, 2, 10, 53, 34, 2, 16, 6, 67, 2, 3, 28, 25, 68, 4, 21, 16, 22, 26, 20, 2, 3, 2, 68, 1, 1, 56, 19, 2, 44, 11, 10, 6, 41, 26, 27, 4, 1, 35, 3, 13, 50, 10, 22, 6, 31, 16, 22, 13, 26, 3, 21, 14, 17, 54, 14, 2, 32, 11, 23, 2, 2, 3, 31, 33, 28, 45, 15, 2, 7, 25, 20, 3, 1, 40, 39, 6, 4, 11, 2, 2, 2, 26, 28, 12, 5, 1, 5, 10, 1, 2, 10, 16, 12, 48, 9, 13, 34, 8, 5, 35, 15, 30, 1, 20, 1, 16, 19, 10, 1, 4, 10, 9, 3, 6, 45, 3, 18, 1, 1, 27, 26, 16, 2, 1, 37, 16, 4, 32, 23, 11, 3, 2, 4, 3, 2, 4, 21, 5, 4, 3, 42, 1, 6, 1, 7, 6, 11, 4, 25, 22, 44, 9, 7, 7, 1, 1, 10, 13, 8, 24, 1, 1, 28, 7, 18, 2, 1, 6, 11, 12, 8, 26, 11, 12, 8, 20, 16, 17, 31, 17, 2, 6, 11, 2, 14, 1, 7, 19, 1, 15, 27, 1, 16, 3, 27, 15, 9, 15, 12, 6, 9, 3, 3, 1, 1, 6, 4, 20, 1, 1, 4, 2, 14, 15, 10, 1, 1, 9, 12, 18, 2, 7, 3, 1, 1, 11, 2, 7, 5, 15, 2, 8, 14, 5, 1, 16, 4, 2, 1, 1, 1, 1, 9, 5, 1, 4, 4, 1, 12, 7, 16, 7, 9, 11, 5, 5, 1, 3, 10, 10, 11, 3, 2, 25, 6, 10, 1, 8, 3, 2, 2, 9, 2, 6, 1, 1, 6, 4, 5, 2, 5, 9, 5, 4, 2, 2, 10, 2, 1, 2, 2, 9, 4, 1, 7, 5, 18, 3, 3, 5, 2, 2, 6, 8, 5, 7, 4, 11, 1, 1, 2, 1, 2, 20, 1, 1, 3, 2, 2, 6, 5, 3, 2, 3, 1, 2, 1, 1, 2, 11, 1, 1, 1, 3, 5, 1, 9, 2, 2, 1, 2, 5, 1, 1, 3, 1, 1, 4, 10, 1, 3, 2, 1, 1, 1, 4, 9, 1, 1, 1, 1, 2, 4, 2, 1, 1, 2, 1, 2, 1, 7, 1, 5, 2, 5, 1, 2, 1, 1, 2, 2, 2, 1, 1, 1, 3, 2, 1, 2, 1, 1, 2, 2, 2, 1, 2, 1, 1, 2, 2, 3, 3, 11, 1, 1, 1, 1, 1, 3, 1, 1, 1, 2, 2, 1, 1, 1, 1, 1, 1, 1, 2, 3, 2, 1, 2, 1, 1, 1, 1, 1, 1, 1, 1, 1, 1, 1, 1, 1, 1, 1, 1, 1, 1, 2, 1, 1, 1, 1, 2, 1, 1, 1, 2, 1, 1, 1, 1, 1, 1, 1, 1, 1]\n",
      "105.3740779768177\n"
     ]
    }
   ],
   "source": [
    "G = GraphFromFile().GraphFromFileTotalWeights()\n",
    "C = np.mean([G.degree(n) for n in G.nodes()])\n",
    "print(C)"
   ],
   "metadata": {
    "collapsed": false
   }
  },
  {
   "cell_type": "code",
   "execution_count": 22,
   "outputs": [
    {
     "ename": "KeyboardInterrupt",
     "evalue": "",
     "output_type": "error",
     "traceback": [
      "\u001B[1;31m---------------------------------------------------------------------------\u001B[0m",
      "\u001B[1;31mKeyboardInterrupt\u001B[0m                         Traceback (most recent call last)",
      "Cell \u001B[1;32mIn [22], line 3\u001B[0m\n\u001B[0;32m      1\u001B[0m CG \u001B[38;5;241m=\u001B[39m \u001B[38;5;28msorted\u001B[39m(nx\u001B[38;5;241m.\u001B[39mconnected_components(G), key\u001B[38;5;241m=\u001B[39m\u001B[38;5;28mlen\u001B[39m, reverse\u001B[38;5;241m=\u001B[39m\u001B[38;5;28;01mTrue\u001B[39;00m)\n\u001B[0;32m      2\u001B[0m G \u001B[38;5;241m=\u001B[39m G\u001B[38;5;241m.\u001B[39msubgraph(CG[\u001B[38;5;241m0\u001B[39m])\n\u001B[1;32m----> 3\u001B[0m \u001B[38;5;28mprint\u001B[39m(nx\u001B[38;5;241m.\u001B[39maverage_shortest_path_length(G,weight\u001B[38;5;241m=\u001B[39m\u001B[38;5;124m'\u001B[39m\u001B[38;5;124mweight\u001B[39m\u001B[38;5;124m'\u001B[39m))\n",
      "File \u001B[1;32m~\\AppData\\Local\\Packages\\PythonSoftwareFoundation.Python.3.10_qbz5n2kfra8p0\\LocalCache\\local-packages\\Python310\\site-packages\\networkx\\algorithms\\shortest_paths\\generic.py:417\u001B[0m, in \u001B[0;36maverage_shortest_path_length\u001B[1;34m(G, weight, method)\u001B[0m\n\u001B[0;32m    413\u001B[0m         \u001B[38;5;28;01mreturn\u001B[39;00m nx\u001B[38;5;241m.\u001B[39msingle_source_bellman_ford_path_length(G, v, weight\u001B[38;5;241m=\u001B[39mweight)\n\u001B[0;32m    415\u001B[0m \u001B[38;5;28;01mif\u001B[39;00m method \u001B[38;5;129;01min\u001B[39;00m single_source_methods:\n\u001B[0;32m    416\u001B[0m     \u001B[38;5;66;03m# Sum the distances for each (ordered) pair of source and target node.\u001B[39;00m\n\u001B[1;32m--> 417\u001B[0m     s \u001B[38;5;241m=\u001B[39m \u001B[38;5;28;43msum\u001B[39;49m\u001B[43m(\u001B[49m\u001B[43ml\u001B[49m\u001B[43m \u001B[49m\u001B[38;5;28;43;01mfor\u001B[39;49;00m\u001B[43m \u001B[49m\u001B[43mu\u001B[49m\u001B[43m \u001B[49m\u001B[38;5;129;43;01min\u001B[39;49;00m\u001B[43m \u001B[49m\u001B[43mG\u001B[49m\u001B[43m \u001B[49m\u001B[38;5;28;43;01mfor\u001B[39;49;00m\u001B[43m \u001B[49m\u001B[43ml\u001B[49m\u001B[43m \u001B[49m\u001B[38;5;129;43;01min\u001B[39;49;00m\u001B[43m \u001B[49m\u001B[43mpath_length\u001B[49m\u001B[43m(\u001B[49m\u001B[43mu\u001B[49m\u001B[43m)\u001B[49m\u001B[38;5;241;43m.\u001B[39;49m\u001B[43mvalues\u001B[49m\u001B[43m(\u001B[49m\u001B[43m)\u001B[49m\u001B[43m)\u001B[49m\n\u001B[0;32m    418\u001B[0m \u001B[38;5;28;01melse\u001B[39;00m:\n\u001B[0;32m    419\u001B[0m     \u001B[38;5;28;01mif\u001B[39;00m method \u001B[38;5;241m==\u001B[39m \u001B[38;5;124m\"\u001B[39m\u001B[38;5;124mfloyd-warshall\u001B[39m\u001B[38;5;124m\"\u001B[39m:\n",
      "File \u001B[1;32m~\\AppData\\Local\\Packages\\PythonSoftwareFoundation.Python.3.10_qbz5n2kfra8p0\\LocalCache\\local-packages\\Python310\\site-packages\\networkx\\algorithms\\shortest_paths\\generic.py:417\u001B[0m, in \u001B[0;36m<genexpr>\u001B[1;34m(.0)\u001B[0m\n\u001B[0;32m    413\u001B[0m         \u001B[38;5;28;01mreturn\u001B[39;00m nx\u001B[38;5;241m.\u001B[39msingle_source_bellman_ford_path_length(G, v, weight\u001B[38;5;241m=\u001B[39mweight)\n\u001B[0;32m    415\u001B[0m \u001B[38;5;28;01mif\u001B[39;00m method \u001B[38;5;129;01min\u001B[39;00m single_source_methods:\n\u001B[0;32m    416\u001B[0m     \u001B[38;5;66;03m# Sum the distances for each (ordered) pair of source and target node.\u001B[39;00m\n\u001B[1;32m--> 417\u001B[0m     s \u001B[38;5;241m=\u001B[39m \u001B[38;5;28msum\u001B[39m(l \u001B[38;5;28;01mfor\u001B[39;00m u \u001B[38;5;129;01min\u001B[39;00m G \u001B[38;5;28;01mfor\u001B[39;00m l \u001B[38;5;129;01min\u001B[39;00m \u001B[43mpath_length\u001B[49m\u001B[43m(\u001B[49m\u001B[43mu\u001B[49m\u001B[43m)\u001B[49m\u001B[38;5;241m.\u001B[39mvalues())\n\u001B[0;32m    418\u001B[0m \u001B[38;5;28;01melse\u001B[39;00m:\n\u001B[0;32m    419\u001B[0m     \u001B[38;5;28;01mif\u001B[39;00m method \u001B[38;5;241m==\u001B[39m \u001B[38;5;124m\"\u001B[39m\u001B[38;5;124mfloyd-warshall\u001B[39m\u001B[38;5;124m\"\u001B[39m:\n",
      "File \u001B[1;32m~\\AppData\\Local\\Packages\\PythonSoftwareFoundation.Python.3.10_qbz5n2kfra8p0\\LocalCache\\local-packages\\Python310\\site-packages\\networkx\\algorithms\\shortest_paths\\generic.py:411\u001B[0m, in \u001B[0;36maverage_shortest_path_length.<locals>.path_length\u001B[1;34m(v)\u001B[0m\n\u001B[0;32m    409\u001B[0m     \u001B[38;5;28;01mreturn\u001B[39;00m nx\u001B[38;5;241m.\u001B[39msingle_source_shortest_path_length(G, v)\n\u001B[0;32m    410\u001B[0m \u001B[38;5;28;01melif\u001B[39;00m method \u001B[38;5;241m==\u001B[39m \u001B[38;5;124m\"\u001B[39m\u001B[38;5;124mdijkstra\u001B[39m\u001B[38;5;124m\"\u001B[39m:\n\u001B[1;32m--> 411\u001B[0m     \u001B[38;5;28;01mreturn\u001B[39;00m \u001B[43mnx\u001B[49m\u001B[38;5;241;43m.\u001B[39;49m\u001B[43msingle_source_dijkstra_path_length\u001B[49m\u001B[43m(\u001B[49m\u001B[43mG\u001B[49m\u001B[43m,\u001B[49m\u001B[43m \u001B[49m\u001B[43mv\u001B[49m\u001B[43m,\u001B[49m\u001B[43m \u001B[49m\u001B[43mweight\u001B[49m\u001B[38;5;241;43m=\u001B[39;49m\u001B[43mweight\u001B[49m\u001B[43m)\u001B[49m\n\u001B[0;32m    412\u001B[0m \u001B[38;5;28;01melif\u001B[39;00m method \u001B[38;5;241m==\u001B[39m \u001B[38;5;124m\"\u001B[39m\u001B[38;5;124mbellman-ford\u001B[39m\u001B[38;5;124m\"\u001B[39m:\n\u001B[0;32m    413\u001B[0m     \u001B[38;5;28;01mreturn\u001B[39;00m nx\u001B[38;5;241m.\u001B[39msingle_source_bellman_ford_path_length(G, v, weight\u001B[38;5;241m=\u001B[39mweight)\n",
      "File \u001B[1;32m~\\AppData\\Local\\Packages\\PythonSoftwareFoundation.Python.3.10_qbz5n2kfra8p0\\LocalCache\\local-packages\\Python310\\site-packages\\networkx\\algorithms\\shortest_paths\\weighted.py:373\u001B[0m, in \u001B[0;36msingle_source_dijkstra_path_length\u001B[1;34m(G, source, cutoff, weight)\u001B[0m\n\u001B[0;32m    305\u001B[0m \u001B[38;5;28;01mdef\u001B[39;00m \u001B[38;5;21msingle_source_dijkstra_path_length\u001B[39m(G, source, cutoff\u001B[38;5;241m=\u001B[39m\u001B[38;5;28;01mNone\u001B[39;00m, weight\u001B[38;5;241m=\u001B[39m\u001B[38;5;124m\"\u001B[39m\u001B[38;5;124mweight\u001B[39m\u001B[38;5;124m\"\u001B[39m):\n\u001B[0;32m    306\u001B[0m     \u001B[38;5;124;03m\"\"\"Find shortest weighted path lengths in G from a source node.\u001B[39;00m\n\u001B[0;32m    307\u001B[0m \n\u001B[0;32m    308\u001B[0m \u001B[38;5;124;03m    Compute the shortest path length between source and all other\u001B[39;00m\n\u001B[1;32m   (...)\u001B[0m\n\u001B[0;32m    371\u001B[0m \n\u001B[0;32m    372\u001B[0m \u001B[38;5;124;03m    \"\"\"\u001B[39;00m\n\u001B[1;32m--> 373\u001B[0m     \u001B[38;5;28;01mreturn\u001B[39;00m \u001B[43mmulti_source_dijkstra_path_length\u001B[49m\u001B[43m(\u001B[49m\u001B[43mG\u001B[49m\u001B[43m,\u001B[49m\u001B[43m \u001B[49m\u001B[43m{\u001B[49m\u001B[43msource\u001B[49m\u001B[43m}\u001B[49m\u001B[43m,\u001B[49m\u001B[43m \u001B[49m\u001B[43mcutoff\u001B[49m\u001B[38;5;241;43m=\u001B[39;49m\u001B[43mcutoff\u001B[49m\u001B[43m,\u001B[49m\u001B[43m \u001B[49m\u001B[43mweight\u001B[49m\u001B[38;5;241;43m=\u001B[39;49m\u001B[43mweight\u001B[49m\u001B[43m)\u001B[49m\n",
      "File \u001B[1;32m~\\AppData\\Local\\Packages\\PythonSoftwareFoundation.Python.3.10_qbz5n2kfra8p0\\LocalCache\\local-packages\\Python310\\site-packages\\networkx\\algorithms\\shortest_paths\\weighted.py:628\u001B[0m, in \u001B[0;36mmulti_source_dijkstra_path_length\u001B[1;34m(G, sources, cutoff, weight)\u001B[0m\n\u001B[0;32m    626\u001B[0m         \u001B[38;5;28;01mraise\u001B[39;00m nx\u001B[38;5;241m.\u001B[39mNodeNotFound(\u001B[38;5;124mf\u001B[39m\u001B[38;5;124m\"\u001B[39m\u001B[38;5;124mNode \u001B[39m\u001B[38;5;132;01m{\u001B[39;00ms\u001B[38;5;132;01m}\u001B[39;00m\u001B[38;5;124m not found in graph\u001B[39m\u001B[38;5;124m\"\u001B[39m)\n\u001B[0;32m    627\u001B[0m weight \u001B[38;5;241m=\u001B[39m _weight_function(G, weight)\n\u001B[1;32m--> 628\u001B[0m \u001B[38;5;28;01mreturn\u001B[39;00m \u001B[43m_dijkstra_multisource\u001B[49m\u001B[43m(\u001B[49m\u001B[43mG\u001B[49m\u001B[43m,\u001B[49m\u001B[43m \u001B[49m\u001B[43msources\u001B[49m\u001B[43m,\u001B[49m\u001B[43m \u001B[49m\u001B[43mweight\u001B[49m\u001B[43m,\u001B[49m\u001B[43m \u001B[49m\u001B[43mcutoff\u001B[49m\u001B[38;5;241;43m=\u001B[39;49m\u001B[43mcutoff\u001B[49m\u001B[43m)\u001B[49m\n",
      "File \u001B[1;32m~\\AppData\\Local\\Packages\\PythonSoftwareFoundation.Python.3.10_qbz5n2kfra8p0\\LocalCache\\local-packages\\Python310\\site-packages\\networkx\\algorithms\\shortest_paths\\weighted.py:837\u001B[0m, in \u001B[0;36m_dijkstra_multisource\u001B[1;34m(G, sources, weight, pred, paths, cutoff, target)\u001B[0m\n\u001B[0;32m    835\u001B[0m     \u001B[38;5;28;01mbreak\u001B[39;00m\n\u001B[0;32m    836\u001B[0m \u001B[38;5;28;01mfor\u001B[39;00m u, e \u001B[38;5;129;01min\u001B[39;00m G_succ[v]\u001B[38;5;241m.\u001B[39mitems():\n\u001B[1;32m--> 837\u001B[0m     cost \u001B[38;5;241m=\u001B[39m \u001B[43mweight\u001B[49m\u001B[43m(\u001B[49m\u001B[43mv\u001B[49m\u001B[43m,\u001B[49m\u001B[43m \u001B[49m\u001B[43mu\u001B[49m\u001B[43m,\u001B[49m\u001B[43m \u001B[49m\u001B[43me\u001B[49m\u001B[43m)\u001B[49m\n\u001B[0;32m    838\u001B[0m     \u001B[38;5;28;01mif\u001B[39;00m cost \u001B[38;5;129;01mis\u001B[39;00m \u001B[38;5;28;01mNone\u001B[39;00m:\n\u001B[0;32m    839\u001B[0m         \u001B[38;5;28;01mcontinue\u001B[39;00m\n",
      "File \u001B[1;32m~\\AppData\\Local\\Packages\\PythonSoftwareFoundation.Python.3.10_qbz5n2kfra8p0\\LocalCache\\local-packages\\Python310\\site-packages\\networkx\\algorithms\\shortest_paths\\weighted.py:78\u001B[0m, in \u001B[0;36m_weight_function.<locals>.<lambda>\u001B[1;34m(u, v, data)\u001B[0m\n\u001B[0;32m     76\u001B[0m \u001B[38;5;28;01mif\u001B[39;00m G\u001B[38;5;241m.\u001B[39mis_multigraph():\n\u001B[0;32m     77\u001B[0m     \u001B[38;5;28;01mreturn\u001B[39;00m \u001B[38;5;28;01mlambda\u001B[39;00m u, v, d: \u001B[38;5;28mmin\u001B[39m(attr\u001B[38;5;241m.\u001B[39mget(weight, \u001B[38;5;241m1\u001B[39m) \u001B[38;5;28;01mfor\u001B[39;00m attr \u001B[38;5;129;01min\u001B[39;00m d\u001B[38;5;241m.\u001B[39mvalues())\n\u001B[1;32m---> 78\u001B[0m \u001B[38;5;28;01mreturn\u001B[39;00m \u001B[38;5;28;01mlambda\u001B[39;00m u, v, data: \u001B[43mdata\u001B[49m\u001B[38;5;241;43m.\u001B[39;49m\u001B[43mget\u001B[49m\u001B[43m(\u001B[49m\u001B[43mweight\u001B[49m\u001B[43m,\u001B[49m\u001B[43m \u001B[49m\u001B[38;5;241;43m1\u001B[39;49m\u001B[43m)\u001B[49m\n",
      "\u001B[1;31mKeyboardInterrupt\u001B[0m: "
     ]
    }
   ],
   "source": [
    "CG = sorted(nx.connected_components(G), key=len, reverse=True)\n",
    "G = G.subgraph(CG[0])\n",
    "print(nx.average_shortest_path_length(G,weight=None))"
   ],
   "metadata": {
    "collapsed": false
   }
  },
  {
   "cell_type": "code",
   "execution_count": null,
   "outputs": [],
   "source": [
    "C = np.mean(list(nx.clustering(G,weight=None).values()))\n",
    "print(C)"
   ],
   "metadata": {
    "collapsed": false
   }
  },
  {
   "cell_type": "code",
   "execution_count": null,
   "outputs": [],
   "source": [],
   "metadata": {
    "collapsed": false
   }
  }
 ],
 "metadata": {
  "kernelspec": {
   "display_name": "Python 3 (ipykernel)",
   "language": "python",
   "name": "python3"
  },
  "language_info": {
   "codemirror_mode": {
    "name": "ipython",
    "version": 3
   },
   "file_extension": ".py",
   "mimetype": "text/x-python",
   "name": "python",
   "nbconvert_exporter": "python",
   "pygments_lexer": "ipython3",
   "version": "3.9.1"
  }
 },
 "nbformat": 4,
 "nbformat_minor": 5
}
