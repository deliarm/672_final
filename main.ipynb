{
 "cells": [
  {
   "cell_type": "markdown",
   "id": "c7c94856-fdd6-42ff-962f-0a8ad874035c",
   "metadata": {},
   "source": [
    "### CPSC 672 Network Project"
   ]
  },
  {
   "cell_type": "code",
   "execution_count": 89,
   "id": "da7831d8-5d79-479b-b17d-aaadc83c5ecf",
   "metadata": {},
   "outputs": [],
   "source": [
    "import numpy as np\n",
    "import pandas as pd\n",
    "import networkx as nx\n",
    "import random\n",
    "from random import sample\n",
    "from datetime import datetime\n",
    "import matplotlib.pyplot as plt\n",
    "import matplotlib as mpl\n",
    "import ast\n",
    "import csv\n",
    "%matplotlib inline"
   ]
  },
  {
   "cell_type": "markdown",
   "id": "939b8e33-d8ae-43bf-b9ce-5ad8cda37714",
   "metadata": {},
   "source": [
    "### Data\n",
    "\n",
    "The following few cells read in our data from a excel spreadsheet and organize them into a few arrays:\n",
    "- stock_symbols contains all the actual stock names\n",
    "- dates contains all the column headings (which are dates) from Feb 2010 to Dec 2021"
   ]
  },
  {
   "cell_type": "code",
   "execution_count": 38,
   "id": "dd9784af-3c04-4221-8e8b-3ff1ce635bff",
   "metadata": {},
   "outputs": [],
   "source": [
    "df = pd.read_excel('data/all_data.xlsx', sheet_name='percentChange')"
   ]
  },
  {
   "cell_type": "code",
   "execution_count": 55,
   "id": "34deefe3-a627-47c2-b133-deb18bbd7295",
   "metadata": {},
   "outputs": [],
   "source": [
    "stock_symbols = []\n",
    "for stock in df['Stock']:\n",
    "    stock_symbols.append(stock)\n",
    "\n",
    "dates = df.columns.values\n",
    "dates = dates[2:]"
   ]
  },
  {
   "cell_type": "markdown",
   "id": "f546907a-6506-4d2a-be69-8dd73ace2373",
   "metadata": {},
   "source": [
    "### Calculating links\n",
    "\n",
    "To get the links between any two stocks we have to obtain the correlation with the following formula:\n",
    "\n",
    "                            corr(a,b) = min(a,b) / max(a,b)\n",
    "the getLinks() function does just that by comparing every stock, with every other stock, for any input date (column)"
   ]
  },
  {
   "cell_type": "code",
   "execution_count": 84,
   "id": "addf4e39-cee1-4794-973b-e90ef8770eff",
   "metadata": {},
   "outputs": [],
   "source": [
    "def getLinks(date):\n",
    "    links = []\n",
    "    elems = len(df[date])\n",
    "    for i in range(elems):\n",
    "        for j in range(i+1,elems):\n",
    "            correlation = min(df[date][i],df[date][j]) / max(df[date][i],df[date][j])\n",
    "            links.append((stock_symbols[i],stock_symbols[j],correlation))\n",
    "    return links"
   ]
  },
  {
   "cell_type": "code",
   "execution_count": 85,
   "id": "866b1018-6339-4bce-a262-80cb8a8c9d00",
   "metadata": {},
   "outputs": [
    {
     "name": "stdout",
     "output_type": "stream",
     "text": [
      "2935\n"
     ]
    },
    {
     "name": "stderr",
     "output_type": "stream",
     "text": [
      "/var/folders/3t/dt8n7hw17cg52mnvdkmzy3g40000gn/T/ipykernel_82054/301231491.py:7: RuntimeWarning: divide by zero encountered in double_scalars\n",
      "  correlation = min(df[date][i],df[date][j]) / max(df[date][i],df[date][j])\n",
      "/var/folders/3t/dt8n7hw17cg52mnvdkmzy3g40000gn/T/ipykernel_82054/301231491.py:7: RuntimeWarning: invalid value encountered in double_scalars\n",
      "  correlation = min(df[date][i],df[date][j]) / max(df[date][i],df[date][j])\n"
     ]
    }
   ],
   "source": [
    "test = getLinks(dates[0])\n",
    "print(test[0:100])"
   ]
  },
  {
   "cell_type": "markdown",
   "id": "e6e7b2e6-8318-4ae8-bf7b-c94cffe8043a",
   "metadata": {},
   "source": [
    "### Exporting\n",
    "At this point all the stock symbols are exported to a csv,\n",
    "similarly the links for a particular date are also exported to a csv."
   ]
  },
  {
   "cell_type": "code",
   "execution_count": 112,
   "id": "de33eed6-08d2-416d-bc90-8079348b8319",
   "metadata": {},
   "outputs": [],
   "source": [
    "with open('data/stocks.csv','w', newline='') as file:\n",
    "    writer = csv.writer(file)\n",
    "    writer.writerow([\"ID\tlabel\"])\n",
    "    for stock in stock_symbols:\n",
    "        writer.writerow([str(stock_symbols.index(stock))+\"\\t\"+stock])"
   ]
  },
  {
   "cell_type": "code",
   "execution_count": 115,
   "id": "388c63c2-3e32-402c-8789-3fa7765d1131",
   "metadata": {},
   "outputs": [],
   "source": [
    "with open('data/links.csv', 'w', newline='') as file:\n",
    "    writer = csv.writer(file)\n",
    "    writer.writerow([\"Source\tTarget\tWeight\"])\n",
    "    for link in test:\n",
    "        if(link[2] > 0.80 and link[2] <= 1):\n",
    "            writer.writerow([str(stock_symbols.index(link[0]))+\"\\t\"+str(stock_symbols.index(link[1]))+\"\\t\"+str(link[2])])"
   ]
  },
  {
   "cell_type": "code",
   "execution_count": null,
   "id": "92d179e6-6031-4bec-9270-25a566cb3e9f",
   "metadata": {},
   "outputs": [],
   "source": []
  }
 ],
 "metadata": {
  "kernelspec": {
   "display_name": "Python 3 (ipykernel)",
   "language": "python",
   "name": "python3"
  },
  "language_info": {
   "codemirror_mode": {
    "name": "ipython",
    "version": 3
   },
   "file_extension": ".py",
   "mimetype": "text/x-python",
   "name": "python",
   "nbconvert_exporter": "python",
   "pygments_lexer": "ipython3",
   "version": "3.10.5"
  }
 },
 "nbformat": 4,
 "nbformat_minor": 5
}
