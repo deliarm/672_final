{
 "cells": [
  {
   "cell_type": "markdown",
   "id": "c7c94856-fdd6-42ff-962f-0a8ad874035c",
   "metadata": {},
   "source": [
    "### CPSC 672 Network Project"
   ]
  },
  {
   "cell_type": "code",
   "execution_count": 1,
   "id": "da7831d8-5d79-479b-b17d-aaadc83c5ecf",
   "metadata": {},
   "outputs": [],
   "source": [
    "import numpy as np\n",
    "import pandas as pd\n",
    "import networkx as nx\n",
    "import random\n",
    "from random import sample\n",
    "from datetime import datetime\n",
    "import matplotlib.pyplot as plt\n",
    "import matplotlib as mpl\n",
    "import ast\n",
    "import csv\n",
    "%matplotlib inline"
   ]
  },
  {
   "cell_type": "markdown",
   "id": "939b8e33-d8ae-43bf-b9ce-5ad8cda37714",
   "metadata": {},
   "source": [
    "### Data\n",
    "\n",
    "The following few cells read in our data from a excel spreadsheet and organize them into a few arrays:\n",
    "- stock_symbols contains all the actual stock names\n",
    "- dates contains all the column headings (which are dates) from Feb 2010 to Dec 2021"
   ]
  },
  {
   "cell_type": "code",
   "execution_count": 2,
   "id": "dd9784af-3c04-4221-8e8b-3ff1ce635bff",
   "metadata": {},
   "outputs": [],
   "source": [
    "df = pd.read_excel('data/all_data.xlsx', sheet_name='percentChange')"
   ]
  },
  {
   "cell_type": "code",
   "execution_count": 3,
   "id": "34deefe3-a627-47c2-b133-deb18bbd7295",
   "metadata": {},
   "outputs": [],
   "source": [
    "stock_symbols = []\n",
    "for stock in df['Stock']:\n",
    "    stock_symbols.append(stock)\n",
    "\n",
    "dates = df.columns.values\n",
    "dates = dates[2:]"
   ]
  },
  {
   "cell_type": "markdown",
   "id": "f546907a-6506-4d2a-be69-8dd73ace2373",
   "metadata": {},
   "source": [
    "### Calculating links\n",
    "\n",
    "To get the links between any two stocks we have to obtain the correlation with the following formula:\n",
    "\n",
    "                            corr(a,b) = min(a,b) / max(a,b)\n",
    "the getLinks() function does just that by comparing every stock, with every other stock, for any input date (column)"
   ]
  },
  {
   "cell_type": "code",
   "execution_count": 6,
   "id": "addf4e39-cee1-4794-973b-e90ef8770eff",
   "metadata": {},
   "outputs": [],
   "source": [
    "def getLinks(date):\n",
    "    links = []\n",
    "    elems = len(df[date])\n",
    "    for i in range(elems):\n",
    "        for j in range(i+1,elems):\n",
    "            correlation = min(abs(df[date][i]),abs(df[date][j])) / max(abs(df[date][i]),abs(df[date][j]))\n",
    "            links.append((stock_symbols[i],stock_symbols[j],correlation))\n",
    "    return links"
   ]
  },
  {
   "cell_type": "code",
   "execution_count": 7,
   "id": "866b1018-6339-4bce-a262-80cb8a8c9d00",
   "metadata": {},
   "outputs": [
    {
     "name": "stderr",
     "output_type": "stream",
     "text": [
      "/var/folders/3t/dt8n7hw17cg52mnvdkmzy3g40000gn/T/ipykernel_92813/409183491.py:6: RuntimeWarning: invalid value encountered in double_scalars\n",
      "  correlation = min(abs(df[date][i]),abs(df[date][j])) / max(abs(df[date][i]),abs(df[date][j]))\n"
     ]
    },
    {
     "name": "stdout",
     "output_type": "stream",
     "text": [
      "[('AA', 'AACG', 0.16791033158814497), ('AA', 'AAIC', 0.22314164484340382), ('AA', 'AAL', 0.11770347274617851), ('AA', 'AAME', 0.6426857304598126), ('AA', 'AAON', 0.48810090722509364), ('AA', 'AAP', 0.7642582545378946), ('AA', 'AAPL', 0.6846894458558584), ('AA', 'AATC', 0.1353535037171861), ('AA', 'AAU', 0.5565028387219726), ('AA', 'AAWW', 0.19523641705922312), ('AA', 'AB', 0.8797991624915225), ('AA', 'ABB', 0.36202377724819096), ('AA', 'ABC', 0.6390325884338439), ('AA', 'ABCB', 0.38258321799206124), ('AA', 'ABEO', 0.8805263490230542), ('AA', 'ABEV', 0.9070907018368913), ('AA', 'ABG', 0.8851265776324588), ('AA', 'ABIO', 0.3811132103595605), ('AA', 'ABM', 0.8203321052573571), ('AA', 'ABMD', 0.16192998621115146), ('AA', 'ABR', 0.3198292169604546), ('AA', 'ABST', 0.31678481473975956), ('AA', 'ABT', 0.565295253800409), ('AA', 'ABUS', 0.5955554375610249), ('AA', 'ABVC', 0.3134325792252635), ('AA', 'ACAD', 0.9328360057137889), ('AA', 'ACC', 0.580280111223393), ('AA', 'ACCO', 0.650520802474075), ('AA', 'ACER', 0.352631855403777), ('AA', 'ACGL', 0.76172002814655), ('AA', 'ACH', 0.63912368417146), ('AA', 'ACHC', 0.3661201374888121), ('AA', 'ACHV', 0.25583755439211286), ('AA', 'ACIW', 0.321464412199464), ('AA', 'ACLS', 0.44776092826488056), ('AA', 'ACM', 0.10765144557815817), ('AA', 'ACN', 0.5557459494367738), ('AA', 'ACNB', 0.9905925152123627), ('AA', 'ACOR', 0.5694705498696221), ('AA', 'ACR', 0.2251597749286021), ('AA', 'ACTG', 0.42278061238596126), ('AA', 'ACU', 0.45805374907124397), ('AA', 'ADBE', 0.6154323940141087), ('AA', 'ADC', 0.35512703149370417), ('AA', 'ADES', 0.7635326171521564), ('AA', 'ADI', 0.5294573969071488), ('AA', 'ADM', 0.45456506028293514), ('AA', 'ADMP', 0.31343244923690033), ('AA', 'ADP', 0.44896834022242055), ('AA', 'ADSK', 0.26044586289988275), ('AA', 'ADTN', 0.4354374992444738), ('AA', 'ADUS', 0.42926655896709615), ('AA', 'ADX', 0.5049684708970892), ('AA', 'AE', 0.3084139087141071), ('AA', 'AEE', 0.7342472891017481), ('AA', 'AEF', 0.5061377765296164), ('AA', 'AEG', 0.6975640809099956), ('AA', 'AEHL', 0.3134326001585801), ('AA', 'AEHR', 0.11163354730540001), ('AA', 'AEIS', 0.419615714830233), ('AA', 'AEL', 0.22510716959301935), ('AA', 'AEM', 0.3288121279066779), ('AA', 'AEMD', 0.7835815003964501), ('AA', 'AEO', 0.7260118924264288), ('AA', 'AEP', 0.6638790095224557), ('AA', 'AER', 0.5155139896651604), ('AA', 'AES', 0.6016187754520972), ('AA', 'AEY', 0.41167425117709505), ('AA', 'AEZS', 0.525490591181673), ('AA', 'AFB', 0.14388010349021518), ('AA', 'AFG', 0.9541871114527679), ('AA', 'AFL', 0.4703701684896861), ('AA', 'AG', 0.5671956377141247), ('AA', 'AGCO', 0.4143798626513242), ('AA', 'AGD', 0.28180855750529005), ('AA', 'AGEN', 0.5955554375610285), ('AA', 'AGI', 0.3339548404032099), ('AA', 'AGM', 0.28687055505149567), ('AA', 'AGNC', 0.8723160724852218), ('AA', 'AGO', 0.6504015646124863), ('AA', 'AGX', 0.45742464275734757), ('AA', 'AGYS', 0.1492535850494861), ('AA', 'AHPI', 0.20729670791009094), ('AA', 'AHT', 0.8899442300442475), ('AA', 'AIG', 0.4977313183350331), ('AA', 'AIKI', 0.48134292174764304), ('AA', 'AIM', 0.6767680040303939), ('AA', 'AIMC', 0.9310051637537216), ('AA', 'AIN', 0.6400202745994654), ('AA', 'AINV', 0.33911302302232693), ('AA', 'AIR', 0.47230627479082116), ('AA', 'AIRI', 0.0), ('AA', 'AIRT', 0.9161196121764824), ('AA', 'AIT', 0.758106293066636), ('AA', 'AIV', 0.5171134426567049), ('AA', 'AIZ', 0.6466224964522989), ('AA', 'AJG', 0.8556783412158193), ('AA', 'AJRD', 0.19589541263844623), ('AA', 'AKAM', 0.6912315015025801), ('AA', 'AKR', 0.8916046827570573)]\n"
     ]
    }
   ],
   "source": [
    "test = getLinks(dates[0])\n",
    "print(test[0:100])"
   ]
  },
  {
   "cell_type": "markdown",
   "id": "e6e7b2e6-8318-4ae8-bf7b-c94cffe8043a",
   "metadata": {},
   "source": [
    "### Exporting\n",
    "At this point all the stock symbols are exported to a csv,\n",
    "similarly the links for a particular date are also exported to a csv."
   ]
  },
  {
   "cell_type": "code",
   "execution_count": 112,
   "id": "de33eed6-08d2-416d-bc90-8079348b8319",
   "metadata": {},
   "outputs": [],
   "source": [
    "with open('data/stocks.csv','w', newline='') as file:\n",
    "    writer = csv.writer(file)\n",
    "    writer.writerow([\"ID\tlabel\"])\n",
    "    for stock in stock_symbols:\n",
    "        writer.writerow([str(stock_symbols.index(stock))+\"\\t\"+stock])"
   ]
  },
  {
   "cell_type": "code",
   "execution_count": 115,
   "id": "388c63c2-3e32-402c-8789-3fa7765d1131",
   "metadata": {},
   "outputs": [],
   "source": [
    "with open('data/links.csv', 'w', newline='') as file:\n",
    "    writer = csv.writer(file)\n",
    "    writer.writerow([\"Source\tTarget\tWeight\"])\n",
    "    for link in test:\n",
    "        if(link[2] > 0.80 and link[2] <= 1):\n",
    "            writer.writerow([str(stock_symbols.index(link[0]))+\"\\t\"+str(stock_symbols.index(link[1]))+\"\\t\"+str(link[2])])"
   ]
  },
  {
   "cell_type": "code",
   "execution_count": null,
   "id": "92d179e6-6031-4bec-9270-25a566cb3e9f",
   "metadata": {},
   "outputs": [],
   "source": []
  }
 ],
 "metadata": {
  "kernelspec": {
   "display_name": "Python 3 (ipykernel)",
   "language": "python",
   "name": "python3"
  },
  "language_info": {
   "codemirror_mode": {
    "name": "ipython",
    "version": 3
   },
   "file_extension": ".py",
   "mimetype": "text/x-python",
   "name": "python",
   "nbconvert_exporter": "python",
   "pygments_lexer": "ipython3",
   "version": "3.10.5"
  }
 },
 "nbformat": 4,
 "nbformat_minor": 5
}
