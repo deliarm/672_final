{
 "cells": [
  {
   "cell_type": "code",
   "execution_count": null,
   "metadata": {
    "collapsed": true
   },
   "outputs": [],
   "source": [
    "import pandas as pd\n",
    "import networkx as nx\n",
    "%matplotlib inline"
   ]
  },
  {
   "cell_type": "code",
   "execution_count": 8,
   "outputs": [],
   "source": [
    "class GraphFromFile():\n",
    "    def __init__(self):\n",
    "        return\n",
    "    def GraphFromFileTotalAbsWeights(self):\n",
    "        df_link=pd.read_csv(\"data/Filtered/links_total.csv\",delimiter=\"\\t\")\n",
    "        G = nx.Graph()\n",
    "        for index,row in df_link.iterrows():\n",
    "            G.add_edge(row['Source'],row['Target'] , weight=abs(row['Weight']))\n",
    "        return G"
   ],
   "metadata": {
    "collapsed": false
   }
  },
  {
   "cell_type": "code",
   "execution_count": 9,
   "outputs": [],
   "source": [
    "    def GraphFromFileYearlyAbsWeights(year):\n",
    "        df_link=pd.read_csv(\"data/Filtered/links_\"+str(year)+\".csv\",delimiter=\"\\t\")\n",
    "        G = nx.Graph()\n",
    "        for index,row in df_link.iterrows():\n",
    "            G.add_edge(row['Source'],row['Target'] , weight=abs(row['Weight']))\n",
    "        return G\n"
   ],
   "metadata": {
    "collapsed": false
   }
  },
  {
   "cell_type": "code",
   "execution_count": 10,
   "outputs": [],
   "source": [
    "    def GraphFromFileTotalWeights(self):\n",
    "            df_link=pd.read_csv(\"data/Filtered/links_total.csv\",delimiter=\"\\t\")\n",
    "            G = nx.Graph()\n",
    "            for index,row in df_link.iterrows():\n",
    "                G.add_edge(row['Source'],row['Target'] , weight=(row['Weight']))\n",
    "            return G"
   ],
   "metadata": {
    "collapsed": false
   }
  },
  {
   "cell_type": "code",
   "execution_count": 11,
   "outputs": [],
   "source": [
    "    def GraphFromFileYearlyWeights(year):\n",
    "        df_link=pd.read_csv(\"data/Filtered/links_\"+str(year)+\".csv\",delimiter=\"\\t\")\n",
    "        G = nx.Graph()\n",
    "        for index,row in df_link.iterrows():\n",
    "            G.add_edge(row['Source'],row['Target'] , weight=(row['Weight']))\n",
    "        return G"
   ],
   "metadata": {
    "collapsed": false
   }
  },
  {
   "cell_type": "code",
   "execution_count": 12,
   "outputs": [],
   "source": [
    "    def GraphFromFileTotalInversedAbsWeights(self):\n",
    "            df_link=pd.read_csv(\"data/Filtered/links_total.csv\",delimiter=\"\\t\")\n",
    "            G = nx.Graph()\n",
    "            for index,row in df_link.iterrows():\n",
    "                G.add_edge(row['Source'],row['Target'] , weight=abs(1/row['Weight']))\n",
    "            return G"
   ],
   "metadata": {
    "collapsed": false
   }
  },
  {
   "cell_type": "code",
   "execution_count": 13,
   "outputs": [],
   "source": [
    "    def GraphFromFileYearlyInversedAbsWeights(year):\n",
    "        df_link=pd.read_csv(\"data/Filtered/links_\"+str(year)+\".csv\",delimiter=\"\\t\")\n",
    "        G = nx.Graph()\n",
    "        for index,row in df_link.iterrows():\n",
    "            G.add_edge(row['Source'],row['Target'] , weight=abs(1/row['Weight']))\n",
    "        return G"
   ],
   "metadata": {
    "collapsed": false
   }
  },
  {
   "cell_type": "code",
   "execution_count": null,
   "outputs": [],
   "source": [],
   "metadata": {
    "collapsed": false
   }
  }
 ],
 "metadata": {
  "kernelspec": {
   "display_name": "Python 3",
   "language": "python",
   "name": "python3"
  },
  "language_info": {
   "codemirror_mode": {
    "name": "ipython",
    "version": 2
   },
   "file_extension": ".py",
   "mimetype": "text/x-python",
   "name": "python",
   "nbconvert_exporter": "python",
   "pygments_lexer": "ipython2",
   "version": "2.7.6"
  }
 },
 "nbformat": 4,
 "nbformat_minor": 0
}
