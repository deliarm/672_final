{
 "cells": [
  {
   "cell_type": "code",
   "execution_count": 56,
   "id": "23c42351-b286-4f77-9c63-799bbf671b70",
   "metadata": {},
   "outputs": [],
   "source": [
    "import numpy as np\n",
    "import pandas as pd\n",
    "import networkx as nx\n",
    "import random\n",
    "from random import sample\n",
    "from datetime import datetime\n",
    "import matplotlib.pyplot as plt\n",
    "import matplotlib as mpl\n",
    "import ast\n",
    "from scipy import spatial\n",
    "import csv\n",
    "from tqdm.notebook import tqdm\n",
    "import re\n",
    "%matplotlib inline"
   ]
  },
  {
   "cell_type": "code",
   "execution_count": 2,
   "id": "4786a116-22db-4cc1-b81b-38bc98dc4e6b",
   "metadata": {},
   "outputs": [],
   "source": [
    "df_total = pd.read_excel('data/all_data.xlsx', sheet_name='percentChange',engine='openpyxl')\n",
    "stocks = pd.read_csv('data/stocks.csv',)\n",
    "links_total = pd.read_csv('data/links_total.csv',)"
   ]
  },
  {
   "cell_type": "code",
   "execution_count": 3,
   "id": "d2f0b197-1c7d-4f07-a59d-74b1ab25d897",
   "metadata": {},
   "outputs": [],
   "source": [
    "all_sectors = {}\n",
    "for sect in df_total['Sector']:\n",
    "    if(sect in all_sectors):\n",
    "        all_sectors[sect]+=1\n",
    "    else:\n",
    "        all_sectors[sect]=1\n",
    "sorted_sectors = sorted(all_sectors.items(),key=lambda x:x[1],reverse=True)"
   ]
  },
  {
   "cell_type": "markdown",
   "id": "27e66826-bd5c-4d58-9402-c202061c6092",
   "metadata": {},
   "source": [
    "### Identifying Popular Sectors\n",
    "The snippet below prints all the sectors from our raw data, these include banking, software, pharmaceuticals and many more.\n",
    "With these sectors now identified, we can begin exploring the relationship between them, and see how stocks within the same sectors relate to eachother."
   ]
  },
  {
   "cell_type": "code",
   "execution_count": null,
   "id": "2a9121e2-3b9e-451b-b4a3-3f7582f5c044",
   "metadata": {},
   "outputs": [],
   "source": [
    "for sector in sorted_sectors:\n",
    "    print(sector)"
   ]
  },
  {
   "cell_type": "code",
   "execution_count": 116,
   "id": "f440bcb7-6243-475c-8a2d-af2a7641acdb",
   "metadata": {},
   "outputs": [],
   "source": [
    "top_sectors = [\n",
    "'Banks',\n",
    "'Biotechnology',\n",
    "'Oil, Gas & Consumable Fuels',\n",
    "'Equity Real Estate Investment Trusts ',\n",
    "'Metals & Mining',\n",
    "'Machinery',\n",
    "'Electronic Equipment, Instruments & C',\n",
    "'Capital Markets',\n",
    "'Health Care Equipment & Supplies',\n",
    "'Insurance',\n",
    "'Semiconductors & Semiconductor Equipment',\n",
    "'Software',\n",
    "'Specialty Retail',\n",
    "'IT Services',\n",
    "'Commercial Services & Supplies',\n",
    "'Pharmaceuticals',\n",
    "'Chemicals',\n",
    "'Hotels, Restaurants & Leisure',\n",
    "'Thrifts & Mortgage Finance',\n",
    "'Communications Equipment',\n",
    "'Health Care Providers & Services',\n",
    "'Food Products',\n",
    "'Media',\n",
    "'Aerospace & Defense',\n",
    "'Household Durables',\n",
    "'Professional Services',\n",
    "'Energy Equipment & Services',\n",
    "'Blank Check / SPAC',\n",
    "'Electrical Equipment',\n",
    "'Textiles, Apparel & Luxury Goods',\n",
    "'Electric Utilities',\n",
    "'Trading Companies & Distributors',\n",
    "'Real Estate Management & Development',\n",
    "'Building Products',\n",
    "'Entertainment',\n",
    "'Technology Hardware, Storage & Periph',\n",
    "'Construction & Engineering',\n",
    "'Road & Rail',\n",
    "'Consumer Finance',\n",
    "'Beverages',\n",
    "'Auto Components',\n",
    "'Diversified Telecommunication Services',\n",
    "'Life Sciences Tools & Services',\n",
    "'Multi-Utilities',\n",
    "'Internet & Direct Marketing Retail',\n",
    "'Personal Products',\n",
    "'Diversified Consumer Services',\n",
    "'Mortgage Real Estate Investment Trust',\n",
    "'Shell Companies',\n",
    "'Marine',\n",
    "'Airlines',\n",
    "'Food & Staples Retailing',\n",
    "'Wireless Telecommunication Services',\n",
    "'Containers & Packaging',\n",
    "'Software-Application',\n",
    "'Water Utilities',\n",
    "'Gas Utilities',\n",
    "'Air Freight & Logistics',\n",
    "'Leisure Products',\n",
    "'Health Care Technology',\n",
    "'Interactive Media & Services',\n",
    "'Household Products',\n",
    "'Automobiles',\n",
    "'Construction Materials',\n",
    "'Multiline Retail',\n",
    "'Independent Power and Renewable Elect',\n",
    "'Paper & Forest Products',\n",
    "'Diversified Financial Services',\n",
    "'Industrial Conglomerates',\n",
    "'Distributors',\n",
    "'Medical Instruments & Supplies',\n",
    "'Tobacco',\n",
    "'Information Technology Services',\n",
    "'Medical Devices',\n",
    "'Drug Manufacturers-Specialty & Generic',\n",
    "'Asset Management',\n",
    "'Specialty Industrial Machinery',\n",
    "'Telecom Services',\n",
    "'Furnishings, Fixtures & Appliances',\n",
    "'Banks-Regional',\n",
    "'Transportation Infrastructure',\n",
    "'Health Information Services',\n",
    "'Electrical Equipment & Parts',\n",
    "'Other Industrial Metals & Mining',\n",
    "'Scientific & Technical Instruments',\n",
    "'Gold',\n",
    "'Security & Protection Services',\n",
    "'Auto Parts',\n",
    "'Gambling',\n",
    "'Communication Equipment',\n",
    "'Software-Infrastructure',\n",
    "'Health Care',\n",
    "'Medical Care Facilities',\n",
    "'Computer Hardware',\n",
    "'Building Products & Equipment',\n",
    "'Auto Manufacturers',\n",
    "'Electronic Components',\n",
    "'Agricultural Inputs',\n",
    "'Internet Content & Information',\n",
    "'Securities and Commodity Exchanges',\n",
    "'Farm Products',\n",
    "'Utilities-Renewable',\n",
    "'Industrial Distribution',\n",
    "'Electronic Gaming & Multimedia',\n",
    "'Education & Training Services',\n",
    "'Pharmaceutical Retailers',\n",
    "'Oil & Gas Drilling',\n",
    "'Banks-Diversified',\n",
    "'Internet Retail',\n",
    "'Rental & Leasing Services',\n",
    "'Staffing & Employment Services',\n",
    "'Auto & Truck Dealerships',\n",
    "'Electromedical and Electrotherapeutic',\n",
    "'REIT-Mortgage',\n",
    "'Petroleum Refineries',\n",
    "'Advertising Agencies',\n",
    "'Diagnostics & Research',\n",
    "'Specialty Business Services',\n",
    "'Uranium',\n",
    "'Engineering & Construction',\n",
    "'Packaged Foods',\n",
    "'REIT-Residential',\n",
    "'Beverages-Wineries & Distilleries',\n",
    "'Semiconductors',\n",
    "]"
   ]
  },
  {
   "cell_type": "markdown",
   "id": "622220dd-1577-4478-9a99-be63e31259a5",
   "metadata": {},
   "source": [
    "### Getting Stocks by sector\n",
    "After we have obtained the top sectors, the snippet of code below goes through the data and finds all the stocks corresponding to our top sectors"
   ]
  },
  {
   "cell_type": "code",
   "execution_count": 24,
   "id": "46264091-92e5-49ce-b68a-2176451563f1",
   "metadata": {},
   "outputs": [],
   "source": [
    "stocks_by_sector = []\n",
    "for sector in top_sectors:\n",
    "    stocks = df_total.loc[df_total['Sector'] == sector]\n",
    "    value = (sector,stocks)\n",
    "    stocks_by_sector.append(value)"
   ]
  },
  {
   "cell_type": "markdown",
   "id": "33e7f029-4bf4-40e7-a9c5-b0a44c93d43d",
   "metadata": {},
   "source": [
    "### Calculating Average Intra-Sector Correlation\n",
    "The following code blocks calculate the average weight of a link between all the stocks in a given sector. For example, in the Bank sector, the functions will go and obtain the links from one bank stock to every other bank stock, and add them to the total. Then this total will be divided by the number of links, to obtain the average weight. This is in hopes of answering our third and fourth research questions."
   ]
  },
  {
   "cell_type": "code",
   "execution_count": 106,
   "id": "f6c915a7-8018-4f89-88de-ba415bfd0bcc",
   "metadata": {},
   "outputs": [],
   "source": [
    "def calculateIntraSectorWeight(sector):\n",
    "    max_corr = (0,\"stock\",\"stock\")\n",
    "    min_corr = (0,\"stock\",\"stock\")\n",
    "    sum_of_links = 0\n",
    "    link_count = 0\n",
    "    sector_index = top_sectors.index(sector)\n",
    "    df = stocks_by_sector[sector_index][1]\n",
    "    num_of_stocks = df.shape[0]\n",
    "    for i in tqdm(range(num_of_stocks)):\n",
    "        first_stock = df.iloc[i,2:]\n",
    "        for j in range(i+1,num_of_stocks):\n",
    "            second_stock = df.iloc[j,2:]\n",
    "            result = 1-spatial.distance.cosine(first_stock,second_stock)\n",
    "            if(result>max_corr[0]):\n",
    "                max_corr = (result,df.iloc[i,0],df.iloc[j,0])\n",
    "            if(result<min_corr[0]):\n",
    "                min_corr = (result,df.iloc[i,0],df.iloc[j,0])\n",
    "            sum_of_links += result\n",
    "            link_count += 1\n",
    "    if(link_count < 1):\n",
    "        return 0,1,\"N/A\",\"N/A\"\n",
    "    average_link = sum_of_links / link_count\n",
    "    return average_link,num_of_stocks,max_corr,min_corr"
   ]
  },
  {
   "cell_type": "code",
   "execution_count": 107,
   "id": "f272f270-63e0-4c18-bb07-38da6814994c",
   "metadata": {},
   "outputs": [],
   "source": [
    "def getAllIntraSectorCorrelations(df):\n",
    "    for count,sector in enumerate(top_sectors):\n",
    "        avg,num_stocks,max_corr, min_corr = calculateIntraSectorWeight(sector)\n",
    "        df.loc[count] = [(str(sector)+\"(\"+str(num_stocks)+\")\"),\n",
    "                         avg,\n",
    "                         (max_corr[0],max_corr[1],max_corr[2]),\n",
    "                         (min_corr[0],min_corr[1],min_corr[2])]"
   ]
  },
  {
   "cell_type": "code",
   "execution_count": 108,
   "id": "b0f5c4ef-417b-46d0-b660-c0da7307944a",
   "metadata": {},
   "outputs": [
    {
     "data": {
      "application/vnd.jupyter.widget-view+json": {
       "model_id": "240473544b1c49909aa87b119b2763cb",
       "version_major": 2,
       "version_minor": 0
      },
      "text/plain": [
       "  0%|          | 0/271 [00:00<?, ?it/s]"
      ]
     },
     "metadata": {},
     "output_type": "display_data"
    },
    {
     "data": {
      "application/vnd.jupyter.widget-view+json": {
       "model_id": "20e37439aad8482799570650326c58b7",
       "version_major": 2,
       "version_minor": 0
      },
      "text/plain": [
       "  0%|          | 0/163 [00:00<?, ?it/s]"
      ]
     },
     "metadata": {},
     "output_type": "display_data"
    },
    {
     "data": {
      "application/vnd.jupyter.widget-view+json": {
       "model_id": "37fc596672b64e5c8b6ae5b9f3be0d1b",
       "version_major": 2,
       "version_minor": 0
      },
      "text/plain": [
       "  0%|          | 0/128 [00:00<?, ?it/s]"
      ]
     },
     "metadata": {},
     "output_type": "display_data"
    },
    {
     "data": {
      "application/vnd.jupyter.widget-view+json": {
       "model_id": "65ea928e370c48fc99cbf46b622f1f90",
       "version_major": 2,
       "version_minor": 0
      },
      "text/plain": [
       "0it [00:00, ?it/s]"
      ]
     },
     "metadata": {},
     "output_type": "display_data"
    },
    {
     "data": {
      "application/vnd.jupyter.widget-view+json": {
       "model_id": "f32fdf286ff34736ab1d8eecc7dcbd88",
       "version_major": 2,
       "version_minor": 0
      },
      "text/plain": [
       "  0%|          | 0/95 [00:00<?, ?it/s]"
      ]
     },
     "metadata": {},
     "output_type": "display_data"
    },
    {
     "data": {
      "application/vnd.jupyter.widget-view+json": {
       "model_id": "a60059957a5c4d22aebeb5a60461e612",
       "version_major": 2,
       "version_minor": 0
      },
      "text/plain": [
       "  0%|          | 0/93 [00:00<?, ?it/s]"
      ]
     },
     "metadata": {},
     "output_type": "display_data"
    },
    {
     "data": {
      "application/vnd.jupyter.widget-view+json": {
       "model_id": "28b0a10bf1304fd9a7e182eddab87700",
       "version_major": 2,
       "version_minor": 0
      },
      "text/plain": [
       "0it [00:00, ?it/s]"
      ]
     },
     "metadata": {},
     "output_type": "display_data"
    },
    {
     "data": {
      "application/vnd.jupyter.widget-view+json": {
       "model_id": "c6adef031de54418bfcd95c61c5a4cd3",
       "version_major": 2,
       "version_minor": 0
      },
      "text/plain": [
       "  0%|          | 0/87 [00:00<?, ?it/s]"
      ]
     },
     "metadata": {},
     "output_type": "display_data"
    },
    {
     "data": {
      "application/vnd.jupyter.widget-view+json": {
       "model_id": "3f41057652a148eb9ed6567d5d229c6b",
       "version_major": 2,
       "version_minor": 0
      },
      "text/plain": [
       "  0%|          | 0/87 [00:00<?, ?it/s]"
      ]
     },
     "metadata": {},
     "output_type": "display_data"
    },
    {
     "data": {
      "application/vnd.jupyter.widget-view+json": {
       "model_id": "bcaa8daad4e74f6e9886e6b24e1033a8",
       "version_major": 2,
       "version_minor": 0
      },
      "text/plain": [
       "  0%|          | 0/80 [00:00<?, ?it/s]"
      ]
     },
     "metadata": {},
     "output_type": "display_data"
    },
    {
     "data": {
      "application/vnd.jupyter.widget-view+json": {
       "model_id": "6b08ff646e8e4fb4b0096a201731699c",
       "version_major": 2,
       "version_minor": 0
      },
      "text/plain": [
       "  0%|          | 0/75 [00:00<?, ?it/s]"
      ]
     },
     "metadata": {},
     "output_type": "display_data"
    },
    {
     "data": {
      "application/vnd.jupyter.widget-view+json": {
       "model_id": "9ec20c7e9441413583afc3a16f694269",
       "version_major": 2,
       "version_minor": 0
      },
      "text/plain": [
       "  0%|          | 0/70 [00:00<?, ?it/s]"
      ]
     },
     "metadata": {},
     "output_type": "display_data"
    },
    {
     "data": {
      "application/vnd.jupyter.widget-view+json": {
       "model_id": "05954d33fb7749eaaf65fd54fb1401eb",
       "version_major": 2,
       "version_minor": 0
      },
      "text/plain": [
       "  0%|          | 0/63 [00:00<?, ?it/s]"
      ]
     },
     "metadata": {},
     "output_type": "display_data"
    },
    {
     "data": {
      "application/vnd.jupyter.widget-view+json": {
       "model_id": "63df8a2357564e5aa7fce5aac5c50af7",
       "version_major": 2,
       "version_minor": 0
      },
      "text/plain": [
       "  0%|          | 0/58 [00:00<?, ?it/s]"
      ]
     },
     "metadata": {},
     "output_type": "display_data"
    },
    {
     "data": {
      "application/vnd.jupyter.widget-view+json": {
       "model_id": "f9a3ac4477ad40e5ac36336b75ecb261",
       "version_major": 2,
       "version_minor": 0
      },
      "text/plain": [
       "  0%|          | 0/57 [00:00<?, ?it/s]"
      ]
     },
     "metadata": {},
     "output_type": "display_data"
    },
    {
     "data": {
      "application/vnd.jupyter.widget-view+json": {
       "model_id": "e87cd6b357664fb58aafbbdadbbd007a",
       "version_major": 2,
       "version_minor": 0
      },
      "text/plain": [
       "  0%|          | 0/56 [00:00<?, ?it/s]"
      ]
     },
     "metadata": {},
     "output_type": "display_data"
    },
    {
     "data": {
      "application/vnd.jupyter.widget-view+json": {
       "model_id": "ee7ceb6432304f17a807fbd450fa93e3",
       "version_major": 2,
       "version_minor": 0
      },
      "text/plain": [
       "  0%|          | 0/55 [00:00<?, ?it/s]"
      ]
     },
     "metadata": {},
     "output_type": "display_data"
    },
    {
     "data": {
      "application/vnd.jupyter.widget-view+json": {
       "model_id": "673312b65bdf45789d79ee86dd610588",
       "version_major": 2,
       "version_minor": 0
      },
      "text/plain": [
       "  0%|          | 0/54 [00:00<?, ?it/s]"
      ]
     },
     "metadata": {},
     "output_type": "display_data"
    },
    {
     "data": {
      "application/vnd.jupyter.widget-view+json": {
       "model_id": "b85dabbb1695478fb12f8d0070710700",
       "version_major": 2,
       "version_minor": 0
      },
      "text/plain": [
       "  0%|          | 0/52 [00:00<?, ?it/s]"
      ]
     },
     "metadata": {},
     "output_type": "display_data"
    },
    {
     "data": {
      "application/vnd.jupyter.widget-view+json": {
       "model_id": "b68f05cbd8cf4282a01ce11d8dd20789",
       "version_major": 2,
       "version_minor": 0
      },
      "text/plain": [
       "  0%|          | 0/50 [00:00<?, ?it/s]"
      ]
     },
     "metadata": {},
     "output_type": "display_data"
    },
    {
     "data": {
      "application/vnd.jupyter.widget-view+json": {
       "model_id": "836d23402122473692d82cfddbdb8a45",
       "version_major": 2,
       "version_minor": 0
      },
      "text/plain": [
       "  0%|          | 0/48 [00:00<?, ?it/s]"
      ]
     },
     "metadata": {},
     "output_type": "display_data"
    },
    {
     "data": {
      "application/vnd.jupyter.widget-view+json": {
       "model_id": "e94697a673e2434e81c37e24b9ee70ce",
       "version_major": 2,
       "version_minor": 0
      },
      "text/plain": [
       "  0%|          | 0/47 [00:00<?, ?it/s]"
      ]
     },
     "metadata": {},
     "output_type": "display_data"
    },
    {
     "data": {
      "application/vnd.jupyter.widget-view+json": {
       "model_id": "6f9edb13cca24caa87aba3a70fb2f0f6",
       "version_major": 2,
       "version_minor": 0
      },
      "text/plain": [
       "  0%|          | 0/47 [00:00<?, ?it/s]"
      ]
     },
     "metadata": {},
     "output_type": "display_data"
    },
    {
     "data": {
      "application/vnd.jupyter.widget-view+json": {
       "model_id": "911236b136a2452db492969a12799905",
       "version_major": 2,
       "version_minor": 0
      },
      "text/plain": [
       "  0%|          | 0/43 [00:00<?, ?it/s]"
      ]
     },
     "metadata": {},
     "output_type": "display_data"
    },
    {
     "data": {
      "application/vnd.jupyter.widget-view+json": {
       "model_id": "6bb2164bb92f44b58f7348c6ddec8c3e",
       "version_major": 2,
       "version_minor": 0
      },
      "text/plain": [
       "  0%|          | 0/43 [00:00<?, ?it/s]"
      ]
     },
     "metadata": {},
     "output_type": "display_data"
    },
    {
     "data": {
      "application/vnd.jupyter.widget-view+json": {
       "model_id": "de89654207634b1fa09c0c5dd5f29320",
       "version_major": 2,
       "version_minor": 0
      },
      "text/plain": [
       "  0%|          | 0/38 [00:00<?, ?it/s]"
      ]
     },
     "metadata": {},
     "output_type": "display_data"
    },
    {
     "data": {
      "application/vnd.jupyter.widget-view+json": {
       "model_id": "c38778d090ba4c62a54b66fac8c4dd13",
       "version_major": 2,
       "version_minor": 0
      },
      "text/plain": [
       "  0%|          | 0/34 [00:00<?, ?it/s]"
      ]
     },
     "metadata": {},
     "output_type": "display_data"
    },
    {
     "data": {
      "application/vnd.jupyter.widget-view+json": {
       "model_id": "967cfaf14d824a3c86238de2806bb06e",
       "version_major": 2,
       "version_minor": 0
      },
      "text/plain": [
       "  0%|          | 0/32 [00:00<?, ?it/s]"
      ]
     },
     "metadata": {},
     "output_type": "display_data"
    },
    {
     "data": {
      "application/vnd.jupyter.widget-view+json": {
       "model_id": "6dabaca8846c4450b7a79e9387b17f1c",
       "version_major": 2,
       "version_minor": 0
      },
      "text/plain": [
       "  0%|          | 0/31 [00:00<?, ?it/s]"
      ]
     },
     "metadata": {},
     "output_type": "display_data"
    },
    {
     "data": {
      "application/vnd.jupyter.widget-view+json": {
       "model_id": "9308816bb27649acba0205485f26cc05",
       "version_major": 2,
       "version_minor": 0
      },
      "text/plain": [
       "  0%|          | 0/30 [00:00<?, ?it/s]"
      ]
     },
     "metadata": {},
     "output_type": "display_data"
    },
    {
     "data": {
      "application/vnd.jupyter.widget-view+json": {
       "model_id": "adf95b49db074a14a7b6668f6997f47f",
       "version_major": 2,
       "version_minor": 0
      },
      "text/plain": [
       "  0%|          | 0/29 [00:00<?, ?it/s]"
      ]
     },
     "metadata": {},
     "output_type": "display_data"
    },
    {
     "data": {
      "application/vnd.jupyter.widget-view+json": {
       "model_id": "75c0b973310241f4b5ea58e972835b8f",
       "version_major": 2,
       "version_minor": 0
      },
      "text/plain": [
       "  0%|          | 0/28 [00:00<?, ?it/s]"
      ]
     },
     "metadata": {},
     "output_type": "display_data"
    },
    {
     "data": {
      "application/vnd.jupyter.widget-view+json": {
       "model_id": "ece1261c48ca435e85957ee42a0e8d6d",
       "version_major": 2,
       "version_minor": 0
      },
      "text/plain": [
       "  0%|          | 0/28 [00:00<?, ?it/s]"
      ]
     },
     "metadata": {},
     "output_type": "display_data"
    },
    {
     "data": {
      "application/vnd.jupyter.widget-view+json": {
       "model_id": "db1fa8d80cca409bae48a3b809bdba19",
       "version_major": 2,
       "version_minor": 0
      },
      "text/plain": [
       "  0%|          | 0/27 [00:00<?, ?it/s]"
      ]
     },
     "metadata": {},
     "output_type": "display_data"
    },
    {
     "data": {
      "application/vnd.jupyter.widget-view+json": {
       "model_id": "66cd711794744d9fa3f91e2c0c3ff35b",
       "version_major": 2,
       "version_minor": 0
      },
      "text/plain": [
       "  0%|          | 0/26 [00:00<?, ?it/s]"
      ]
     },
     "metadata": {},
     "output_type": "display_data"
    },
    {
     "data": {
      "application/vnd.jupyter.widget-view+json": {
       "model_id": "be1c0908da4149afadb0013d36c13604",
       "version_major": 2,
       "version_minor": 0
      },
      "text/plain": [
       "0it [00:00, ?it/s]"
      ]
     },
     "metadata": {},
     "output_type": "display_data"
    },
    {
     "data": {
      "application/vnd.jupyter.widget-view+json": {
       "model_id": "b8fae1e1107f42a18ac25d27fb8491dd",
       "version_major": 2,
       "version_minor": 0
      },
      "text/plain": [
       "  0%|          | 0/23 [00:00<?, ?it/s]"
      ]
     },
     "metadata": {},
     "output_type": "display_data"
    },
    {
     "data": {
      "application/vnd.jupyter.widget-view+json": {
       "model_id": "9bf162fcf7c941fe8aaa137cb64f08ca",
       "version_major": 2,
       "version_minor": 0
      },
      "text/plain": [
       "  0%|          | 0/23 [00:00<?, ?it/s]"
      ]
     },
     "metadata": {},
     "output_type": "display_data"
    },
    {
     "data": {
      "application/vnd.jupyter.widget-view+json": {
       "model_id": "06bf66a8610b4859a49e79021e9a984e",
       "version_major": 2,
       "version_minor": 0
      },
      "text/plain": [
       "  0%|          | 0/23 [00:00<?, ?it/s]"
      ]
     },
     "metadata": {},
     "output_type": "display_data"
    },
    {
     "data": {
      "application/vnd.jupyter.widget-view+json": {
       "model_id": "ee54826b9433408e8f3aa96fd117f57f",
       "version_major": 2,
       "version_minor": 0
      },
      "text/plain": [
       "  0%|          | 0/22 [00:00<?, ?it/s]"
      ]
     },
     "metadata": {},
     "output_type": "display_data"
    },
    {
     "data": {
      "application/vnd.jupyter.widget-view+json": {
       "model_id": "2aa38d9daffb4009aaeb9b9e6e998f32",
       "version_major": 2,
       "version_minor": 0
      },
      "text/plain": [
       "  0%|          | 0/21 [00:00<?, ?it/s]"
      ]
     },
     "metadata": {},
     "output_type": "display_data"
    },
    {
     "data": {
      "application/vnd.jupyter.widget-view+json": {
       "model_id": "5ab7eb3c838744bfae37ddd5b34e9499",
       "version_major": 2,
       "version_minor": 0
      },
      "text/plain": [
       "  0%|          | 0/21 [00:00<?, ?it/s]"
      ]
     },
     "metadata": {},
     "output_type": "display_data"
    },
    {
     "data": {
      "application/vnd.jupyter.widget-view+json": {
       "model_id": "566c953001c34303b0582ed64f873bd7",
       "version_major": 2,
       "version_minor": 0
      },
      "text/plain": [
       "  0%|          | 0/20 [00:00<?, ?it/s]"
      ]
     },
     "metadata": {},
     "output_type": "display_data"
    },
    {
     "data": {
      "application/vnd.jupyter.widget-view+json": {
       "model_id": "91ccd7422cad42f6be51d320eac5d069",
       "version_major": 2,
       "version_minor": 0
      },
      "text/plain": [
       "  0%|          | 0/19 [00:00<?, ?it/s]"
      ]
     },
     "metadata": {},
     "output_type": "display_data"
    },
    {
     "data": {
      "application/vnd.jupyter.widget-view+json": {
       "model_id": "21dcf580cf234150b38aaf5b14620093",
       "version_major": 2,
       "version_minor": 0
      },
      "text/plain": [
       "  0%|          | 0/19 [00:00<?, ?it/s]"
      ]
     },
     "metadata": {},
     "output_type": "display_data"
    },
    {
     "data": {
      "application/vnd.jupyter.widget-view+json": {
       "model_id": "d0d158fdeb434972b96707f81501f687",
       "version_major": 2,
       "version_minor": 0
      },
      "text/plain": [
       "  0%|          | 0/19 [00:00<?, ?it/s]"
      ]
     },
     "metadata": {},
     "output_type": "display_data"
    },
    {
     "data": {
      "application/vnd.jupyter.widget-view+json": {
       "model_id": "db2a15074dbb4b59aa071973f85c7eb4",
       "version_major": 2,
       "version_minor": 0
      },
      "text/plain": [
       "  0%|          | 0/18 [00:00<?, ?it/s]"
      ]
     },
     "metadata": {},
     "output_type": "display_data"
    },
    {
     "data": {
      "application/vnd.jupyter.widget-view+json": {
       "model_id": "106bba7d10944be886d3d8c7bde82284",
       "version_major": 2,
       "version_minor": 0
      },
      "text/plain": [
       "0it [00:00, ?it/s]"
      ]
     },
     "metadata": {},
     "output_type": "display_data"
    },
    {
     "data": {
      "application/vnd.jupyter.widget-view+json": {
       "model_id": "c48946f6bdb0474295ae3c6e0465719f",
       "version_major": 2,
       "version_minor": 0
      },
      "text/plain": [
       "  0%|          | 0/18 [00:00<?, ?it/s]"
      ]
     },
     "metadata": {},
     "output_type": "display_data"
    },
    {
     "data": {
      "application/vnd.jupyter.widget-view+json": {
       "model_id": "3e3e9dd385964add9b0d4c00c33070f9",
       "version_major": 2,
       "version_minor": 0
      },
      "text/plain": [
       "  0%|          | 0/16 [00:00<?, ?it/s]"
      ]
     },
     "metadata": {},
     "output_type": "display_data"
    },
    {
     "data": {
      "application/vnd.jupyter.widget-view+json": {
       "model_id": "6f7c9d89772b4e4f865510ae18ac72bc",
       "version_major": 2,
       "version_minor": 0
      },
      "text/plain": [
       "  0%|          | 0/15 [00:00<?, ?it/s]"
      ]
     },
     "metadata": {},
     "output_type": "display_data"
    },
    {
     "data": {
      "application/vnd.jupyter.widget-view+json": {
       "model_id": "6996b3977c4843f1865c0cd5a0e7715b",
       "version_major": 2,
       "version_minor": 0
      },
      "text/plain": [
       "  0%|          | 0/15 [00:00<?, ?it/s]"
      ]
     },
     "metadata": {},
     "output_type": "display_data"
    },
    {
     "data": {
      "application/vnd.jupyter.widget-view+json": {
       "model_id": "6badf983e719414586ac7562e5264baa",
       "version_major": 2,
       "version_minor": 0
      },
      "text/plain": [
       "  0%|          | 0/14 [00:00<?, ?it/s]"
      ]
     },
     "metadata": {},
     "output_type": "display_data"
    },
    {
     "data": {
      "application/vnd.jupyter.widget-view+json": {
       "model_id": "559693846b4f4537be157c6584ac502b",
       "version_major": 2,
       "version_minor": 0
      },
      "text/plain": [
       "  0%|          | 0/14 [00:00<?, ?it/s]"
      ]
     },
     "metadata": {},
     "output_type": "display_data"
    },
    {
     "data": {
      "application/vnd.jupyter.widget-view+json": {
       "model_id": "dc1abc9590614eb2852d14d271ca5d7d",
       "version_major": 2,
       "version_minor": 0
      },
      "text/plain": [
       "  0%|          | 0/13 [00:00<?, ?it/s]"
      ]
     },
     "metadata": {},
     "output_type": "display_data"
    },
    {
     "data": {
      "application/vnd.jupyter.widget-view+json": {
       "model_id": "b041b22444bb466ca0cc6f1b1945b2f2",
       "version_major": 2,
       "version_minor": 0
      },
      "text/plain": [
       "  0%|          | 0/13 [00:00<?, ?it/s]"
      ]
     },
     "metadata": {},
     "output_type": "display_data"
    },
    {
     "data": {
      "application/vnd.jupyter.widget-view+json": {
       "model_id": "703c4f0a422c40be837a71f9f44aab70",
       "version_major": 2,
       "version_minor": 0
      },
      "text/plain": [
       "  0%|          | 0/13 [00:00<?, ?it/s]"
      ]
     },
     "metadata": {},
     "output_type": "display_data"
    },
    {
     "data": {
      "application/vnd.jupyter.widget-view+json": {
       "model_id": "115507bfa1f34c7b97a320724eef31b5",
       "version_major": 2,
       "version_minor": 0
      },
      "text/plain": [
       "  0%|          | 0/12 [00:00<?, ?it/s]"
      ]
     },
     "metadata": {},
     "output_type": "display_data"
    },
    {
     "data": {
      "application/vnd.jupyter.widget-view+json": {
       "model_id": "d7d11e78cbf74ad793bf944d8efba442",
       "version_major": 2,
       "version_minor": 0
      },
      "text/plain": [
       "  0%|          | 0/12 [00:00<?, ?it/s]"
      ]
     },
     "metadata": {},
     "output_type": "display_data"
    },
    {
     "data": {
      "application/vnd.jupyter.widget-view+json": {
       "model_id": "4a4a6057f20a49dda6476769a6c149fa",
       "version_major": 2,
       "version_minor": 0
      },
      "text/plain": [
       "  0%|          | 0/12 [00:00<?, ?it/s]"
      ]
     },
     "metadata": {},
     "output_type": "display_data"
    },
    {
     "data": {
      "application/vnd.jupyter.widget-view+json": {
       "model_id": "8e9b258ea4a542669f865c4d6fdeef1d",
       "version_major": 2,
       "version_minor": 0
      },
      "text/plain": [
       "  0%|          | 0/11 [00:00<?, ?it/s]"
      ]
     },
     "metadata": {},
     "output_type": "display_data"
    },
    {
     "data": {
      "application/vnd.jupyter.widget-view+json": {
       "model_id": "e1fb7907e0154bf0956b609143465ac4",
       "version_major": 2,
       "version_minor": 0
      },
      "text/plain": [
       "  0%|          | 0/10 [00:00<?, ?it/s]"
      ]
     },
     "metadata": {},
     "output_type": "display_data"
    },
    {
     "data": {
      "application/vnd.jupyter.widget-view+json": {
       "model_id": "176d286235844545a4ef8043da4ed390",
       "version_major": 2,
       "version_minor": 0
      },
      "text/plain": [
       "  0%|          | 0/9 [00:00<?, ?it/s]"
      ]
     },
     "metadata": {},
     "output_type": "display_data"
    },
    {
     "data": {
      "application/vnd.jupyter.widget-view+json": {
       "model_id": "5cfce0c6fc6a43a99a7c3b8f78923834",
       "version_major": 2,
       "version_minor": 0
      },
      "text/plain": [
       "  0%|          | 0/8 [00:00<?, ?it/s]"
      ]
     },
     "metadata": {},
     "output_type": "display_data"
    },
    {
     "data": {
      "application/vnd.jupyter.widget-view+json": {
       "model_id": "3bfde374d0ff4fc0b786c0bd037d1089",
       "version_major": 2,
       "version_minor": 0
      },
      "text/plain": [
       "  0%|          | 0/8 [00:00<?, ?it/s]"
      ]
     },
     "metadata": {},
     "output_type": "display_data"
    },
    {
     "data": {
      "application/vnd.jupyter.widget-view+json": {
       "model_id": "400ebff1c30140c192c7b4d7100d83b1",
       "version_major": 2,
       "version_minor": 0
      },
      "text/plain": [
       "0it [00:00, ?it/s]"
      ]
     },
     "metadata": {},
     "output_type": "display_data"
    },
    {
     "data": {
      "application/vnd.jupyter.widget-view+json": {
       "model_id": "9dc87ffc720340f4b05c1ccd73dc0852",
       "version_major": 2,
       "version_minor": 0
      },
      "text/plain": [
       "  0%|          | 0/7 [00:00<?, ?it/s]"
      ]
     },
     "metadata": {},
     "output_type": "display_data"
    },
    {
     "data": {
      "application/vnd.jupyter.widget-view+json": {
       "model_id": "7c44cee4a0744906a1507e0ce221f6ed",
       "version_major": 2,
       "version_minor": 0
      },
      "text/plain": [
       "  0%|          | 0/6 [00:00<?, ?it/s]"
      ]
     },
     "metadata": {},
     "output_type": "display_data"
    },
    {
     "data": {
      "application/vnd.jupyter.widget-view+json": {
       "model_id": "6fcc3a972bd3416cbd4c815bc0340733",
       "version_major": 2,
       "version_minor": 0
      },
      "text/plain": [
       "  0%|          | 0/6 [00:00<?, ?it/s]"
      ]
     },
     "metadata": {},
     "output_type": "display_data"
    },
    {
     "data": {
      "application/vnd.jupyter.widget-view+json": {
       "model_id": "8bdebea2a3544cd4bc1079773dcd2147",
       "version_major": 2,
       "version_minor": 0
      },
      "text/plain": [
       "  0%|          | 0/6 [00:00<?, ?it/s]"
      ]
     },
     "metadata": {},
     "output_type": "display_data"
    },
    {
     "data": {
      "application/vnd.jupyter.widget-view+json": {
       "model_id": "917c5c1a7a67470a9826aaf2715391dd",
       "version_major": 2,
       "version_minor": 0
      },
      "text/plain": [
       "  0%|          | 0/5 [00:00<?, ?it/s]"
      ]
     },
     "metadata": {},
     "output_type": "display_data"
    },
    {
     "data": {
      "application/vnd.jupyter.widget-view+json": {
       "model_id": "c4d53c89082d4fa5a6dac62800e34c95",
       "version_major": 2,
       "version_minor": 0
      },
      "text/plain": [
       "  0%|          | 0/5 [00:00<?, ?it/s]"
      ]
     },
     "metadata": {},
     "output_type": "display_data"
    },
    {
     "data": {
      "application/vnd.jupyter.widget-view+json": {
       "model_id": "bb9d36b3c4dd4500b729a30ae9a8bbab",
       "version_major": 2,
       "version_minor": 0
      },
      "text/plain": [
       "  0%|          | 0/5 [00:00<?, ?it/s]"
      ]
     },
     "metadata": {},
     "output_type": "display_data"
    },
    {
     "data": {
      "application/vnd.jupyter.widget-view+json": {
       "model_id": "80574cc1ce7e4f82b4abebd5bcefdd79",
       "version_major": 2,
       "version_minor": 0
      },
      "text/plain": [
       "  0%|          | 0/4 [00:00<?, ?it/s]"
      ]
     },
     "metadata": {},
     "output_type": "display_data"
    },
    {
     "data": {
      "application/vnd.jupyter.widget-view+json": {
       "model_id": "89d7ae5b161148eebd8a0ffb0cecdf55",
       "version_major": 2,
       "version_minor": 0
      },
      "text/plain": [
       "  0%|          | 0/4 [00:00<?, ?it/s]"
      ]
     },
     "metadata": {},
     "output_type": "display_data"
    },
    {
     "data": {
      "application/vnd.jupyter.widget-view+json": {
       "model_id": "42ff3d597df548fca7919bc5db40b2ce",
       "version_major": 2,
       "version_minor": 0
      },
      "text/plain": [
       "  0%|          | 0/4 [00:00<?, ?it/s]"
      ]
     },
     "metadata": {},
     "output_type": "display_data"
    },
    {
     "data": {
      "application/vnd.jupyter.widget-view+json": {
       "model_id": "b3ec33eae2e94546bc69e99f0832a3d6",
       "version_major": 2,
       "version_minor": 0
      },
      "text/plain": [
       "  0%|          | 0/4 [00:00<?, ?it/s]"
      ]
     },
     "metadata": {},
     "output_type": "display_data"
    },
    {
     "data": {
      "application/vnd.jupyter.widget-view+json": {
       "model_id": "9ea5a54deec04da49bb6c3c8d9096aa7",
       "version_major": 2,
       "version_minor": 0
      },
      "text/plain": [
       "  0%|          | 0/4 [00:00<?, ?it/s]"
      ]
     },
     "metadata": {},
     "output_type": "display_data"
    },
    {
     "data": {
      "application/vnd.jupyter.widget-view+json": {
       "model_id": "9f8ab1b06a494de98da3d7deedbfe165",
       "version_major": 2,
       "version_minor": 0
      },
      "text/plain": [
       "  0%|          | 0/4 [00:00<?, ?it/s]"
      ]
     },
     "metadata": {},
     "output_type": "display_data"
    },
    {
     "data": {
      "application/vnd.jupyter.widget-view+json": {
       "model_id": "abe9fbee27234d42b77474005b15756c",
       "version_major": 2,
       "version_minor": 0
      },
      "text/plain": [
       "  0%|          | 0/4 [00:00<?, ?it/s]"
      ]
     },
     "metadata": {},
     "output_type": "display_data"
    },
    {
     "data": {
      "application/vnd.jupyter.widget-view+json": {
       "model_id": "b6aeb1fd7eaf4e0a9502de9f71ce793e",
       "version_major": 2,
       "version_minor": 0
      },
      "text/plain": [
       "  0%|          | 0/3 [00:00<?, ?it/s]"
      ]
     },
     "metadata": {},
     "output_type": "display_data"
    },
    {
     "data": {
      "application/vnd.jupyter.widget-view+json": {
       "model_id": "5c6b486eb0ed4a9ebf3a15b8a9e442fc",
       "version_major": 2,
       "version_minor": 0
      },
      "text/plain": [
       "  0%|          | 0/3 [00:00<?, ?it/s]"
      ]
     },
     "metadata": {},
     "output_type": "display_data"
    },
    {
     "data": {
      "application/vnd.jupyter.widget-view+json": {
       "model_id": "db5cc3a1fb794312abc7d7232860847d",
       "version_major": 2,
       "version_minor": 0
      },
      "text/plain": [
       "  0%|          | 0/3 [00:00<?, ?it/s]"
      ]
     },
     "metadata": {},
     "output_type": "display_data"
    },
    {
     "data": {
      "application/vnd.jupyter.widget-view+json": {
       "model_id": "a8fa6c4cf4ca453d9f550a00a2b430a6",
       "version_major": 2,
       "version_minor": 0
      },
      "text/plain": [
       "  0%|          | 0/3 [00:00<?, ?it/s]"
      ]
     },
     "metadata": {},
     "output_type": "display_data"
    },
    {
     "data": {
      "application/vnd.jupyter.widget-view+json": {
       "model_id": "d0c11ae8cf6e49eb808c6407234a823d",
       "version_major": 2,
       "version_minor": 0
      },
      "text/plain": [
       "  0%|          | 0/2 [00:00<?, ?it/s]"
      ]
     },
     "metadata": {},
     "output_type": "display_data"
    },
    {
     "data": {
      "application/vnd.jupyter.widget-view+json": {
       "model_id": "7ed309a4ad864d36b8c7b5f67451ea36",
       "version_major": 2,
       "version_minor": 0
      },
      "text/plain": [
       "  0%|          | 0/2 [00:00<?, ?it/s]"
      ]
     },
     "metadata": {},
     "output_type": "display_data"
    },
    {
     "data": {
      "application/vnd.jupyter.widget-view+json": {
       "model_id": "65c76225da5c40ee910a1795797a3269",
       "version_major": 2,
       "version_minor": 0
      },
      "text/plain": [
       "  0%|          | 0/2 [00:00<?, ?it/s]"
      ]
     },
     "metadata": {},
     "output_type": "display_data"
    },
    {
     "data": {
      "application/vnd.jupyter.widget-view+json": {
       "model_id": "f2de6a06a83c403cb0551fdcbceaf33d",
       "version_major": 2,
       "version_minor": 0
      },
      "text/plain": [
       "  0%|          | 0/2 [00:00<?, ?it/s]"
      ]
     },
     "metadata": {},
     "output_type": "display_data"
    },
    {
     "data": {
      "application/vnd.jupyter.widget-view+json": {
       "model_id": "ea23cffce56549a4b8506bdf4909ad30",
       "version_major": 2,
       "version_minor": 0
      },
      "text/plain": [
       "  0%|          | 0/2 [00:00<?, ?it/s]"
      ]
     },
     "metadata": {},
     "output_type": "display_data"
    },
    {
     "data": {
      "application/vnd.jupyter.widget-view+json": {
       "model_id": "0561c98d158b4f73b5acea1d6e52de07",
       "version_major": 2,
       "version_minor": 0
      },
      "text/plain": [
       "  0%|          | 0/2 [00:00<?, ?it/s]"
      ]
     },
     "metadata": {},
     "output_type": "display_data"
    },
    {
     "data": {
      "application/vnd.jupyter.widget-view+json": {
       "model_id": "7b63b5e2e9fd4a9db6f44adb2f078ab0",
       "version_major": 2,
       "version_minor": 0
      },
      "text/plain": [
       "  0%|          | 0/2 [00:00<?, ?it/s]"
      ]
     },
     "metadata": {},
     "output_type": "display_data"
    },
    {
     "data": {
      "application/vnd.jupyter.widget-view+json": {
       "model_id": "870f253d7c294648a2e20b35771bc0d7",
       "version_major": 2,
       "version_minor": 0
      },
      "text/plain": [
       "  0%|          | 0/2 [00:00<?, ?it/s]"
      ]
     },
     "metadata": {},
     "output_type": "display_data"
    },
    {
     "data": {
      "application/vnd.jupyter.widget-view+json": {
       "model_id": "5f7dee65192748e4a4db2b3bf0b7e3cd",
       "version_major": 2,
       "version_minor": 0
      },
      "text/plain": [
       "  0%|          | 0/2 [00:00<?, ?it/s]"
      ]
     },
     "metadata": {},
     "output_type": "display_data"
    },
    {
     "data": {
      "application/vnd.jupyter.widget-view+json": {
       "model_id": "c6d2f118dd2e4da2b6a7d8d9fc9318c8",
       "version_major": 2,
       "version_minor": 0
      },
      "text/plain": [
       "  0%|          | 0/2 [00:00<?, ?it/s]"
      ]
     },
     "metadata": {},
     "output_type": "display_data"
    },
    {
     "data": {
      "application/vnd.jupyter.widget-view+json": {
       "model_id": "0512e2f5b0f44f7eb051d735640506c6",
       "version_major": 2,
       "version_minor": 0
      },
      "text/plain": [
       "  0%|          | 0/1 [00:00<?, ?it/s]"
      ]
     },
     "metadata": {},
     "output_type": "display_data"
    },
    {
     "data": {
      "application/vnd.jupyter.widget-view+json": {
       "model_id": "de400d8a4c8446ff8685439e88dd63c3",
       "version_major": 2,
       "version_minor": 0
      },
      "text/plain": [
       "  0%|          | 0/1 [00:00<?, ?it/s]"
      ]
     },
     "metadata": {},
     "output_type": "display_data"
    },
    {
     "data": {
      "application/vnd.jupyter.widget-view+json": {
       "model_id": "cb7c680f414b458eb155f2a3f0877299",
       "version_major": 2,
       "version_minor": 0
      },
      "text/plain": [
       "  0%|          | 0/1 [00:00<?, ?it/s]"
      ]
     },
     "metadata": {},
     "output_type": "display_data"
    },
    {
     "data": {
      "application/vnd.jupyter.widget-view+json": {
       "model_id": "753f2e412fc7401ebab6f7d9308e399f",
       "version_major": 2,
       "version_minor": 0
      },
      "text/plain": [
       "  0%|          | 0/1 [00:00<?, ?it/s]"
      ]
     },
     "metadata": {},
     "output_type": "display_data"
    },
    {
     "data": {
      "application/vnd.jupyter.widget-view+json": {
       "model_id": "e2e18169e2a444359a0ce78e16049f45",
       "version_major": 2,
       "version_minor": 0
      },
      "text/plain": [
       "  0%|          | 0/1 [00:00<?, ?it/s]"
      ]
     },
     "metadata": {},
     "output_type": "display_data"
    },
    {
     "data": {
      "application/vnd.jupyter.widget-view+json": {
       "model_id": "89a4cdb06acf487690619095d790dbde",
       "version_major": 2,
       "version_minor": 0
      },
      "text/plain": [
       "  0%|          | 0/1 [00:00<?, ?it/s]"
      ]
     },
     "metadata": {},
     "output_type": "display_data"
    },
    {
     "data": {
      "application/vnd.jupyter.widget-view+json": {
       "model_id": "f9a5f77576ce47d98f41edd6e5c23029",
       "version_major": 2,
       "version_minor": 0
      },
      "text/plain": [
       "  0%|          | 0/1 [00:00<?, ?it/s]"
      ]
     },
     "metadata": {},
     "output_type": "display_data"
    },
    {
     "data": {
      "application/vnd.jupyter.widget-view+json": {
       "model_id": "36679c4307c846eda851c093041059e6",
       "version_major": 2,
       "version_minor": 0
      },
      "text/plain": [
       "  0%|          | 0/1 [00:00<?, ?it/s]"
      ]
     },
     "metadata": {},
     "output_type": "display_data"
    },
    {
     "data": {
      "application/vnd.jupyter.widget-view+json": {
       "model_id": "d2e29d6f63c24edeb875338a5cdf81c5",
       "version_major": 2,
       "version_minor": 0
      },
      "text/plain": [
       "  0%|          | 0/1 [00:00<?, ?it/s]"
      ]
     },
     "metadata": {},
     "output_type": "display_data"
    },
    {
     "data": {
      "application/vnd.jupyter.widget-view+json": {
       "model_id": "8125fbaefdf04dbfbb0a48787b30bf96",
       "version_major": 2,
       "version_minor": 0
      },
      "text/plain": [
       "  0%|          | 0/1 [00:00<?, ?it/s]"
      ]
     },
     "metadata": {},
     "output_type": "display_data"
    },
    {
     "data": {
      "application/vnd.jupyter.widget-view+json": {
       "model_id": "376f330ccffa4140b5a14bb3599c1dc1",
       "version_major": 2,
       "version_minor": 0
      },
      "text/plain": [
       "  0%|          | 0/1 [00:00<?, ?it/s]"
      ]
     },
     "metadata": {},
     "output_type": "display_data"
    },
    {
     "data": {
      "application/vnd.jupyter.widget-view+json": {
       "model_id": "714869c41cd548e1892b26125a9640c6",
       "version_major": 2,
       "version_minor": 0
      },
      "text/plain": [
       "  0%|          | 0/1 [00:00<?, ?it/s]"
      ]
     },
     "metadata": {},
     "output_type": "display_data"
    },
    {
     "data": {
      "application/vnd.jupyter.widget-view+json": {
       "model_id": "da6d570044df4b53a966e790b3b36fc5",
       "version_major": 2,
       "version_minor": 0
      },
      "text/plain": [
       "  0%|          | 0/1 [00:00<?, ?it/s]"
      ]
     },
     "metadata": {},
     "output_type": "display_data"
    },
    {
     "data": {
      "application/vnd.jupyter.widget-view+json": {
       "model_id": "3cc93e5e3fe04adc9c3922c039c6d980",
       "version_major": 2,
       "version_minor": 0
      },
      "text/plain": [
       "  0%|          | 0/1 [00:00<?, ?it/s]"
      ]
     },
     "metadata": {},
     "output_type": "display_data"
    },
    {
     "data": {
      "application/vnd.jupyter.widget-view+json": {
       "model_id": "c3581ad487ca4de5a4bef568595b2a07",
       "version_major": 2,
       "version_minor": 0
      },
      "text/plain": [
       "  0%|          | 0/1 [00:00<?, ?it/s]"
      ]
     },
     "metadata": {},
     "output_type": "display_data"
    },
    {
     "data": {
      "application/vnd.jupyter.widget-view+json": {
       "model_id": "95bb6cbdc9ea45b896a98bfe5835468f",
       "version_major": 2,
       "version_minor": 0
      },
      "text/plain": [
       "  0%|          | 0/1 [00:00<?, ?it/s]"
      ]
     },
     "metadata": {},
     "output_type": "display_data"
    },
    {
     "data": {
      "application/vnd.jupyter.widget-view+json": {
       "model_id": "330f4857f4204f21b7403a77bc5a5284",
       "version_major": 2,
       "version_minor": 0
      },
      "text/plain": [
       "  0%|          | 0/1 [00:00<?, ?it/s]"
      ]
     },
     "metadata": {},
     "output_type": "display_data"
    },
    {
     "data": {
      "application/vnd.jupyter.widget-view+json": {
       "model_id": "50678b17acb4496682979a7cbebaa078",
       "version_major": 2,
       "version_minor": 0
      },
      "text/plain": [
       "  0%|          | 0/1 [00:00<?, ?it/s]"
      ]
     },
     "metadata": {},
     "output_type": "display_data"
    },
    {
     "data": {
      "application/vnd.jupyter.widget-view+json": {
       "model_id": "6093987fc5c542cbbd0ed921d5f3e70e",
       "version_major": 2,
       "version_minor": 0
      },
      "text/plain": [
       "0it [00:00, ?it/s]"
      ]
     },
     "metadata": {},
     "output_type": "display_data"
    },
    {
     "data": {
      "application/vnd.jupyter.widget-view+json": {
       "model_id": "83ee7ccea2424dbaab7803f68d6e309e",
       "version_major": 2,
       "version_minor": 0
      },
      "text/plain": [
       "  0%|          | 0/1 [00:00<?, ?it/s]"
      ]
     },
     "metadata": {},
     "output_type": "display_data"
    },
    {
     "data": {
      "application/vnd.jupyter.widget-view+json": {
       "model_id": "9aa372d8ea504015bf8e426aee833541",
       "version_major": 2,
       "version_minor": 0
      },
      "text/plain": [
       "  0%|          | 0/1 [00:00<?, ?it/s]"
      ]
     },
     "metadata": {},
     "output_type": "display_data"
    },
    {
     "data": {
      "application/vnd.jupyter.widget-view+json": {
       "model_id": "5458f8f26ab4413db48c73db973e8ec2",
       "version_major": 2,
       "version_minor": 0
      },
      "text/plain": [
       "  0%|          | 0/1 [00:00<?, ?it/s]"
      ]
     },
     "metadata": {},
     "output_type": "display_data"
    },
    {
     "data": {
      "application/vnd.jupyter.widget-view+json": {
       "model_id": "bf225e4d221342d6999efd748221e183",
       "version_major": 2,
       "version_minor": 0
      },
      "text/plain": [
       "  0%|          | 0/1 [00:00<?, ?it/s]"
      ]
     },
     "metadata": {},
     "output_type": "display_data"
    },
    {
     "data": {
      "application/vnd.jupyter.widget-view+json": {
       "model_id": "df0827dc66c040e9a17b2bd8993d405e",
       "version_major": 2,
       "version_minor": 0
      },
      "text/plain": [
       "  0%|          | 0/1 [00:00<?, ?it/s]"
      ]
     },
     "metadata": {},
     "output_type": "display_data"
    },
    {
     "data": {
      "application/vnd.jupyter.widget-view+json": {
       "model_id": "7a463da20d7c4571a0fa56cf030de9f5",
       "version_major": 2,
       "version_minor": 0
      },
      "text/plain": [
       "  0%|          | 0/1 [00:00<?, ?it/s]"
      ]
     },
     "metadata": {},
     "output_type": "display_data"
    },
    {
     "data": {
      "application/vnd.jupyter.widget-view+json": {
       "model_id": "e48433f826594b389be3fcf7e93945e6",
       "version_major": 2,
       "version_minor": 0
      },
      "text/plain": [
       "  0%|          | 0/1 [00:00<?, ?it/s]"
      ]
     },
     "metadata": {},
     "output_type": "display_data"
    },
    {
     "data": {
      "application/vnd.jupyter.widget-view+json": {
       "model_id": "c3eea281bf0e44efa56adc6d90b5c69f",
       "version_major": 2,
       "version_minor": 0
      },
      "text/plain": [
       "  0%|          | 0/1 [00:00<?, ?it/s]"
      ]
     },
     "metadata": {},
     "output_type": "display_data"
    },
    {
     "data": {
      "application/vnd.jupyter.widget-view+json": {
       "model_id": "ec7581c8e5654fc4b42a61b0d49cdec2",
       "version_major": 2,
       "version_minor": 0
      },
      "text/plain": [
       "  0%|          | 0/1 [00:00<?, ?it/s]"
      ]
     },
     "metadata": {},
     "output_type": "display_data"
    },
    {
     "data": {
      "application/vnd.jupyter.widget-view+json": {
       "model_id": "80f8307e2b8541ba948b9ba72256d3fb",
       "version_major": 2,
       "version_minor": 0
      },
      "text/plain": [
       "  0%|          | 0/1 [00:00<?, ?it/s]"
      ]
     },
     "metadata": {},
     "output_type": "display_data"
    },
    {
     "data": {
      "application/vnd.jupyter.widget-view+json": {
       "model_id": "39468465ed2940cca5cde726e397fc93",
       "version_major": 2,
       "version_minor": 0
      },
      "text/plain": [
       "  0%|          | 0/1 [00:00<?, ?it/s]"
      ]
     },
     "metadata": {},
     "output_type": "display_data"
    }
   ],
   "source": [
    "df_intra = pd.DataFrame(columns=[\"Sector\",\"Average Correlation\",\"Max Correlation\",\"Min Correlation\"])\n",
    "getAllIntraSectorCorrelations(df_intra)"
   ]
  },
  {
   "cell_type": "markdown",
   "id": "8a09cb02-4fba-4c3d-bb6c-716743d250ef",
   "metadata": {},
   "source": [
    "#### Filtering & Exporting the Data to Excel"
   ]
  },
  {
   "cell_type": "code",
   "execution_count": 109,
   "id": "27b11651-502c-4bc9-a3bc-2e78169bc74f",
   "metadata": {},
   "outputs": [],
   "source": [
    "def intraThresh(sector, corr):\n",
    "    stocks = int(re.sub(\"[^0-9]\", \"\",sector))\n",
    "    return stocks*corr"
   ]
  },
  {
   "cell_type": "code",
   "execution_count": 114,
   "id": "644322f6-876a-4673-8e51-8cb7420e5f19",
   "metadata": {},
   "outputs": [],
   "source": [
    "for index, row in df_intra.iterrows():\n",
    "    total_stocks = intraThresh(row['Sector'],row['Average Correlation'])\n",
    "    if(total_stocks < 2.5):\n",
    "        df_intra.drop(index, inplace=True)"
   ]
  },
  {
   "cell_type": "code",
   "execution_count": 115,
   "id": "c902b5ad-51ac-4458-91ce-005411ca9276",
   "metadata": {},
   "outputs": [
    {
     "data": {
      "text/html": [
       "<div>\n",
       "<style scoped>\n",
       "    .dataframe tbody tr th:only-of-type {\n",
       "        vertical-align: middle;\n",
       "    }\n",
       "\n",
       "    .dataframe tbody tr th {\n",
       "        vertical-align: top;\n",
       "    }\n",
       "\n",
       "    .dataframe thead th {\n",
       "        text-align: right;\n",
       "    }\n",
       "</style>\n",
       "<table border=\"1\" class=\"dataframe\">\n",
       "  <thead>\n",
       "    <tr style=\"text-align: right;\">\n",
       "      <th></th>\n",
       "      <th>Sector</th>\n",
       "      <th>Average Correlation</th>\n",
       "      <th>Max Correlation</th>\n",
       "      <th>Min Correlation</th>\n",
       "    </tr>\n",
       "  </thead>\n",
       "  <tbody>\n",
       "    <tr>\n",
       "      <th>43</th>\n",
       "      <td>Multi-Utilities(19)</td>\n",
       "      <td>0.502164</td>\n",
       "      <td>(0.9085339576171104, CMS, WEC)</td>\n",
       "      <td>(-0.022110581485324188, AEF, ED)</td>\n",
       "    </tr>\n",
       "    <tr>\n",
       "      <th>68</th>\n",
       "      <td>Industrial Conglomerates(6)</td>\n",
       "      <td>0.480197</td>\n",
       "      <td>(0.7423969814905563, HON, ROP)</td>\n",
       "      <td>(0, stock, stock)</td>\n",
       "    </tr>\n",
       "    <tr>\n",
       "      <th>26</th>\n",
       "      <td>Energy Equipment &amp; Services(34)</td>\n",
       "      <td>0.475037</td>\n",
       "      <td>(0.8882941728141304, HAL, SLB)</td>\n",
       "      <td>(0, stock, stock)</td>\n",
       "    </tr>\n",
       "    <tr>\n",
       "      <th>63</th>\n",
       "      <td>Construction Materials(8)</td>\n",
       "      <td>0.448190</td>\n",
       "      <td>(0.8092591332032857, MLM, VMC)</td>\n",
       "      <td>(0, stock, stock)</td>\n",
       "    </tr>\n",
       "    <tr>\n",
       "      <th>37</th>\n",
       "      <td>Road &amp; Rail(23)</td>\n",
       "      <td>0.439627</td>\n",
       "      <td>(0.829895696574278, CSX, NSC)</td>\n",
       "      <td>(-0.11459971471402075, ARCB, DSM)</td>\n",
       "    </tr>\n",
       "    <tr>\n",
       "      <th>...</th>\n",
       "      <td>...</td>\n",
       "      <td>...</td>\n",
       "      <td>...</td>\n",
       "      <td>...</td>\n",
       "    </tr>\n",
       "    <tr>\n",
       "      <th>8</th>\n",
       "      <td>Health Care Equipment &amp; Supplies(87)</td>\n",
       "      <td>0.171356</td>\n",
       "      <td>(0.6693853184747948, SYK, ZBH)</td>\n",
       "      <td>(-0.245937572403365, MMU, STXS)</td>\n",
       "    </tr>\n",
       "    <tr>\n",
       "      <th>21</th>\n",
       "      <td>Food Products(47)</td>\n",
       "      <td>0.155084</td>\n",
       "      <td>(0.8342581510738292, SENEA, SENEB)</td>\n",
       "      <td>(-0.18521000769639406, CALM, PMF)</td>\n",
       "    </tr>\n",
       "    <tr>\n",
       "      <th>45</th>\n",
       "      <td>Personal Products(19)</td>\n",
       "      <td>0.141648</td>\n",
       "      <td>(0.6046452928882864, HLF, NUS)</td>\n",
       "      <td>(-0.06844820450929734, NAII, NHTC)</td>\n",
       "    </tr>\n",
       "    <tr>\n",
       "      <th>15</th>\n",
       "      <td>Pharmaceuticals(56)</td>\n",
       "      <td>0.139870</td>\n",
       "      <td>(0.7891538123052999, AVK, EOS)</td>\n",
       "      <td>(-0.1997498977480363, OPNT, SNOA)</td>\n",
       "    </tr>\n",
       "    <tr>\n",
       "      <th>1</th>\n",
       "      <td>Biotechnology(163)</td>\n",
       "      <td>0.126243</td>\n",
       "      <td>(0.9533543806082179, ADX, GAM)</td>\n",
       "      <td>(-0.3494156854338717, MYI, VNDA)</td>\n",
       "    </tr>\n",
       "  </tbody>\n",
       "</table>\n",
       "<p>61 rows × 4 columns</p>\n",
       "</div>"
      ],
      "text/plain": [
       "                                  Sector  Average Correlation  \\\n",
       "43                   Multi-Utilities(19)             0.502164   \n",
       "68           Industrial Conglomerates(6)             0.480197   \n",
       "26       Energy Equipment & Services(34)             0.475037   \n",
       "63             Construction Materials(8)             0.448190   \n",
       "37                       Road & Rail(23)             0.439627   \n",
       "..                                   ...                  ...   \n",
       "8   Health Care Equipment & Supplies(87)             0.171356   \n",
       "21                     Food Products(47)             0.155084   \n",
       "45                 Personal Products(19)             0.141648   \n",
       "15                   Pharmaceuticals(56)             0.139870   \n",
       "1                     Biotechnology(163)             0.126243   \n",
       "\n",
       "                       Max Correlation                     Min Correlation  \n",
       "43      (0.9085339576171104, CMS, WEC)    (-0.022110581485324188, AEF, ED)  \n",
       "68      (0.7423969814905563, HON, ROP)                   (0, stock, stock)  \n",
       "26      (0.8882941728141304, HAL, SLB)                   (0, stock, stock)  \n",
       "63      (0.8092591332032857, MLM, VMC)                   (0, stock, stock)  \n",
       "37       (0.829895696574278, CSX, NSC)   (-0.11459971471402075, ARCB, DSM)  \n",
       "..                                 ...                                 ...  \n",
       "8       (0.6693853184747948, SYK, ZBH)     (-0.245937572403365, MMU, STXS)  \n",
       "21  (0.8342581510738292, SENEA, SENEB)   (-0.18521000769639406, CALM, PMF)  \n",
       "45      (0.6046452928882864, HLF, NUS)  (-0.06844820450929734, NAII, NHTC)  \n",
       "15      (0.7891538123052999, AVK, EOS)   (-0.1997498977480363, OPNT, SNOA)  \n",
       "1       (0.9533543806082179, ADX, GAM)    (-0.3494156854338717, MYI, VNDA)  \n",
       "\n",
       "[61 rows x 4 columns]"
      ]
     },
     "execution_count": 115,
     "metadata": {},
     "output_type": "execute_result"
    }
   ],
   "source": [
    "df_intra = df_intra.sort_values('Average Correlation', ascending=False)\n",
    "df_intra"
   ]
  },
  {
   "cell_type": "code",
   "execution_count": 127,
   "id": "b25a4554-40bb-4452-ab93-bf34c4f601d4",
   "metadata": {},
   "outputs": [],
   "source": [
    "df_intra.to_excel(\"data/sector_correlations/total_intra.xlsx\",sheet_name=\"Sheet1\",index=False)"
   ]
  },
  {
   "cell_type": "markdown",
   "id": "fc29301d-48fb-4db5-9ad0-956ea3cb6e17",
   "metadata": {},
   "source": [
    "### Calculating Average Intra-Sector Correlation\n",
    "The next few blocks of code perform a similar calculation as above, however this time we are comparing the stocks in different sectors to eachother, rather than looking within the same sector."
   ]
  },
  {
   "cell_type": "code",
   "execution_count": 118,
   "id": "1bd9f58f-2ef5-4a5b-aff8-b3f51e1ad881",
   "metadata": {},
   "outputs": [],
   "source": [
    "def calculateIntraSectorCorrelations(sector1,sector2):\n",
    "    sector1_index = top_sectors.index(sector1)\n",
    "    df1 = stocks_by_sector[sector1_index][1]\n",
    "    sector1_stock_count = df1.shape[0]\n",
    "    \n",
    "    sector2_index = top_sectors.index(sector2)\n",
    "    df2 = stocks_by_sector[sector2_index][1]\n",
    "    sector2_stock_count = df2.shape[0]\n",
    "    \n",
    "    link_count = 0\n",
    "    sum_of_links = 0\n",
    "    max_corr = (0,\"stock\",\"stock\")\n",
    "    min_corr = (0,\"stock\",\"stock\")\n",
    "    for i in range(sector1_stock_count):\n",
    "        first_stock = df1.iloc[i,2:]\n",
    "        for j in range(sector2_stock_count):\n",
    "            second_stock = df2.iloc[j,2:]\n",
    "            result = 1-spatial.distance.cosine(first_stock,second_stock)\n",
    "            if(result>max_corr[0]):\n",
    "                max_corr = (result,df1.iloc[i,0],df2.iloc[j,0])\n",
    "            if(result<min_corr[0]):\n",
    "                min_corr = (result,df1.iloc[i,0],df2.iloc[j,0])\n",
    "            sum_of_links += result\n",
    "            link_count += 1\n",
    "            \n",
    "    if(link_count < 1):\n",
    "        return 0,1,1,\"N/A\",\"N/A\"\n",
    "    average_link = sum_of_links / link_count\n",
    "    \n",
    "    return average_link, sector1_stock_count, sector2_stock_count, max_corr, min_corr"
   ]
  },
  {
   "cell_type": "code",
   "execution_count": 119,
   "id": "bcc6cfd0-b61e-4c7b-bd10-b00b01b948b2",
   "metadata": {},
   "outputs": [],
   "source": [
    "def getAllInterSectorCorrelations(df):\n",
    "    num_of_sectors = len(top_sectors)\n",
    "    count = 1\n",
    "    for i in tqdm(range(num_of_sectors)):\n",
    "        sector1 = top_sectors[i]\n",
    "        for j in range(i+1,num_of_sectors):\n",
    "            sector2 = top_sectors[j]\n",
    "            avg_sector_corr, sector1_stock_count, sector2_stock_count, max_corr, min_corr = calculateIntraSectorCorrelations(sector1,sector2)\n",
    "            df.loc[count] = [(str(sector1)+\"(\"+str(sector1_stock_count)+\")\"),\n",
    "                             (str(sector2)+\"(\"+str(sector2_stock_count)+\")\"),\n",
    "                             avg_sector_corr,\n",
    "                             (max_corr[0],max_corr[1],max_corr[2]),\n",
    "                             (min_corr[0],min_corr[1],min_corr[2])]\n",
    "            count += 1"
   ]
  },
  {
   "cell_type": "markdown",
   "id": "9a1a499b-9055-4a2d-8843-d285caa33221",
   "metadata": {},
   "source": [
    "### Thresholding and exporting Data\n",
    "Due to the large number of sectors with single stocks, or small stock counts, we need to remove correlations that are  on a small number of nodes (<20)."
   ]
  },
  {
   "cell_type": "code",
   "execution_count": 53,
   "id": "fe99ea17-bc9d-4e79-9b40-403f1028e5ab",
   "metadata": {},
   "outputs": [
    {
     "data": {
      "application/vnd.jupyter.widget-view+json": {
       "model_id": "31fbb5c8280743b49f099d257f2d2e6f",
       "version_major": 2,
       "version_minor": 0
      },
      "text/plain": [
       "  0%|          | 0/124 [00:00<?, ?it/s]"
      ]
     },
     "metadata": {},
     "output_type": "display_data"
    }
   ],
   "source": [
    "df_inter = pd.DataFrame(columns=[\"Sector1\",\"Sector2\",\"Average Correlation\",\"Max Correlation\",\"Min Correlation\"])\n",
    "getAllInterSectorCorrelations(df_inter)"
   ]
  },
  {
   "cell_type": "code",
   "execution_count": 120,
   "id": "ce46009b-e9cf-4a59-857a-5598c47f5560",
   "metadata": {},
   "outputs": [],
   "source": [
    "def threshHold(sector1, sector2):\n",
    "    stocks1 = int(re.sub(\"[^0-9]\", \"\",sector1))\n",
    "    stocks2 = int(re.sub(\"[^0-9]\", \"\",sector2))\n",
    "    if stocks1 == 1 or stocks2 == 1:\n",
    "        return 0\n",
    "    return stocks1+stocks2"
   ]
  },
  {
   "cell_type": "code",
   "execution_count": 123,
   "id": "e0c74a68-d8d4-4e7d-90ee-c7c06dacb50f",
   "metadata": {},
   "outputs": [],
   "source": [
    "for index, row in df_inter.iterrows():\n",
    "    total_stocks = threshHold(row['Sector1'],row['Sector2'])\n",
    "    if(total_stocks < 20):\n",
    "        df_inter.drop(index, inplace=True)"
   ]
  },
  {
   "cell_type": "code",
   "execution_count": 124,
   "id": "a44ac736-2002-402f-b46d-8905fc12aa6e",
   "metadata": {},
   "outputs": [
    {
     "data": {
      "text/html": [
       "<div>\n",
       "<style scoped>\n",
       "    .dataframe tbody tr th:only-of-type {\n",
       "        vertical-align: middle;\n",
       "    }\n",
       "\n",
       "    .dataframe tbody tr th {\n",
       "        vertical-align: top;\n",
       "    }\n",
       "\n",
       "    .dataframe thead th {\n",
       "        text-align: right;\n",
       "    }\n",
       "</style>\n",
       "<table border=\"1\" class=\"dataframe\">\n",
       "  <thead>\n",
       "    <tr style=\"text-align: right;\">\n",
       "      <th></th>\n",
       "      <th>Sector1</th>\n",
       "      <th>Sector2</th>\n",
       "      <th>Average Correlation</th>\n",
       "      <th>Max Correlation</th>\n",
       "      <th>Min Correlation</th>\n",
       "    </tr>\n",
       "  </thead>\n",
       "  <tbody>\n",
       "    <tr>\n",
       "      <th>3268</th>\n",
       "      <td>Electric Utilities(29)</td>\n",
       "      <td>Multi-Utilities(19)</td>\n",
       "      <td>0.449325</td>\n",
       "      <td>(0.9167574662755461, XEL, WEC)</td>\n",
       "      <td>(-0.12775664066601689, MGF, MDU)</td>\n",
       "    </tr>\n",
       "    <tr>\n",
       "      <th>2922</th>\n",
       "      <td>Energy Equipment &amp; Services(34)</td>\n",
       "      <td>Asset Management(4)</td>\n",
       "      <td>0.441228</td>\n",
       "      <td>(0.7567211391850873, CLB, TYG)</td>\n",
       "      <td>(0, stock, stock)</td>\n",
       "    </tr>\n",
       "    <tr>\n",
       "      <th>5156</th>\n",
       "      <td>Containers &amp; Packaging(14)</td>\n",
       "      <td>Industrial Conglomerates(6)</td>\n",
       "      <td>0.427529</td>\n",
       "      <td>(0.713989362428802, GPK, HON)</td>\n",
       "      <td>(0, stock, stock)</td>\n",
       "    </tr>\n",
       "    <tr>\n",
       "      <th>668</th>\n",
       "      <td>Machinery(93)</td>\n",
       "      <td>Industrial Conglomerates(6)</td>\n",
       "      <td>0.418474</td>\n",
       "      <td>(0.8047939223090763, PH, HON)</td>\n",
       "      <td>(-0.05772082781976873, NPV, IEP)</td>\n",
       "    </tr>\n",
       "    <tr>\n",
       "      <th>2013</th>\n",
       "      <td>Hotels, Restaurants &amp; Leisure(54)</td>\n",
       "      <td>Asset Management(4)</td>\n",
       "      <td>0.418108</td>\n",
       "      <td>(0.7857629009496939, PEO, TYG)</td>\n",
       "      <td>(-0.0023414803554644426, CPHC, FHI)</td>\n",
       "    </tr>\n",
       "    <tr>\n",
       "      <th>...</th>\n",
       "      <td>...</td>\n",
       "      <td>...</td>\n",
       "      <td>...</td>\n",
       "      <td>...</td>\n",
       "      <td>...</td>\n",
       "    </tr>\n",
       "    <tr>\n",
       "      <th>4660</th>\n",
       "      <td>Diversified Consumer Services(18)</td>\n",
       "      <td>Other Industrial Metals &amp; Mining(3)</td>\n",
       "      <td>-0.011556</td>\n",
       "      <td>(0.26603441864947586, HYT, EXN)</td>\n",
       "      <td>(-0.2687276691815046, STRA, SKE)</td>\n",
       "    </tr>\n",
       "    <tr>\n",
       "      <th>2745</th>\n",
       "      <td>Household Durables(43)</td>\n",
       "      <td>Computer Hardware(2)</td>\n",
       "      <td>-0.014198</td>\n",
       "      <td>(0.22119097939447618, PFIN, RCAT)</td>\n",
       "      <td>(-0.1840168627878105, MDC, RCAT)</td>\n",
       "    </tr>\n",
       "    <tr>\n",
       "      <th>3036</th>\n",
       "      <td>Blank Check / SPAC(32)</td>\n",
       "      <td>Computer Hardware(2)</td>\n",
       "      <td>-0.015149</td>\n",
       "      <td>(0.17711747129718924, SPE, QUBT)</td>\n",
       "      <td>(-0.2138449486797236, BGT, RCAT)</td>\n",
       "    </tr>\n",
       "    <tr>\n",
       "      <th>3318</th>\n",
       "      <td>Electric Utilities(29)</td>\n",
       "      <td>Computer Hardware(2)</td>\n",
       "      <td>-0.049355</td>\n",
       "      <td>(0.10404706407301423, PCG, RCAT)</td>\n",
       "      <td>(-0.18781927658424413, FTS, QUBT)</td>\n",
       "    </tr>\n",
       "    <tr>\n",
       "      <th>4436</th>\n",
       "      <td>Multi-Utilities(19)</td>\n",
       "      <td>Computer Hardware(2)</td>\n",
       "      <td>-0.063113</td>\n",
       "      <td>(0.0992263907792501, AEF, QUBT)</td>\n",
       "      <td>(-0.18376503846998982, ED, QUBT)</td>\n",
       "    </tr>\n",
       "  </tbody>\n",
       "</table>\n",
       "<p>3043 rows × 5 columns</p>\n",
       "</div>"
      ],
      "text/plain": [
       "                                Sector1                              Sector2  \\\n",
       "3268             Electric Utilities(29)                  Multi-Utilities(19)   \n",
       "2922    Energy Equipment & Services(34)                  Asset Management(4)   \n",
       "5156         Containers & Packaging(14)          Industrial Conglomerates(6)   \n",
       "668                       Machinery(93)          Industrial Conglomerates(6)   \n",
       "2013  Hotels, Restaurants & Leisure(54)                  Asset Management(4)   \n",
       "...                                 ...                                  ...   \n",
       "4660  Diversified Consumer Services(18)  Other Industrial Metals & Mining(3)   \n",
       "2745             Household Durables(43)                 Computer Hardware(2)   \n",
       "3036             Blank Check / SPAC(32)                 Computer Hardware(2)   \n",
       "3318             Electric Utilities(29)                 Computer Hardware(2)   \n",
       "4436                Multi-Utilities(19)                 Computer Hardware(2)   \n",
       "\n",
       "      Average Correlation                    Max Correlation  \\\n",
       "3268             0.449325     (0.9167574662755461, XEL, WEC)   \n",
       "2922             0.441228     (0.7567211391850873, CLB, TYG)   \n",
       "5156             0.427529      (0.713989362428802, GPK, HON)   \n",
       "668              0.418474      (0.8047939223090763, PH, HON)   \n",
       "2013             0.418108     (0.7857629009496939, PEO, TYG)   \n",
       "...                   ...                                ...   \n",
       "4660            -0.011556    (0.26603441864947586, HYT, EXN)   \n",
       "2745            -0.014198  (0.22119097939447618, PFIN, RCAT)   \n",
       "3036            -0.015149   (0.17711747129718924, SPE, QUBT)   \n",
       "3318            -0.049355   (0.10404706407301423, PCG, RCAT)   \n",
       "4436            -0.063113    (0.0992263907792501, AEF, QUBT)   \n",
       "\n",
       "                          Min Correlation  \n",
       "3268     (-0.12775664066601689, MGF, MDU)  \n",
       "2922                    (0, stock, stock)  \n",
       "5156                    (0, stock, stock)  \n",
       "668      (-0.05772082781976873, NPV, IEP)  \n",
       "2013  (-0.0023414803554644426, CPHC, FHI)  \n",
       "...                                   ...  \n",
       "4660     (-0.2687276691815046, STRA, SKE)  \n",
       "2745     (-0.1840168627878105, MDC, RCAT)  \n",
       "3036     (-0.2138449486797236, BGT, RCAT)  \n",
       "3318    (-0.18781927658424413, FTS, QUBT)  \n",
       "4436     (-0.18376503846998982, ED, QUBT)  \n",
       "\n",
       "[3043 rows x 5 columns]"
      ]
     },
     "execution_count": 124,
     "metadata": {},
     "output_type": "execute_result"
    }
   ],
   "source": [
    "df_inter = df_inter.sort_values('Average Correlation',ascending=False)\n",
    "df_inter"
   ]
  },
  {
   "cell_type": "code",
   "execution_count": 126,
   "id": "44f07c7b-5a90-4b3b-b1dc-28002bfc237f",
   "metadata": {},
   "outputs": [],
   "source": [
    "df_inter.to_excel(\"data/sector_correlations/total_inter.xlsx\",sheet_name=\"Sheet1\",index=False)"
   ]
  },
  {
   "cell_type": "code",
   "execution_count": null,
   "id": "d33eb26c-16f5-46f8-a451-427113a39118",
   "metadata": {},
   "outputs": [],
   "source": []
  }
 ],
 "metadata": {
  "kernelspec": {
   "display_name": "Python 3 (ipykernel)",
   "language": "python",
   "name": "python3"
  },
  "language_info": {
   "codemirror_mode": {
    "name": "ipython",
    "version": 3
   },
   "file_extension": ".py",
   "mimetype": "text/x-python",
   "name": "python",
   "nbconvert_exporter": "python",
   "pygments_lexer": "ipython3",
   "version": "3.10.5"
  }
 },
 "nbformat": 4,
 "nbformat_minor": 5
}
