{
 "cells": [
  {
   "cell_type": "code",
   "execution_count": 1,
   "id": "23c42351-b286-4f77-9c63-799bbf671b70",
   "metadata": {},
   "outputs": [],
   "source": [
    "import numpy as np\n",
    "import pandas as pd\n",
    "import networkx as nx\n",
    "import random\n",
    "from random import sample\n",
    "from datetime import datetime\n",
    "import matplotlib.pyplot as plt\n",
    "import matplotlib as mpl\n",
    "import ast\n",
    "from scipy import spatial\n",
    "import csv\n",
    "from tqdm.notebook import tqdm\n",
    "%matplotlib inline"
   ]
  },
  {
   "cell_type": "code",
   "execution_count": 35,
   "id": "4786a116-22db-4cc1-b81b-38bc98dc4e6b",
   "metadata": {},
   "outputs": [],
   "source": [
    "df_total = pd.read_excel('data/all_data.xlsx', sheet_name='percentChange')\n",
    "stocks = pd.read_csv('data/stocks.csv')\n",
    "links_total = pd.read_csv('data/links_total.csv')"
   ]
  },
  {
   "cell_type": "code",
   "execution_count": 27,
   "id": "d2f0b197-1c7d-4f07-a59d-74b1ab25d897",
   "metadata": {},
   "outputs": [],
   "source": [
    "all_sectors = {}\n",
    "for sect in df_total['Sector']:\n",
    "    if(sect in all_sectors):\n",
    "        all_sectors[sect]+=1\n",
    "    else:\n",
    "        all_sectors[sect]=1\n",
    "sorted_sectors = sorted(all_sectors.items(),key=lambda x:x[1],reverse=True)"
   ]
  },
  {
   "cell_type": "markdown",
   "id": "27e66826-bd5c-4d58-9402-c202061c6092",
   "metadata": {},
   "source": [
    "### Identifying Popular Sectors\n",
    "The snippet below prints all the sectors from our raw data, these include banking, software, pharmaceuticals and many more.\n",
    "With these sectors now identified, we can begin exploring the relationship between them, and see how stocks within the same sectors relate to eachother"
   ]
  },
  {
   "cell_type": "code",
   "execution_count": 29,
   "id": "2a9121e2-3b9e-451b-b4a3-3f7582f5c044",
   "metadata": {},
   "outputs": [],
   "source": [
    "for sector in sorted_sectors:\n",
    "    print(sector)"
   ]
  },
  {
   "cell_type": "code",
   "execution_count": 69,
   "id": "f440bcb7-6243-475c-8a2d-af2a7641acdb",
   "metadata": {},
   "outputs": [],
   "source": [
    "top_sectors = [\n",
    "'Banks',\n",
    "'Biotechnology',\n",
    "'Oil, Gas & Consumable Fuels',\n",
    "'Equity Real Estate Investment Trusts ...',\n",
    "'Metals & Mining',\n",
    "'Machinery',\n",
    "'Electronic Equipment, Instruments & C...',\n",
    "'Capital Markets',\n",
    "'Health Care Equipment & Supplies',\n",
    "'Insurance',\n",
    "'Semiconductors & Semiconductor Equipment',\n",
    "'Software',\n",
    "'Specialty Retail',\n",
    "'IT Services',\n",
    "'Commercial Services & Supplies',\n",
    "'Pharmaceuticals',\n",
    "'Chemicals',\n",
    "'Hotels, Restaurants & Leisure',\n",
    "'Communications Equipment',\n",
    "'Health Care Providers & Services',\n",
    "'Food Products',\n",
    "'Media',\n",
    "'Aerospace & Defense',\n",
    "'Energy Equipment & Services',\n",
    "'Electrical Equipment',\n",
    "'Textiles, Apparel & Luxury Goods',\n",
    "'Electric Utilities',\n",
    "'Trading Companies & Distributors',\n",
    "'Real Estate Management & Development',\n",
    "'Entertainment',\n",
    "'Technology Hardware, Storage & Periph...',\n",
    "'Construction & Engineering',\n",
    "'Beverages',\n",
    "'Airlines'\n",
    "]"
   ]
  },
  {
   "cell_type": "markdown",
   "id": "622220dd-1577-4478-9a99-be63e31259a5",
   "metadata": {},
   "source": [
    "### Getting Stocks by sector\n",
    "After we have obtained the top sectors, the snippet of code below goes through the data and finds all the stocks corresponding to our top sectors"
   ]
  },
  {
   "cell_type": "code",
   "execution_count": 73,
   "id": "46264091-92e5-49ce-b68a-2176451563f1",
   "metadata": {},
   "outputs": [],
   "source": [
    "stocks_by_sector = []\n",
    "for sector in top_sectors:\n",
    "    stocks = df_total.loc[df_total['Sector'] == sector]\n",
    "    value = (sector,temp)\n",
    "    stocks_by_sector.append(value)"
   ]
  },
  {
   "cell_type": "markdown",
   "id": "33e7f029-4bf4-40e7-a9c5-b0a44c93d43d",
   "metadata": {},
   "source": [
    "### Calculating Average Intra-Sector Correlation\n",
    "The following code blocks calculate the average weight of a link between all the stocks in a given sector. For example, in the Bank sector, the functions will go and obtain the links from one bank stock to every other bank stock, and add them to the total. Then this total will be divided by the number of links, to obtain the average weight. This is in hopes of answering our second research question"
   ]
  },
  {
   "cell_type": "code",
   "execution_count": 75,
   "id": "f6c915a7-8018-4f89-88de-ba415bfd0bcc",
   "metadata": {},
   "outputs": [
    {
     "ename": "SyntaxError",
     "evalue": "incomplete input (341970358.py, line 2)",
     "output_type": "error",
     "traceback": [
      "\u001b[0;36m  Cell \u001b[0;32mIn [75], line 2\u001b[0;36m\u001b[0m\n\u001b[0;31m    \u001b[0m\n\u001b[0m    ^\u001b[0m\n\u001b[0;31mSyntaxError\u001b[0m\u001b[0;31m:\u001b[0m incomplete input\n"
     ]
    }
   ],
   "source": [
    "def calculateIntraSectorWeight(sector):\n",
    "    "
   ]
  },
  {
   "cell_type": "code",
   "execution_count": null,
   "id": "aef8fe78-4dc1-45cd-a64b-b7b90f530100",
   "metadata": {},
   "outputs": [],
   "source": []
  },
  {
   "cell_type": "code",
   "execution_count": null,
   "id": "4b59cf4f-c609-4988-9afa-0ca4f322a3b1",
   "metadata": {},
   "outputs": [],
   "source": []
  }
 ],
 "metadata": {
  "kernelspec": {
   "display_name": "Python 3 (ipykernel)",
   "language": "python",
   "name": "python3"
  },
  "language_info": {
   "codemirror_mode": {
    "name": "ipython",
    "version": 3
   },
   "file_extension": ".py",
   "mimetype": "text/x-python",
   "name": "python",
   "nbconvert_exporter": "python",
   "pygments_lexer": "ipython3",
   "version": "3.10.5"
  }
 },
 "nbformat": 4,
 "nbformat_minor": 5
}
