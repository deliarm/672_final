{
 "cells": [
  {
   "cell_type": "code",
   "execution_count": 297,
   "id": "23c42351-b286-4f77-9c63-799bbf671b70",
   "metadata": {},
   "outputs": [],
   "source": [
    "import numpy as np\n",
    "import pandas as pd\n",
    "import networkx as nx\n",
    "import random\n",
    "from random import sample\n",
    "from datetime import datetime\n",
    "import matplotlib.pyplot as plt\n",
    "import matplotlib as mpl\n",
    "import ast\n",
    "from scipy import spatial\n",
    "import csv\n",
    "from tqdm.notebook import tqdm\n",
    "import re\n",
    "%matplotlib inline"
   ]
  },
  {
   "cell_type": "code",
   "execution_count": 298,
   "id": "4786a116-22db-4cc1-b81b-38bc98dc4e6b",
   "metadata": {},
   "outputs": [],
   "source": [
    "df_total = pd.read_excel('data/all_data.xlsx', sheet_name='percentChange',engine='openpyxl')\n",
    "stocks = pd.read_csv('data/stocks.csv',)\n",
    "links_total = pd.read_csv('data/links_total.csv',)"
   ]
  },
  {
   "cell_type": "code",
   "execution_count": 299,
   "id": "d2f0b197-1c7d-4f07-a59d-74b1ab25d897",
   "metadata": {},
   "outputs": [],
   "source": [
    "all_sectors = {}\n",
    "for sect in df_total['Sector']:\n",
    "    if(sect in all_sectors):\n",
    "        all_sectors[sect]+=1\n",
    "    else:\n",
    "        all_sectors[sect]=1\n",
    "sorted_sectors = sorted(all_sectors.items(),key=lambda x:x[1],reverse=True)"
   ]
  },
  {
   "cell_type": "markdown",
   "id": "27e66826-bd5c-4d58-9402-c202061c6092",
   "metadata": {},
   "source": [
    "### Identifying Popular Sectors\n",
    "The snippet below prints all the sectors from our raw data, these include banking, software, pharmaceuticals and many more.\n",
    "With these sectors now identified, we can begin exploring the relationship between them, and see how stocks within the same sectors relate to eachother."
   ]
  },
  {
   "cell_type": "code",
   "execution_count": 300,
   "id": "2a9121e2-3b9e-451b-b4a3-3f7582f5c044",
   "metadata": {},
   "outputs": [
    {
     "name": "stdout",
     "output_type": "stream",
     "text": [
      "('No Sector', 375)\n",
      "('Banks', 246)\n",
      "('Biotechnology', 126)\n",
      "('Oil, Gas & Consumable Fuels', 122)\n",
      "('Equity Real Estate Investment Trusts ...', 92)\n",
      "('Metals & Mining', 89)\n",
      "('Machinery', 85)\n",
      "('Health Care Equipment & Supplies', 83)\n",
      "('Electronic Equipment, Instruments & C...', 78)\n",
      "('Insurance', 75)\n",
      "('Capital Markets', 75)\n",
      "('Semiconductors & Semiconductor Equipment', 68)\n",
      "('Software', 66)\n",
      "('Specialty Retail', 58)\n",
      "('Commercial Services & Supplies', 52)\n",
      "('IT Services', 52)\n",
      "('Chemicals', 51)\n",
      "('Hotels, Restaurants & Leisure', 50)\n",
      "('Pharmaceuticals', 48)\n",
      "('Thrifts & Mortgage Finance', 47)\n",
      "('Health Care Providers & Services', 46)\n",
      "('Communications Equipment', 45)\n",
      "('Food Products', 44)\n",
      "('Media', 42)\n",
      "('Household Durables', 39)\n",
      "('Aerospace & Defense', 37)\n",
      "('Professional Services', 35)\n",
      "('Energy Equipment & Services', 32)\n",
      "('Textiles, Apparel & Luxury Goods', 29)\n",
      "('Electrical Equipment', 28)\n",
      "('Electric Utilities', 28)\n",
      "('Trading Companies & Distributors', 25)\n",
      "('Building Products', 23)\n",
      "('Road & Rail', 22)\n",
      "('Real Estate Management & Development', 22)\n",
      "('Entertainment', 22)\n",
      "('Beverages', 21)\n",
      "('Auto Components', 21)\n",
      "('Construction & Engineering', 20)\n",
      "('Diversified Telecommunication Services', 20)\n",
      "('Technology Hardware, Storage & Periph...', 19)\n",
      "('Life Sciences Tools & Services', 19)\n",
      "('Personal Products', 19)\n",
      "('Multi-Utilities', 18)\n",
      "('Diversified Consumer Services', 17)\n",
      "('Mortgage Real Estate Investment Trust...', 16)\n",
      "('Internet & Direct Marketing Retail', 15)\n",
      "('Food & Staples Retailing', 15)\n",
      "('Marine', 15)\n",
      "('Consumer Finance', 15)\n",
      "('Airlines', 14)\n",
      "('Wireless Telecommunication Services', 14)\n",
      "('Water Utilities', 12)\n",
      "('Gas Utilities', 12)\n",
      "('Containers & Packaging', 12)\n",
      "('Air Freight & Logistics', 11)\n",
      "('Leisure Products', 11)\n",
      "('Household Products', 10)\n",
      "('Interactive Media & Services', 9)\n",
      "('Health Care Technology', 9)\n",
      "('Construction Materials', 8)\n",
      "('Automobiles', 8)\n",
      "('Paper & Forest Products', 7)\n",
      "('Multiline Retail', 7)\n",
      "('Independent Power and Renewable Elect...', 6)\n",
      "('Diversified Financial Services', 6)\n",
      "('Industrial Conglomerates', 6)\n",
      "('Distributors', 6)\n",
      "('Tobacco', 5)\n",
      "('Software-Application', 4)\n",
      "('Transportation Infrastructure', 3)\n",
      "('Asset Management', 3)\n",
      "('Telecom Services', 3)\n",
      "('Information Technology Services', 3)\n",
      "('Medical Devices', 2)\n",
      "('Medical Instruments & Supplies', 2)\n",
      "('Specialty Industrial Machinery', 2)\n",
      "('Drug Manufacturers-Specialty & Generic', 2)\n",
      "('Furnishings, Fixtures & Appliances', 2)\n",
      "('Other Industrial Metals & Mining', 2)\n",
      "('Banks-Regional', 2)\n",
      "('Gambling', 2)\n",
      "('Communication Equipment', 2)\n",
      "('Medical Care Facilities', 2)\n",
      "('Computer Hardware', 2)\n",
      "('Scientific & Technical Instruments', 1)\n",
      "('Building Products & Equipment', 1)\n",
      "('Auto Manufacturers', 1)\n",
      "('Electronic Components', 1)\n",
      "('Gold', 1)\n",
      "('Industrial Distribution', 1)\n",
      "('Pharmaceutical Retailers', 1)\n",
      "('Rental & Leasing Services', 1)\n",
      "('Auto & Truck Dealerships', 1)\n",
      "('REIT-Mortgage', 1)\n",
      "('Petroleum Refineries', 1)\n",
      "('Advertising Agencies', 1)\n",
      "('Diagnostics & Research', 1)\n",
      "('Engineering & Construction', 1)\n",
      "('REIT-Residential', 1)\n",
      "('Auto Parts', 1)\n",
      "('Semiconductors', 1)\n"
     ]
    }
   ],
   "source": [
    "for sector in sorted_sectors:\n",
    "    print(sector)"
   ]
  },
  {
   "cell_type": "code",
   "execution_count": 301,
   "id": "f440bcb7-6243-475c-8a2d-af2a7641acdb",
   "metadata": {},
   "outputs": [],
   "source": [
    "top_sectors = [\n",
    "'No Sector',\n",
    "'Banks',\n",
    "'Biotechnology',\n",
    "'Oil, Gas & Consumable Fuels',\n",
    "'Equity Real Estate Investment Trusts ',\n",
    "'Metals & Mining',\n",
    "'Machinery',\n",
    "'Electronic Equipment, Instruments & C',\n",
    "'Capital Markets',\n",
    "'Health Care Equipment & Supplies',\n",
    "'Insurance',\n",
    "'Semiconductors & Semiconductor Equipment',\n",
    "'Software',\n",
    "'Specialty Retail',\n",
    "'IT Services',\n",
    "'Commercial Services & Supplies',\n",
    "'Pharmaceuticals',\n",
    "'Chemicals',\n",
    "'Hotels, Restaurants & Leisure',\n",
    "'Thrifts & Mortgage Finance',\n",
    "'Communications Equipment',\n",
    "'Health Care Providers & Services',\n",
    "'Food Products',\n",
    "'Media',\n",
    "'Aerospace & Defense',\n",
    "'Household Durables',\n",
    "'Professional Services',\n",
    "'Energy Equipment & Services',\n",
    "'Blank Check / SPAC',\n",
    "'Electrical Equipment',\n",
    "'Textiles, Apparel & Luxury Goods',\n",
    "'Electric Utilities',\n",
    "'Trading Companies & Distributors',\n",
    "'Real Estate Management & Development',\n",
    "'Building Products',\n",
    "'Entertainment',\n",
    "'Technology Hardware, Storage & Periph',\n",
    "'Construction & Engineering',\n",
    "'Road & Rail',\n",
    "'Consumer Finance',\n",
    "'Beverages',\n",
    "'Auto Components',\n",
    "'Diversified Telecommunication Services',\n",
    "'Life Sciences Tools & Services',\n",
    "'Multi-Utilities',\n",
    "'Internet & Direct Marketing Retail',\n",
    "'Personal Products',\n",
    "'Diversified Consumer Services',\n",
    "'Mortgage Real Estate Investment Trust',\n",
    "'Shell Companies',\n",
    "'Marine',\n",
    "'Airlines',\n",
    "'Food & Staples Retailing',\n",
    "'Wireless Telecommunication Services',\n",
    "'Containers & Packaging',\n",
    "'Software-Application',\n",
    "'Water Utilities',\n",
    "'Gas Utilities',\n",
    "'Air Freight & Logistics',\n",
    "'Leisure Products',\n",
    "'Health Care Technology',\n",
    "'Interactive Media & Services',\n",
    "'Household Products',\n",
    "'Automobiles',\n",
    "'Construction Materials',\n",
    "'Multiline Retail',\n",
    "'Independent Power and Renewable Elect',\n",
    "'Paper & Forest Products',\n",
    "'Diversified Financial Services',\n",
    "'Industrial Conglomerates',\n",
    "'Distributors',\n",
    "'Medical Instruments & Supplies',\n",
    "'Tobacco',\n",
    "'Information Technology Services',\n",
    "'Medical Devices',\n",
    "'Drug Manufacturers-Specialty & Generic',\n",
    "'Asset Management',\n",
    "'Specialty Industrial Machinery',\n",
    "'Telecom Services',\n",
    "'Furnishings, Fixtures & Appliances',\n",
    "'Banks-Regional',\n",
    "'Transportation Infrastructure',\n",
    "'Health Information Services',\n",
    "'Electrical Equipment & Parts',\n",
    "'Other Industrial Metals & Mining',\n",
    "'Scientific & Technical Instruments',\n",
    "'Gold',\n",
    "'Security & Protection Services',\n",
    "'Auto Parts',\n",
    "'Gambling',\n",
    "'Communication Equipment',\n",
    "'Software-Infrastructure',\n",
    "'Health Care',\n",
    "'Medical Care Facilities',\n",
    "'Computer Hardware',\n",
    "'Building Products & Equipment',\n",
    "'Auto Manufacturers',\n",
    "'Electronic Components',\n",
    "'Agricultural Inputs',\n",
    "'Internet Content & Information',\n",
    "'Securities and Commodity Exchanges',\n",
    "'Farm Products',\n",
    "'Utilities-Renewable',\n",
    "'Industrial Distribution',\n",
    "'Electronic Gaming & Multimedia',\n",
    "'Education & Training Services',\n",
    "'Pharmaceutical Retailers',\n",
    "'Oil & Gas Drilling',\n",
    "'Banks-Diversified',\n",
    "'Internet Retail',\n",
    "'Rental & Leasing Services',\n",
    "'Staffing & Employment Services',\n",
    "'Auto & Truck Dealerships',\n",
    "'Electromedical and Electrotherapeutic',\n",
    "'REIT-Mortgage',\n",
    "'Petroleum Refineries',\n",
    "'Advertising Agencies',\n",
    "'Diagnostics & Research',\n",
    "'Specialty Business Services',\n",
    "'Uranium',\n",
    "'Engineering & Construction',\n",
    "'Packaged Foods',\n",
    "'REIT-Residential',\n",
    "'Beverages-Wineries & Distilleries',\n",
    "'Semiconductors',\n",
    "]"
   ]
  },
  {
   "cell_type": "markdown",
   "id": "622220dd-1577-4478-9a99-be63e31259a5",
   "metadata": {},
   "source": [
    "### Getting Stocks by sector\n",
    "After we have obtained the top sectors, the snippet of code below goes through the data and finds all the stocks corresponding to our top sectors"
   ]
  },
  {
   "cell_type": "code",
   "execution_count": 302,
   "id": "46264091-92e5-49ce-b68a-2176451563f1",
   "metadata": {},
   "outputs": [],
   "source": [
    "stocks_by_sector = []\n",
    "for sector in top_sectors:\n",
    "    stocks = df_total.loc[df_total['Sector'] == sector]\n",
    "    value = (sector,stocks)\n",
    "    stocks_by_sector.append(value)"
   ]
  },
  {
   "cell_type": "markdown",
   "id": "33e7f029-4bf4-40e7-a9c5-b0a44c93d43d",
   "metadata": {},
   "source": [
    "### Calculating Average Intra-Sector Correlation\n",
    "The following code blocks calculate the average weight of a link between all the stocks in a given sector. For example, in the Bank sector, the functions will go and obtain the links from one bank stock to every other bank stock, and add them to the total. Then this total will be divided by the number of links, to obtain the average weight. This is in hopes of answering our third and fourth research questions."
   ]
  },
  {
   "cell_type": "code",
   "execution_count": 303,
   "id": "f6c915a7-8018-4f89-88de-ba415bfd0bcc",
   "metadata": {},
   "outputs": [],
   "source": [
    "def calculateIntraSectorWeight(sector):\n",
    "    max_corr = (0,\"stock\",\"stock\")\n",
    "    min_corr = (0,\"stock\",\"stock\")\n",
    "    sum_of_links = 0\n",
    "    link_count = 0\n",
    "    sector_index = top_sectors.index(sector)\n",
    "    df = stocks_by_sector[sector_index][1]\n",
    "    num_of_stocks = df.shape[0]\n",
    "    for i in tqdm(range(num_of_stocks)):\n",
    "        first_stock = df.iloc[i,2:]\n",
    "        for j in range(i+1,num_of_stocks):\n",
    "            second_stock = df.iloc[j,2:]\n",
    "            result = 1-spatial.distance.cosine(first_stock,second_stock)\n",
    "            if(result>max_corr[0]):\n",
    "                max_corr = (result,df.iloc[i,0],df.iloc[j,0])\n",
    "            if(result<min_corr[0]):\n",
    "                min_corr = (result,df.iloc[i,0],df.iloc[j,0])\n",
    "            sum_of_links += result\n",
    "            link_count += 1\n",
    "    if(link_count < 1):\n",
    "        return 0,1,\"N/A\",\"N/A\"\n",
    "    average_link = sum_of_links / link_count\n",
    "    return average_link,num_of_stocks,max_corr,min_corr"
   ]
  },
  {
   "cell_type": "code",
   "execution_count": 304,
   "id": "f272f270-63e0-4c18-bb07-38da6814994c",
   "metadata": {},
   "outputs": [],
   "source": [
    "def getAllIntraSectorCorrelations(df):\n",
    "    for count,sector in enumerate(top_sectors):\n",
    "        avg,num_stocks,max_corr, min_corr = calculateIntraSectorWeight(sector)\n",
    "        df.loc[count] = [(str(sector)+\"(\"+str(num_stocks)+\")\"),\n",
    "                         avg,\n",
    "                         (max_corr[0],max_corr[1],max_corr[2]),\n",
    "                         (min_corr[0],min_corr[1],min_corr[2])]"
   ]
  },
  {
   "cell_type": "code",
   "execution_count": 305,
   "id": "b0f5c4ef-417b-46d0-b660-c0da7307944a",
   "metadata": {},
   "outputs": [
    {
     "data": {
      "application/vnd.jupyter.widget-view+json": {
       "model_id": "c6f7a2c94d6f48a29be1c17863339a13",
       "version_major": 2,
       "version_minor": 0
      },
      "text/plain": [
       "  0%|          | 0/375 [00:00<?, ?it/s]"
      ]
     },
     "metadata": {},
     "output_type": "display_data"
    },
    {
     "data": {
      "application/vnd.jupyter.widget-view+json": {
       "model_id": "6b3e1181b87f4328b426d32a3c61fde4",
       "version_major": 2,
       "version_minor": 0
      },
      "text/plain": [
       "  0%|          | 0/246 [00:00<?, ?it/s]"
      ]
     },
     "metadata": {},
     "output_type": "display_data"
    },
    {
     "data": {
      "application/vnd.jupyter.widget-view+json": {
       "model_id": "1108ac9a9daf458f851384681113f0f8",
       "version_major": 2,
       "version_minor": 0
      },
      "text/plain": [
       "  0%|          | 0/126 [00:00<?, ?it/s]"
      ]
     },
     "metadata": {},
     "output_type": "display_data"
    },
    {
     "data": {
      "application/vnd.jupyter.widget-view+json": {
       "model_id": "f4dbed396c5a472bb2524afc3473f05b",
       "version_major": 2,
       "version_minor": 0
      },
      "text/plain": [
       "  0%|          | 0/122 [00:00<?, ?it/s]"
      ]
     },
     "metadata": {},
     "output_type": "display_data"
    },
    {
     "data": {
      "application/vnd.jupyter.widget-view+json": {
       "model_id": "7dae46c2438c489887c408d18b2f72bb",
       "version_major": 2,
       "version_minor": 0
      },
      "text/plain": [
       "0it [00:00, ?it/s]"
      ]
     },
     "metadata": {},
     "output_type": "display_data"
    },
    {
     "data": {
      "application/vnd.jupyter.widget-view+json": {
       "model_id": "94f174a23b12483293ca263b9450e9db",
       "version_major": 2,
       "version_minor": 0
      },
      "text/plain": [
       "  0%|          | 0/89 [00:00<?, ?it/s]"
      ]
     },
     "metadata": {},
     "output_type": "display_data"
    },
    {
     "data": {
      "application/vnd.jupyter.widget-view+json": {
       "model_id": "8d0c9c3d5b9b43c6ba86d5384268a85c",
       "version_major": 2,
       "version_minor": 0
      },
      "text/plain": [
       "  0%|          | 0/85 [00:00<?, ?it/s]"
      ]
     },
     "metadata": {},
     "output_type": "display_data"
    },
    {
     "data": {
      "application/vnd.jupyter.widget-view+json": {
       "model_id": "20f62261204e4d88a6f8fbfa2beb0d27",
       "version_major": 2,
       "version_minor": 0
      },
      "text/plain": [
       "0it [00:00, ?it/s]"
      ]
     },
     "metadata": {},
     "output_type": "display_data"
    },
    {
     "data": {
      "application/vnd.jupyter.widget-view+json": {
       "model_id": "42c047c4708d47ce991d68add45b4bcc",
       "version_major": 2,
       "version_minor": 0
      },
      "text/plain": [
       "  0%|          | 0/75 [00:00<?, ?it/s]"
      ]
     },
     "metadata": {},
     "output_type": "display_data"
    },
    {
     "data": {
      "application/vnd.jupyter.widget-view+json": {
       "model_id": "e14d0e7c484c4e6cb12207d7507552a6",
       "version_major": 2,
       "version_minor": 0
      },
      "text/plain": [
       "  0%|          | 0/83 [00:00<?, ?it/s]"
      ]
     },
     "metadata": {},
     "output_type": "display_data"
    },
    {
     "data": {
      "application/vnd.jupyter.widget-view+json": {
       "model_id": "2bb8f8c26fac4134a8718075547eb54f",
       "version_major": 2,
       "version_minor": 0
      },
      "text/plain": [
       "  0%|          | 0/75 [00:00<?, ?it/s]"
      ]
     },
     "metadata": {},
     "output_type": "display_data"
    },
    {
     "data": {
      "application/vnd.jupyter.widget-view+json": {
       "model_id": "60b9d58760944786b4d64166e99e1b74",
       "version_major": 2,
       "version_minor": 0
      },
      "text/plain": [
       "  0%|          | 0/68 [00:00<?, ?it/s]"
      ]
     },
     "metadata": {},
     "output_type": "display_data"
    },
    {
     "data": {
      "application/vnd.jupyter.widget-view+json": {
       "model_id": "e130498e8d1044669a721140440d5ae1",
       "version_major": 2,
       "version_minor": 0
      },
      "text/plain": [
       "  0%|          | 0/66 [00:00<?, ?it/s]"
      ]
     },
     "metadata": {},
     "output_type": "display_data"
    },
    {
     "data": {
      "application/vnd.jupyter.widget-view+json": {
       "model_id": "450b949b06d142a8ae21cdf8e24bb3d6",
       "version_major": 2,
       "version_minor": 0
      },
      "text/plain": [
       "  0%|          | 0/58 [00:00<?, ?it/s]"
      ]
     },
     "metadata": {},
     "output_type": "display_data"
    },
    {
     "data": {
      "application/vnd.jupyter.widget-view+json": {
       "model_id": "80108ad8f5d446be9c67c284a56075e7",
       "version_major": 2,
       "version_minor": 0
      },
      "text/plain": [
       "  0%|          | 0/52 [00:00<?, ?it/s]"
      ]
     },
     "metadata": {},
     "output_type": "display_data"
    },
    {
     "data": {
      "application/vnd.jupyter.widget-view+json": {
       "model_id": "359e94a6839141759393ca67b6fe0d36",
       "version_major": 2,
       "version_minor": 0
      },
      "text/plain": [
       "  0%|          | 0/52 [00:00<?, ?it/s]"
      ]
     },
     "metadata": {},
     "output_type": "display_data"
    },
    {
     "data": {
      "application/vnd.jupyter.widget-view+json": {
       "model_id": "a6e5fb444ffb478f969fdb6cd9aea1e2",
       "version_major": 2,
       "version_minor": 0
      },
      "text/plain": [
       "  0%|          | 0/48 [00:00<?, ?it/s]"
      ]
     },
     "metadata": {},
     "output_type": "display_data"
    },
    {
     "data": {
      "application/vnd.jupyter.widget-view+json": {
       "model_id": "dafd749984bc4c34aff951414fb6d444",
       "version_major": 2,
       "version_minor": 0
      },
      "text/plain": [
       "  0%|          | 0/51 [00:00<?, ?it/s]"
      ]
     },
     "metadata": {},
     "output_type": "display_data"
    },
    {
     "data": {
      "application/vnd.jupyter.widget-view+json": {
       "model_id": "c961eab5c66343efbd54b3f1813eb099",
       "version_major": 2,
       "version_minor": 0
      },
      "text/plain": [
       "  0%|          | 0/50 [00:00<?, ?it/s]"
      ]
     },
     "metadata": {},
     "output_type": "display_data"
    },
    {
     "data": {
      "application/vnd.jupyter.widget-view+json": {
       "model_id": "673c51389705420b8f13a0e9f66faf65",
       "version_major": 2,
       "version_minor": 0
      },
      "text/plain": [
       "  0%|          | 0/47 [00:00<?, ?it/s]"
      ]
     },
     "metadata": {},
     "output_type": "display_data"
    },
    {
     "data": {
      "application/vnd.jupyter.widget-view+json": {
       "model_id": "21fb3a5195c84c5d9462cea6767d4dca",
       "version_major": 2,
       "version_minor": 0
      },
      "text/plain": [
       "  0%|          | 0/45 [00:00<?, ?it/s]"
      ]
     },
     "metadata": {},
     "output_type": "display_data"
    },
    {
     "data": {
      "application/vnd.jupyter.widget-view+json": {
       "model_id": "27560a17d7f84908b2b8509f4b892cfd",
       "version_major": 2,
       "version_minor": 0
      },
      "text/plain": [
       "  0%|          | 0/46 [00:00<?, ?it/s]"
      ]
     },
     "metadata": {},
     "output_type": "display_data"
    },
    {
     "data": {
      "application/vnd.jupyter.widget-view+json": {
       "model_id": "591b2484715e46fea2d7f3899055a208",
       "version_major": 2,
       "version_minor": 0
      },
      "text/plain": [
       "  0%|          | 0/44 [00:00<?, ?it/s]"
      ]
     },
     "metadata": {},
     "output_type": "display_data"
    },
    {
     "data": {
      "application/vnd.jupyter.widget-view+json": {
       "model_id": "71b832cf5dea4782b6d633f498e30e5e",
       "version_major": 2,
       "version_minor": 0
      },
      "text/plain": [
       "  0%|          | 0/42 [00:00<?, ?it/s]"
      ]
     },
     "metadata": {},
     "output_type": "display_data"
    },
    {
     "data": {
      "application/vnd.jupyter.widget-view+json": {
       "model_id": "34d1325a64bb47ca861eaa9555a565bc",
       "version_major": 2,
       "version_minor": 0
      },
      "text/plain": [
       "  0%|          | 0/37 [00:00<?, ?it/s]"
      ]
     },
     "metadata": {},
     "output_type": "display_data"
    },
    {
     "data": {
      "application/vnd.jupyter.widget-view+json": {
       "model_id": "962fc2e12b774aec9180c9aaddfbc45f",
       "version_major": 2,
       "version_minor": 0
      },
      "text/plain": [
       "  0%|          | 0/39 [00:00<?, ?it/s]"
      ]
     },
     "metadata": {},
     "output_type": "display_data"
    },
    {
     "data": {
      "application/vnd.jupyter.widget-view+json": {
       "model_id": "e17f012d69e44b41956275a57ae8e3bc",
       "version_major": 2,
       "version_minor": 0
      },
      "text/plain": [
       "  0%|          | 0/35 [00:00<?, ?it/s]"
      ]
     },
     "metadata": {},
     "output_type": "display_data"
    },
    {
     "data": {
      "application/vnd.jupyter.widget-view+json": {
       "model_id": "2680feb65be143a58022b4376b846da7",
       "version_major": 2,
       "version_minor": 0
      },
      "text/plain": [
       "  0%|          | 0/32 [00:00<?, ?it/s]"
      ]
     },
     "metadata": {},
     "output_type": "display_data"
    },
    {
     "data": {
      "application/vnd.jupyter.widget-view+json": {
       "model_id": "a8881c3ea536422fb4b8dad8edbe6ecf",
       "version_major": 2,
       "version_minor": 0
      },
      "text/plain": [
       "0it [00:00, ?it/s]"
      ]
     },
     "metadata": {},
     "output_type": "display_data"
    },
    {
     "data": {
      "application/vnd.jupyter.widget-view+json": {
       "model_id": "030c8523c1874dc88d8fc327c4aa0068",
       "version_major": 2,
       "version_minor": 0
      },
      "text/plain": [
       "  0%|          | 0/28 [00:00<?, ?it/s]"
      ]
     },
     "metadata": {},
     "output_type": "display_data"
    },
    {
     "data": {
      "application/vnd.jupyter.widget-view+json": {
       "model_id": "496b92486af74b9ab062d8fe88cceb19",
       "version_major": 2,
       "version_minor": 0
      },
      "text/plain": [
       "  0%|          | 0/29 [00:00<?, ?it/s]"
      ]
     },
     "metadata": {},
     "output_type": "display_data"
    },
    {
     "data": {
      "application/vnd.jupyter.widget-view+json": {
       "model_id": "359f82f102ad4c4bb1ab82e54747aae5",
       "version_major": 2,
       "version_minor": 0
      },
      "text/plain": [
       "  0%|          | 0/28 [00:00<?, ?it/s]"
      ]
     },
     "metadata": {},
     "output_type": "display_data"
    },
    {
     "data": {
      "application/vnd.jupyter.widget-view+json": {
       "model_id": "68eccb13b23248fab6d602d4a93adcb1",
       "version_major": 2,
       "version_minor": 0
      },
      "text/plain": [
       "  0%|          | 0/25 [00:00<?, ?it/s]"
      ]
     },
     "metadata": {},
     "output_type": "display_data"
    },
    {
     "data": {
      "application/vnd.jupyter.widget-view+json": {
       "model_id": "1e31c36b3dfb4d33b23ea3e351e87a22",
       "version_major": 2,
       "version_minor": 0
      },
      "text/plain": [
       "  0%|          | 0/22 [00:00<?, ?it/s]"
      ]
     },
     "metadata": {},
     "output_type": "display_data"
    },
    {
     "data": {
      "application/vnd.jupyter.widget-view+json": {
       "model_id": "8f2a9cecd8ea46bebcf52555f4d6a4e7",
       "version_major": 2,
       "version_minor": 0
      },
      "text/plain": [
       "  0%|          | 0/23 [00:00<?, ?it/s]"
      ]
     },
     "metadata": {},
     "output_type": "display_data"
    },
    {
     "data": {
      "application/vnd.jupyter.widget-view+json": {
       "model_id": "cf75df49208f467db666ef3b6fcc72fd",
       "version_major": 2,
       "version_minor": 0
      },
      "text/plain": [
       "  0%|          | 0/22 [00:00<?, ?it/s]"
      ]
     },
     "metadata": {},
     "output_type": "display_data"
    },
    {
     "data": {
      "application/vnd.jupyter.widget-view+json": {
       "model_id": "1bb7ce7f5261484cbd20450324c6e312",
       "version_major": 2,
       "version_minor": 0
      },
      "text/plain": [
       "0it [00:00, ?it/s]"
      ]
     },
     "metadata": {},
     "output_type": "display_data"
    },
    {
     "data": {
      "application/vnd.jupyter.widget-view+json": {
       "model_id": "bdc234ace38348b78454a731b4fbff2f",
       "version_major": 2,
       "version_minor": 0
      },
      "text/plain": [
       "  0%|          | 0/20 [00:00<?, ?it/s]"
      ]
     },
     "metadata": {},
     "output_type": "display_data"
    },
    {
     "data": {
      "application/vnd.jupyter.widget-view+json": {
       "model_id": "e248a838844041dca8d67fa648d845c6",
       "version_major": 2,
       "version_minor": 0
      },
      "text/plain": [
       "  0%|          | 0/22 [00:00<?, ?it/s]"
      ]
     },
     "metadata": {},
     "output_type": "display_data"
    },
    {
     "data": {
      "application/vnd.jupyter.widget-view+json": {
       "model_id": "aa3b062f859f4df8ae01538a03cb3862",
       "version_major": 2,
       "version_minor": 0
      },
      "text/plain": [
       "  0%|          | 0/15 [00:00<?, ?it/s]"
      ]
     },
     "metadata": {},
     "output_type": "display_data"
    },
    {
     "data": {
      "application/vnd.jupyter.widget-view+json": {
       "model_id": "ac78bc7709194b59b979bc296b061cca",
       "version_major": 2,
       "version_minor": 0
      },
      "text/plain": [
       "  0%|          | 0/21 [00:00<?, ?it/s]"
      ]
     },
     "metadata": {},
     "output_type": "display_data"
    },
    {
     "data": {
      "application/vnd.jupyter.widget-view+json": {
       "model_id": "57ad5223d7904af08f1bc1a62f4a9033",
       "version_major": 2,
       "version_minor": 0
      },
      "text/plain": [
       "  0%|          | 0/21 [00:00<?, ?it/s]"
      ]
     },
     "metadata": {},
     "output_type": "display_data"
    },
    {
     "data": {
      "application/vnd.jupyter.widget-view+json": {
       "model_id": "f231495bad444ee788e2cf5e931ab506",
       "version_major": 2,
       "version_minor": 0
      },
      "text/plain": [
       "  0%|          | 0/20 [00:00<?, ?it/s]"
      ]
     },
     "metadata": {},
     "output_type": "display_data"
    },
    {
     "data": {
      "application/vnd.jupyter.widget-view+json": {
       "model_id": "73ab1467c6574afcb48aae0958d5f3c1",
       "version_major": 2,
       "version_minor": 0
      },
      "text/plain": [
       "  0%|          | 0/19 [00:00<?, ?it/s]"
      ]
     },
     "metadata": {},
     "output_type": "display_data"
    },
    {
     "data": {
      "application/vnd.jupyter.widget-view+json": {
       "model_id": "6ae47d18303644a0b09513ce8e74c76f",
       "version_major": 2,
       "version_minor": 0
      },
      "text/plain": [
       "  0%|          | 0/18 [00:00<?, ?it/s]"
      ]
     },
     "metadata": {},
     "output_type": "display_data"
    },
    {
     "data": {
      "application/vnd.jupyter.widget-view+json": {
       "model_id": "aaea406f30ba44c6bd2decb83dd1d95d",
       "version_major": 2,
       "version_minor": 0
      },
      "text/plain": [
       "  0%|          | 0/15 [00:00<?, ?it/s]"
      ]
     },
     "metadata": {},
     "output_type": "display_data"
    },
    {
     "data": {
      "application/vnd.jupyter.widget-view+json": {
       "model_id": "baf472d8b0ac4025a85451a7d632c403",
       "version_major": 2,
       "version_minor": 0
      },
      "text/plain": [
       "  0%|          | 0/19 [00:00<?, ?it/s]"
      ]
     },
     "metadata": {},
     "output_type": "display_data"
    },
    {
     "data": {
      "application/vnd.jupyter.widget-view+json": {
       "model_id": "184c643ae4934378b731efa9ca90095a",
       "version_major": 2,
       "version_minor": 0
      },
      "text/plain": [
       "  0%|          | 0/17 [00:00<?, ?it/s]"
      ]
     },
     "metadata": {},
     "output_type": "display_data"
    },
    {
     "data": {
      "application/vnd.jupyter.widget-view+json": {
       "model_id": "4b913cd03b31419e80cc5ccc75d4f053",
       "version_major": 2,
       "version_minor": 0
      },
      "text/plain": [
       "0it [00:00, ?it/s]"
      ]
     },
     "metadata": {},
     "output_type": "display_data"
    },
    {
     "data": {
      "application/vnd.jupyter.widget-view+json": {
       "model_id": "b2bdde22a0974a52992963e2e3670290",
       "version_major": 2,
       "version_minor": 0
      },
      "text/plain": [
       "0it [00:00, ?it/s]"
      ]
     },
     "metadata": {},
     "output_type": "display_data"
    },
    {
     "data": {
      "application/vnd.jupyter.widget-view+json": {
       "model_id": "47dafdd3ce7f41f296c1680f10372ec4",
       "version_major": 2,
       "version_minor": 0
      },
      "text/plain": [
       "  0%|          | 0/15 [00:00<?, ?it/s]"
      ]
     },
     "metadata": {},
     "output_type": "display_data"
    },
    {
     "data": {
      "application/vnd.jupyter.widget-view+json": {
       "model_id": "f398f4ac466240cb8f0e6e5b03de592e",
       "version_major": 2,
       "version_minor": 0
      },
      "text/plain": [
       "  0%|          | 0/14 [00:00<?, ?it/s]"
      ]
     },
     "metadata": {},
     "output_type": "display_data"
    },
    {
     "data": {
      "application/vnd.jupyter.widget-view+json": {
       "model_id": "86bc8912ed7a4b3f9a4304c18a3f0199",
       "version_major": 2,
       "version_minor": 0
      },
      "text/plain": [
       "  0%|          | 0/15 [00:00<?, ?it/s]"
      ]
     },
     "metadata": {},
     "output_type": "display_data"
    },
    {
     "data": {
      "application/vnd.jupyter.widget-view+json": {
       "model_id": "a8f4a99efa4d40a696f3d6e04f19dae8",
       "version_major": 2,
       "version_minor": 0
      },
      "text/plain": [
       "  0%|          | 0/14 [00:00<?, ?it/s]"
      ]
     },
     "metadata": {},
     "output_type": "display_data"
    },
    {
     "data": {
      "application/vnd.jupyter.widget-view+json": {
       "model_id": "68a2fe5de8c54ab7a294d2faac74cec8",
       "version_major": 2,
       "version_minor": 0
      },
      "text/plain": [
       "  0%|          | 0/12 [00:00<?, ?it/s]"
      ]
     },
     "metadata": {},
     "output_type": "display_data"
    },
    {
     "data": {
      "application/vnd.jupyter.widget-view+json": {
       "model_id": "402f67c9b05f40aeb8bac096c7cdd3ab",
       "version_major": 2,
       "version_minor": 0
      },
      "text/plain": [
       "  0%|          | 0/4 [00:00<?, ?it/s]"
      ]
     },
     "metadata": {},
     "output_type": "display_data"
    },
    {
     "data": {
      "application/vnd.jupyter.widget-view+json": {
       "model_id": "c3a75838c4024ff4afa153ddd66929f2",
       "version_major": 2,
       "version_minor": 0
      },
      "text/plain": [
       "  0%|          | 0/12 [00:00<?, ?it/s]"
      ]
     },
     "metadata": {},
     "output_type": "display_data"
    },
    {
     "data": {
      "application/vnd.jupyter.widget-view+json": {
       "model_id": "96c90c2b44e7473c8fe898c08b7a3deb",
       "version_major": 2,
       "version_minor": 0
      },
      "text/plain": [
       "  0%|          | 0/12 [00:00<?, ?it/s]"
      ]
     },
     "metadata": {},
     "output_type": "display_data"
    },
    {
     "data": {
      "application/vnd.jupyter.widget-view+json": {
       "model_id": "ef6d94f82c424506a23c6f94b4765e3c",
       "version_major": 2,
       "version_minor": 0
      },
      "text/plain": [
       "  0%|          | 0/11 [00:00<?, ?it/s]"
      ]
     },
     "metadata": {},
     "output_type": "display_data"
    },
    {
     "data": {
      "application/vnd.jupyter.widget-view+json": {
       "model_id": "275797504daf48a381dba039120b4fcc",
       "version_major": 2,
       "version_minor": 0
      },
      "text/plain": [
       "  0%|          | 0/11 [00:00<?, ?it/s]"
      ]
     },
     "metadata": {},
     "output_type": "display_data"
    },
    {
     "data": {
      "application/vnd.jupyter.widget-view+json": {
       "model_id": "3c2984ee70994204ab4941412e35b799",
       "version_major": 2,
       "version_minor": 0
      },
      "text/plain": [
       "  0%|          | 0/9 [00:00<?, ?it/s]"
      ]
     },
     "metadata": {},
     "output_type": "display_data"
    },
    {
     "data": {
      "application/vnd.jupyter.widget-view+json": {
       "model_id": "c0429a7c418b49d7a22b16751102981d",
       "version_major": 2,
       "version_minor": 0
      },
      "text/plain": [
       "  0%|          | 0/9 [00:00<?, ?it/s]"
      ]
     },
     "metadata": {},
     "output_type": "display_data"
    },
    {
     "data": {
      "application/vnd.jupyter.widget-view+json": {
       "model_id": "f757260d01c44adf9bc5e830d1385f1c",
       "version_major": 2,
       "version_minor": 0
      },
      "text/plain": [
       "  0%|          | 0/10 [00:00<?, ?it/s]"
      ]
     },
     "metadata": {},
     "output_type": "display_data"
    },
    {
     "data": {
      "application/vnd.jupyter.widget-view+json": {
       "model_id": "ae6293f4260c4533b73f2e663d75fe53",
       "version_major": 2,
       "version_minor": 0
      },
      "text/plain": [
       "  0%|          | 0/8 [00:00<?, ?it/s]"
      ]
     },
     "metadata": {},
     "output_type": "display_data"
    },
    {
     "data": {
      "application/vnd.jupyter.widget-view+json": {
       "model_id": "2a30b55dc57644fea99834c75adbe66d",
       "version_major": 2,
       "version_minor": 0
      },
      "text/plain": [
       "  0%|          | 0/8 [00:00<?, ?it/s]"
      ]
     },
     "metadata": {},
     "output_type": "display_data"
    },
    {
     "data": {
      "application/vnd.jupyter.widget-view+json": {
       "model_id": "32b8c92601a04d5092c895c6d904b6eb",
       "version_major": 2,
       "version_minor": 0
      },
      "text/plain": [
       "  0%|          | 0/7 [00:00<?, ?it/s]"
      ]
     },
     "metadata": {},
     "output_type": "display_data"
    },
    {
     "data": {
      "application/vnd.jupyter.widget-view+json": {
       "model_id": "3e1ceffeae9e444b865ddebd32b5f7c1",
       "version_major": 2,
       "version_minor": 0
      },
      "text/plain": [
       "0it [00:00, ?it/s]"
      ]
     },
     "metadata": {},
     "output_type": "display_data"
    },
    {
     "data": {
      "application/vnd.jupyter.widget-view+json": {
       "model_id": "1146fb61275744d8b37742fcdc222083",
       "version_major": 2,
       "version_minor": 0
      },
      "text/plain": [
       "  0%|          | 0/7 [00:00<?, ?it/s]"
      ]
     },
     "metadata": {},
     "output_type": "display_data"
    },
    {
     "data": {
      "application/vnd.jupyter.widget-view+json": {
       "model_id": "ea1c9f4d2f03419592d11e375b9c7207",
       "version_major": 2,
       "version_minor": 0
      },
      "text/plain": [
       "  0%|          | 0/6 [00:00<?, ?it/s]"
      ]
     },
     "metadata": {},
     "output_type": "display_data"
    },
    {
     "data": {
      "application/vnd.jupyter.widget-view+json": {
       "model_id": "8572fcffa3834b96a222a9b36436a43c",
       "version_major": 2,
       "version_minor": 0
      },
      "text/plain": [
       "  0%|          | 0/6 [00:00<?, ?it/s]"
      ]
     },
     "metadata": {},
     "output_type": "display_data"
    },
    {
     "data": {
      "application/vnd.jupyter.widget-view+json": {
       "model_id": "65813d6e31a940b399d439d57b0c291f",
       "version_major": 2,
       "version_minor": 0
      },
      "text/plain": [
       "  0%|          | 0/6 [00:00<?, ?it/s]"
      ]
     },
     "metadata": {},
     "output_type": "display_data"
    },
    {
     "data": {
      "application/vnd.jupyter.widget-view+json": {
       "model_id": "f6f4e9f3bde0407cbc7e49ee0d14b0b9",
       "version_major": 2,
       "version_minor": 0
      },
      "text/plain": [
       "  0%|          | 0/2 [00:00<?, ?it/s]"
      ]
     },
     "metadata": {},
     "output_type": "display_data"
    },
    {
     "data": {
      "application/vnd.jupyter.widget-view+json": {
       "model_id": "9bf4de6c5ff34944b579556662621d2e",
       "version_major": 2,
       "version_minor": 0
      },
      "text/plain": [
       "  0%|          | 0/5 [00:00<?, ?it/s]"
      ]
     },
     "metadata": {},
     "output_type": "display_data"
    },
    {
     "data": {
      "application/vnd.jupyter.widget-view+json": {
       "model_id": "a1484b6203f04080afbc826e6d7a2dbe",
       "version_major": 2,
       "version_minor": 0
      },
      "text/plain": [
       "  0%|          | 0/3 [00:00<?, ?it/s]"
      ]
     },
     "metadata": {},
     "output_type": "display_data"
    },
    {
     "data": {
      "application/vnd.jupyter.widget-view+json": {
       "model_id": "fda8be3e70ee4a0f8e8ef1ad679de6b0",
       "version_major": 2,
       "version_minor": 0
      },
      "text/plain": [
       "  0%|          | 0/2 [00:00<?, ?it/s]"
      ]
     },
     "metadata": {},
     "output_type": "display_data"
    },
    {
     "data": {
      "application/vnd.jupyter.widget-view+json": {
       "model_id": "31190a97e57b4d51811b578160333de1",
       "version_major": 2,
       "version_minor": 0
      },
      "text/plain": [
       "  0%|          | 0/2 [00:00<?, ?it/s]"
      ]
     },
     "metadata": {},
     "output_type": "display_data"
    },
    {
     "data": {
      "application/vnd.jupyter.widget-view+json": {
       "model_id": "c44519dc45114aa2968555f024bfc8b6",
       "version_major": 2,
       "version_minor": 0
      },
      "text/plain": [
       "  0%|          | 0/3 [00:00<?, ?it/s]"
      ]
     },
     "metadata": {},
     "output_type": "display_data"
    },
    {
     "data": {
      "application/vnd.jupyter.widget-view+json": {
       "model_id": "339c8be36eb94009b8e28565a7919199",
       "version_major": 2,
       "version_minor": 0
      },
      "text/plain": [
       "  0%|          | 0/2 [00:00<?, ?it/s]"
      ]
     },
     "metadata": {},
     "output_type": "display_data"
    },
    {
     "data": {
      "application/vnd.jupyter.widget-view+json": {
       "model_id": "ba7913c7eafc41d6bcd954aa3b4f933c",
       "version_major": 2,
       "version_minor": 0
      },
      "text/plain": [
       "  0%|          | 0/3 [00:00<?, ?it/s]"
      ]
     },
     "metadata": {},
     "output_type": "display_data"
    },
    {
     "data": {
      "application/vnd.jupyter.widget-view+json": {
       "model_id": "15501bb01bb446469a5ac4d02e83dc22",
       "version_major": 2,
       "version_minor": 0
      },
      "text/plain": [
       "  0%|          | 0/2 [00:00<?, ?it/s]"
      ]
     },
     "metadata": {},
     "output_type": "display_data"
    },
    {
     "data": {
      "application/vnd.jupyter.widget-view+json": {
       "model_id": "9df777708dc64a0485b58d7769de7ad1",
       "version_major": 2,
       "version_minor": 0
      },
      "text/plain": [
       "  0%|          | 0/2 [00:00<?, ?it/s]"
      ]
     },
     "metadata": {},
     "output_type": "display_data"
    },
    {
     "data": {
      "application/vnd.jupyter.widget-view+json": {
       "model_id": "57872c68a0b247e8ab25fd57d08e216c",
       "version_major": 2,
       "version_minor": 0
      },
      "text/plain": [
       "  0%|          | 0/3 [00:00<?, ?it/s]"
      ]
     },
     "metadata": {},
     "output_type": "display_data"
    },
    {
     "data": {
      "application/vnd.jupyter.widget-view+json": {
       "model_id": "4b4978eecb044dcba363d8b590a6c79a",
       "version_major": 2,
       "version_minor": 0
      },
      "text/plain": [
       "0it [00:00, ?it/s]"
      ]
     },
     "metadata": {},
     "output_type": "display_data"
    },
    {
     "data": {
      "application/vnd.jupyter.widget-view+json": {
       "model_id": "285c8b66ff7b40c3939283c417158f84",
       "version_major": 2,
       "version_minor": 0
      },
      "text/plain": [
       "0it [00:00, ?it/s]"
      ]
     },
     "metadata": {},
     "output_type": "display_data"
    },
    {
     "data": {
      "application/vnd.jupyter.widget-view+json": {
       "model_id": "35d824fd677f488c8e67edf7c4ece890",
       "version_major": 2,
       "version_minor": 0
      },
      "text/plain": [
       "  0%|          | 0/2 [00:00<?, ?it/s]"
      ]
     },
     "metadata": {},
     "output_type": "display_data"
    },
    {
     "data": {
      "application/vnd.jupyter.widget-view+json": {
       "model_id": "937fe3320e744f189349f321c5f020c3",
       "version_major": 2,
       "version_minor": 0
      },
      "text/plain": [
       "  0%|          | 0/1 [00:00<?, ?it/s]"
      ]
     },
     "metadata": {},
     "output_type": "display_data"
    },
    {
     "data": {
      "application/vnd.jupyter.widget-view+json": {
       "model_id": "995e3d3cc66e4b3083f9ce8091a687fb",
       "version_major": 2,
       "version_minor": 0
      },
      "text/plain": [
       "  0%|          | 0/1 [00:00<?, ?it/s]"
      ]
     },
     "metadata": {},
     "output_type": "display_data"
    },
    {
     "data": {
      "application/vnd.jupyter.widget-view+json": {
       "model_id": "743fdd5877024e569329f829bb80bf6c",
       "version_major": 2,
       "version_minor": 0
      },
      "text/plain": [
       "0it [00:00, ?it/s]"
      ]
     },
     "metadata": {},
     "output_type": "display_data"
    },
    {
     "data": {
      "application/vnd.jupyter.widget-view+json": {
       "model_id": "c1f8516046ba471fa00633a68c84988f",
       "version_major": 2,
       "version_minor": 0
      },
      "text/plain": [
       "  0%|          | 0/1 [00:00<?, ?it/s]"
      ]
     },
     "metadata": {},
     "output_type": "display_data"
    },
    {
     "data": {
      "application/vnd.jupyter.widget-view+json": {
       "model_id": "dafd4ca6d93a4e2faaebbe6522d78ce0",
       "version_major": 2,
       "version_minor": 0
      },
      "text/plain": [
       "  0%|          | 0/2 [00:00<?, ?it/s]"
      ]
     },
     "metadata": {},
     "output_type": "display_data"
    },
    {
     "data": {
      "application/vnd.jupyter.widget-view+json": {
       "model_id": "87be07a7f4314acc8a16f074f40cce49",
       "version_major": 2,
       "version_minor": 0
      },
      "text/plain": [
       "  0%|          | 0/2 [00:00<?, ?it/s]"
      ]
     },
     "metadata": {},
     "output_type": "display_data"
    },
    {
     "data": {
      "application/vnd.jupyter.widget-view+json": {
       "model_id": "8bd568e6d35949df8ac1498a6a25e4f7",
       "version_major": 2,
       "version_minor": 0
      },
      "text/plain": [
       "0it [00:00, ?it/s]"
      ]
     },
     "metadata": {},
     "output_type": "display_data"
    },
    {
     "data": {
      "application/vnd.jupyter.widget-view+json": {
       "model_id": "f65ee220297940edb486852a5eb39fbc",
       "version_major": 2,
       "version_minor": 0
      },
      "text/plain": [
       "0it [00:00, ?it/s]"
      ]
     },
     "metadata": {},
     "output_type": "display_data"
    },
    {
     "data": {
      "application/vnd.jupyter.widget-view+json": {
       "model_id": "cd7a6da639294e11b5981e4d9e838fee",
       "version_major": 2,
       "version_minor": 0
      },
      "text/plain": [
       "  0%|          | 0/2 [00:00<?, ?it/s]"
      ]
     },
     "metadata": {},
     "output_type": "display_data"
    },
    {
     "data": {
      "application/vnd.jupyter.widget-view+json": {
       "model_id": "4f7e1235f87e4ee595469622b9d00479",
       "version_major": 2,
       "version_minor": 0
      },
      "text/plain": [
       "  0%|          | 0/2 [00:00<?, ?it/s]"
      ]
     },
     "metadata": {},
     "output_type": "display_data"
    },
    {
     "data": {
      "application/vnd.jupyter.widget-view+json": {
       "model_id": "ea9ea31ab2e14e9e930dccf6c2a8b329",
       "version_major": 2,
       "version_minor": 0
      },
      "text/plain": [
       "  0%|          | 0/1 [00:00<?, ?it/s]"
      ]
     },
     "metadata": {},
     "output_type": "display_data"
    },
    {
     "data": {
      "application/vnd.jupyter.widget-view+json": {
       "model_id": "f78c9a8c8889461ba0828a950ac54c0f",
       "version_major": 2,
       "version_minor": 0
      },
      "text/plain": [
       "  0%|          | 0/1 [00:00<?, ?it/s]"
      ]
     },
     "metadata": {},
     "output_type": "display_data"
    },
    {
     "data": {
      "application/vnd.jupyter.widget-view+json": {
       "model_id": "663edaa37c034da5902e3f0ccfbc95ea",
       "version_major": 2,
       "version_minor": 0
      },
      "text/plain": [
       "  0%|          | 0/1 [00:00<?, ?it/s]"
      ]
     },
     "metadata": {},
     "output_type": "display_data"
    },
    {
     "data": {
      "application/vnd.jupyter.widget-view+json": {
       "model_id": "e2c90971078544f1aca376fb8eb188f8",
       "version_major": 2,
       "version_minor": 0
      },
      "text/plain": [
       "0it [00:00, ?it/s]"
      ]
     },
     "metadata": {},
     "output_type": "display_data"
    },
    {
     "data": {
      "application/vnd.jupyter.widget-view+json": {
       "model_id": "d0726ba50e0e4457ac88c0fa13815839",
       "version_major": 2,
       "version_minor": 0
      },
      "text/plain": [
       "0it [00:00, ?it/s]"
      ]
     },
     "metadata": {},
     "output_type": "display_data"
    },
    {
     "data": {
      "application/vnd.jupyter.widget-view+json": {
       "model_id": "09d31212897340c3af56322ef725c678",
       "version_major": 2,
       "version_minor": 0
      },
      "text/plain": [
       "0it [00:00, ?it/s]"
      ]
     },
     "metadata": {},
     "output_type": "display_data"
    },
    {
     "data": {
      "application/vnd.jupyter.widget-view+json": {
       "model_id": "6d63d166a31e421790933e00d389a2b2",
       "version_major": 2,
       "version_minor": 0
      },
      "text/plain": [
       "0it [00:00, ?it/s]"
      ]
     },
     "metadata": {},
     "output_type": "display_data"
    },
    {
     "data": {
      "application/vnd.jupyter.widget-view+json": {
       "model_id": "1de18000ba9b4c2aab7f978ebfab84b8",
       "version_major": 2,
       "version_minor": 0
      },
      "text/plain": [
       "0it [00:00, ?it/s]"
      ]
     },
     "metadata": {},
     "output_type": "display_data"
    },
    {
     "data": {
      "application/vnd.jupyter.widget-view+json": {
       "model_id": "8c602972d3744cdfb9977070933321d4",
       "version_major": 2,
       "version_minor": 0
      },
      "text/plain": [
       "  0%|          | 0/1 [00:00<?, ?it/s]"
      ]
     },
     "metadata": {},
     "output_type": "display_data"
    },
    {
     "data": {
      "application/vnd.jupyter.widget-view+json": {
       "model_id": "b0b22689780a4bdd82fa59917566168c",
       "version_major": 2,
       "version_minor": 0
      },
      "text/plain": [
       "0it [00:00, ?it/s]"
      ]
     },
     "metadata": {},
     "output_type": "display_data"
    },
    {
     "data": {
      "application/vnd.jupyter.widget-view+json": {
       "model_id": "8cdd75909e1746b8ba8bc61dfad96c06",
       "version_major": 2,
       "version_minor": 0
      },
      "text/plain": [
       "0it [00:00, ?it/s]"
      ]
     },
     "metadata": {},
     "output_type": "display_data"
    },
    {
     "data": {
      "application/vnd.jupyter.widget-view+json": {
       "model_id": "ea27d71da3714ca6b1db0caaaf32b95b",
       "version_major": 2,
       "version_minor": 0
      },
      "text/plain": [
       "  0%|          | 0/1 [00:00<?, ?it/s]"
      ]
     },
     "metadata": {},
     "output_type": "display_data"
    },
    {
     "data": {
      "application/vnd.jupyter.widget-view+json": {
       "model_id": "632fa0bea2004b1eac7a3d207d8266f9",
       "version_major": 2,
       "version_minor": 0
      },
      "text/plain": [
       "0it [00:00, ?it/s]"
      ]
     },
     "metadata": {},
     "output_type": "display_data"
    },
    {
     "data": {
      "application/vnd.jupyter.widget-view+json": {
       "model_id": "0d7298b3cf4545a086b199fcb3989aed",
       "version_major": 2,
       "version_minor": 0
      },
      "text/plain": [
       "0it [00:00, ?it/s]"
      ]
     },
     "metadata": {},
     "output_type": "display_data"
    },
    {
     "data": {
      "application/vnd.jupyter.widget-view+json": {
       "model_id": "ccc94a69ef864f49aed6826b1488d02b",
       "version_major": 2,
       "version_minor": 0
      },
      "text/plain": [
       "0it [00:00, ?it/s]"
      ]
     },
     "metadata": {},
     "output_type": "display_data"
    },
    {
     "data": {
      "application/vnd.jupyter.widget-view+json": {
       "model_id": "a35d723b032441ea95acd00aaf0a835a",
       "version_major": 2,
       "version_minor": 0
      },
      "text/plain": [
       "  0%|          | 0/1 [00:00<?, ?it/s]"
      ]
     },
     "metadata": {},
     "output_type": "display_data"
    },
    {
     "data": {
      "application/vnd.jupyter.widget-view+json": {
       "model_id": "d2b6d300dd384698afa24cf8e1210507",
       "version_major": 2,
       "version_minor": 0
      },
      "text/plain": [
       "0it [00:00, ?it/s]"
      ]
     },
     "metadata": {},
     "output_type": "display_data"
    },
    {
     "data": {
      "application/vnd.jupyter.widget-view+json": {
       "model_id": "69dde25b636d433db2c9995b7779500c",
       "version_major": 2,
       "version_minor": 0
      },
      "text/plain": [
       "  0%|          | 0/1 [00:00<?, ?it/s]"
      ]
     },
     "metadata": {},
     "output_type": "display_data"
    },
    {
     "data": {
      "application/vnd.jupyter.widget-view+json": {
       "model_id": "9434ef15e70c4af5a39d281ce72cfefa",
       "version_major": 2,
       "version_minor": 0
      },
      "text/plain": [
       "0it [00:00, ?it/s]"
      ]
     },
     "metadata": {},
     "output_type": "display_data"
    },
    {
     "data": {
      "application/vnd.jupyter.widget-view+json": {
       "model_id": "7f9b502b0a1e414e9eb7d90be05c423c",
       "version_major": 2,
       "version_minor": 0
      },
      "text/plain": [
       "  0%|          | 0/1 [00:00<?, ?it/s]"
      ]
     },
     "metadata": {},
     "output_type": "display_data"
    },
    {
     "data": {
      "application/vnd.jupyter.widget-view+json": {
       "model_id": "59c9a1fe2872461babe2b31880ce7ad8",
       "version_major": 2,
       "version_minor": 0
      },
      "text/plain": [
       "  0%|          | 0/1 [00:00<?, ?it/s]"
      ]
     },
     "metadata": {},
     "output_type": "display_data"
    },
    {
     "data": {
      "application/vnd.jupyter.widget-view+json": {
       "model_id": "a88fd7bc9fc44614bf3f31f1fa88abfd",
       "version_major": 2,
       "version_minor": 0
      },
      "text/plain": [
       "  0%|          | 0/1 [00:00<?, ?it/s]"
      ]
     },
     "metadata": {},
     "output_type": "display_data"
    },
    {
     "data": {
      "application/vnd.jupyter.widget-view+json": {
       "model_id": "d5a69c18c16c462194ce4cc5208b08df",
       "version_major": 2,
       "version_minor": 0
      },
      "text/plain": [
       "  0%|          | 0/1 [00:00<?, ?it/s]"
      ]
     },
     "metadata": {},
     "output_type": "display_data"
    },
    {
     "data": {
      "application/vnd.jupyter.widget-view+json": {
       "model_id": "bff12e40e3e84b6692a6e71d185fe52b",
       "version_major": 2,
       "version_minor": 0
      },
      "text/plain": [
       "0it [00:00, ?it/s]"
      ]
     },
     "metadata": {},
     "output_type": "display_data"
    },
    {
     "data": {
      "application/vnd.jupyter.widget-view+json": {
       "model_id": "7f4dd12e501448378527cb65e7b2cbda",
       "version_major": 2,
       "version_minor": 0
      },
      "text/plain": [
       "0it [00:00, ?it/s]"
      ]
     },
     "metadata": {},
     "output_type": "display_data"
    },
    {
     "data": {
      "application/vnd.jupyter.widget-view+json": {
       "model_id": "267a1f90693d4987834e4fa10de861bc",
       "version_major": 2,
       "version_minor": 0
      },
      "text/plain": [
       "  0%|          | 0/1 [00:00<?, ?it/s]"
      ]
     },
     "metadata": {},
     "output_type": "display_data"
    },
    {
     "data": {
      "application/vnd.jupyter.widget-view+json": {
       "model_id": "f4b7e25c58734674b3e199ecb5599428",
       "version_major": 2,
       "version_minor": 0
      },
      "text/plain": [
       "0it [00:00, ?it/s]"
      ]
     },
     "metadata": {},
     "output_type": "display_data"
    },
    {
     "data": {
      "application/vnd.jupyter.widget-view+json": {
       "model_id": "b4978252a8a540b2ba87a93105a23898",
       "version_major": 2,
       "version_minor": 0
      },
      "text/plain": [
       "  0%|          | 0/1 [00:00<?, ?it/s]"
      ]
     },
     "metadata": {},
     "output_type": "display_data"
    },
    {
     "data": {
      "application/vnd.jupyter.widget-view+json": {
       "model_id": "383fa6d046024e0c95394c1b8e64bcf2",
       "version_major": 2,
       "version_minor": 0
      },
      "text/plain": [
       "0it [00:00, ?it/s]"
      ]
     },
     "metadata": {},
     "output_type": "display_data"
    },
    {
     "data": {
      "application/vnd.jupyter.widget-view+json": {
       "model_id": "2ac564bae4e44a048b2915f0cb23f919",
       "version_major": 2,
       "version_minor": 0
      },
      "text/plain": [
       "  0%|          | 0/1 [00:00<?, ?it/s]"
      ]
     },
     "metadata": {},
     "output_type": "display_data"
    }
   ],
   "source": [
    "df_intra = pd.DataFrame(columns=[\"Sector\",\"Average Correlation\",\"Max Correlation\",\"Min Correlation\"])\n",
    "getAllIntraSectorCorrelations(df_intra)"
   ]
  },
  {
   "cell_type": "markdown",
   "id": "8a09cb02-4fba-4c3d-bb6c-716743d250ef",
   "metadata": {},
   "source": [
    "#### Filtering & Exporting the Data to Excel"
   ]
  },
  {
   "cell_type": "code",
   "execution_count": 306,
   "id": "27b11651-502c-4bc9-a3bc-2e78169bc74f",
   "metadata": {},
   "outputs": [],
   "source": [
    "def intraThresh(sector, corr):\n",
    "    stocks = int(re.sub(\"[^0-9]\", \"\",sector))\n",
    "    return stocks*corr"
   ]
  },
  {
   "cell_type": "code",
   "execution_count": 307,
   "id": "644322f6-876a-4673-8e51-8cb7420e5f19",
   "metadata": {},
   "outputs": [],
   "source": [
    "for index, row in df_intra.iterrows():\n",
    "    total_stocks = intraThresh(row['Sector'],row['Average Correlation'])\n",
    "    if(total_stocks < 2.5):\n",
    "        df_intra.drop(index, inplace=True)"
   ]
  },
  {
   "cell_type": "code",
   "execution_count": 308,
   "id": "c902b5ad-51ac-4458-91ce-005411ca9276",
   "metadata": {},
   "outputs": [
    {
     "data": {
      "text/html": [
       "<div>\n",
       "<style scoped>\n",
       "    .dataframe tbody tr th:only-of-type {\n",
       "        vertical-align: middle;\n",
       "    }\n",
       "\n",
       "    .dataframe tbody tr th {\n",
       "        vertical-align: top;\n",
       "    }\n",
       "\n",
       "    .dataframe thead th {\n",
       "        text-align: right;\n",
       "    }\n",
       "</style>\n",
       "<table border=\"1\" class=\"dataframe\">\n",
       "  <thead>\n",
       "    <tr style=\"text-align: right;\">\n",
       "      <th></th>\n",
       "      <th>Sector</th>\n",
       "      <th>Average Correlation</th>\n",
       "      <th>Max Correlation</th>\n",
       "      <th>Min Correlation</th>\n",
       "    </tr>\n",
       "  </thead>\n",
       "  <tbody>\n",
       "    <tr>\n",
       "      <th>44</th>\n",
       "      <td>Multi-Utilities(18)</td>\n",
       "      <td>0.540965</td>\n",
       "      <td>(0.9085339576171104, CMS, WEC)</td>\n",
       "      <td>(0, stock, stock)</td>\n",
       "    </tr>\n",
       "    <tr>\n",
       "      <th>54</th>\n",
       "      <td>Containers &amp; Packaging(12)</td>\n",
       "      <td>0.486125</td>\n",
       "      <td>(0.73334832175076, IP, PKG)</td>\n",
       "      <td>(0, stock, stock)</td>\n",
       "    </tr>\n",
       "    <tr>\n",
       "      <th>27</th>\n",
       "      <td>Energy Equipment &amp; Services(32)</td>\n",
       "      <td>0.485446</td>\n",
       "      <td>(0.8882941728141304, HAL, SLB)</td>\n",
       "      <td>(0, stock, stock)</td>\n",
       "    </tr>\n",
       "    <tr>\n",
       "      <th>69</th>\n",
       "      <td>Industrial Conglomerates(6)</td>\n",
       "      <td>0.480197</td>\n",
       "      <td>(0.7423969814905563, HON, ROP)</td>\n",
       "      <td>(0, stock, stock)</td>\n",
       "    </tr>\n",
       "    <tr>\n",
       "      <th>38</th>\n",
       "      <td>Road &amp; Rail(22)</td>\n",
       "      <td>0.478792</td>\n",
       "      <td>(0.829895696574278, CSX, NSC)</td>\n",
       "      <td>(0, stock, stock)</td>\n",
       "    </tr>\n",
       "    <tr>\n",
       "      <th>51</th>\n",
       "      <td>Airlines(14)</td>\n",
       "      <td>0.450195</td>\n",
       "      <td>(0.8928999467636979, CEA, ZNH)</td>\n",
       "      <td>(0, stock, stock)</td>\n",
       "    </tr>\n",
       "    <tr>\n",
       "      <th>64</th>\n",
       "      <td>Construction Materials(8)</td>\n",
       "      <td>0.448190</td>\n",
       "      <td>(0.8092591332032857, MLM, VMC)</td>\n",
       "      <td>(0, stock, stock)</td>\n",
       "    </tr>\n",
       "    <tr>\n",
       "      <th>31</th>\n",
       "      <td>Electric Utilities(28)</td>\n",
       "      <td>0.429635</td>\n",
       "      <td>(0.8963693868337042, LNT, XEL)</td>\n",
       "      <td>(-0.12298661607003947, EDN, FE)</td>\n",
       "    </tr>\n",
       "    <tr>\n",
       "      <th>41</th>\n",
       "      <td>Auto Components(21)</td>\n",
       "      <td>0.418966</td>\n",
       "      <td>(0.7883215563934879, BWA, DAN)</td>\n",
       "      <td>(0, stock, stock)</td>\n",
       "    </tr>\n",
       "    <tr>\n",
       "      <th>34</th>\n",
       "      <td>Building Products(23)</td>\n",
       "      <td>0.410096</td>\n",
       "      <td>(0.7005375149402394, LII, MAS)</td>\n",
       "      <td>(-0.08748488327308834, AOS, APT)</td>\n",
       "    </tr>\n",
       "    <tr>\n",
       "      <th>6</th>\n",
       "      <td>Machinery(85)</td>\n",
       "      <td>0.407791</td>\n",
       "      <td>(0.8157931693133874, KMT, PH)</td>\n",
       "      <td>(-0.09186530952576111, ARTW, BIMI)</td>\n",
       "    </tr>\n",
       "    <tr>\n",
       "      <th>1</th>\n",
       "      <td>Banks(246)</td>\n",
       "      <td>0.392107</td>\n",
       "      <td>(0.9390549555893505, BBD, ITUB)</td>\n",
       "      <td>(-0.16196141451705204, AROW, FNCB)</td>\n",
       "    </tr>\n",
       "    <tr>\n",
       "      <th>18</th>\n",
       "      <td>Hotels, Restaurants &amp; Leisure(50)</td>\n",
       "      <td>0.377006</td>\n",
       "      <td>(0.9866427501699437, CCL, CUK)</td>\n",
       "      <td>(-0.06058279447573067, CPHC, TAST)</td>\n",
       "    </tr>\n",
       "    <tr>\n",
       "      <th>65</th>\n",
       "      <td>Multiline Retail(7)</td>\n",
       "      <td>0.373647</td>\n",
       "      <td>(0.7288556457235531, KSS, M)</td>\n",
       "      <td>(0, stock, stock)</td>\n",
       "    </tr>\n",
       "    <tr>\n",
       "      <th>0</th>\n",
       "      <td>No Sector(375)</td>\n",
       "      <td>0.371696</td>\n",
       "      <td>(0.9720050055581492, NCV, NCZ)</td>\n",
       "      <td>(-0.2966140675731326, CDR, PIM)</td>\n",
       "    </tr>\n",
       "    <tr>\n",
       "      <th>57</th>\n",
       "      <td>Gas Utilities(12)</td>\n",
       "      <td>0.371343</td>\n",
       "      <td>(0.7084146686824703, ATO, SWX)</td>\n",
       "      <td>(-0.1082765238135015, NFG, RGCO)</td>\n",
       "    </tr>\n",
       "    <tr>\n",
       "      <th>37</th>\n",
       "      <td>Construction &amp; Engineering(20)</td>\n",
       "      <td>0.367387</td>\n",
       "      <td>(0.6947619092459099, ACM, J)</td>\n",
       "      <td>(0, stock, stock)</td>\n",
       "    </tr>\n",
       "    <tr>\n",
       "      <th>32</th>\n",
       "      <td>Trading Companies &amp; Distributors(25)</td>\n",
       "      <td>0.364408</td>\n",
       "      <td>(0.7824808642361912, HRI, URI)</td>\n",
       "      <td>(-0.06427591992427106, GIC, IGC)</td>\n",
       "    </tr>\n",
       "    <tr>\n",
       "      <th>58</th>\n",
       "      <td>Air Freight &amp; Logistics(11)</td>\n",
       "      <td>0.363848</td>\n",
       "      <td>(0.7089809973042577, FDX, UPS)</td>\n",
       "      <td>(0, stock, stock)</td>\n",
       "    </tr>\n",
       "    <tr>\n",
       "      <th>50</th>\n",
       "      <td>Marine(15)</td>\n",
       "      <td>0.357634</td>\n",
       "      <td>(0.7307717934794619, SB, SBLK)</td>\n",
       "      <td>(-0.04953938808943281, GLBS, MATX)</td>\n",
       "    </tr>\n",
       "    <tr>\n",
       "      <th>17</th>\n",
       "      <td>Chemicals(51)</td>\n",
       "      <td>0.335186</td>\n",
       "      <td>(0.7563468929285467, CE, EMN)</td>\n",
       "      <td>(-0.1091725861005477, GURE, HWKN)</td>\n",
       "    </tr>\n",
       "    <tr>\n",
       "      <th>5</th>\n",
       "      <td>Metals &amp; Mining(89)</td>\n",
       "      <td>0.334933</td>\n",
       "      <td>(0.884734443836443, BHP, RIO)</td>\n",
       "      <td>(-0.13482150226025102, GFI, SIM)</td>\n",
       "    </tr>\n",
       "    <tr>\n",
       "      <th>10</th>\n",
       "      <td>Insurance(75)</td>\n",
       "      <td>0.334468</td>\n",
       "      <td>(0.8855548429127549, LNC, PRU)</td>\n",
       "      <td>(-0.18794377816264296, UNAM, WTM)</td>\n",
       "    </tr>\n",
       "    <tr>\n",
       "      <th>8</th>\n",
       "      <td>Capital Markets(75)</td>\n",
       "      <td>0.331049</td>\n",
       "      <td>(0.867801735645092, GS, MS)</td>\n",
       "      <td>(-0.16006555017722568, FDS, SIEB)</td>\n",
       "    </tr>\n",
       "    <tr>\n",
       "      <th>63</th>\n",
       "      <td>Automobiles(8)</td>\n",
       "      <td>0.328838</td>\n",
       "      <td>(0.7530429906586505, THO, WGO)</td>\n",
       "      <td>(-0.059791530643316326, HMC, MULN)</td>\n",
       "    </tr>\n",
       "    <tr>\n",
       "      <th>13</th>\n",
       "      <td>Specialty Retail(58)</td>\n",
       "      <td>0.323899</td>\n",
       "      <td>(0.8105472854076968, AZO, ORLY)</td>\n",
       "      <td>(-0.13089563770182533, ANF, ELA)</td>\n",
       "    </tr>\n",
       "    <tr>\n",
       "      <th>39</th>\n",
       "      <td>Consumer Finance(15)</td>\n",
       "      <td>0.320322</td>\n",
       "      <td>(0.8173850228681718, COF, DFS)</td>\n",
       "      <td>(0, stock, stock)</td>\n",
       "    </tr>\n",
       "    <tr>\n",
       "      <th>56</th>\n",
       "      <td>Water Utilities(12)</td>\n",
       "      <td>0.312520</td>\n",
       "      <td>(0.7542590441534944, AWK, WTRG)</td>\n",
       "      <td>(-0.04084476527343828, CDZI, PCYO)</td>\n",
       "    </tr>\n",
       "    <tr>\n",
       "      <th>62</th>\n",
       "      <td>Household Products(10)</td>\n",
       "      <td>0.310339</td>\n",
       "      <td>(0.9758430561341552, CENT, CENTA)</td>\n",
       "      <td>(0, stock, stock)</td>\n",
       "    </tr>\n",
       "    <tr>\n",
       "      <th>59</th>\n",
       "      <td>Leisure Products(11)</td>\n",
       "      <td>0.307990</td>\n",
       "      <td>(0.642110356920334, BC, PII)</td>\n",
       "      <td>(0, stock, stock)</td>\n",
       "    </tr>\n",
       "    <tr>\n",
       "      <th>3</th>\n",
       "      <td>Oil, Gas &amp; Consumable Fuels(122)</td>\n",
       "      <td>0.307584</td>\n",
       "      <td>(0.9106013366381543, DVN, MRO)</td>\n",
       "      <td>(-0.1832631939345275, PED, TGS)</td>\n",
       "    </tr>\n",
       "    <tr>\n",
       "      <th>11</th>\n",
       "      <td>Semiconductors &amp; Semiconductor Equipment(68)</td>\n",
       "      <td>0.304820</td>\n",
       "      <td>(0.8114408925831192, ADI, TXN)</td>\n",
       "      <td>(-0.07517700739803135, INTC, OIIM)</td>\n",
       "    </tr>\n",
       "    <tr>\n",
       "      <th>30</th>\n",
       "      <td>Textiles, Apparel &amp; Luxury Goods(29)</td>\n",
       "      <td>0.283277</td>\n",
       "      <td>(0.715122885890624, PVH, RL)</td>\n",
       "      <td>(-0.12217195516268697, COLM, EVK)</td>\n",
       "    </tr>\n",
       "    <tr>\n",
       "      <th>25</th>\n",
       "      <td>Household Durables(39)</td>\n",
       "      <td>0.281857</td>\n",
       "      <td>(0.8918586680723729, DHI, LEN)</td>\n",
       "      <td>(-0.08843620379798911, IRBT, NEPH)</td>\n",
       "    </tr>\n",
       "    <tr>\n",
       "      <th>43</th>\n",
       "      <td>Life Sciences Tools &amp; Services(19)</td>\n",
       "      <td>0.277703</td>\n",
       "      <td>(0.719555692261847, PKI, TMO)</td>\n",
       "      <td>(-0.07783792413777668, AXDX, RGEN)</td>\n",
       "    </tr>\n",
       "    <tr>\n",
       "      <th>26</th>\n",
       "      <td>Professional Services(35)</td>\n",
       "      <td>0.271007</td>\n",
       "      <td>(0.7153733175248943, KFY, RHI)</td>\n",
       "      <td>(-0.13034113686434123, DLHC, HQI)</td>\n",
       "    </tr>\n",
       "    <tr>\n",
       "      <th>24</th>\n",
       "      <td>Aerospace &amp; Defense(37)</td>\n",
       "      <td>0.267341</td>\n",
       "      <td>(0.8219744928965719, LMT, NOC)</td>\n",
       "      <td>(-0.14214991854471348, ASTC, HEI)</td>\n",
       "    </tr>\n",
       "    <tr>\n",
       "      <th>29</th>\n",
       "      <td>Electrical Equipment(28)</td>\n",
       "      <td>0.266347</td>\n",
       "      <td>(0.8048888082084795, ETN, HUBB)</td>\n",
       "      <td>(-0.09017275801105007, ESP, PLUG)</td>\n",
       "    </tr>\n",
       "    <tr>\n",
       "      <th>45</th>\n",
       "      <td>Internet &amp; Direct Marketing Retail(15)</td>\n",
       "      <td>0.262847</td>\n",
       "      <td>(0.9407083830293044, QRTEA, QRTEB)</td>\n",
       "      <td>(0, stock, stock)</td>\n",
       "    </tr>\n",
       "    <tr>\n",
       "      <th>14</th>\n",
       "      <td>IT Services(52)</td>\n",
       "      <td>0.260035</td>\n",
       "      <td>(0.8858803784155986, MA, V)</td>\n",
       "      <td>(-0.12513281841208035, SRT, VRSN)</td>\n",
       "    </tr>\n",
       "    <tr>\n",
       "      <th>40</th>\n",
       "      <td>Beverages(21)</td>\n",
       "      <td>0.256595</td>\n",
       "      <td>(0.7454617057952203, FMX, KOF)</td>\n",
       "      <td>(-0.0621981716299691, KO, REED)</td>\n",
       "    </tr>\n",
       "    <tr>\n",
       "      <th>19</th>\n",
       "      <td>Thrifts &amp; Mortgage Finance(47)</td>\n",
       "      <td>0.248693</td>\n",
       "      <td>(0.7688650296074256, PFS, WSFS)</td>\n",
       "      <td>(-0.18022100934857987, OPBK, RDN)</td>\n",
       "    </tr>\n",
       "    <tr>\n",
       "      <th>53</th>\n",
       "      <td>Wireless Telecommunication Services(14)</td>\n",
       "      <td>0.248200</td>\n",
       "      <td>(0.9875685480494173, AMOV, AMX)</td>\n",
       "      <td>(0, stock, stock)</td>\n",
       "    </tr>\n",
       "    <tr>\n",
       "      <th>15</th>\n",
       "      <td>Commercial Services &amp; Supplies(52)</td>\n",
       "      <td>0.245735</td>\n",
       "      <td>(0.8176888952806606, RSG, WM)</td>\n",
       "      <td>(-0.16787974520456328, TOMZ, VVI)</td>\n",
       "    </tr>\n",
       "    <tr>\n",
       "      <th>23</th>\n",
       "      <td>Media(42)</td>\n",
       "      <td>0.231316</td>\n",
       "      <td>(0.9899227337087159, LBTYA, LBTYK)</td>\n",
       "      <td>(-0.14891845679072224, DISH, MOBQ)</td>\n",
       "    </tr>\n",
       "    <tr>\n",
       "      <th>21</th>\n",
       "      <td>Health Care Providers &amp; Services(46)</td>\n",
       "      <td>0.224999</td>\n",
       "      <td>(0.8118432344854175, DGX, LH)</td>\n",
       "      <td>(-0.1458622339697846, AMEH, HUM)</td>\n",
       "    </tr>\n",
       "    <tr>\n",
       "      <th>12</th>\n",
       "      <td>Software(66)</td>\n",
       "      <td>0.210563</td>\n",
       "      <td>(0.7221481243370496, ADSK, PTC)</td>\n",
       "      <td>(-0.13850204188546278, ASUR, INUV)</td>\n",
       "    </tr>\n",
       "    <tr>\n",
       "      <th>20</th>\n",
       "      <td>Communications Equipment(45)</td>\n",
       "      <td>0.209231</td>\n",
       "      <td>(0.6704047477288283, FFIV, JNPR)</td>\n",
       "      <td>(-0.11905337604122779, LTRX, PCTI)</td>\n",
       "    </tr>\n",
       "    <tr>\n",
       "      <th>42</th>\n",
       "      <td>Diversified Telecommunication Services(20)</td>\n",
       "      <td>0.198696</td>\n",
       "      <td>(0.7208428836987091, BCE, TU)</td>\n",
       "      <td>(-0.1438431870766541, GSAT, VZ)</td>\n",
       "    </tr>\n",
       "    <tr>\n",
       "      <th>47</th>\n",
       "      <td>Diversified Consumer Services(17)</td>\n",
       "      <td>0.188487</td>\n",
       "      <td>(0.5050019521443372, ATGE, STRA)</td>\n",
       "      <td>(-0.09935156345912377, STON, WW)</td>\n",
       "    </tr>\n",
       "    <tr>\n",
       "      <th>33</th>\n",
       "      <td>Real Estate Management &amp; Development(22)</td>\n",
       "      <td>0.178878</td>\n",
       "      <td>(0.876530610117323, CBRE, JLL)</td>\n",
       "      <td>(-0.11133137748090105, GYRO, MLP)</td>\n",
       "    </tr>\n",
       "    <tr>\n",
       "      <th>52</th>\n",
       "      <td>Food &amp; Staples Retailing(15)</td>\n",
       "      <td>0.176715</td>\n",
       "      <td>(0.5393310747466386, SPTN, WMK)</td>\n",
       "      <td>(-0.07177722377446472, CBD, IMKTA)</td>\n",
       "    </tr>\n",
       "    <tr>\n",
       "      <th>9</th>\n",
       "      <td>Health Care Equipment &amp; Supplies(83)</td>\n",
       "      <td>0.170260</td>\n",
       "      <td>(0.6693853184747948, SYK, ZBH)</td>\n",
       "      <td>(-0.1980252648113714, ATEC, DXR)</td>\n",
       "    </tr>\n",
       "    <tr>\n",
       "      <th>22</th>\n",
       "      <td>Food Products(44)</td>\n",
       "      <td>0.170213</td>\n",
       "      <td>(0.8342581510738292, SENEA, SENEB)</td>\n",
       "      <td>(-0.17457222354522517, BRFS, PLAG)</td>\n",
       "    </tr>\n",
       "    <tr>\n",
       "      <th>35</th>\n",
       "      <td>Entertainment(22)</td>\n",
       "      <td>0.161310</td>\n",
       "      <td>(0.7488657931124365, CNK, MCS)</td>\n",
       "      <td>(-0.10837464776578676, BTN, YVR)</td>\n",
       "    </tr>\n",
       "    <tr>\n",
       "      <th>46</th>\n",
       "      <td>Personal Products(19)</td>\n",
       "      <td>0.141648</td>\n",
       "      <td>(0.6046452928882864, HLF, NUS)</td>\n",
       "      <td>(-0.06844820450929734, NAII, NHTC)</td>\n",
       "    </tr>\n",
       "    <tr>\n",
       "      <th>16</th>\n",
       "      <td>Pharmaceuticals(48)</td>\n",
       "      <td>0.128281</td>\n",
       "      <td>(0.6163221103891905, GSK, MRK)</td>\n",
       "      <td>(-0.1997498977480363, OPNT, SNOA)</td>\n",
       "    </tr>\n",
       "    <tr>\n",
       "      <th>2</th>\n",
       "      <td>Biotechnology(126)</td>\n",
       "      <td>0.115291</td>\n",
       "      <td>(0.8779357591899213, NNVC, STAB)</td>\n",
       "      <td>(-0.2762905922751808, PRTG, SPPI)</td>\n",
       "    </tr>\n",
       "  </tbody>\n",
       "</table>\n",
       "</div>"
      ],
      "text/plain": [
       "                                          Sector  Average Correlation  \\\n",
       "44                           Multi-Utilities(18)             0.540965   \n",
       "54                    Containers & Packaging(12)             0.486125   \n",
       "27               Energy Equipment & Services(32)             0.485446   \n",
       "69                   Industrial Conglomerates(6)             0.480197   \n",
       "38                               Road & Rail(22)             0.478792   \n",
       "51                                  Airlines(14)             0.450195   \n",
       "64                     Construction Materials(8)             0.448190   \n",
       "31                        Electric Utilities(28)             0.429635   \n",
       "41                           Auto Components(21)             0.418966   \n",
       "34                         Building Products(23)             0.410096   \n",
       "6                                  Machinery(85)             0.407791   \n",
       "1                                     Banks(246)             0.392107   \n",
       "18             Hotels, Restaurants & Leisure(50)             0.377006   \n",
       "65                           Multiline Retail(7)             0.373647   \n",
       "0                                 No Sector(375)             0.371696   \n",
       "57                             Gas Utilities(12)             0.371343   \n",
       "37                Construction & Engineering(20)             0.367387   \n",
       "32          Trading Companies & Distributors(25)             0.364408   \n",
       "58                   Air Freight & Logistics(11)             0.363848   \n",
       "50                                    Marine(15)             0.357634   \n",
       "17                                 Chemicals(51)             0.335186   \n",
       "5                            Metals & Mining(89)             0.334933   \n",
       "10                                 Insurance(75)             0.334468   \n",
       "8                            Capital Markets(75)             0.331049   \n",
       "63                                Automobiles(8)             0.328838   \n",
       "13                          Specialty Retail(58)             0.323899   \n",
       "39                          Consumer Finance(15)             0.320322   \n",
       "56                           Water Utilities(12)             0.312520   \n",
       "62                        Household Products(10)             0.310339   \n",
       "59                          Leisure Products(11)             0.307990   \n",
       "3               Oil, Gas & Consumable Fuels(122)             0.307584   \n",
       "11  Semiconductors & Semiconductor Equipment(68)             0.304820   \n",
       "30          Textiles, Apparel & Luxury Goods(29)             0.283277   \n",
       "25                        Household Durables(39)             0.281857   \n",
       "43            Life Sciences Tools & Services(19)             0.277703   \n",
       "26                     Professional Services(35)             0.271007   \n",
       "24                       Aerospace & Defense(37)             0.267341   \n",
       "29                      Electrical Equipment(28)             0.266347   \n",
       "45        Internet & Direct Marketing Retail(15)             0.262847   \n",
       "14                               IT Services(52)             0.260035   \n",
       "40                                 Beverages(21)             0.256595   \n",
       "19                Thrifts & Mortgage Finance(47)             0.248693   \n",
       "53       Wireless Telecommunication Services(14)             0.248200   \n",
       "15            Commercial Services & Supplies(52)             0.245735   \n",
       "23                                     Media(42)             0.231316   \n",
       "21          Health Care Providers & Services(46)             0.224999   \n",
       "12                                  Software(66)             0.210563   \n",
       "20                  Communications Equipment(45)             0.209231   \n",
       "42    Diversified Telecommunication Services(20)             0.198696   \n",
       "47             Diversified Consumer Services(17)             0.188487   \n",
       "33      Real Estate Management & Development(22)             0.178878   \n",
       "52                  Food & Staples Retailing(15)             0.176715   \n",
       "9           Health Care Equipment & Supplies(83)             0.170260   \n",
       "22                             Food Products(44)             0.170213   \n",
       "35                             Entertainment(22)             0.161310   \n",
       "46                         Personal Products(19)             0.141648   \n",
       "16                           Pharmaceuticals(48)             0.128281   \n",
       "2                             Biotechnology(126)             0.115291   \n",
       "\n",
       "                       Max Correlation                     Min Correlation  \n",
       "44      (0.9085339576171104, CMS, WEC)                   (0, stock, stock)  \n",
       "54         (0.73334832175076, IP, PKG)                   (0, stock, stock)  \n",
       "27      (0.8882941728141304, HAL, SLB)                   (0, stock, stock)  \n",
       "69      (0.7423969814905563, HON, ROP)                   (0, stock, stock)  \n",
       "38       (0.829895696574278, CSX, NSC)                   (0, stock, stock)  \n",
       "51      (0.8928999467636979, CEA, ZNH)                   (0, stock, stock)  \n",
       "64      (0.8092591332032857, MLM, VMC)                   (0, stock, stock)  \n",
       "31      (0.8963693868337042, LNT, XEL)     (-0.12298661607003947, EDN, FE)  \n",
       "41      (0.7883215563934879, BWA, DAN)                   (0, stock, stock)  \n",
       "34      (0.7005375149402394, LII, MAS)    (-0.08748488327308834, AOS, APT)  \n",
       "6        (0.8157931693133874, KMT, PH)  (-0.09186530952576111, ARTW, BIMI)  \n",
       "1      (0.9390549555893505, BBD, ITUB)  (-0.16196141451705204, AROW, FNCB)  \n",
       "18      (0.9866427501699437, CCL, CUK)  (-0.06058279447573067, CPHC, TAST)  \n",
       "65        (0.7288556457235531, KSS, M)                   (0, stock, stock)  \n",
       "0       (0.9720050055581492, NCV, NCZ)     (-0.2966140675731326, CDR, PIM)  \n",
       "57      (0.7084146686824703, ATO, SWX)    (-0.1082765238135015, NFG, RGCO)  \n",
       "37        (0.6947619092459099, ACM, J)                   (0, stock, stock)  \n",
       "32      (0.7824808642361912, HRI, URI)    (-0.06427591992427106, GIC, IGC)  \n",
       "58      (0.7089809973042577, FDX, UPS)                   (0, stock, stock)  \n",
       "50      (0.7307717934794619, SB, SBLK)  (-0.04953938808943281, GLBS, MATX)  \n",
       "17       (0.7563468929285467, CE, EMN)   (-0.1091725861005477, GURE, HWKN)  \n",
       "5        (0.884734443836443, BHP, RIO)    (-0.13482150226025102, GFI, SIM)  \n",
       "10      (0.8855548429127549, LNC, PRU)   (-0.18794377816264296, UNAM, WTM)  \n",
       "8          (0.867801735645092, GS, MS)   (-0.16006555017722568, FDS, SIEB)  \n",
       "63      (0.7530429906586505, THO, WGO)  (-0.059791530643316326, HMC, MULN)  \n",
       "13     (0.8105472854076968, AZO, ORLY)    (-0.13089563770182533, ANF, ELA)  \n",
       "39      (0.8173850228681718, COF, DFS)                   (0, stock, stock)  \n",
       "56     (0.7542590441534944, AWK, WTRG)  (-0.04084476527343828, CDZI, PCYO)  \n",
       "62   (0.9758430561341552, CENT, CENTA)                   (0, stock, stock)  \n",
       "59        (0.642110356920334, BC, PII)                   (0, stock, stock)  \n",
       "3       (0.9106013366381543, DVN, MRO)     (-0.1832631939345275, PED, TGS)  \n",
       "11      (0.8114408925831192, ADI, TXN)  (-0.07517700739803135, INTC, OIIM)  \n",
       "30        (0.715122885890624, PVH, RL)   (-0.12217195516268697, COLM, EVK)  \n",
       "25      (0.8918586680723729, DHI, LEN)  (-0.08843620379798911, IRBT, NEPH)  \n",
       "43       (0.719555692261847, PKI, TMO)  (-0.07783792413777668, AXDX, RGEN)  \n",
       "26      (0.7153733175248943, KFY, RHI)   (-0.13034113686434123, DLHC, HQI)  \n",
       "24      (0.8219744928965719, LMT, NOC)   (-0.14214991854471348, ASTC, HEI)  \n",
       "29     (0.8048888082084795, ETN, HUBB)   (-0.09017275801105007, ESP, PLUG)  \n",
       "45  (0.9407083830293044, QRTEA, QRTEB)                   (0, stock, stock)  \n",
       "14         (0.8858803784155986, MA, V)   (-0.12513281841208035, SRT, VRSN)  \n",
       "40      (0.7454617057952203, FMX, KOF)     (-0.0621981716299691, KO, REED)  \n",
       "19     (0.7688650296074256, PFS, WSFS)   (-0.18022100934857987, OPBK, RDN)  \n",
       "53     (0.9875685480494173, AMOV, AMX)                   (0, stock, stock)  \n",
       "15       (0.8176888952806606, RSG, WM)   (-0.16787974520456328, TOMZ, VVI)  \n",
       "23  (0.9899227337087159, LBTYA, LBTYK)  (-0.14891845679072224, DISH, MOBQ)  \n",
       "21       (0.8118432344854175, DGX, LH)    (-0.1458622339697846, AMEH, HUM)  \n",
       "12     (0.7221481243370496, ADSK, PTC)  (-0.13850204188546278, ASUR, INUV)  \n",
       "20    (0.6704047477288283, FFIV, JNPR)  (-0.11905337604122779, LTRX, PCTI)  \n",
       "42       (0.7208428836987091, BCE, TU)     (-0.1438431870766541, GSAT, VZ)  \n",
       "47    (0.5050019521443372, ATGE, STRA)    (-0.09935156345912377, STON, WW)  \n",
       "33      (0.876530610117323, CBRE, JLL)   (-0.11133137748090105, GYRO, MLP)  \n",
       "52     (0.5393310747466386, SPTN, WMK)  (-0.07177722377446472, CBD, IMKTA)  \n",
       "9       (0.6693853184747948, SYK, ZBH)    (-0.1980252648113714, ATEC, DXR)  \n",
       "22  (0.8342581510738292, SENEA, SENEB)  (-0.17457222354522517, BRFS, PLAG)  \n",
       "35      (0.7488657931124365, CNK, MCS)    (-0.10837464776578676, BTN, YVR)  \n",
       "46      (0.6046452928882864, HLF, NUS)  (-0.06844820450929734, NAII, NHTC)  \n",
       "16      (0.6163221103891905, GSK, MRK)   (-0.1997498977480363, OPNT, SNOA)  \n",
       "2     (0.8779357591899213, NNVC, STAB)   (-0.2762905922751808, PRTG, SPPI)  "
      ]
     },
     "execution_count": 308,
     "metadata": {},
     "output_type": "execute_result"
    }
   ],
   "source": [
    "df_intra = df_intra.sort_values('Average Correlation', ascending=False)\n",
    "df_intra"
   ]
  },
  {
   "cell_type": "code",
   "execution_count": 309,
   "id": "b25a4554-40bb-4452-ab93-bf34c4f601d4",
   "metadata": {},
   "outputs": [],
   "source": [
    "df_intra.to_excel(\"data/sector_correlations/total_intra.xlsx\",sheet_name=\"Sheet1\",index=False)"
   ]
  },
  {
   "cell_type": "markdown",
   "id": "fc29301d-48fb-4db5-9ad0-956ea3cb6e17",
   "metadata": {},
   "source": [
    "### Calculating Average Intra-Sector Correlation\n",
    "The next few blocks of code perform a similar calculation as above, however this time we are comparing the stocks in different sectors to eachother, rather than looking within the same sector."
   ]
  },
  {
   "cell_type": "code",
   "execution_count": 310,
   "id": "1bd9f58f-2ef5-4a5b-aff8-b3f51e1ad881",
   "metadata": {},
   "outputs": [],
   "source": [
    "def calculateIntraSectorCorrelations(sector1,sector2):\n",
    "    sector1_index = top_sectors.index(sector1)\n",
    "    df1 = stocks_by_sector[sector1_index][1]\n",
    "    sector1_stock_count = df1.shape[0]\n",
    "    \n",
    "    sector2_index = top_sectors.index(sector2)\n",
    "    df2 = stocks_by_sector[sector2_index][1]\n",
    "    sector2_stock_count = df2.shape[0]\n",
    "    \n",
    "    link_count = 0\n",
    "    sum_of_links = 0\n",
    "    max_corr = (0,\"stock\",\"stock\")\n",
    "    min_corr = (0,\"stock\",\"stock\")\n",
    "    for i in range(sector1_stock_count):\n",
    "        first_stock = df1.iloc[i,2:]\n",
    "        for j in range(sector2_stock_count):\n",
    "            second_stock = df2.iloc[j,2:]\n",
    "            result = 1-spatial.distance.cosine(first_stock,second_stock)\n",
    "            if(result>max_corr[0]):\n",
    "                max_corr = (result,df1.iloc[i,0],df2.iloc[j,0])\n",
    "            if(result<min_corr[0]):\n",
    "                min_corr = (result,df1.iloc[i,0],df2.iloc[j,0])\n",
    "            sum_of_links += result\n",
    "            link_count += 1\n",
    "            \n",
    "    if(link_count < 1):\n",
    "        return 0,1,1,\"N/A\",\"N/A\"\n",
    "    average_link = sum_of_links / link_count\n",
    "    \n",
    "    return average_link, sector1_stock_count, sector2_stock_count, max_corr, min_corr"
   ]
  },
  {
   "cell_type": "code",
   "execution_count": 311,
   "id": "bcc6cfd0-b61e-4c7b-bd10-b00b01b948b2",
   "metadata": {},
   "outputs": [],
   "source": [
    "def getAllInterSectorCorrelations(df):\n",
    "    num_of_sectors = len(top_sectors)\n",
    "    count = 1\n",
    "    for i in tqdm(range(num_of_sectors)):\n",
    "        sector1 = top_sectors[i]\n",
    "        for j in range(i+1,num_of_sectors):\n",
    "            sector2 = top_sectors[j]\n",
    "            avg_sector_corr, sector1_stock_count, sector2_stock_count, max_corr, min_corr = calculateIntraSectorCorrelations(sector1,sector2)\n",
    "            df.loc[count] = [(str(sector1)+\"(\"+str(sector1_stock_count)+\")\"),\n",
    "                             (str(sector2)+\"(\"+str(sector2_stock_count)+\")\"),\n",
    "                             avg_sector_corr,\n",
    "                             (max_corr[0],max_corr[1],max_corr[2]),\n",
    "                             (min_corr[0],min_corr[1],min_corr[2])]\n",
    "            count += 1"
   ]
  },
  {
   "cell_type": "markdown",
   "id": "9a1a499b-9055-4a2d-8843-d285caa33221",
   "metadata": {},
   "source": [
    "### Thresholding and exporting Data\n",
    "Due to the large number of sectors with single stocks, or small stock counts, we need to remove correlations that are  on a small number of nodes (<20)."
   ]
  },
  {
   "cell_type": "code",
   "execution_count": 312,
   "id": "fe99ea17-bc9d-4e79-9b40-403f1028e5ab",
   "metadata": {},
   "outputs": [
    {
     "data": {
      "application/vnd.jupyter.widget-view+json": {
       "model_id": "5dd62416f0ee49fb874ae382f0acbaa8",
       "version_major": 2,
       "version_minor": 0
      },
      "text/plain": [
       "  0%|          | 0/125 [00:00<?, ?it/s]"
      ]
     },
     "metadata": {},
     "output_type": "display_data"
    }
   ],
   "source": [
    "df_inter = pd.DataFrame(columns=[\"Sector1\",\"Sector2\",\"Average Correlation\",\"Max Correlation\",\"Min Correlation\"])\n",
    "getAllInterSectorCorrelations(df_inter)"
   ]
  },
  {
   "cell_type": "code",
   "execution_count": 313,
   "id": "ce46009b-e9cf-4a59-857a-5598c47f5560",
   "metadata": {},
   "outputs": [],
   "source": [
    "def threshHold(sector1, sector2):\n",
    "    stocks1 = int(re.sub(\"[^0-9]\", \"\",sector1))\n",
    "    stocks2 = int(re.sub(\"[^0-9]\", \"\",sector2))\n",
    "    if stocks1 == 1 or stocks2 == 1:\n",
    "        return 0\n",
    "    return stocks1+stocks2"
   ]
  },
  {
   "cell_type": "code",
   "execution_count": 314,
   "id": "e0c74a68-d8d4-4e7d-90ee-c7c06dacb50f",
   "metadata": {},
   "outputs": [],
   "source": [
    "for index, row in df_inter.iterrows():\n",
    "    total_stocks = threshHold(row['Sector1'],row['Sector2'])\n",
    "    if(total_stocks < 20):\n",
    "        df_inter.drop(index, inplace=True)"
   ]
  },
  {
   "cell_type": "code",
   "execution_count": 315,
   "id": "a44ac736-2002-402f-b46d-8905fc12aa6e",
   "metadata": {},
   "outputs": [
    {
     "data": {
      "text/html": [
       "<div>\n",
       "<style scoped>\n",
       "    .dataframe tbody tr th:only-of-type {\n",
       "        vertical-align: middle;\n",
       "    }\n",
       "\n",
       "    .dataframe tbody tr th {\n",
       "        vertical-align: top;\n",
       "    }\n",
       "\n",
       "    .dataframe thead th {\n",
       "        text-align: right;\n",
       "    }\n",
       "</style>\n",
       "<table border=\"1\" class=\"dataframe\">\n",
       "  <thead>\n",
       "    <tr style=\"text-align: right;\">\n",
       "      <th></th>\n",
       "      <th>Sector1</th>\n",
       "      <th>Sector2</th>\n",
       "      <th>Average Correlation</th>\n",
       "      <th>Max Correlation</th>\n",
       "      <th>Min Correlation</th>\n",
       "    </tr>\n",
       "  </thead>\n",
       "  <tbody>\n",
       "    <tr>\n",
       "      <th>3392</th>\n",
       "      <td>Electric Utilities(28)</td>\n",
       "      <td>Multi-Utilities(18)</td>\n",
       "      <td>0.476321</td>\n",
       "      <td>(0.9167574662755461, XEL, WEC)</td>\n",
       "      <td>(-0.12302158185388956, EDN, WEC)</td>\n",
       "    </tr>\n",
       "    <tr>\n",
       "      <th>3046</th>\n",
       "      <td>Energy Equipment &amp; Services(32)</td>\n",
       "      <td>Asset Management(3)</td>\n",
       "      <td>0.435951</td>\n",
       "      <td>(0.7567211391850873, CLB, TYG)</td>\n",
       "      <td>(0, stock, stock)</td>\n",
       "    </tr>\n",
       "    <tr>\n",
       "      <th>792</th>\n",
       "      <td>Machinery(85)</td>\n",
       "      <td>Industrial Conglomerates(6)</td>\n",
       "      <td>0.429769</td>\n",
       "      <td>(0.8047939223090763, PH, HON)</td>\n",
       "      <td>(-0.014665736301675336, BIMI, ROP)</td>\n",
       "    </tr>\n",
       "    <tr>\n",
       "      <th>4040</th>\n",
       "      <td>Road &amp; Rail(22)</td>\n",
       "      <td>Industrial Conglomerates(6)</td>\n",
       "      <td>0.424758</td>\n",
       "      <td>(0.6942029569397065, UNP, HON)</td>\n",
       "      <td>(0, stock, stock)</td>\n",
       "    </tr>\n",
       "    <tr>\n",
       "      <th>802</th>\n",
       "      <td>Machinery(85)</td>\n",
       "      <td>Furnishings, Fixtures &amp; Appliances(2)</td>\n",
       "      <td>0.419180</td>\n",
       "      <td>(0.5981576249877013, PH, MLKN)</td>\n",
       "      <td>(-0.057169176359127105, BIMI, MLKN)</td>\n",
       "    </tr>\n",
       "    <tr>\n",
       "      <th>...</th>\n",
       "      <td>...</td>\n",
       "      <td>...</td>\n",
       "      <td>...</td>\n",
       "      <td>...</td>\n",
       "      <td>...</td>\n",
       "    </tr>\n",
       "    <tr>\n",
       "      <th>94</th>\n",
       "      <td>No Sector(375)</td>\n",
       "      <td>Computer Hardware(2)</td>\n",
       "      <td>-0.009905</td>\n",
       "      <td>(0.32791041801420817, CYCCP, RCAT)</td>\n",
       "      <td>(-0.2983800085958559, FRA, RCAT)</td>\n",
       "    </tr>\n",
       "    <tr>\n",
       "      <th>4399</th>\n",
       "      <td>Diversified Telecommunication Services(20)</td>\n",
       "      <td>Computer Hardware(2)</td>\n",
       "      <td>-0.013513</td>\n",
       "      <td>(0.29385908454935894, CUEN, RCAT)</td>\n",
       "      <td>(-0.2557492081702679, ATNI, RCAT)</td>\n",
       "    </tr>\n",
       "    <tr>\n",
       "      <th>2869</th>\n",
       "      <td>Household Durables(39)</td>\n",
       "      <td>Computer Hardware(2)</td>\n",
       "      <td>-0.016439</td>\n",
       "      <td>(0.22119097939447618, PFIN, RCAT)</td>\n",
       "      <td>(-0.1840168627878105, MDC, RCAT)</td>\n",
       "    </tr>\n",
       "    <tr>\n",
       "      <th>3442</th>\n",
       "      <td>Electric Utilities(28)</td>\n",
       "      <td>Computer Hardware(2)</td>\n",
       "      <td>-0.048941</td>\n",
       "      <td>(0.10404706407301423, PCG, RCAT)</td>\n",
       "      <td>(-0.18781927658424413, FTS, QUBT)</td>\n",
       "    </tr>\n",
       "    <tr>\n",
       "      <th>4560</th>\n",
       "      <td>Multi-Utilities(18)</td>\n",
       "      <td>Computer Hardware(2)</td>\n",
       "      <td>-0.067362</td>\n",
       "      <td>(0.055804828209276125, BIP, QUBT)</td>\n",
       "      <td>(-0.18376503846998982, ED, QUBT)</td>\n",
       "    </tr>\n",
       "  </tbody>\n",
       "</table>\n",
       "<p>2586 rows × 5 columns</p>\n",
       "</div>"
      ],
      "text/plain": [
       "                                         Sector1  \\\n",
       "3392                      Electric Utilities(28)   \n",
       "3046             Energy Equipment & Services(32)   \n",
       "792                                Machinery(85)   \n",
       "4040                             Road & Rail(22)   \n",
       "802                                Machinery(85)   \n",
       "...                                          ...   \n",
       "94                                No Sector(375)   \n",
       "4399  Diversified Telecommunication Services(20)   \n",
       "2869                      Household Durables(39)   \n",
       "3442                      Electric Utilities(28)   \n",
       "4560                         Multi-Utilities(18)   \n",
       "\n",
       "                                    Sector2  Average Correlation  \\\n",
       "3392                    Multi-Utilities(18)             0.476321   \n",
       "3046                    Asset Management(3)             0.435951   \n",
       "792             Industrial Conglomerates(6)             0.429769   \n",
       "4040            Industrial Conglomerates(6)             0.424758   \n",
       "802   Furnishings, Fixtures & Appliances(2)             0.419180   \n",
       "...                                     ...                  ...   \n",
       "94                     Computer Hardware(2)            -0.009905   \n",
       "4399                   Computer Hardware(2)            -0.013513   \n",
       "2869                   Computer Hardware(2)            -0.016439   \n",
       "3442                   Computer Hardware(2)            -0.048941   \n",
       "4560                   Computer Hardware(2)            -0.067362   \n",
       "\n",
       "                         Max Correlation                      Min Correlation  \n",
       "3392      (0.9167574662755461, XEL, WEC)     (-0.12302158185388956, EDN, WEC)  \n",
       "3046      (0.7567211391850873, CLB, TYG)                    (0, stock, stock)  \n",
       "792        (0.8047939223090763, PH, HON)   (-0.014665736301675336, BIMI, ROP)  \n",
       "4040      (0.6942029569397065, UNP, HON)                    (0, stock, stock)  \n",
       "802       (0.5981576249877013, PH, MLKN)  (-0.057169176359127105, BIMI, MLKN)  \n",
       "...                                  ...                                  ...  \n",
       "94    (0.32791041801420817, CYCCP, RCAT)     (-0.2983800085958559, FRA, RCAT)  \n",
       "4399   (0.29385908454935894, CUEN, RCAT)    (-0.2557492081702679, ATNI, RCAT)  \n",
       "2869   (0.22119097939447618, PFIN, RCAT)     (-0.1840168627878105, MDC, RCAT)  \n",
       "3442    (0.10404706407301423, PCG, RCAT)    (-0.18781927658424413, FTS, QUBT)  \n",
       "4560   (0.055804828209276125, BIP, QUBT)     (-0.18376503846998982, ED, QUBT)  \n",
       "\n",
       "[2586 rows x 5 columns]"
      ]
     },
     "execution_count": 315,
     "metadata": {},
     "output_type": "execute_result"
    }
   ],
   "source": [
    "df_inter = df_inter.sort_values('Average Correlation',ascending=False)\n",
    "df_inter"
   ]
  },
  {
   "cell_type": "code",
   "execution_count": 316,
   "id": "44f07c7b-5a90-4b3b-b1dc-28002bfc237f",
   "metadata": {},
   "outputs": [],
   "source": [
    "df_inter.to_excel(\"data/sector_correlations/total_inter.xlsx\",sheet_name=\"Sheet1\",index=False)"
   ]
  },
  {
   "cell_type": "markdown",
   "id": "c362b8cc-567f-40da-acdb-b433754f906d",
   "metadata": {},
   "source": [
    "### Repeating the Process for yearly data\n",
    "Now that we have found the intra sector correlations for the total data, we can apply the same idea to the yearly data to find trends over time."
   ]
  },
  {
   "cell_type": "code",
   "execution_count": 317,
   "id": "ba894760-224c-490d-9421-2373ebe5399c",
   "metadata": {},
   "outputs": [],
   "source": [
    "def calculateIntraSectorWeightYearly(sector,start_col):\n",
    "    max_corr = (0,\"stock\",\"stock\")\n",
    "    min_corr = (0,\"stock\",\"stock\")\n",
    "    sum_of_links = 0\n",
    "    link_count = 0\n",
    "    sector_index = top_sectors.index(sector)\n",
    "    df = stocks_by_sector[sector_index][1]\n",
    "    df = df.iloc[:,start_col:start_col+12]\n",
    "    num_of_stocks = df.shape[0]\n",
    "    for i in range(num_of_stocks):\n",
    "        first_stock = df.iloc[i,2:]\n",
    "        for j in range(i+1,num_of_stocks):\n",
    "            second_stock = df.iloc[j,2:]\n",
    "            result = 1-spatial.distance.cosine(first_stock,second_stock)\n",
    "            if(result>max_corr[0]):\n",
    "                max_corr = (result,df.iloc[i,0],df.iloc[j,0])\n",
    "            if(result<min_corr[0]):\n",
    "                min_corr = (result,df.iloc[i,0],df.iloc[j,0])\n",
    "            sum_of_links += result\n",
    "            link_count += 1\n",
    "    if(link_count < 1):\n",
    "        return 0,1\n",
    "    average_link = sum_of_links / link_count\n",
    "    \n",
    "    return average_link,num_of_stocks"
   ]
  },
  {
   "cell_type": "code",
   "execution_count": 318,
   "id": "f79d7219-666e-42a8-b01d-1cd9099e379c",
   "metadata": {},
   "outputs": [],
   "source": [
    "def getAllIntraSectorCorrelationsYearly(df,start_col):\n",
    "    for count,sector in enumerate(top_sectors):\n",
    "        avg,num_stocks = calculateIntraSectorWeightYearly(sector,start_col)\n",
    "        df.loc[count] = [(str(sector)+\"(\"+str(num_stocks)+\")\"),avg]"
   ]
  },
  {
   "cell_type": "code",
   "execution_count": 319,
   "id": "fcadc20f-fa47-4ecd-a9ed-213bf1ca5f8e",
   "metadata": {},
   "outputs": [],
   "source": [
    "def filterIntra(df_intra):\n",
    "    for index, row in df_intra.iterrows():\n",
    "        total_stocks = intraThresh(row['Sector'],row['Average Correlation'])\n",
    "        if(total_stocks < 4):\n",
    "            df_intra.drop(index, inplace=True)"
   ]
  },
  {
   "cell_type": "code",
   "execution_count": null,
   "id": "adc1c93d-90d3-4683-b60d-0eedbeba9e45",
   "metadata": {},
   "outputs": [],
   "source": [
    "start_col = 2\n",
    "for year in tqdm(range(2010,2020)):\n",
    "    # Setup and file names\n",
    "    intra_file_name = \"data/sector_correlations/\"+str(year)+\"_intra.xlsx\"\n",
    "    inter_file_name = \"data/sector_correlations/\"+str(year)+\"_inter.xlsx\"\n",
    "    \n",
    "    # calculate yearly intra correlation for all sectors + filter\n",
    "    df_intra_yearly = pd.DataFrame(columns=[\"Sector\",\"Average Correlation\"])\n",
    "    getAllIntraSectorCorrelationsYearly(df_intra_yearly,start_col)\n",
    "    filterIntra(df_intra_yearly)\n",
    "    df_intra_yearly = df_intra_yearly.sort_values('Average Correlation', ascending=False)\n",
    "    \n",
    "    # export\n",
    "    df_intra_yearly.to_excel(intra_file_name,sheet_name=\"Sheet1\",index=False)\n",
    "    start_col += 12"
   ]
  },
  {
   "cell_type": "code",
   "execution_count": null,
   "id": "8eb0e255-e181-4d15-a93e-9fff01949c4a",
   "metadata": {},
   "outputs": [],
   "source": []
  }
 ],
 "metadata": {
  "kernelspec": {
   "display_name": "Python 3 (ipykernel)",
   "language": "python",
   "name": "python3"
  },
  "language_info": {
   "codemirror_mode": {
    "name": "ipython",
    "version": 3
   },
   "file_extension": ".py",
   "mimetype": "text/x-python",
   "name": "python",
   "nbconvert_exporter": "python",
   "pygments_lexer": "ipython3",
   "version": "3.10.5"
  }
 },
 "nbformat": 4,
 "nbformat_minor": 5
}
