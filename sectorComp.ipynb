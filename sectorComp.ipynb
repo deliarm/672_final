{
 "cells": [
  {
   "cell_type": "code",
   "execution_count": 1,
   "id": "23c42351-b286-4f77-9c63-799bbf671b70",
   "metadata": {},
   "outputs": [],
   "source": [
    "import numpy as np\n",
    "import pandas as pd\n",
    "import networkx as nx\n",
    "import random\n",
    "from random import sample\n",
    "from datetime import datetime\n",
    "import matplotlib.pyplot as plt\n",
    "import matplotlib as mpl\n",
    "import ast\n",
    "from scipy import spatial\n",
    "import csv\n",
    "from tqdm.notebook import tqdm\n",
    "%matplotlib inline"
   ]
  },
  {
   "cell_type": "code",
   "execution_count": 2,
   "id": "4786a116-22db-4cc1-b81b-38bc98dc4e6b",
   "metadata": {},
   "outputs": [],
   "source": [
    "df_total = pd.read_excel('data/all_data.xlsx', sheet_name='percentChange',engine='openpyxl')\n",
    "stocks = pd.read_csv('data/stocks.csv',)\n",
    "links_total = pd.read_csv('data/links_total.csv',)"
   ]
  },
  {
   "cell_type": "code",
   "execution_count": 3,
   "id": "d2f0b197-1c7d-4f07-a59d-74b1ab25d897",
   "metadata": {},
   "outputs": [],
   "source": [
    "all_sectors = {}\n",
    "for sect in df_total['Sector']:\n",
    "    if(sect in all_sectors):\n",
    "        all_sectors[sect]+=1\n",
    "    else:\n",
    "        all_sectors[sect]=1\n",
    "sorted_sectors = sorted(all_sectors.items(),key=lambda x:x[1],reverse=True)"
   ]
  },
  {
   "cell_type": "markdown",
   "id": "27e66826-bd5c-4d58-9402-c202061c6092",
   "metadata": {},
   "source": [
    "### Identifying Popular Sectors\n",
    "The snippet below prints all the sectors from our raw data, these include banking, software, pharmaceuticals and many more.\n",
    "With these sectors now identified, we can begin exploring the relationship between them, and see how stocks within the same sectors relate to eachother"
   ]
  },
  {
   "cell_type": "code",
   "execution_count": 9,
   "id": "2a9121e2-3b9e-451b-b4a3-3f7582f5c044",
   "metadata": {},
   "outputs": [
    {
     "name": "stdout",
     "output_type": "stream",
     "text": [
      "('Banks', 271)\n",
      "('Biotechnology', 163)\n",
      "('Oil, Gas & Consumable Fuels', 128)\n",
      "('Equity Real Estate Investment Trusts ...', 101)\n",
      "('Metals & Mining', 95)\n",
      "('Machinery', 93)\n",
      "('Electronic Equipment, Instruments & C...', 88)\n",
      "('Capital Markets', 87)\n",
      "('Health Care Equipment & Supplies', 87)\n",
      "('Insurance', 80)\n",
      "('Semiconductors & Semiconductor Equipment', 75)\n",
      "('Software', 70)\n",
      "('Specialty Retail', 63)\n",
      "('IT Services', 58)\n",
      "('Commercial Services & Supplies', 57)\n",
      "('Pharmaceuticals', 56)\n",
      "('Chemicals', 55)\n",
      "('Hotels, Restaurants & Leisure', 54)\n",
      "('Thrifts & Mortgage Finance', 52)\n",
      "('Communications Equipment', 50)\n",
      "('Health Care Providers & Services', 48)\n",
      "('Food Products', 47)\n",
      "('Media', 47)\n",
      "('Aerospace & Defense', 43)\n",
      "('Household Durables', 43)\n",
      "('Professional Services', 38)\n",
      "('Energy Equipment & Services', 34)\n",
      "('Blank Check / SPAC', 32)\n",
      "('Electrical Equipment', 31)\n",
      "('Textiles, Apparel & Luxury Goods', 30)\n",
      "('Electric Utilities', 29)\n",
      "('Trading Companies & Distributors', 28)\n",
      "('Real Estate Management & Development', 28)\n",
      "('Building Products', 27)\n",
      "('Entertainment', 26)\n",
      "('Technology Hardware, Storage & Periph...', 24)\n",
      "('Construction & Engineering', 23)\n",
      "('Road & Rail', 23)\n",
      "('Consumer Finance', 23)\n",
      "('Beverages', 22)\n",
      "('Auto Components', 21)\n",
      "('Diversified Telecommunication Services', 21)\n",
      "('Life Sciences Tools & Services', 20)\n",
      "('Multi-Utilities', 19)\n",
      "('Internet & Direct Marketing Retail', 19)\n",
      "('Personal Products', 19)\n",
      "('Diversified Consumer Services', 18)\n",
      "('Mortgage Real Estate Investment Trust...', 18)\n",
      "('Shell Companies', 18)\n",
      "('Marine', 16)\n",
      "('Airlines', 15)\n",
      "('Food & Staples Retailing', 15)\n",
      "('Wireless Telecommunication Services', 14)\n",
      "('Containers & Packaging', 14)\n",
      "('Software-Application', 13)\n",
      "('Water Utilities', 13)\n",
      "('Gas Utilities', 13)\n",
      "('Air Freight & Logistics', 12)\n",
      "('Leisure Products', 12)\n",
      "('Health Care Technology', 12)\n",
      "('Interactive Media & Services', 11)\n",
      "('Household Products', 10)\n",
      "('Automobiles', 9)\n",
      "('Construction Materials', 8)\n",
      "('Multiline Retail', 8)\n",
      "('Independent Power and Renewable Elect...', 7)\n",
      "('Paper & Forest Products', 7)\n",
      "('Diversified Financial Services', 6)\n",
      "('Industrial Conglomerates', 6)\n",
      "('Distributors', 6)\n",
      "('Medical Instruments & Supplies', 5)\n",
      "('Tobacco', 5)\n",
      "('Information Technology Services', 5)\n",
      "('Medical Devices', 4)\n",
      "('Drug Manufacturers-Specialty & Generic', 4)\n",
      "('Asset Management', 4)\n",
      "('Specialty Industrial Machinery', 4)\n",
      "('Telecom Services', 4)\n",
      "('Furnishings, Fixtures & Appliances', 4)\n",
      "('Banks-Regional', 4)\n",
      "('Transportation Infrastructure', 3)\n",
      "('Health Information Services', 3)\n",
      "('Electrical Equipment & Parts', 3)\n",
      "('Other Industrial Metals & Mining', 3)\n",
      "('Scientific & Technical Instruments', 2)\n",
      "('Gold', 2)\n",
      "('Security & Protection Services', 2)\n",
      "('Auto Parts', 2)\n",
      "('Gambling', 2)\n",
      "('Communication Equipment', 2)\n",
      "('Software-Infrastructure', 2)\n",
      "('Health Care', 2)\n",
      "('Medical Care Facilities', 2)\n",
      "('Computer Hardware', 2)\n",
      "('Building Products & Equipment', 1)\n",
      "('Auto Manufacturers', 1)\n",
      "('Electronic Components', 1)\n",
      "('Agricultural Inputs', 1)\n",
      "('Internet Content & Information', 1)\n",
      "('Securities and Commodity Exchanges', 1)\n",
      "('Farm Products', 1)\n",
      "('Utilities-Renewable', 1)\n",
      "('Industrial Distribution', 1)\n",
      "('Electronic Gaming & Multimedia', 1)\n",
      "('Education & Training Services', 1)\n",
      "('Pharmaceutical Retailers', 1)\n",
      "(nan, 1)\n",
      "('Oil & Gas Drilling', 1)\n",
      "('Banks-Diversified', 1)\n",
      "('Internet Retail', 1)\n",
      "('Rental & Leasing Services', 1)\n",
      "('Staffing & Employment Services', 1)\n",
      "('Auto & Truck Dealerships', 1)\n",
      "('Electromedical and Electrotherapeutic...', 1)\n",
      "('REIT-Mortgage', 1)\n",
      "('Petroleum Refineries', 1)\n",
      "('Advertising Agencies', 1)\n",
      "('Diagnostics & Research', 1)\n",
      "('Specialty Business Services', 1)\n",
      "('Uranium', 1)\n",
      "('Engineering & Construction', 1)\n",
      "('Packaged Foods', 1)\n",
      "('REIT-Residential', 1)\n",
      "('Beverages-Wineries & Distilleries', 1)\n",
      "('Semiconductors', 1)\n"
     ]
    }
   ],
   "source": [
    "for sector in sorted_sectors:\n",
    "    print(sector)"
   ]
  },
  {
   "cell_type": "code",
   "execution_count": 57,
   "id": "f440bcb7-6243-475c-8a2d-af2a7641acdb",
   "metadata": {},
   "outputs": [],
   "source": [
    "top_sectors = [\n",
    "'Banks',\n",
    "'Biotechnology',\n",
    "'Oil, Gas & Consumable Fuels',\n",
    "'Equity Real Estate Investment Trusts ...',\n",
    "'Metals & Mining',\n",
    "'Machinery',\n",
    "'Electronic Equipment, Instruments & C...',\n",
    "'Capital Markets',\n",
    "'Health Care Equipment & Supplies',\n",
    "'Insurance',\n",
    "'Semiconductors & Semiconductor Equipment',\n",
    "'Software',\n",
    "'Specialty Retail',\n",
    "'IT Services',\n",
    "'Commercial Services & Supplies',\n",
    "'Pharmaceuticals',\n",
    "'Chemicals',\n",
    "'Hotels, Restaurants & Leisure',\n",
    "'Communications Equipment',\n",
    "'Health Care Providers & Services',\n",
    "'Food Products',\n",
    "'Media',\n",
    "'Aerospace & Defense',\n",
    "'Energy Equipment & Services',\n",
    "'Electrical Equipment',\n",
    "'Textiles, Apparel & Luxury Goods',\n",
    "'Electric Utilities',\n",
    "'Trading Companies & Distributors',\n",
    "'Real Estate Management & Development',\n",
    "'Entertainment',\n",
    "'Technology Hardware, Storage & Periph...',\n",
    "'Construction & Engineering',\n",
    "'Beverages',\n",
    "'Airlines'\n",
    "]"
   ]
  },
  {
   "cell_type": "markdown",
   "id": "622220dd-1577-4478-9a99-be63e31259a5",
   "metadata": {},
   "source": [
    "### Getting Stocks by sector\n",
    "After we have obtained the top sectors, the snippet of code below goes through the data and finds all the stocks corresponding to our top sectors"
   ]
  },
  {
   "cell_type": "code",
   "execution_count": 5,
   "id": "46264091-92e5-49ce-b68a-2176451563f1",
   "metadata": {},
   "outputs": [],
   "source": [
    "stocks_by_sector = []\n",
    "for sector in top_sectors:\n",
    "    stocks = df_total.loc[df_total['Sector'] == sector]\n",
    "    value = (sector,stocks)\n",
    "    stocks_by_sector.append(value)"
   ]
  },
  {
   "cell_type": "markdown",
   "id": "33e7f029-4bf4-40e7-a9c5-b0a44c93d43d",
   "metadata": {},
   "source": [
    "### Calculating Average Intra-Sector Correlation\n",
    "The following code blocks calculate the average weight of a link between all the stocks in a given sector. For example, in the Bank sector, the functions will go and obtain the links from one bank stock to every other bank stock, and add them to the total. Then this total will be divided by the number of links, to obtain the average weight. This is in hopes of answering our third and fourth research questions."
   ]
  },
  {
   "cell_type": "code",
   "execution_count": 58,
   "id": "f6c915a7-8018-4f89-88de-ba415bfd0bcc",
   "metadata": {},
   "outputs": [],
   "source": [
    "def calculateIntraSectorWeight(sector):\n",
    "    max_corr = (0,\"stock\",\"stock\")\n",
    "    min_corr = (0,\"stock\",\"stock\")\n",
    "    sum_of_links = 0\n",
    "    link_count = 0\n",
    "    sector_index = top_sectors.index(sector)\n",
    "    df = stocks_by_sector[sector_index][1]\n",
    "    num_of_stocks = df.shape[0]\n",
    "    for i in tqdm(range(num_of_stocks)):\n",
    "        first_stock = df.iloc[i,2:]\n",
    "        for j in range(i+1,num_of_stocks):\n",
    "            second_stock = df.iloc[j,2:]\n",
    "            result = 1-spatial.distance.cosine(first_stock,second_stock)\n",
    "            # print(result,first_stock,second_stock)\n",
    "            if(result>max_corr[0]):\n",
    "                max_corr = (result,df.iloc[i,0],df.iloc[j,0])\n",
    "            if(result<min_corr[0]):\n",
    "                min_corr = (result,df.iloc[i,0],df.iloc[j,0])\n",
    "            sum_of_links += result\n",
    "            link_count += 1\n",
    "    \n",
    "    average_link = sum_of_links / link_count\n",
    "    return average_link,max_corr,min_corr"
   ]
  },
  {
   "cell_type": "code",
   "execution_count": 59,
   "id": "f272f270-63e0-4c18-bb07-38da6814994c",
   "metadata": {},
   "outputs": [],
   "source": [
    "def getAllIntraSectorCorrelations(df):\n",
    "    for count,sector in enumerate(top_sectors):\n",
    "        avg, max_corr, min_corr = calculateIntraSectorWeight(sector)\n",
    "        df.loc[count] = [sector,avg,(max_corr[0],max_corr[1],max_corr[2]),(min_corr[0],min_corr[1],min_corr[2])]"
   ]
  },
  {
   "cell_type": "code",
   "execution_count": 60,
   "id": "b0f5c4ef-417b-46d0-b660-c0da7307944a",
   "metadata": {},
   "outputs": [
    {
     "data": {
      "application/json": {
       "ascii": false,
       "bar_format": null,
       "colour": null,
       "elapsed": 0.015964269638061523,
       "initial": 0,
       "n": 0,
       "ncols": null,
       "nrows": null,
       "postfix": null,
       "prefix": "",
       "rate": null,
       "total": 271,
       "unit": "it",
       "unit_divisor": 1000,
       "unit_scale": false
      },
      "application/vnd.jupyter.widget-view+json": {
       "model_id": "103564a7609146319ff61205189ad6f9",
       "version_major": 2,
       "version_minor": 0
      },
      "text/plain": [
       "  0%|          | 0/271 [00:00<?, ?it/s]"
      ]
     },
     "metadata": {},
     "output_type": "display_data"
    },
    {
     "data": {
      "application/json": {
       "ascii": false,
       "bar_format": null,
       "colour": null,
       "elapsed": 0.017992734909057617,
       "initial": 0,
       "n": 0,
       "ncols": null,
       "nrows": null,
       "postfix": null,
       "prefix": "",
       "rate": null,
       "total": 163,
       "unit": "it",
       "unit_divisor": 1000,
       "unit_scale": false
      },
      "application/vnd.jupyter.widget-view+json": {
       "model_id": "049d59460345455b879360cc80b8fcaa",
       "version_major": 2,
       "version_minor": 0
      },
      "text/plain": [
       "  0%|          | 0/163 [00:00<?, ?it/s]"
      ]
     },
     "metadata": {},
     "output_type": "display_data"
    },
    {
     "data": {
      "application/json": {
       "ascii": false,
       "bar_format": null,
       "colour": null,
       "elapsed": 0.015024900436401367,
       "initial": 0,
       "n": 0,
       "ncols": null,
       "nrows": null,
       "postfix": null,
       "prefix": "",
       "rate": null,
       "total": 128,
       "unit": "it",
       "unit_divisor": 1000,
       "unit_scale": false
      },
      "application/vnd.jupyter.widget-view+json": {
       "model_id": "6c5e898309414b828e126182ed5153b7",
       "version_major": 2,
       "version_minor": 0
      },
      "text/plain": [
       "  0%|          | 0/128 [00:00<?, ?it/s]"
      ]
     },
     "metadata": {},
     "output_type": "display_data"
    },
    {
     "data": {
      "application/json": {
       "ascii": false,
       "bar_format": null,
       "colour": null,
       "elapsed": 0.017002344131469727,
       "initial": 0,
       "n": 0,
       "ncols": null,
       "nrows": null,
       "postfix": null,
       "prefix": "",
       "rate": null,
       "total": 101,
       "unit": "it",
       "unit_divisor": 1000,
       "unit_scale": false
      },
      "application/vnd.jupyter.widget-view+json": {
       "model_id": "7070c234a54b4041ae1e9fd291f3e431",
       "version_major": 2,
       "version_minor": 0
      },
      "text/plain": [
       "  0%|          | 0/101 [00:00<?, ?it/s]"
      ]
     },
     "metadata": {},
     "output_type": "display_data"
    },
    {
     "data": {
      "application/json": {
       "ascii": false,
       "bar_format": null,
       "colour": null,
       "elapsed": 0.015998125076293945,
       "initial": 0,
       "n": 0,
       "ncols": null,
       "nrows": null,
       "postfix": null,
       "prefix": "",
       "rate": null,
       "total": 95,
       "unit": "it",
       "unit_divisor": 1000,
       "unit_scale": false
      },
      "application/vnd.jupyter.widget-view+json": {
       "model_id": "61ac940d666648d6bf42e9ce218572ed",
       "version_major": 2,
       "version_minor": 0
      },
      "text/plain": [
       "  0%|          | 0/95 [00:00<?, ?it/s]"
      ]
     },
     "metadata": {},
     "output_type": "display_data"
    },
    {
     "data": {
      "application/json": {
       "ascii": false,
       "bar_format": null,
       "colour": null,
       "elapsed": 0.015022993087768555,
       "initial": 0,
       "n": 0,
       "ncols": null,
       "nrows": null,
       "postfix": null,
       "prefix": "",
       "rate": null,
       "total": 93,
       "unit": "it",
       "unit_divisor": 1000,
       "unit_scale": false
      },
      "application/vnd.jupyter.widget-view+json": {
       "model_id": "8d5308f7785540fdb4dfdd101d68a5c0",
       "version_major": 2,
       "version_minor": 0
      },
      "text/plain": [
       "  0%|          | 0/93 [00:00<?, ?it/s]"
      ]
     },
     "metadata": {},
     "output_type": "display_data"
    },
    {
     "data": {
      "application/json": {
       "ascii": false,
       "bar_format": null,
       "colour": null,
       "elapsed": 0.015000104904174805,
       "initial": 0,
       "n": 0,
       "ncols": null,
       "nrows": null,
       "postfix": null,
       "prefix": "",
       "rate": null,
       "total": 88,
       "unit": "it",
       "unit_divisor": 1000,
       "unit_scale": false
      },
      "application/vnd.jupyter.widget-view+json": {
       "model_id": "79dc4020c2c34699871eb429a6f2a5d2",
       "version_major": 2,
       "version_minor": 0
      },
      "text/plain": [
       "  0%|          | 0/88 [00:00<?, ?it/s]"
      ]
     },
     "metadata": {},
     "output_type": "display_data"
    },
    {
     "data": {
      "application/json": {
       "ascii": false,
       "bar_format": null,
       "colour": null,
       "elapsed": 0.024002790451049805,
       "initial": 0,
       "n": 0,
       "ncols": null,
       "nrows": null,
       "postfix": null,
       "prefix": "",
       "rate": null,
       "total": 87,
       "unit": "it",
       "unit_divisor": 1000,
       "unit_scale": false
      },
      "application/vnd.jupyter.widget-view+json": {
       "model_id": "7335d0856c01426b88ca258596b70409",
       "version_major": 2,
       "version_minor": 0
      },
      "text/plain": [
       "  0%|          | 0/87 [00:00<?, ?it/s]"
      ]
     },
     "metadata": {},
     "output_type": "display_data"
    },
    {
     "data": {
      "application/json": {
       "ascii": false,
       "bar_format": null,
       "colour": null,
       "elapsed": 0.019032001495361328,
       "initial": 0,
       "n": 0,
       "ncols": null,
       "nrows": null,
       "postfix": null,
       "prefix": "",
       "rate": null,
       "total": 87,
       "unit": "it",
       "unit_divisor": 1000,
       "unit_scale": false
      },
      "application/vnd.jupyter.widget-view+json": {
       "model_id": "f9c8dbc686d74b1ab94a4eaf5ac3f4a2",
       "version_major": 2,
       "version_minor": 0
      },
      "text/plain": [
       "  0%|          | 0/87 [00:00<?, ?it/s]"
      ]
     },
     "metadata": {},
     "output_type": "display_data"
    },
    {
     "data": {
      "application/json": {
       "ascii": false,
       "bar_format": null,
       "colour": null,
       "elapsed": 0.015023946762084961,
       "initial": 0,
       "n": 0,
       "ncols": null,
       "nrows": null,
       "postfix": null,
       "prefix": "",
       "rate": null,
       "total": 80,
       "unit": "it",
       "unit_divisor": 1000,
       "unit_scale": false
      },
      "application/vnd.jupyter.widget-view+json": {
       "model_id": "7827e5913d904bcab0c7b186cb9036c2",
       "version_major": 2,
       "version_minor": 0
      },
      "text/plain": [
       "  0%|          | 0/80 [00:00<?, ?it/s]"
      ]
     },
     "metadata": {},
     "output_type": "display_data"
    },
    {
     "data": {
      "application/json": {
       "ascii": false,
       "bar_format": null,
       "colour": null,
       "elapsed": 0.018032073974609375,
       "initial": 0,
       "n": 0,
       "ncols": null,
       "nrows": null,
       "postfix": null,
       "prefix": "",
       "rate": null,
       "total": 75,
       "unit": "it",
       "unit_divisor": 1000,
       "unit_scale": false
      },
      "application/vnd.jupyter.widget-view+json": {
       "model_id": "c6ad4526194540ca96c762d2affa1b8a",
       "version_major": 2,
       "version_minor": 0
      },
      "text/plain": [
       "  0%|          | 0/75 [00:00<?, ?it/s]"
      ]
     },
     "metadata": {},
     "output_type": "display_data"
    },
    {
     "data": {
      "application/json": {
       "ascii": false,
       "bar_format": null,
       "colour": null,
       "elapsed": 0.015001296997070312,
       "initial": 0,
       "n": 0,
       "ncols": null,
       "nrows": null,
       "postfix": null,
       "prefix": "",
       "rate": null,
       "total": 70,
       "unit": "it",
       "unit_divisor": 1000,
       "unit_scale": false
      },
      "application/vnd.jupyter.widget-view+json": {
       "model_id": "d7236b5ead12434282736117a7a89719",
       "version_major": 2,
       "version_minor": 0
      },
      "text/plain": [
       "  0%|          | 0/70 [00:00<?, ?it/s]"
      ]
     },
     "metadata": {},
     "output_type": "display_data"
    },
    {
     "data": {
      "application/json": {
       "ascii": false,
       "bar_format": null,
       "colour": null,
       "elapsed": 0.016003847122192383,
       "initial": 0,
       "n": 0,
       "ncols": null,
       "nrows": null,
       "postfix": null,
       "prefix": "",
       "rate": null,
       "total": 63,
       "unit": "it",
       "unit_divisor": 1000,
       "unit_scale": false
      },
      "application/vnd.jupyter.widget-view+json": {
       "model_id": "63f4c15c4c8d4dd4ba1c937dec553f90",
       "version_major": 2,
       "version_minor": 0
      },
      "text/plain": [
       "  0%|          | 0/63 [00:00<?, ?it/s]"
      ]
     },
     "metadata": {},
     "output_type": "display_data"
    },
    {
     "data": {
      "application/json": {
       "ascii": false,
       "bar_format": null,
       "colour": null,
       "elapsed": 0.014999151229858398,
       "initial": 0,
       "n": 0,
       "ncols": null,
       "nrows": null,
       "postfix": null,
       "prefix": "",
       "rate": null,
       "total": 58,
       "unit": "it",
       "unit_divisor": 1000,
       "unit_scale": false
      },
      "application/vnd.jupyter.widget-view+json": {
       "model_id": "d2465b6057334ae1b96e5311546fceee",
       "version_major": 2,
       "version_minor": 0
      },
      "text/plain": [
       "  0%|          | 0/58 [00:00<?, ?it/s]"
      ]
     },
     "metadata": {},
     "output_type": "display_data"
    },
    {
     "data": {
      "application/json": {
       "ascii": false,
       "bar_format": null,
       "colour": null,
       "elapsed": 0.015995025634765625,
       "initial": 0,
       "n": 0,
       "ncols": null,
       "nrows": null,
       "postfix": null,
       "prefix": "",
       "rate": null,
       "total": 57,
       "unit": "it",
       "unit_divisor": 1000,
       "unit_scale": false
      },
      "application/vnd.jupyter.widget-view+json": {
       "model_id": "2f57023c91e54664a05ccc62cf4a8a14",
       "version_major": 2,
       "version_minor": 0
      },
      "text/plain": [
       "  0%|          | 0/57 [00:00<?, ?it/s]"
      ]
     },
     "metadata": {},
     "output_type": "display_data"
    },
    {
     "data": {
      "application/json": {
       "ascii": false,
       "bar_format": null,
       "colour": null,
       "elapsed": 0.01700139045715332,
       "initial": 0,
       "n": 0,
       "ncols": null,
       "nrows": null,
       "postfix": null,
       "prefix": "",
       "rate": null,
       "total": 56,
       "unit": "it",
       "unit_divisor": 1000,
       "unit_scale": false
      },
      "application/vnd.jupyter.widget-view+json": {
       "model_id": "a59fe6ceecc542d3a6999d48a0543177",
       "version_major": 2,
       "version_minor": 0
      },
      "text/plain": [
       "  0%|          | 0/56 [00:00<?, ?it/s]"
      ]
     },
     "metadata": {},
     "output_type": "display_data"
    },
    {
     "data": {
      "application/json": {
       "ascii": false,
       "bar_format": null,
       "colour": null,
       "elapsed": 0.015001535415649414,
       "initial": 0,
       "n": 0,
       "ncols": null,
       "nrows": null,
       "postfix": null,
       "prefix": "",
       "rate": null,
       "total": 55,
       "unit": "it",
       "unit_divisor": 1000,
       "unit_scale": false
      },
      "application/vnd.jupyter.widget-view+json": {
       "model_id": "531263ef210347ce87a50090aa71df0d",
       "version_major": 2,
       "version_minor": 0
      },
      "text/plain": [
       "  0%|          | 0/55 [00:00<?, ?it/s]"
      ]
     },
     "metadata": {},
     "output_type": "display_data"
    },
    {
     "data": {
      "application/json": {
       "ascii": false,
       "bar_format": null,
       "colour": null,
       "elapsed": 0.016998291015625,
       "initial": 0,
       "n": 0,
       "ncols": null,
       "nrows": null,
       "postfix": null,
       "prefix": "",
       "rate": null,
       "total": 54,
       "unit": "it",
       "unit_divisor": 1000,
       "unit_scale": false
      },
      "application/vnd.jupyter.widget-view+json": {
       "model_id": "ec51e6b146264340b5edae73b98bf95e",
       "version_major": 2,
       "version_minor": 0
      },
      "text/plain": [
       "  0%|          | 0/54 [00:00<?, ?it/s]"
      ]
     },
     "metadata": {},
     "output_type": "display_data"
    },
    {
     "data": {
      "application/json": {
       "ascii": false,
       "bar_format": null,
       "colour": null,
       "elapsed": 0.01599884033203125,
       "initial": 0,
       "n": 0,
       "ncols": null,
       "nrows": null,
       "postfix": null,
       "prefix": "",
       "rate": null,
       "total": 50,
       "unit": "it",
       "unit_divisor": 1000,
       "unit_scale": false
      },
      "application/vnd.jupyter.widget-view+json": {
       "model_id": "ceef3213ed224ae8851c6c7895cdab46",
       "version_major": 2,
       "version_minor": 0
      },
      "text/plain": [
       "  0%|          | 0/50 [00:00<?, ?it/s]"
      ]
     },
     "metadata": {},
     "output_type": "display_data"
    },
    {
     "data": {
      "application/json": {
       "ascii": false,
       "bar_format": null,
       "colour": null,
       "elapsed": 0.01700448989868164,
       "initial": 0,
       "n": 0,
       "ncols": null,
       "nrows": null,
       "postfix": null,
       "prefix": "",
       "rate": null,
       "total": 48,
       "unit": "it",
       "unit_divisor": 1000,
       "unit_scale": false
      },
      "application/vnd.jupyter.widget-view+json": {
       "model_id": "7290374f10c6462c87087689704a7c2d",
       "version_major": 2,
       "version_minor": 0
      },
      "text/plain": [
       "  0%|          | 0/48 [00:00<?, ?it/s]"
      ]
     },
     "metadata": {},
     "output_type": "display_data"
    },
    {
     "data": {
      "application/json": {
       "ascii": false,
       "bar_format": null,
       "colour": null,
       "elapsed": 0.017026662826538086,
       "initial": 0,
       "n": 0,
       "ncols": null,
       "nrows": null,
       "postfix": null,
       "prefix": "",
       "rate": null,
       "total": 47,
       "unit": "it",
       "unit_divisor": 1000,
       "unit_scale": false
      },
      "application/vnd.jupyter.widget-view+json": {
       "model_id": "179225f7996f4e7f83ec2c66ec82f659",
       "version_major": 2,
       "version_minor": 0
      },
      "text/plain": [
       "  0%|          | 0/47 [00:00<?, ?it/s]"
      ]
     },
     "metadata": {},
     "output_type": "display_data"
    },
    {
     "data": {
      "application/json": {
       "ascii": false,
       "bar_format": null,
       "colour": null,
       "elapsed": 0.015002965927124023,
       "initial": 0,
       "n": 0,
       "ncols": null,
       "nrows": null,
       "postfix": null,
       "prefix": "",
       "rate": null,
       "total": 47,
       "unit": "it",
       "unit_divisor": 1000,
       "unit_scale": false
      },
      "application/vnd.jupyter.widget-view+json": {
       "model_id": "0a91bb85c7334affaa82ed24751cdaea",
       "version_major": 2,
       "version_minor": 0
      },
      "text/plain": [
       "  0%|          | 0/47 [00:00<?, ?it/s]"
      ]
     },
     "metadata": {},
     "output_type": "display_data"
    },
    {
     "data": {
      "application/json": {
       "ascii": false,
       "bar_format": null,
       "colour": null,
       "elapsed": 0.01702880859375,
       "initial": 0,
       "n": 0,
       "ncols": null,
       "nrows": null,
       "postfix": null,
       "prefix": "",
       "rate": null,
       "total": 43,
       "unit": "it",
       "unit_divisor": 1000,
       "unit_scale": false
      },
      "application/vnd.jupyter.widget-view+json": {
       "model_id": "0036326dd9df49c6905f30f072dd9a04",
       "version_major": 2,
       "version_minor": 0
      },
      "text/plain": [
       "  0%|          | 0/43 [00:00<?, ?it/s]"
      ]
     },
     "metadata": {},
     "output_type": "display_data"
    },
    {
     "data": {
      "application/json": {
       "ascii": false,
       "bar_format": null,
       "colour": null,
       "elapsed": 0.01599597930908203,
       "initial": 0,
       "n": 0,
       "ncols": null,
       "nrows": null,
       "postfix": null,
       "prefix": "",
       "rate": null,
       "total": 34,
       "unit": "it",
       "unit_divisor": 1000,
       "unit_scale": false
      },
      "application/vnd.jupyter.widget-view+json": {
       "model_id": "d1d0782763ee4664906ec08a4176cf3b",
       "version_major": 2,
       "version_minor": 0
      },
      "text/plain": [
       "  0%|          | 0/34 [00:00<?, ?it/s]"
      ]
     },
     "metadata": {},
     "output_type": "display_data"
    },
    {
     "data": {
      "application/json": {
       "ascii": false,
       "bar_format": null,
       "colour": null,
       "elapsed": 0.015001773834228516,
       "initial": 0,
       "n": 0,
       "ncols": null,
       "nrows": null,
       "postfix": null,
       "prefix": "",
       "rate": null,
       "total": 31,
       "unit": "it",
       "unit_divisor": 1000,
       "unit_scale": false
      },
      "application/vnd.jupyter.widget-view+json": {
       "model_id": "63e2daa89fd34d398f1ba12f94e1ed92",
       "version_major": 2,
       "version_minor": 0
      },
      "text/plain": [
       "  0%|          | 0/31 [00:00<?, ?it/s]"
      ]
     },
     "metadata": {},
     "output_type": "display_data"
    },
    {
     "data": {
      "application/json": {
       "ascii": false,
       "bar_format": null,
       "colour": null,
       "elapsed": 0.014964103698730469,
       "initial": 0,
       "n": 0,
       "ncols": null,
       "nrows": null,
       "postfix": null,
       "prefix": "",
       "rate": null,
       "total": 30,
       "unit": "it",
       "unit_divisor": 1000,
       "unit_scale": false
      },
      "application/vnd.jupyter.widget-view+json": {
       "model_id": "722a71db17a84484b4118d66ca5b2342",
       "version_major": 2,
       "version_minor": 0
      },
      "text/plain": [
       "  0%|          | 0/30 [00:00<?, ?it/s]"
      ]
     },
     "metadata": {},
     "output_type": "display_data"
    },
    {
     "data": {
      "application/json": {
       "ascii": false,
       "bar_format": null,
       "colour": null,
       "elapsed": 0.015032768249511719,
       "initial": 0,
       "n": 0,
       "ncols": null,
       "nrows": null,
       "postfix": null,
       "prefix": "",
       "rate": null,
       "total": 29,
       "unit": "it",
       "unit_divisor": 1000,
       "unit_scale": false
      },
      "application/vnd.jupyter.widget-view+json": {
       "model_id": "ad88434dfa8f4d65a341399dd02f001e",
       "version_major": 2,
       "version_minor": 0
      },
      "text/plain": [
       "  0%|          | 0/29 [00:00<?, ?it/s]"
      ]
     },
     "metadata": {},
     "output_type": "display_data"
    },
    {
     "data": {
      "application/json": {
       "ascii": false,
       "bar_format": null,
       "colour": null,
       "elapsed": 0.016999006271362305,
       "initial": 0,
       "n": 0,
       "ncols": null,
       "nrows": null,
       "postfix": null,
       "prefix": "",
       "rate": null,
       "total": 28,
       "unit": "it",
       "unit_divisor": 1000,
       "unit_scale": false
      },
      "application/vnd.jupyter.widget-view+json": {
       "model_id": "76ea559c6b6b4ae68e8e9f51f704e153",
       "version_major": 2,
       "version_minor": 0
      },
      "text/plain": [
       "  0%|          | 0/28 [00:00<?, ?it/s]"
      ]
     },
     "metadata": {},
     "output_type": "display_data"
    },
    {
     "data": {
      "application/json": {
       "ascii": false,
       "bar_format": null,
       "colour": null,
       "elapsed": 0.016999483108520508,
       "initial": 0,
       "n": 0,
       "ncols": null,
       "nrows": null,
       "postfix": null,
       "prefix": "",
       "rate": null,
       "total": 28,
       "unit": "it",
       "unit_divisor": 1000,
       "unit_scale": false
      },
      "application/vnd.jupyter.widget-view+json": {
       "model_id": "5eacdaf3512644bba11cd812490fef9d",
       "version_major": 2,
       "version_minor": 0
      },
      "text/plain": [
       "  0%|          | 0/28 [00:00<?, ?it/s]"
      ]
     },
     "metadata": {},
     "output_type": "display_data"
    },
    {
     "data": {
      "application/json": {
       "ascii": false,
       "bar_format": null,
       "colour": null,
       "elapsed": 0.015999317169189453,
       "initial": 0,
       "n": 0,
       "ncols": null,
       "nrows": null,
       "postfix": null,
       "prefix": "",
       "rate": null,
       "total": 26,
       "unit": "it",
       "unit_divisor": 1000,
       "unit_scale": false
      },
      "application/vnd.jupyter.widget-view+json": {
       "model_id": "e6672e52c1da4f2b9c0aa9ef185093aa",
       "version_major": 2,
       "version_minor": 0
      },
      "text/plain": [
       "  0%|          | 0/26 [00:00<?, ?it/s]"
      ]
     },
     "metadata": {},
     "output_type": "display_data"
    },
    {
     "data": {
      "application/json": {
       "ascii": false,
       "bar_format": null,
       "colour": null,
       "elapsed": 0.016001462936401367,
       "initial": 0,
       "n": 0,
       "ncols": null,
       "nrows": null,
       "postfix": null,
       "prefix": "",
       "rate": null,
       "total": 24,
       "unit": "it",
       "unit_divisor": 1000,
       "unit_scale": false
      },
      "application/vnd.jupyter.widget-view+json": {
       "model_id": "4237461f9f244a688869d957de052fd5",
       "version_major": 2,
       "version_minor": 0
      },
      "text/plain": [
       "  0%|          | 0/24 [00:00<?, ?it/s]"
      ]
     },
     "metadata": {},
     "output_type": "display_data"
    },
    {
     "data": {
      "application/json": {
       "ascii": false,
       "bar_format": null,
       "colour": null,
       "elapsed": 0.016031742095947266,
       "initial": 0,
       "n": 0,
       "ncols": null,
       "nrows": null,
       "postfix": null,
       "prefix": "",
       "rate": null,
       "total": 23,
       "unit": "it",
       "unit_divisor": 1000,
       "unit_scale": false
      },
      "application/vnd.jupyter.widget-view+json": {
       "model_id": "352f0fb9edad427aa6ced832e5ca538b",
       "version_major": 2,
       "version_minor": 0
      },
      "text/plain": [
       "  0%|          | 0/23 [00:00<?, ?it/s]"
      ]
     },
     "metadata": {},
     "output_type": "display_data"
    },
    {
     "data": {
      "application/json": {
       "ascii": false,
       "bar_format": null,
       "colour": null,
       "elapsed": 0.016001224517822266,
       "initial": 0,
       "n": 0,
       "ncols": null,
       "nrows": null,
       "postfix": null,
       "prefix": "",
       "rate": null,
       "total": 22,
       "unit": "it",
       "unit_divisor": 1000,
       "unit_scale": false
      },
      "application/vnd.jupyter.widget-view+json": {
       "model_id": "5a488eeddc8c49449b1a1fe216a9f108",
       "version_major": 2,
       "version_minor": 0
      },
      "text/plain": [
       "  0%|          | 0/22 [00:00<?, ?it/s]"
      ]
     },
     "metadata": {},
     "output_type": "display_data"
    },
    {
     "data": {
      "application/json": {
       "ascii": false,
       "bar_format": null,
       "colour": null,
       "elapsed": 0.016999483108520508,
       "initial": 0,
       "n": 0,
       "ncols": null,
       "nrows": null,
       "postfix": null,
       "prefix": "",
       "rate": null,
       "total": 15,
       "unit": "it",
       "unit_divisor": 1000,
       "unit_scale": false
      },
      "application/vnd.jupyter.widget-view+json": {
       "model_id": "c9db31cff87f4551971b899d3ed65d5e",
       "version_major": 2,
       "version_minor": 0
      },
      "text/plain": [
       "  0%|          | 0/15 [00:00<?, ?it/s]"
      ]
     },
     "metadata": {},
     "output_type": "display_data"
    }
   ],
   "source": [
    "df_intra = pd.DataFrame(columns=[\"Sector\",\"Average Correlation\",\"Max Correlation\",\"Min Correlation\"])\n",
    "intra_correlations = getAllIntraSectorCorrelations(df_intra)"
   ]
  },
  {
   "cell_type": "code",
   "execution_count": 62,
   "id": "c902b5ad-51ac-4458-91ce-005411ca9276",
   "metadata": {},
   "outputs": [
    {
     "data": {
      "text/html": [
       "<div>\n",
       "<style scoped>\n",
       "    .dataframe tbody tr th:only-of-type {\n",
       "        vertical-align: middle;\n",
       "    }\n",
       "\n",
       "    .dataframe tbody tr th {\n",
       "        vertical-align: top;\n",
       "    }\n",
       "\n",
       "    .dataframe thead th {\n",
       "        text-align: right;\n",
       "    }\n",
       "</style>\n",
       "<table border=\"1\" class=\"dataframe\">\n",
       "  <thead>\n",
       "    <tr style=\"text-align: right;\">\n",
       "      <th></th>\n",
       "      <th>Sector</th>\n",
       "      <th>Average Correlation</th>\n",
       "      <th>Max Correlation</th>\n",
       "      <th>Min Correlation</th>\n",
       "    </tr>\n",
       "  </thead>\n",
       "  <tbody>\n",
       "    <tr>\n",
       "      <th>23</th>\n",
       "      <td>Energy Equipment &amp; Services</td>\n",
       "      <td>0.475037</td>\n",
       "      <td>(0.8882941728141304, HAL, SLB)</td>\n",
       "      <td>(0, stock, stock)</td>\n",
       "    </tr>\n",
       "    <tr>\n",
       "      <th>33</th>\n",
       "      <td>Airlines</td>\n",
       "      <td>0.439068</td>\n",
       "      <td>(0.8928999467636979, CEA, ZNH)</td>\n",
       "      <td>(0, stock, stock)</td>\n",
       "    </tr>\n",
       "    <tr>\n",
       "      <th>3</th>\n",
       "      <td>Equity Real Estate Investment Trusts ...</td>\n",
       "      <td>0.419302</td>\n",
       "      <td>(0.9126866521624862, KIM, REG)</td>\n",
       "      <td>(-0.12823799536807146, IHT, SBAC)</td>\n",
       "    </tr>\n",
       "    <tr>\n",
       "      <th>26</th>\n",
       "      <td>Electric Utilities</td>\n",
       "      <td>0.409064</td>\n",
       "      <td>(0.8963693868337042, LNT, XEL)</td>\n",
       "      <td>(-0.1286715503196716, EDN, MGF)</td>\n",
       "    </tr>\n",
       "    <tr>\n",
       "      <th>17</th>\n",
       "      <td>Hotels, Restaurants &amp; Leisure</td>\n",
       "      <td>0.390153</td>\n",
       "      <td>(0.9866427501699437, CCL, CUK)</td>\n",
       "      <td>(-0.06058279447573067, CPHC, TAST)</td>\n",
       "    </tr>\n",
       "    <tr>\n",
       "      <th>5</th>\n",
       "      <td>Machinery</td>\n",
       "      <td>0.379853</td>\n",
       "      <td>(0.8504897147877548, VKI, VKQ)</td>\n",
       "      <td>(-0.2018622560312524, HURC, VKQ)</td>\n",
       "    </tr>\n",
       "    <tr>\n",
       "      <th>0</th>\n",
       "      <td>Banks</td>\n",
       "      <td>0.352028</td>\n",
       "      <td>(0.9390549555893505, BBD, ITUB)</td>\n",
       "      <td>(-0.25630984505676646, EGF, MCBC)</td>\n",
       "    </tr>\n",
       "    <tr>\n",
       "      <th>27</th>\n",
       "      <td>Trading Companies &amp; Distributors</td>\n",
       "      <td>0.343413</td>\n",
       "      <td>(0.7824808642361912, HRI, URI)</td>\n",
       "      <td>(-0.06427591992427106, GIC, IGC)</td>\n",
       "    </tr>\n",
       "    <tr>\n",
       "      <th>16</th>\n",
       "      <td>Chemicals</td>\n",
       "      <td>0.326630</td>\n",
       "      <td>(0.7563468929285467, CE, EMN)</td>\n",
       "      <td>(-0.20268707348397674, ADES, NEV)</td>\n",
       "    </tr>\n",
       "    <tr>\n",
       "      <th>9</th>\n",
       "      <td>Insurance</td>\n",
       "      <td>0.321942</td>\n",
       "      <td>(0.8855548429127549, LNC, PRU)</td>\n",
       "      <td>(-0.18794377816264296, UNAM, WTM)</td>\n",
       "    </tr>\n",
       "    <tr>\n",
       "      <th>7</th>\n",
       "      <td>Capital Markets</td>\n",
       "      <td>0.316164</td>\n",
       "      <td>(0.867801735645092, GS, MS)</td>\n",
       "      <td>(-0.2835088693097858, BK, MCA)</td>\n",
       "    </tr>\n",
       "    <tr>\n",
       "      <th>4</th>\n",
       "      <td>Metals &amp; Mining</td>\n",
       "      <td>0.314901</td>\n",
       "      <td>(0.884734443836443, BHP, RIO)</td>\n",
       "      <td>(-0.13482150226025102, GFI, SIM)</td>\n",
       "    </tr>\n",
       "    <tr>\n",
       "      <th>31</th>\n",
       "      <td>Construction &amp; Engineering</td>\n",
       "      <td>0.313233</td>\n",
       "      <td>(0.8119973382379071, LEO, VMO)</td>\n",
       "      <td>(-0.1299272782381926, MYRG, VMO)</td>\n",
       "    </tr>\n",
       "    <tr>\n",
       "      <th>12</th>\n",
       "      <td>Specialty Retail</td>\n",
       "      <td>0.304169</td>\n",
       "      <td>(0.8105472854076968, AZO, ORLY)</td>\n",
       "      <td>(-0.1396974413613823, BBY, SBI)</td>\n",
       "    </tr>\n",
       "    <tr>\n",
       "      <th>2</th>\n",
       "      <td>Oil, Gas &amp; Consumable Fuels</td>\n",
       "      <td>0.303748</td>\n",
       "      <td>(0.9106013366381543, DVN, MRO)</td>\n",
       "      <td>(-0.21890214996055324, NCA, URG)</td>\n",
       "    </tr>\n",
       "    <tr>\n",
       "      <th>10</th>\n",
       "      <td>Semiconductors &amp; Semiconductor Equipment</td>\n",
       "      <td>0.269579</td>\n",
       "      <td>(0.8114408925831192, ADI, TXN)</td>\n",
       "      <td>(-0.17801603560411028, ACLS, MUC)</td>\n",
       "    </tr>\n",
       "    <tr>\n",
       "      <th>22</th>\n",
       "      <td>Aerospace &amp; Defense</td>\n",
       "      <td>0.269163</td>\n",
       "      <td>(0.8219744928965719, LMT, NOC)</td>\n",
       "      <td>(-0.14214991854471348, ASTC, HEI)</td>\n",
       "    </tr>\n",
       "    <tr>\n",
       "      <th>24</th>\n",
       "      <td>Electrical Equipment</td>\n",
       "      <td>0.266421</td>\n",
       "      <td>(0.8048888082084795, ETN, HUBB)</td>\n",
       "      <td>(-0.09017275801105007, ESP, PLUG)</td>\n",
       "    </tr>\n",
       "    <tr>\n",
       "      <th>25</th>\n",
       "      <td>Textiles, Apparel &amp; Luxury Goods</td>\n",
       "      <td>0.266275</td>\n",
       "      <td>(0.715122885890624, PVH, RL)</td>\n",
       "      <td>(-0.12217195516268697, COLM, EVK)</td>\n",
       "    </tr>\n",
       "    <tr>\n",
       "      <th>14</th>\n",
       "      <td>Commercial Services &amp; Supplies</td>\n",
       "      <td>0.258090</td>\n",
       "      <td>(0.8176888952806606, RSG, WM)</td>\n",
       "      <td>(-0.16787974520456328, TOMZ, VVI)</td>\n",
       "    </tr>\n",
       "    <tr>\n",
       "      <th>13</th>\n",
       "      <td>IT Services</td>\n",
       "      <td>0.254002</td>\n",
       "      <td>(0.8858803784155986, MA, V)</td>\n",
       "      <td>(-0.1854744961580359, IIM, UIS)</td>\n",
       "    </tr>\n",
       "    <tr>\n",
       "      <th>32</th>\n",
       "      <td>Beverages</td>\n",
       "      <td>0.253170</td>\n",
       "      <td>(0.7454617057952203, FMX, KOF)</td>\n",
       "      <td>(-0.0621981716299691, KO, REED)</td>\n",
       "    </tr>\n",
       "    <tr>\n",
       "      <th>30</th>\n",
       "      <td>Technology Hardware, Storage &amp; Periph...</td>\n",
       "      <td>0.239072</td>\n",
       "      <td>(0.9398746427877895, HPF, HPI)</td>\n",
       "      <td>(-0.15326342960272465, HPF, SMED)</td>\n",
       "    </tr>\n",
       "    <tr>\n",
       "      <th>19</th>\n",
       "      <td>Health Care Providers &amp; Services</td>\n",
       "      <td>0.226938</td>\n",
       "      <td>(0.8118432344854175, DGX, LH)</td>\n",
       "      <td>(-0.1458622339697846, AMEH, HUM)</td>\n",
       "    </tr>\n",
       "    <tr>\n",
       "      <th>21</th>\n",
       "      <td>Media</td>\n",
       "      <td>0.211735</td>\n",
       "      <td>(0.9899227337087159, LBTYA, LBTYK)</td>\n",
       "      <td>(-0.28221764908029545, DJCO, TVE)</td>\n",
       "    </tr>\n",
       "    <tr>\n",
       "      <th>28</th>\n",
       "      <td>Real Estate Management &amp; Development</td>\n",
       "      <td>0.207576</td>\n",
       "      <td>(0.876530610117323, CBRE, JLL)</td>\n",
       "      <td>(-0.18365658878133506, FRPH, NMT)</td>\n",
       "    </tr>\n",
       "    <tr>\n",
       "      <th>11</th>\n",
       "      <td>Software</td>\n",
       "      <td>0.201368</td>\n",
       "      <td>(0.7221481243370496, ADSK, PTC)</td>\n",
       "      <td>(-0.3010840948427318, CDR, NLOK)</td>\n",
       "    </tr>\n",
       "    <tr>\n",
       "      <th>6</th>\n",
       "      <td>Electronic Equipment, Instruments &amp; C...</td>\n",
       "      <td>0.196907</td>\n",
       "      <td>(0.7945914805764392, ARW, AVT)</td>\n",
       "      <td>(-0.23341537977905125, ELTK, TAIT)</td>\n",
       "    </tr>\n",
       "    <tr>\n",
       "      <th>18</th>\n",
       "      <td>Communications Equipment</td>\n",
       "      <td>0.191746</td>\n",
       "      <td>(0.6704047477288283, FFIV, JNPR)</td>\n",
       "      <td>(-0.2721004251301993, BOSC, NOM)</td>\n",
       "    </tr>\n",
       "    <tr>\n",
       "      <th>29</th>\n",
       "      <td>Entertainment</td>\n",
       "      <td>0.184955</td>\n",
       "      <td>(0.9720050055581492, NCV, NCZ)</td>\n",
       "      <td>(-0.1133171536591886, GAIA, IQI)</td>\n",
       "    </tr>\n",
       "    <tr>\n",
       "      <th>8</th>\n",
       "      <td>Health Care Equipment &amp; Supplies</td>\n",
       "      <td>0.171356</td>\n",
       "      <td>(0.6693853184747948, SYK, ZBH)</td>\n",
       "      <td>(-0.245937572403365, MMU, STXS)</td>\n",
       "    </tr>\n",
       "    <tr>\n",
       "      <th>20</th>\n",
       "      <td>Food Products</td>\n",
       "      <td>0.155084</td>\n",
       "      <td>(0.8342581510738292, SENEA, SENEB)</td>\n",
       "      <td>(-0.18521000769639406, CALM, PMF)</td>\n",
       "    </tr>\n",
       "    <tr>\n",
       "      <th>15</th>\n",
       "      <td>Pharmaceuticals</td>\n",
       "      <td>0.139870</td>\n",
       "      <td>(0.7891538123052999, AVK, EOS)</td>\n",
       "      <td>(-0.1997498977480363, OPNT, SNOA)</td>\n",
       "    </tr>\n",
       "    <tr>\n",
       "      <th>1</th>\n",
       "      <td>Biotechnology</td>\n",
       "      <td>0.126243</td>\n",
       "      <td>(0.9533543806082179, ADX, GAM)</td>\n",
       "      <td>(-0.3494156854338717, MYI, VNDA)</td>\n",
       "    </tr>\n",
       "  </tbody>\n",
       "</table>\n",
       "</div>"
      ],
      "text/plain": [
       "                                      Sector  Average Correlation  \\\n",
       "23               Energy Equipment & Services             0.475037   \n",
       "33                                  Airlines             0.439068   \n",
       "3   Equity Real Estate Investment Trusts ...             0.419302   \n",
       "26                        Electric Utilities             0.409064   \n",
       "17             Hotels, Restaurants & Leisure             0.390153   \n",
       "5                                  Machinery             0.379853   \n",
       "0                                      Banks             0.352028   \n",
       "27          Trading Companies & Distributors             0.343413   \n",
       "16                                 Chemicals             0.326630   \n",
       "9                                  Insurance             0.321942   \n",
       "7                            Capital Markets             0.316164   \n",
       "4                            Metals & Mining             0.314901   \n",
       "31                Construction & Engineering             0.313233   \n",
       "12                          Specialty Retail             0.304169   \n",
       "2                Oil, Gas & Consumable Fuels             0.303748   \n",
       "10  Semiconductors & Semiconductor Equipment             0.269579   \n",
       "22                       Aerospace & Defense             0.269163   \n",
       "24                      Electrical Equipment             0.266421   \n",
       "25          Textiles, Apparel & Luxury Goods             0.266275   \n",
       "14            Commercial Services & Supplies             0.258090   \n",
       "13                               IT Services             0.254002   \n",
       "32                                 Beverages             0.253170   \n",
       "30  Technology Hardware, Storage & Periph...             0.239072   \n",
       "19          Health Care Providers & Services             0.226938   \n",
       "21                                     Media             0.211735   \n",
       "28      Real Estate Management & Development             0.207576   \n",
       "11                                  Software             0.201368   \n",
       "6   Electronic Equipment, Instruments & C...             0.196907   \n",
       "18                  Communications Equipment             0.191746   \n",
       "29                             Entertainment             0.184955   \n",
       "8           Health Care Equipment & Supplies             0.171356   \n",
       "20                             Food Products             0.155084   \n",
       "15                           Pharmaceuticals             0.139870   \n",
       "1                              Biotechnology             0.126243   \n",
       "\n",
       "                       Max Correlation                     Min Correlation  \n",
       "23      (0.8882941728141304, HAL, SLB)                   (0, stock, stock)  \n",
       "33      (0.8928999467636979, CEA, ZNH)                   (0, stock, stock)  \n",
       "3       (0.9126866521624862, KIM, REG)   (-0.12823799536807146, IHT, SBAC)  \n",
       "26      (0.8963693868337042, LNT, XEL)     (-0.1286715503196716, EDN, MGF)  \n",
       "17      (0.9866427501699437, CCL, CUK)  (-0.06058279447573067, CPHC, TAST)  \n",
       "5       (0.8504897147877548, VKI, VKQ)    (-0.2018622560312524, HURC, VKQ)  \n",
       "0      (0.9390549555893505, BBD, ITUB)   (-0.25630984505676646, EGF, MCBC)  \n",
       "27      (0.7824808642361912, HRI, URI)    (-0.06427591992427106, GIC, IGC)  \n",
       "16       (0.7563468929285467, CE, EMN)   (-0.20268707348397674, ADES, NEV)  \n",
       "9       (0.8855548429127549, LNC, PRU)   (-0.18794377816264296, UNAM, WTM)  \n",
       "7          (0.867801735645092, GS, MS)      (-0.2835088693097858, BK, MCA)  \n",
       "4        (0.884734443836443, BHP, RIO)    (-0.13482150226025102, GFI, SIM)  \n",
       "31      (0.8119973382379071, LEO, VMO)    (-0.1299272782381926, MYRG, VMO)  \n",
       "12     (0.8105472854076968, AZO, ORLY)     (-0.1396974413613823, BBY, SBI)  \n",
       "2       (0.9106013366381543, DVN, MRO)    (-0.21890214996055324, NCA, URG)  \n",
       "10      (0.8114408925831192, ADI, TXN)   (-0.17801603560411028, ACLS, MUC)  \n",
       "22      (0.8219744928965719, LMT, NOC)   (-0.14214991854471348, ASTC, HEI)  \n",
       "24     (0.8048888082084795, ETN, HUBB)   (-0.09017275801105007, ESP, PLUG)  \n",
       "25        (0.715122885890624, PVH, RL)   (-0.12217195516268697, COLM, EVK)  \n",
       "14       (0.8176888952806606, RSG, WM)   (-0.16787974520456328, TOMZ, VVI)  \n",
       "13         (0.8858803784155986, MA, V)     (-0.1854744961580359, IIM, UIS)  \n",
       "32      (0.7454617057952203, FMX, KOF)     (-0.0621981716299691, KO, REED)  \n",
       "30      (0.9398746427877895, HPF, HPI)   (-0.15326342960272465, HPF, SMED)  \n",
       "19       (0.8118432344854175, DGX, LH)    (-0.1458622339697846, AMEH, HUM)  \n",
       "21  (0.9899227337087159, LBTYA, LBTYK)   (-0.28221764908029545, DJCO, TVE)  \n",
       "28      (0.876530610117323, CBRE, JLL)   (-0.18365658878133506, FRPH, NMT)  \n",
       "11     (0.7221481243370496, ADSK, PTC)    (-0.3010840948427318, CDR, NLOK)  \n",
       "6       (0.7945914805764392, ARW, AVT)  (-0.23341537977905125, ELTK, TAIT)  \n",
       "18    (0.6704047477288283, FFIV, JNPR)    (-0.2721004251301993, BOSC, NOM)  \n",
       "29      (0.9720050055581492, NCV, NCZ)    (-0.1133171536591886, GAIA, IQI)  \n",
       "8       (0.6693853184747948, SYK, ZBH)     (-0.245937572403365, MMU, STXS)  \n",
       "20  (0.8342581510738292, SENEA, SENEB)   (-0.18521000769639406, CALM, PMF)  \n",
       "15      (0.7891538123052999, AVK, EOS)   (-0.1997498977480363, OPNT, SNOA)  \n",
       "1       (0.9533543806082179, ADX, GAM)    (-0.3494156854338717, MYI, VNDA)  "
      ]
     },
     "execution_count": 62,
     "metadata": {},
     "output_type": "execute_result"
    }
   ],
   "source": [
    "df_intra.sort_values('Average Correlation', ascending=False)"
   ]
  },
  {
   "cell_type": "markdown",
   "id": "fc29301d-48fb-4db5-9ad0-956ea3cb6e17",
   "metadata": {},
   "source": [
    "### Calculating Average Intra-Sector Correlation\n",
    "The next few blocks of code perform a similar calculation as above, however this time we are comparing the stocks in different sectors to eachother."
   ]
  },
  {
   "cell_type": "code",
   "execution_count": null,
   "id": "1bd9f58f-2ef5-4a5b-aff8-b3f51e1ad881",
   "metadata": {},
   "outputs": [],
   "source": []
  },
  {
   "cell_type": "code",
   "execution_count": null,
   "id": "bcc6cfd0-b61e-4c7b-bd10-b00b01b948b2",
   "metadata": {},
   "outputs": [],
   "source": []
  },
  {
   "cell_type": "code",
   "execution_count": null,
   "id": "fe99ea17-bc9d-4e79-9b40-403f1028e5ab",
   "metadata": {},
   "outputs": [],
   "source": []
  },
  {
   "cell_type": "code",
   "execution_count": null,
   "id": "a44ac736-2002-402f-b46d-8905fc12aa6e",
   "metadata": {},
   "outputs": [],
   "source": []
  }
 ],
 "metadata": {
  "kernelspec": {
   "display_name": "Python 3 (ipykernel)",
   "language": "python",
   "name": "python3"
  },
  "language_info": {
   "codemirror_mode": {
    "name": "ipython",
    "version": 3
   },
   "file_extension": ".py",
   "mimetype": "text/x-python",
   "name": "python",
   "nbconvert_exporter": "python",
   "pygments_lexer": "ipython3",
   "version": "3.9.1"
  }
 },
 "nbformat": 4,
 "nbformat_minor": 5
}
