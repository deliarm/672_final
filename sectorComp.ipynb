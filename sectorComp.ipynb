{
 "cells": [
  {
   "cell_type": "code",
   "execution_count": 1,
   "id": "23c42351-b286-4f77-9c63-799bbf671b70",
   "metadata": {},
   "outputs": [],
   "source": [
    "import numpy as np\n",
    "import pandas as pd\n",
    "import networkx as nx\n",
    "import random\n",
    "from random import sample\n",
    "from datetime import datetime\n",
    "import matplotlib.pyplot as plt\n",
    "import matplotlib as mpl\n",
    "import ast\n",
    "from scipy import spatial\n",
    "import csv\n",
    "from tqdm.notebook import tqdm\n",
    "%matplotlib inline"
   ]
  },
  {
   "cell_type": "code",
   "execution_count": 2,
   "id": "4786a116-22db-4cc1-b81b-38bc98dc4e6b",
   "metadata": {},
   "outputs": [],
   "source": [
    "df_total = pd.read_excel('data/all_data.xlsx', sheet_name='percentChange',engine='openpyxl')\n",
    "stocks = pd.read_csv('data/stocks.csv',)\n",
    "links_total = pd.read_csv('data/links_total.csv',)"
   ]
  },
  {
   "cell_type": "code",
   "execution_count": 3,
   "id": "d2f0b197-1c7d-4f07-a59d-74b1ab25d897",
   "metadata": {},
   "outputs": [],
   "source": [
    "all_sectors = {}\n",
    "for sect in df_total['Sector']:\n",
    "    if(sect in all_sectors):\n",
    "        all_sectors[sect]+=1\n",
    "    else:\n",
    "        all_sectors[sect]=1\n",
    "sorted_sectors = sorted(all_sectors.items(),key=lambda x:x[1],reverse=True)"
   ]
  },
  {
   "cell_type": "markdown",
   "id": "27e66826-bd5c-4d58-9402-c202061c6092",
   "metadata": {},
   "source": [
    "### Identifying Popular Sectors\n",
    "The snippet below prints all the sectors from our raw data, these include banking, software, pharmaceuticals and many more.\n",
    "With these sectors now identified, we can begin exploring the relationship between them, and see how stocks within the same sectors relate to eachother."
   ]
  },
  {
   "cell_type": "code",
   "execution_count": null,
   "id": "2a9121e2-3b9e-451b-b4a3-3f7582f5c044",
   "metadata": {},
   "outputs": [],
   "source": [
    "for sector in sorted_sectors:\n",
    "    print(sector)"
   ]
  },
  {
   "cell_type": "code",
   "execution_count": 97,
   "id": "f440bcb7-6243-475c-8a2d-af2a7641acdb",
   "metadata": {},
   "outputs": [],
   "source": [
    "top_sectors = [\n",
    "'Banks',\n",
    "'Biotechnology',\n",
    "'Oil, Gas & Consumable Fuels',\n",
    "'Equity Real Estate Investment Trusts ...',\n",
    "'Metals & Mining',\n",
    "'Machinery',\n",
    "'Electronic Equipment, Instruments & C...',\n",
    "'Capital Markets',\n",
    "'Health Care Equipment & Supplies',\n",
    "'Insurance',\n",
    "'Semiconductors & Semiconductor Equipment',\n",
    "'Software',\n",
    "'Specialty Retail',\n",
    "'IT Services',\n",
    "'Commercial Services & Supplies',\n",
    "'Pharmaceuticals',\n",
    "'Chemicals',\n",
    "'Hotels, Restaurants & Leisure',\n",
    "'Communications Equipment',\n",
    "'Health Care Providers & Services',\n",
    "'Food Products',\n",
    "'Media',\n",
    "'Aerospace & Defense',\n",
    "'Energy Equipment & Services',\n",
    "'Electrical Equipment',\n",
    "'Textiles, Apparel & Luxury Goods',\n",
    "'Electric Utilities',\n",
    "'Trading Companies & Distributors',\n",
    "'Real Estate Management & Development',\n",
    "'Entertainment',\n",
    "'Technology Hardware, Storage & Periph...',\n",
    "'Construction & Engineering',\n",
    "'Beverages',\n",
    "'Airlines',\n",
    "'Automobiles'\n",
    "]"
   ]
  },
  {
   "cell_type": "markdown",
   "id": "622220dd-1577-4478-9a99-be63e31259a5",
   "metadata": {},
   "source": [
    "### Getting Stocks by sector\n",
    "After we have obtained the top sectors, the snippet of code below goes through the data and finds all the stocks corresponding to our top sectors"
   ]
  },
  {
   "cell_type": "code",
   "execution_count": 67,
   "id": "46264091-92e5-49ce-b68a-2176451563f1",
   "metadata": {},
   "outputs": [],
   "source": [
    "stocks_by_sector = []\n",
    "for sector in top_sectors:\n",
    "    stocks = df_total.loc[df_total['Sector'] == sector]\n",
    "    value = (sector,stocks)\n",
    "    stocks_by_sector.append(value)"
   ]
  },
  {
   "cell_type": "markdown",
   "id": "33e7f029-4bf4-40e7-a9c5-b0a44c93d43d",
   "metadata": {},
   "source": [
    "### Calculating Average Intra-Sector Correlation\n",
    "The following code blocks calculate the average weight of a link between all the stocks in a given sector. For example, in the Bank sector, the functions will go and obtain the links from one bank stock to every other bank stock, and add them to the total. Then this total will be divided by the number of links, to obtain the average weight. This is in hopes of answering our third and fourth research questions."
   ]
  },
  {
   "cell_type": "code",
   "execution_count": 68,
   "id": "f6c915a7-8018-4f89-88de-ba415bfd0bcc",
   "metadata": {},
   "outputs": [],
   "source": [
    "def calculateIntraSectorWeight(sector):\n",
    "    max_corr = (0,\"stock\",\"stock\")\n",
    "    min_corr = (0,\"stock\",\"stock\")\n",
    "    sum_of_links = 0\n",
    "    link_count = 0\n",
    "    sector_index = top_sectors.index(sector)\n",
    "    df = stocks_by_sector[sector_index][1]\n",
    "    num_of_stocks = df.shape[0]\n",
    "    for i in tqdm(range(num_of_stocks)):\n",
    "        first_stock = df.iloc[i,2:]\n",
    "        for j in range(i+1,num_of_stocks):\n",
    "            second_stock = df.iloc[j,2:]\n",
    "            result = 1-spatial.distance.cosine(first_stock,second_stock)\n",
    "            if(result>max_corr[0]):\n",
    "                max_corr = (result,df.iloc[i,0],df.iloc[j,0])\n",
    "            if(result<min_corr[0]):\n",
    "                min_corr = (result,df.iloc[i,0],df.iloc[j,0])\n",
    "            sum_of_links += result\n",
    "            link_count += 1\n",
    "    \n",
    "    average_link = sum_of_links / link_count\n",
    "    return average_link,max_corr,min_corr"
   ]
  },
  {
   "cell_type": "code",
   "execution_count": 69,
   "id": "f272f270-63e0-4c18-bb07-38da6814994c",
   "metadata": {},
   "outputs": [],
   "source": [
    "def getAllIntraSectorCorrelations(df):\n",
    "    for count,sector in enumerate(top_sectors):\n",
    "        avg, max_corr, min_corr = calculateIntraSectorWeight(sector)\n",
    "        df.loc[count] = [sector,avg,(max_corr[0],max_corr[1],max_corr[2]),(min_corr[0],min_corr[1],min_corr[2])]"
   ]
  },
  {
   "cell_type": "code",
   "execution_count": 70,
   "id": "b0f5c4ef-417b-46d0-b660-c0da7307944a",
   "metadata": {},
   "outputs": [
    {
     "data": {
      "application/json": {
       "ascii": false,
       "bar_format": null,
       "colour": null,
       "elapsed": 0.01799917221069336,
       "initial": 0,
       "n": 0,
       "ncols": null,
       "nrows": null,
       "postfix": null,
       "prefix": "",
       "rate": null,
       "total": 271,
       "unit": "it",
       "unit_divisor": 1000,
       "unit_scale": false
      },
      "application/vnd.jupyter.widget-view+json": {
       "model_id": "eb140895589246fa85b7917df0401149",
       "version_major": 2,
       "version_minor": 0
      },
      "text/plain": [
       "  0%|          | 0/271 [00:00<?, ?it/s]"
      ]
     },
     "metadata": {},
     "output_type": "display_data"
    },
    {
     "data": {
      "application/json": {
       "ascii": false,
       "bar_format": null,
       "colour": null,
       "elapsed": 0.01500082015991211,
       "initial": 0,
       "n": 0,
       "ncols": null,
       "nrows": null,
       "postfix": null,
       "prefix": "",
       "rate": null,
       "total": 163,
       "unit": "it",
       "unit_divisor": 1000,
       "unit_scale": false
      },
      "application/vnd.jupyter.widget-view+json": {
       "model_id": "264567da9f95486abbb381679e06613c",
       "version_major": 2,
       "version_minor": 0
      },
      "text/plain": [
       "  0%|          | 0/163 [00:00<?, ?it/s]"
      ]
     },
     "metadata": {},
     "output_type": "display_data"
    },
    {
     "data": {
      "application/json": {
       "ascii": false,
       "bar_format": null,
       "colour": null,
       "elapsed": 0.017000198364257812,
       "initial": 0,
       "n": 0,
       "ncols": null,
       "nrows": null,
       "postfix": null,
       "prefix": "",
       "rate": null,
       "total": 128,
       "unit": "it",
       "unit_divisor": 1000,
       "unit_scale": false
      },
      "application/vnd.jupyter.widget-view+json": {
       "model_id": "489d0cbdcab44b65be94fed8d6b4ff66",
       "version_major": 2,
       "version_minor": 0
      },
      "text/plain": [
       "  0%|          | 0/128 [00:00<?, ?it/s]"
      ]
     },
     "metadata": {},
     "output_type": "display_data"
    },
    {
     "data": {
      "application/json": {
       "ascii": false,
       "bar_format": null,
       "colour": null,
       "elapsed": 0.014999628067016602,
       "initial": 0,
       "n": 0,
       "ncols": null,
       "nrows": null,
       "postfix": null,
       "prefix": "",
       "rate": null,
       "total": 101,
       "unit": "it",
       "unit_divisor": 1000,
       "unit_scale": false
      },
      "application/vnd.jupyter.widget-view+json": {
       "model_id": "8b9bf4e627034f5d99edcb5cb1979402",
       "version_major": 2,
       "version_minor": 0
      },
      "text/plain": [
       "  0%|          | 0/101 [00:00<?, ?it/s]"
      ]
     },
     "metadata": {},
     "output_type": "display_data"
    },
    {
     "data": {
      "application/json": {
       "ascii": false,
       "bar_format": null,
       "colour": null,
       "elapsed": 0.015999555587768555,
       "initial": 0,
       "n": 0,
       "ncols": null,
       "nrows": null,
       "postfix": null,
       "prefix": "",
       "rate": null,
       "total": 95,
       "unit": "it",
       "unit_divisor": 1000,
       "unit_scale": false
      },
      "application/vnd.jupyter.widget-view+json": {
       "model_id": "e6f8560ddfac4e86b42268cac0fb5c6f",
       "version_major": 2,
       "version_minor": 0
      },
      "text/plain": [
       "  0%|          | 0/95 [00:00<?, ?it/s]"
      ]
     },
     "metadata": {},
     "output_type": "display_data"
    },
    {
     "data": {
      "application/json": {
       "ascii": false,
       "bar_format": null,
       "colour": null,
       "elapsed": 0.015000581741333008,
       "initial": 0,
       "n": 0,
       "ncols": null,
       "nrows": null,
       "postfix": null,
       "prefix": "",
       "rate": null,
       "total": 93,
       "unit": "it",
       "unit_divisor": 1000,
       "unit_scale": false
      },
      "application/vnd.jupyter.widget-view+json": {
       "model_id": "ffa476968cb543c4aa432740f17f7eba",
       "version_major": 2,
       "version_minor": 0
      },
      "text/plain": [
       "  0%|          | 0/93 [00:00<?, ?it/s]"
      ]
     },
     "metadata": {},
     "output_type": "display_data"
    },
    {
     "data": {
      "application/json": {
       "ascii": false,
       "bar_format": null,
       "colour": null,
       "elapsed": 0.01600050926208496,
       "initial": 0,
       "n": 0,
       "ncols": null,
       "nrows": null,
       "postfix": null,
       "prefix": "",
       "rate": null,
       "total": 88,
       "unit": "it",
       "unit_divisor": 1000,
       "unit_scale": false
      },
      "application/vnd.jupyter.widget-view+json": {
       "model_id": "6f331e26501a441aa8e7b7753452844a",
       "version_major": 2,
       "version_minor": 0
      },
      "text/plain": [
       "  0%|          | 0/88 [00:00<?, ?it/s]"
      ]
     },
     "metadata": {},
     "output_type": "display_data"
    },
    {
     "data": {
      "application/json": {
       "ascii": false,
       "bar_format": null,
       "colour": null,
       "elapsed": 0.016000986099243164,
       "initial": 0,
       "n": 0,
       "ncols": null,
       "nrows": null,
       "postfix": null,
       "prefix": "",
       "rate": null,
       "total": 87,
       "unit": "it",
       "unit_divisor": 1000,
       "unit_scale": false
      },
      "application/vnd.jupyter.widget-view+json": {
       "model_id": "9cc6baf3421f46ddb4ac9042fcf89fbc",
       "version_major": 2,
       "version_minor": 0
      },
      "text/plain": [
       "  0%|          | 0/87 [00:00<?, ?it/s]"
      ]
     },
     "metadata": {},
     "output_type": "display_data"
    },
    {
     "data": {
      "application/json": {
       "ascii": false,
       "bar_format": null,
       "colour": null,
       "elapsed": 0.015999317169189453,
       "initial": 0,
       "n": 0,
       "ncols": null,
       "nrows": null,
       "postfix": null,
       "prefix": "",
       "rate": null,
       "total": 87,
       "unit": "it",
       "unit_divisor": 1000,
       "unit_scale": false
      },
      "application/vnd.jupyter.widget-view+json": {
       "model_id": "d270d1e2a7fb4bb6a940799a653becbc",
       "version_major": 2,
       "version_minor": 0
      },
      "text/plain": [
       "  0%|          | 0/87 [00:00<?, ?it/s]"
      ]
     },
     "metadata": {},
     "output_type": "display_data"
    },
    {
     "data": {
      "application/json": {
       "ascii": false,
       "bar_format": null,
       "colour": null,
       "elapsed": 0.014999628067016602,
       "initial": 0,
       "n": 0,
       "ncols": null,
       "nrows": null,
       "postfix": null,
       "prefix": "",
       "rate": null,
       "total": 80,
       "unit": "it",
       "unit_divisor": 1000,
       "unit_scale": false
      },
      "application/vnd.jupyter.widget-view+json": {
       "model_id": "7caab7a44b864485a8f7e0336b69d4ff",
       "version_major": 2,
       "version_minor": 0
      },
      "text/plain": [
       "  0%|          | 0/80 [00:00<?, ?it/s]"
      ]
     },
     "metadata": {},
     "output_type": "display_data"
    },
    {
     "data": {
      "application/json": {
       "ascii": false,
       "bar_format": null,
       "colour": null,
       "elapsed": 0.014999628067016602,
       "initial": 0,
       "n": 0,
       "ncols": null,
       "nrows": null,
       "postfix": null,
       "prefix": "",
       "rate": null,
       "total": 75,
       "unit": "it",
       "unit_divisor": 1000,
       "unit_scale": false
      },
      "application/vnd.jupyter.widget-view+json": {
       "model_id": "833090d694aa47e19ccc17c73431bbc4",
       "version_major": 2,
       "version_minor": 0
      },
      "text/plain": [
       "  0%|          | 0/75 [00:00<?, ?it/s]"
      ]
     },
     "metadata": {},
     "output_type": "display_data"
    },
    {
     "data": {
      "application/json": {
       "ascii": false,
       "bar_format": null,
       "colour": null,
       "elapsed": 0.014998912811279297,
       "initial": 0,
       "n": 0,
       "ncols": null,
       "nrows": null,
       "postfix": null,
       "prefix": "",
       "rate": null,
       "total": 70,
       "unit": "it",
       "unit_divisor": 1000,
       "unit_scale": false
      },
      "application/vnd.jupyter.widget-view+json": {
       "model_id": "606cc745e32240169343adb343f27c0f",
       "version_major": 2,
       "version_minor": 0
      },
      "text/plain": [
       "  0%|          | 0/70 [00:00<?, ?it/s]"
      ]
     },
     "metadata": {},
     "output_type": "display_data"
    },
    {
     "data": {
      "application/json": {
       "ascii": false,
       "bar_format": null,
       "colour": null,
       "elapsed": 0.016000747680664062,
       "initial": 0,
       "n": 0,
       "ncols": null,
       "nrows": null,
       "postfix": null,
       "prefix": "",
       "rate": null,
       "total": 63,
       "unit": "it",
       "unit_divisor": 1000,
       "unit_scale": false
      },
      "application/vnd.jupyter.widget-view+json": {
       "model_id": "468c8e1260d24e9cba7901522a9d8ea5",
       "version_major": 2,
       "version_minor": 0
      },
      "text/plain": [
       "  0%|          | 0/63 [00:00<?, ?it/s]"
      ]
     },
     "metadata": {},
     "output_type": "display_data"
    },
    {
     "data": {
      "application/json": {
       "ascii": false,
       "bar_format": null,
       "colour": null,
       "elapsed": 0.01600027084350586,
       "initial": 0,
       "n": 0,
       "ncols": null,
       "nrows": null,
       "postfix": null,
       "prefix": "",
       "rate": null,
       "total": 58,
       "unit": "it",
       "unit_divisor": 1000,
       "unit_scale": false
      },
      "application/vnd.jupyter.widget-view+json": {
       "model_id": "da1a039714af44c6a0bb921a807867c9",
       "version_major": 2,
       "version_minor": 0
      },
      "text/plain": [
       "  0%|          | 0/58 [00:00<?, ?it/s]"
      ]
     },
     "metadata": {},
     "output_type": "display_data"
    },
    {
     "data": {
      "application/json": {
       "ascii": false,
       "bar_format": null,
       "colour": null,
       "elapsed": 0.015998125076293945,
       "initial": 0,
       "n": 0,
       "ncols": null,
       "nrows": null,
       "postfix": null,
       "prefix": "",
       "rate": null,
       "total": 57,
       "unit": "it",
       "unit_divisor": 1000,
       "unit_scale": false
      },
      "application/vnd.jupyter.widget-view+json": {
       "model_id": "cecd61d7080b4ae38e2e183d6af1f5e9",
       "version_major": 2,
       "version_minor": 0
      },
      "text/plain": [
       "  0%|          | 0/57 [00:00<?, ?it/s]"
      ]
     },
     "metadata": {},
     "output_type": "display_data"
    },
    {
     "data": {
      "application/json": {
       "ascii": false,
       "bar_format": null,
       "colour": null,
       "elapsed": 0.01699972152709961,
       "initial": 0,
       "n": 0,
       "ncols": null,
       "nrows": null,
       "postfix": null,
       "prefix": "",
       "rate": null,
       "total": 56,
       "unit": "it",
       "unit_divisor": 1000,
       "unit_scale": false
      },
      "application/vnd.jupyter.widget-view+json": {
       "model_id": "409423948f284dfa979b7c2ba9bcde7b",
       "version_major": 2,
       "version_minor": 0
      },
      "text/plain": [
       "  0%|          | 0/56 [00:00<?, ?it/s]"
      ]
     },
     "metadata": {},
     "output_type": "display_data"
    },
    {
     "data": {
      "application/json": {
       "ascii": false,
       "bar_format": null,
       "colour": null,
       "elapsed": 0.01899862289428711,
       "initial": 0,
       "n": 0,
       "ncols": null,
       "nrows": null,
       "postfix": null,
       "prefix": "",
       "rate": null,
       "total": 55,
       "unit": "it",
       "unit_divisor": 1000,
       "unit_scale": false
      },
      "application/vnd.jupyter.widget-view+json": {
       "model_id": "8c1d16587c924d2398957631bf41664c",
       "version_major": 2,
       "version_minor": 0
      },
      "text/plain": [
       "  0%|          | 0/55 [00:00<?, ?it/s]"
      ]
     },
     "metadata": {},
     "output_type": "display_data"
    },
    {
     "data": {
      "application/json": {
       "ascii": false,
       "bar_format": null,
       "colour": null,
       "elapsed": 0.017997264862060547,
       "initial": 0,
       "n": 0,
       "ncols": null,
       "nrows": null,
       "postfix": null,
       "prefix": "",
       "rate": null,
       "total": 54,
       "unit": "it",
       "unit_divisor": 1000,
       "unit_scale": false
      },
      "application/vnd.jupyter.widget-view+json": {
       "model_id": "a8e79f45dcee4734885c5699f6c8e623",
       "version_major": 2,
       "version_minor": 0
      },
      "text/plain": [
       "  0%|          | 0/54 [00:00<?, ?it/s]"
      ]
     },
     "metadata": {},
     "output_type": "display_data"
    },
    {
     "data": {
      "application/json": {
       "ascii": false,
       "bar_format": null,
       "colour": null,
       "elapsed": 0.016000986099243164,
       "initial": 0,
       "n": 0,
       "ncols": null,
       "nrows": null,
       "postfix": null,
       "prefix": "",
       "rate": null,
       "total": 50,
       "unit": "it",
       "unit_divisor": 1000,
       "unit_scale": false
      },
      "application/vnd.jupyter.widget-view+json": {
       "model_id": "34abbc7ae705412d9b6b5d1ee287e988",
       "version_major": 2,
       "version_minor": 0
      },
      "text/plain": [
       "  0%|          | 0/50 [00:00<?, ?it/s]"
      ]
     },
     "metadata": {},
     "output_type": "display_data"
    },
    {
     "data": {
      "application/json": {
       "ascii": false,
       "bar_format": null,
       "colour": null,
       "elapsed": 0.015999317169189453,
       "initial": 0,
       "n": 0,
       "ncols": null,
       "nrows": null,
       "postfix": null,
       "prefix": "",
       "rate": null,
       "total": 48,
       "unit": "it",
       "unit_divisor": 1000,
       "unit_scale": false
      },
      "application/vnd.jupyter.widget-view+json": {
       "model_id": "d2cb0ec82f274e64b0a181c31e3a83fd",
       "version_major": 2,
       "version_minor": 0
      },
      "text/plain": [
       "  0%|          | 0/48 [00:00<?, ?it/s]"
      ]
     },
     "metadata": {},
     "output_type": "display_data"
    },
    {
     "data": {
      "application/json": {
       "ascii": false,
       "bar_format": null,
       "colour": null,
       "elapsed": 0.015001535415649414,
       "initial": 0,
       "n": 0,
       "ncols": null,
       "nrows": null,
       "postfix": null,
       "prefix": "",
       "rate": null,
       "total": 47,
       "unit": "it",
       "unit_divisor": 1000,
       "unit_scale": false
      },
      "application/vnd.jupyter.widget-view+json": {
       "model_id": "47cf87c94e3f4bb99906be397fffb91b",
       "version_major": 2,
       "version_minor": 0
      },
      "text/plain": [
       "  0%|          | 0/47 [00:00<?, ?it/s]"
      ]
     },
     "metadata": {},
     "output_type": "display_data"
    },
    {
     "data": {
      "application/json": {
       "ascii": false,
       "bar_format": null,
       "colour": null,
       "elapsed": 0.01599907875061035,
       "initial": 0,
       "n": 0,
       "ncols": null,
       "nrows": null,
       "postfix": null,
       "prefix": "",
       "rate": null,
       "total": 47,
       "unit": "it",
       "unit_divisor": 1000,
       "unit_scale": false
      },
      "application/vnd.jupyter.widget-view+json": {
       "model_id": "2cabd8b78db74409873bd602adc225a9",
       "version_major": 2,
       "version_minor": 0
      },
      "text/plain": [
       "  0%|          | 0/47 [00:00<?, ?it/s]"
      ]
     },
     "metadata": {},
     "output_type": "display_data"
    },
    {
     "data": {
      "application/json": {
       "ascii": false,
       "bar_format": null,
       "colour": null,
       "elapsed": 0.017000198364257812,
       "initial": 0,
       "n": 0,
       "ncols": null,
       "nrows": null,
       "postfix": null,
       "prefix": "",
       "rate": null,
       "total": 43,
       "unit": "it",
       "unit_divisor": 1000,
       "unit_scale": false
      },
      "application/vnd.jupyter.widget-view+json": {
       "model_id": "767c5e94a1634759bbc1369053a9a451",
       "version_major": 2,
       "version_minor": 0
      },
      "text/plain": [
       "  0%|          | 0/43 [00:00<?, ?it/s]"
      ]
     },
     "metadata": {},
     "output_type": "display_data"
    },
    {
     "data": {
      "application/json": {
       "ascii": false,
       "bar_format": null,
       "colour": null,
       "elapsed": 0.01600027084350586,
       "initial": 0,
       "n": 0,
       "ncols": null,
       "nrows": null,
       "postfix": null,
       "prefix": "",
       "rate": null,
       "total": 34,
       "unit": "it",
       "unit_divisor": 1000,
       "unit_scale": false
      },
      "application/vnd.jupyter.widget-view+json": {
       "model_id": "cb3ab1256d4548c4aedb8da5cfbbe4c4",
       "version_major": 2,
       "version_minor": 0
      },
      "text/plain": [
       "  0%|          | 0/34 [00:00<?, ?it/s]"
      ]
     },
     "metadata": {},
     "output_type": "display_data"
    },
    {
     "data": {
      "application/json": {
       "ascii": false,
       "bar_format": null,
       "colour": null,
       "elapsed": 0.01399993896484375,
       "initial": 0,
       "n": 0,
       "ncols": null,
       "nrows": null,
       "postfix": null,
       "prefix": "",
       "rate": null,
       "total": 31,
       "unit": "it",
       "unit_divisor": 1000,
       "unit_scale": false
      },
      "application/vnd.jupyter.widget-view+json": {
       "model_id": "977f23a0a3ed4e859bbc25ffedc37cdc",
       "version_major": 2,
       "version_minor": 0
      },
      "text/plain": [
       "  0%|          | 0/31 [00:00<?, ?it/s]"
      ]
     },
     "metadata": {},
     "output_type": "display_data"
    },
    {
     "data": {
      "application/json": {
       "ascii": false,
       "bar_format": null,
       "colour": null,
       "elapsed": 0.014999151229858398,
       "initial": 0,
       "n": 0,
       "ncols": null,
       "nrows": null,
       "postfix": null,
       "prefix": "",
       "rate": null,
       "total": 30,
       "unit": "it",
       "unit_divisor": 1000,
       "unit_scale": false
      },
      "application/vnd.jupyter.widget-view+json": {
       "model_id": "d4f48b4fa4c9414eb1e38f8173a45c9f",
       "version_major": 2,
       "version_minor": 0
      },
      "text/plain": [
       "  0%|          | 0/30 [00:00<?, ?it/s]"
      ]
     },
     "metadata": {},
     "output_type": "display_data"
    },
    {
     "data": {
      "application/json": {
       "ascii": false,
       "bar_format": null,
       "colour": null,
       "elapsed": 0.015001058578491211,
       "initial": 0,
       "n": 0,
       "ncols": null,
       "nrows": null,
       "postfix": null,
       "prefix": "",
       "rate": null,
       "total": 29,
       "unit": "it",
       "unit_divisor": 1000,
       "unit_scale": false
      },
      "application/vnd.jupyter.widget-view+json": {
       "model_id": "dd4e25dc7b2e413bafc8fed59201e8c1",
       "version_major": 2,
       "version_minor": 0
      },
      "text/plain": [
       "  0%|          | 0/29 [00:00<?, ?it/s]"
      ]
     },
     "metadata": {},
     "output_type": "display_data"
    },
    {
     "data": {
      "application/json": {
       "ascii": false,
       "bar_format": null,
       "colour": null,
       "elapsed": 0.015999317169189453,
       "initial": 0,
       "n": 0,
       "ncols": null,
       "nrows": null,
       "postfix": null,
       "prefix": "",
       "rate": null,
       "total": 28,
       "unit": "it",
       "unit_divisor": 1000,
       "unit_scale": false
      },
      "application/vnd.jupyter.widget-view+json": {
       "model_id": "ba758092b8914822818cb977b12b7296",
       "version_major": 2,
       "version_minor": 0
      },
      "text/plain": [
       "  0%|          | 0/28 [00:00<?, ?it/s]"
      ]
     },
     "metadata": {},
     "output_type": "display_data"
    },
    {
     "data": {
      "application/json": {
       "ascii": false,
       "bar_format": null,
       "colour": null,
       "elapsed": 0.014997720718383789,
       "initial": 0,
       "n": 0,
       "ncols": null,
       "nrows": null,
       "postfix": null,
       "prefix": "",
       "rate": null,
       "total": 28,
       "unit": "it",
       "unit_divisor": 1000,
       "unit_scale": false
      },
      "application/vnd.jupyter.widget-view+json": {
       "model_id": "6ca7687779274cc588cdeca52a404055",
       "version_major": 2,
       "version_minor": 0
      },
      "text/plain": [
       "  0%|          | 0/28 [00:00<?, ?it/s]"
      ]
     },
     "metadata": {},
     "output_type": "display_data"
    },
    {
     "data": {
      "application/json": {
       "ascii": false,
       "bar_format": null,
       "colour": null,
       "elapsed": 0.015000104904174805,
       "initial": 0,
       "n": 0,
       "ncols": null,
       "nrows": null,
       "postfix": null,
       "prefix": "",
       "rate": null,
       "total": 26,
       "unit": "it",
       "unit_divisor": 1000,
       "unit_scale": false
      },
      "application/vnd.jupyter.widget-view+json": {
       "model_id": "aabb8fba51da48f6886bd2dab8a11f23",
       "version_major": 2,
       "version_minor": 0
      },
      "text/plain": [
       "  0%|          | 0/26 [00:00<?, ?it/s]"
      ]
     },
     "metadata": {},
     "output_type": "display_data"
    },
    {
     "data": {
      "application/json": {
       "ascii": false,
       "bar_format": null,
       "colour": null,
       "elapsed": 0.01800060272216797,
       "initial": 0,
       "n": 0,
       "ncols": null,
       "nrows": null,
       "postfix": null,
       "prefix": "",
       "rate": null,
       "total": 24,
       "unit": "it",
       "unit_divisor": 1000,
       "unit_scale": false
      },
      "application/vnd.jupyter.widget-view+json": {
       "model_id": "49899dd290694d1da4c63a33d32f8579",
       "version_major": 2,
       "version_minor": 0
      },
      "text/plain": [
       "  0%|          | 0/24 [00:00<?, ?it/s]"
      ]
     },
     "metadata": {},
     "output_type": "display_data"
    },
    {
     "data": {
      "application/json": {
       "ascii": false,
       "bar_format": null,
       "colour": null,
       "elapsed": 0.016000032424926758,
       "initial": 0,
       "n": 0,
       "ncols": null,
       "nrows": null,
       "postfix": null,
       "prefix": "",
       "rate": null,
       "total": 23,
       "unit": "it",
       "unit_divisor": 1000,
       "unit_scale": false
      },
      "application/vnd.jupyter.widget-view+json": {
       "model_id": "102b7b1e7ea640c68bd4ee5be6aa1d7d",
       "version_major": 2,
       "version_minor": 0
      },
      "text/plain": [
       "  0%|          | 0/23 [00:00<?, ?it/s]"
      ]
     },
     "metadata": {},
     "output_type": "display_data"
    },
    {
     "data": {
      "application/json": {
       "ascii": false,
       "bar_format": null,
       "colour": null,
       "elapsed": 0.01899886131286621,
       "initial": 0,
       "n": 0,
       "ncols": null,
       "nrows": null,
       "postfix": null,
       "prefix": "",
       "rate": null,
       "total": 22,
       "unit": "it",
       "unit_divisor": 1000,
       "unit_scale": false
      },
      "application/vnd.jupyter.widget-view+json": {
       "model_id": "2064e3adb56c4c379087c4b186e7059f",
       "version_major": 2,
       "version_minor": 0
      },
      "text/plain": [
       "  0%|          | 0/22 [00:00<?, ?it/s]"
      ]
     },
     "metadata": {},
     "output_type": "display_data"
    },
    {
     "data": {
      "application/json": {
       "ascii": false,
       "bar_format": null,
       "colour": null,
       "elapsed": 0.01699972152709961,
       "initial": 0,
       "n": 0,
       "ncols": null,
       "nrows": null,
       "postfix": null,
       "prefix": "",
       "rate": null,
       "total": 15,
       "unit": "it",
       "unit_divisor": 1000,
       "unit_scale": false
      },
      "application/vnd.jupyter.widget-view+json": {
       "model_id": "6040aa76e63344aeaf8e4b34ed851c04",
       "version_major": 2,
       "version_minor": 0
      },
      "text/plain": [
       "  0%|          | 0/15 [00:00<?, ?it/s]"
      ]
     },
     "metadata": {},
     "output_type": "display_data"
    },
    {
     "data": {
      "application/json": {
       "ascii": false,
       "bar_format": null,
       "colour": null,
       "elapsed": 0.016999244689941406,
       "initial": 0,
       "n": 0,
       "ncols": null,
       "nrows": null,
       "postfix": null,
       "prefix": "",
       "rate": null,
       "total": 9,
       "unit": "it",
       "unit_divisor": 1000,
       "unit_scale": false
      },
      "application/vnd.jupyter.widget-view+json": {
       "model_id": "7101d29aa2164cf6bcb2682afd43bbac",
       "version_major": 2,
       "version_minor": 0
      },
      "text/plain": [
       "  0%|          | 0/9 [00:00<?, ?it/s]"
      ]
     },
     "metadata": {},
     "output_type": "display_data"
    }
   ],
   "source": [
    "df_intra = pd.DataFrame(columns=[\"Sector\",\"Average Correlation\",\"Max Correlation\",\"Min Correlation\"])\n",
    "getAllIntraSectorCorrelations(df_intra)"
   ]
  },
  {
   "cell_type": "code",
   "execution_count": 71,
   "id": "c902b5ad-51ac-4458-91ce-005411ca9276",
   "metadata": {},
   "outputs": [
    {
     "data": {
      "text/html": [
       "<div>\n",
       "<style scoped>\n",
       "    .dataframe tbody tr th:only-of-type {\n",
       "        vertical-align: middle;\n",
       "    }\n",
       "\n",
       "    .dataframe tbody tr th {\n",
       "        vertical-align: top;\n",
       "    }\n",
       "\n",
       "    .dataframe thead th {\n",
       "        text-align: right;\n",
       "    }\n",
       "</style>\n",
       "<table border=\"1\" class=\"dataframe\">\n",
       "  <thead>\n",
       "    <tr style=\"text-align: right;\">\n",
       "      <th></th>\n",
       "      <th>Sector</th>\n",
       "      <th>Average Correlation</th>\n",
       "      <th>Max Correlation</th>\n",
       "      <th>Min Correlation</th>\n",
       "    </tr>\n",
       "  </thead>\n",
       "  <tbody>\n",
       "    <tr>\n",
       "      <th>23</th>\n",
       "      <td>Energy Equipment &amp; Services</td>\n",
       "      <td>0.475037</td>\n",
       "      <td>(0.8882941728141304, HAL, SLB)</td>\n",
       "      <td>(0, stock, stock)</td>\n",
       "    </tr>\n",
       "    <tr>\n",
       "      <th>33</th>\n",
       "      <td>Airlines</td>\n",
       "      <td>0.439068</td>\n",
       "      <td>(0.8928999467636979, CEA, ZNH)</td>\n",
       "      <td>(0, stock, stock)</td>\n",
       "    </tr>\n",
       "    <tr>\n",
       "      <th>3</th>\n",
       "      <td>Equity Real Estate Investment Trusts ...</td>\n",
       "      <td>0.419302</td>\n",
       "      <td>(0.9126866521624862, KIM, REG)</td>\n",
       "      <td>(-0.12823799536807146, IHT, SBAC)</td>\n",
       "    </tr>\n",
       "    <tr>\n",
       "      <th>26</th>\n",
       "      <td>Electric Utilities</td>\n",
       "      <td>0.409064</td>\n",
       "      <td>(0.8963693868337042, LNT, XEL)</td>\n",
       "      <td>(-0.1286715503196716, EDN, MGF)</td>\n",
       "    </tr>\n",
       "    <tr>\n",
       "      <th>17</th>\n",
       "      <td>Hotels, Restaurants &amp; Leisure</td>\n",
       "      <td>0.390153</td>\n",
       "      <td>(0.9866427501699437, CCL, CUK)</td>\n",
       "      <td>(-0.06058279447573067, CPHC, TAST)</td>\n",
       "    </tr>\n",
       "    <tr>\n",
       "      <th>5</th>\n",
       "      <td>Machinery</td>\n",
       "      <td>0.379853</td>\n",
       "      <td>(0.8504897147877548, VKI, VKQ)</td>\n",
       "      <td>(-0.2018622560312524, HURC, VKQ)</td>\n",
       "    </tr>\n",
       "    <tr>\n",
       "      <th>0</th>\n",
       "      <td>Banks</td>\n",
       "      <td>0.352028</td>\n",
       "      <td>(0.9390549555893505, BBD, ITUB)</td>\n",
       "      <td>(-0.25630984505676646, EGF, MCBC)</td>\n",
       "    </tr>\n",
       "    <tr>\n",
       "      <th>27</th>\n",
       "      <td>Trading Companies &amp; Distributors</td>\n",
       "      <td>0.343413</td>\n",
       "      <td>(0.7824808642361912, HRI, URI)</td>\n",
       "      <td>(-0.06427591992427106, GIC, IGC)</td>\n",
       "    </tr>\n",
       "    <tr>\n",
       "      <th>16</th>\n",
       "      <td>Chemicals</td>\n",
       "      <td>0.326630</td>\n",
       "      <td>(0.7563468929285467, CE, EMN)</td>\n",
       "      <td>(-0.20268707348397674, ADES, NEV)</td>\n",
       "    </tr>\n",
       "    <tr>\n",
       "      <th>9</th>\n",
       "      <td>Insurance</td>\n",
       "      <td>0.321942</td>\n",
       "      <td>(0.8855548429127549, LNC, PRU)</td>\n",
       "      <td>(-0.18794377816264296, UNAM, WTM)</td>\n",
       "    </tr>\n",
       "    <tr>\n",
       "      <th>7</th>\n",
       "      <td>Capital Markets</td>\n",
       "      <td>0.316164</td>\n",
       "      <td>(0.867801735645092, GS, MS)</td>\n",
       "      <td>(-0.2835088693097858, BK, MCA)</td>\n",
       "    </tr>\n",
       "    <tr>\n",
       "      <th>4</th>\n",
       "      <td>Metals &amp; Mining</td>\n",
       "      <td>0.314901</td>\n",
       "      <td>(0.884734443836443, BHP, RIO)</td>\n",
       "      <td>(-0.13482150226025102, GFI, SIM)</td>\n",
       "    </tr>\n",
       "    <tr>\n",
       "      <th>31</th>\n",
       "      <td>Construction &amp; Engineering</td>\n",
       "      <td>0.313233</td>\n",
       "      <td>(0.8119973382379071, LEO, VMO)</td>\n",
       "      <td>(-0.1299272782381926, MYRG, VMO)</td>\n",
       "    </tr>\n",
       "    <tr>\n",
       "      <th>34</th>\n",
       "      <td>Automobiles</td>\n",
       "      <td>0.312658</td>\n",
       "      <td>(0.7530429906586505, THO, WGO)</td>\n",
       "      <td>(-0.059791530643316326, HMC, MULN)</td>\n",
       "    </tr>\n",
       "    <tr>\n",
       "      <th>12</th>\n",
       "      <td>Specialty Retail</td>\n",
       "      <td>0.304169</td>\n",
       "      <td>(0.8105472854076968, AZO, ORLY)</td>\n",
       "      <td>(-0.1396974413613823, BBY, SBI)</td>\n",
       "    </tr>\n",
       "    <tr>\n",
       "      <th>2</th>\n",
       "      <td>Oil, Gas &amp; Consumable Fuels</td>\n",
       "      <td>0.303748</td>\n",
       "      <td>(0.9106013366381543, DVN, MRO)</td>\n",
       "      <td>(-0.21890214996055324, NCA, URG)</td>\n",
       "    </tr>\n",
       "    <tr>\n",
       "      <th>10</th>\n",
       "      <td>Semiconductors &amp; Semiconductor Equipment</td>\n",
       "      <td>0.269579</td>\n",
       "      <td>(0.8114408925831192, ADI, TXN)</td>\n",
       "      <td>(-0.17801603560411028, ACLS, MUC)</td>\n",
       "    </tr>\n",
       "    <tr>\n",
       "      <th>22</th>\n",
       "      <td>Aerospace &amp; Defense</td>\n",
       "      <td>0.269163</td>\n",
       "      <td>(0.8219744928965719, LMT, NOC)</td>\n",
       "      <td>(-0.14214991854471348, ASTC, HEI)</td>\n",
       "    </tr>\n",
       "    <tr>\n",
       "      <th>24</th>\n",
       "      <td>Electrical Equipment</td>\n",
       "      <td>0.266421</td>\n",
       "      <td>(0.8048888082084795, ETN, HUBB)</td>\n",
       "      <td>(-0.09017275801105007, ESP, PLUG)</td>\n",
       "    </tr>\n",
       "    <tr>\n",
       "      <th>25</th>\n",
       "      <td>Textiles, Apparel &amp; Luxury Goods</td>\n",
       "      <td>0.266275</td>\n",
       "      <td>(0.715122885890624, PVH, RL)</td>\n",
       "      <td>(-0.12217195516268697, COLM, EVK)</td>\n",
       "    </tr>\n",
       "    <tr>\n",
       "      <th>14</th>\n",
       "      <td>Commercial Services &amp; Supplies</td>\n",
       "      <td>0.258090</td>\n",
       "      <td>(0.8176888952806606, RSG, WM)</td>\n",
       "      <td>(-0.16787974520456328, TOMZ, VVI)</td>\n",
       "    </tr>\n",
       "    <tr>\n",
       "      <th>13</th>\n",
       "      <td>IT Services</td>\n",
       "      <td>0.254002</td>\n",
       "      <td>(0.8858803784155986, MA, V)</td>\n",
       "      <td>(-0.1854744961580359, IIM, UIS)</td>\n",
       "    </tr>\n",
       "    <tr>\n",
       "      <th>32</th>\n",
       "      <td>Beverages</td>\n",
       "      <td>0.253170</td>\n",
       "      <td>(0.7454617057952203, FMX, KOF)</td>\n",
       "      <td>(-0.0621981716299691, KO, REED)</td>\n",
       "    </tr>\n",
       "    <tr>\n",
       "      <th>30</th>\n",
       "      <td>Technology Hardware, Storage &amp; Periph...</td>\n",
       "      <td>0.239072</td>\n",
       "      <td>(0.9398746427877895, HPF, HPI)</td>\n",
       "      <td>(-0.15326342960272465, HPF, SMED)</td>\n",
       "    </tr>\n",
       "    <tr>\n",
       "      <th>19</th>\n",
       "      <td>Health Care Providers &amp; Services</td>\n",
       "      <td>0.226938</td>\n",
       "      <td>(0.8118432344854175, DGX, LH)</td>\n",
       "      <td>(-0.1458622339697846, AMEH, HUM)</td>\n",
       "    </tr>\n",
       "    <tr>\n",
       "      <th>21</th>\n",
       "      <td>Media</td>\n",
       "      <td>0.211735</td>\n",
       "      <td>(0.9899227337087159, LBTYA, LBTYK)</td>\n",
       "      <td>(-0.28221764908029545, DJCO, TVE)</td>\n",
       "    </tr>\n",
       "    <tr>\n",
       "      <th>28</th>\n",
       "      <td>Real Estate Management &amp; Development</td>\n",
       "      <td>0.207576</td>\n",
       "      <td>(0.876530610117323, CBRE, JLL)</td>\n",
       "      <td>(-0.18365658878133506, FRPH, NMT)</td>\n",
       "    </tr>\n",
       "    <tr>\n",
       "      <th>11</th>\n",
       "      <td>Software</td>\n",
       "      <td>0.201368</td>\n",
       "      <td>(0.7221481243370496, ADSK, PTC)</td>\n",
       "      <td>(-0.3010840948427318, CDR, NLOK)</td>\n",
       "    </tr>\n",
       "    <tr>\n",
       "      <th>6</th>\n",
       "      <td>Electronic Equipment, Instruments &amp; C...</td>\n",
       "      <td>0.196907</td>\n",
       "      <td>(0.7945914805764392, ARW, AVT)</td>\n",
       "      <td>(-0.23341537977905125, ELTK, TAIT)</td>\n",
       "    </tr>\n",
       "    <tr>\n",
       "      <th>18</th>\n",
       "      <td>Communications Equipment</td>\n",
       "      <td>0.191746</td>\n",
       "      <td>(0.6704047477288283, FFIV, JNPR)</td>\n",
       "      <td>(-0.2721004251301993, BOSC, NOM)</td>\n",
       "    </tr>\n",
       "    <tr>\n",
       "      <th>29</th>\n",
       "      <td>Entertainment</td>\n",
       "      <td>0.184955</td>\n",
       "      <td>(0.9720050055581492, NCV, NCZ)</td>\n",
       "      <td>(-0.1133171536591886, GAIA, IQI)</td>\n",
       "    </tr>\n",
       "    <tr>\n",
       "      <th>8</th>\n",
       "      <td>Health Care Equipment &amp; Supplies</td>\n",
       "      <td>0.171356</td>\n",
       "      <td>(0.6693853184747948, SYK, ZBH)</td>\n",
       "      <td>(-0.245937572403365, MMU, STXS)</td>\n",
       "    </tr>\n",
       "    <tr>\n",
       "      <th>20</th>\n",
       "      <td>Food Products</td>\n",
       "      <td>0.155084</td>\n",
       "      <td>(0.8342581510738292, SENEA, SENEB)</td>\n",
       "      <td>(-0.18521000769639406, CALM, PMF)</td>\n",
       "    </tr>\n",
       "    <tr>\n",
       "      <th>15</th>\n",
       "      <td>Pharmaceuticals</td>\n",
       "      <td>0.139870</td>\n",
       "      <td>(0.7891538123052999, AVK, EOS)</td>\n",
       "      <td>(-0.1997498977480363, OPNT, SNOA)</td>\n",
       "    </tr>\n",
       "    <tr>\n",
       "      <th>1</th>\n",
       "      <td>Biotechnology</td>\n",
       "      <td>0.126243</td>\n",
       "      <td>(0.9533543806082179, ADX, GAM)</td>\n",
       "      <td>(-0.3494156854338717, MYI, VNDA)</td>\n",
       "    </tr>\n",
       "  </tbody>\n",
       "</table>\n",
       "</div>"
      ],
      "text/plain": [
       "                                      Sector  Average Correlation  \\\n",
       "23               Energy Equipment & Services             0.475037   \n",
       "33                                  Airlines             0.439068   \n",
       "3   Equity Real Estate Investment Trusts ...             0.419302   \n",
       "26                        Electric Utilities             0.409064   \n",
       "17             Hotels, Restaurants & Leisure             0.390153   \n",
       "5                                  Machinery             0.379853   \n",
       "0                                      Banks             0.352028   \n",
       "27          Trading Companies & Distributors             0.343413   \n",
       "16                                 Chemicals             0.326630   \n",
       "9                                  Insurance             0.321942   \n",
       "7                            Capital Markets             0.316164   \n",
       "4                            Metals & Mining             0.314901   \n",
       "31                Construction & Engineering             0.313233   \n",
       "34                               Automobiles             0.312658   \n",
       "12                          Specialty Retail             0.304169   \n",
       "2                Oil, Gas & Consumable Fuels             0.303748   \n",
       "10  Semiconductors & Semiconductor Equipment             0.269579   \n",
       "22                       Aerospace & Defense             0.269163   \n",
       "24                      Electrical Equipment             0.266421   \n",
       "25          Textiles, Apparel & Luxury Goods             0.266275   \n",
       "14            Commercial Services & Supplies             0.258090   \n",
       "13                               IT Services             0.254002   \n",
       "32                                 Beverages             0.253170   \n",
       "30  Technology Hardware, Storage & Periph...             0.239072   \n",
       "19          Health Care Providers & Services             0.226938   \n",
       "21                                     Media             0.211735   \n",
       "28      Real Estate Management & Development             0.207576   \n",
       "11                                  Software             0.201368   \n",
       "6   Electronic Equipment, Instruments & C...             0.196907   \n",
       "18                  Communications Equipment             0.191746   \n",
       "29                             Entertainment             0.184955   \n",
       "8           Health Care Equipment & Supplies             0.171356   \n",
       "20                             Food Products             0.155084   \n",
       "15                           Pharmaceuticals             0.139870   \n",
       "1                              Biotechnology             0.126243   \n",
       "\n",
       "                       Max Correlation                     Min Correlation  \n",
       "23      (0.8882941728141304, HAL, SLB)                   (0, stock, stock)  \n",
       "33      (0.8928999467636979, CEA, ZNH)                   (0, stock, stock)  \n",
       "3       (0.9126866521624862, KIM, REG)   (-0.12823799536807146, IHT, SBAC)  \n",
       "26      (0.8963693868337042, LNT, XEL)     (-0.1286715503196716, EDN, MGF)  \n",
       "17      (0.9866427501699437, CCL, CUK)  (-0.06058279447573067, CPHC, TAST)  \n",
       "5       (0.8504897147877548, VKI, VKQ)    (-0.2018622560312524, HURC, VKQ)  \n",
       "0      (0.9390549555893505, BBD, ITUB)   (-0.25630984505676646, EGF, MCBC)  \n",
       "27      (0.7824808642361912, HRI, URI)    (-0.06427591992427106, GIC, IGC)  \n",
       "16       (0.7563468929285467, CE, EMN)   (-0.20268707348397674, ADES, NEV)  \n",
       "9       (0.8855548429127549, LNC, PRU)   (-0.18794377816264296, UNAM, WTM)  \n",
       "7          (0.867801735645092, GS, MS)      (-0.2835088693097858, BK, MCA)  \n",
       "4        (0.884734443836443, BHP, RIO)    (-0.13482150226025102, GFI, SIM)  \n",
       "31      (0.8119973382379071, LEO, VMO)    (-0.1299272782381926, MYRG, VMO)  \n",
       "34      (0.7530429906586505, THO, WGO)  (-0.059791530643316326, HMC, MULN)  \n",
       "12     (0.8105472854076968, AZO, ORLY)     (-0.1396974413613823, BBY, SBI)  \n",
       "2       (0.9106013366381543, DVN, MRO)    (-0.21890214996055324, NCA, URG)  \n",
       "10      (0.8114408925831192, ADI, TXN)   (-0.17801603560411028, ACLS, MUC)  \n",
       "22      (0.8219744928965719, LMT, NOC)   (-0.14214991854471348, ASTC, HEI)  \n",
       "24     (0.8048888082084795, ETN, HUBB)   (-0.09017275801105007, ESP, PLUG)  \n",
       "25        (0.715122885890624, PVH, RL)   (-0.12217195516268697, COLM, EVK)  \n",
       "14       (0.8176888952806606, RSG, WM)   (-0.16787974520456328, TOMZ, VVI)  \n",
       "13         (0.8858803784155986, MA, V)     (-0.1854744961580359, IIM, UIS)  \n",
       "32      (0.7454617057952203, FMX, KOF)     (-0.0621981716299691, KO, REED)  \n",
       "30      (0.9398746427877895, HPF, HPI)   (-0.15326342960272465, HPF, SMED)  \n",
       "19       (0.8118432344854175, DGX, LH)    (-0.1458622339697846, AMEH, HUM)  \n",
       "21  (0.9899227337087159, LBTYA, LBTYK)   (-0.28221764908029545, DJCO, TVE)  \n",
       "28      (0.876530610117323, CBRE, JLL)   (-0.18365658878133506, FRPH, NMT)  \n",
       "11     (0.7221481243370496, ADSK, PTC)    (-0.3010840948427318, CDR, NLOK)  \n",
       "6       (0.7945914805764392, ARW, AVT)  (-0.23341537977905125, ELTK, TAIT)  \n",
       "18    (0.6704047477288283, FFIV, JNPR)    (-0.2721004251301993, BOSC, NOM)  \n",
       "29      (0.9720050055581492, NCV, NCZ)    (-0.1133171536591886, GAIA, IQI)  \n",
       "8       (0.6693853184747948, SYK, ZBH)     (-0.245937572403365, MMU, STXS)  \n",
       "20  (0.8342581510738292, SENEA, SENEB)   (-0.18521000769639406, CALM, PMF)  \n",
       "15      (0.7891538123052999, AVK, EOS)   (-0.1997498977480363, OPNT, SNOA)  \n",
       "1       (0.9533543806082179, ADX, GAM)    (-0.3494156854338717, MYI, VNDA)  "
      ]
     },
     "execution_count": 71,
     "metadata": {},
     "output_type": "execute_result"
    }
   ],
   "source": [
    "df_intra.sort_values('Average Correlation', ascending=False)"
   ]
  },
  {
   "cell_type": "markdown",
   "id": "fc29301d-48fb-4db5-9ad0-956ea3cb6e17",
   "metadata": {},
   "source": [
    "### Calculating Average Intra-Sector Correlation\n",
    "The next few blocks of code perform a similar calculation as above, however this time we are comparing the stocks in different sectors to eachother, rather than looking within the same sector."
   ]
  },
  {
   "cell_type": "code",
   "execution_count": 98,
   "id": "1bd9f58f-2ef5-4a5b-aff8-b3f51e1ad881",
   "metadata": {},
   "outputs": [],
   "source": [
    "def calculateIntraSectorCorrelations(sector1,sector2):\n",
    "    sector1_index = top_sectors.index(sector1)\n",
    "    df1 = stocks_by_sector[sector1_index][1]\n",
    "    sector1_stock_count = df1.shape[0]\n",
    "    \n",
    "    sector2_index = top_sectors.index(sector2)\n",
    "    df2 = stocks_by_sector[sector2_index][1]\n",
    "    sector2_stock_count = df2.shape[0]\n",
    "    \n",
    "    link_count = 0\n",
    "    sum_of_links = 0\n",
    "    max_corr = (0,\"stock\",\"stock\")\n",
    "    min_corr = (0,\"stock\",\"stock\")\n",
    "    for i in range(sector1_stock_count):\n",
    "        first_stock = df1.iloc[i,2:]\n",
    "        for j in range(sector2_stock_count):\n",
    "            second_stock = df2.iloc[j,2:]\n",
    "            result = 1-spatial.distance.cosine(first_stock,second_stock)\n",
    "            if(result>max_corr[0]):\n",
    "                max_corr = (result,df1.iloc[i,0],df2.iloc[j,0])\n",
    "            if(result<min_corr[0]):\n",
    "                min_corr = (result,df1.iloc[i,0],df2.iloc[j,0])\n",
    "            sum_of_links += result\n",
    "            link_count += 1\n",
    "    \n",
    "    average_link = sum_of_links / link_count\n",
    "    return average_link,max_corr,min_corr"
   ]
  },
  {
   "cell_type": "code",
   "execution_count": 99,
   "id": "bcc6cfd0-b61e-4c7b-bd10-b00b01b948b2",
   "metadata": {},
   "outputs": [],
   "source": [
    "def getAllInterSectorCorrelations(df):\n",
    "    num_of_sectors = len(top_sectors)\n",
    "    count = 1\n",
    "    for i in tqdm(range(num_of_sectors)):\n",
    "        sector1 = top_sectors[i]\n",
    "        for j in range(i+1,num_of_sectors):\n",
    "            sector2 = top_sectors[j]\n",
    "            avg_sector_corr, max_corr, min_corr = calculateIntraSectorCorrelations(sector1,sector2)\n",
    "            # print(count,sector1,sector2)\n",
    "            df.loc[count] = [sector1,sector2,avg_sector_corr,\n",
    "                             (max_corr[0],max_corr[1],max_corr[2]),\n",
    "                             (min_corr[0],min_corr[1],min_corr[2])]\n",
    "            count += 1"
   ]
  },
  {
   "cell_type": "code",
   "execution_count": 95,
   "id": "fe99ea17-bc9d-4e79-9b40-403f1028e5ab",
   "metadata": {},
   "outputs": [
    {
     "data": {
      "application/json": {
       "ascii": false,
       "bar_format": null,
       "colour": null,
       "elapsed": 0.018997669219970703,
       "initial": 0,
       "n": 0,
       "ncols": null,
       "nrows": null,
       "postfix": null,
       "prefix": "",
       "rate": null,
       "total": 3,
       "unit": "it",
       "unit_divisor": 1000,
       "unit_scale": false
      },
      "application/vnd.jupyter.widget-view+json": {
       "model_id": "9798ee24516946e89d71c3f7705607f8",
       "version_major": 2,
       "version_minor": 0
      },
      "text/plain": [
       "  0%|          | 0/3 [00:00<?, ?it/s]"
      ]
     },
     "metadata": {},
     "output_type": "display_data"
    }
   ],
   "source": [
    "df_inter = pd.DataFrame(columns=[\"Sector1\",\"Sector2\",\"Average Correlation\",\"Max Correlation\",\"Min Correlation\"])\n",
    "getAllInterSectorCorrelations(df_inter)"
   ]
  },
  {
   "cell_type": "code",
   "execution_count": 96,
   "id": "a44ac736-2002-402f-b46d-8905fc12aa6e",
   "metadata": {},
   "outputs": [
    {
     "data": {
      "text/html": [
       "<div>\n",
       "<style scoped>\n",
       "    .dataframe tbody tr th:only-of-type {\n",
       "        vertical-align: middle;\n",
       "    }\n",
       "\n",
       "    .dataframe tbody tr th {\n",
       "        vertical-align: top;\n",
       "    }\n",
       "\n",
       "    .dataframe thead th {\n",
       "        text-align: right;\n",
       "    }\n",
       "</style>\n",
       "<table border=\"1\" class=\"dataframe\">\n",
       "  <thead>\n",
       "    <tr style=\"text-align: right;\">\n",
       "      <th></th>\n",
       "      <th>Sector1</th>\n",
       "      <th>Sector2</th>\n",
       "      <th>Average Correlation</th>\n",
       "      <th>Max Correlation</th>\n",
       "      <th>Min Correlation</th>\n",
       "    </tr>\n",
       "  </thead>\n",
       "  <tbody>\n",
       "    <tr>\n",
       "      <th>2</th>\n",
       "      <td>Banks</td>\n",
       "      <td>Oil, Gas &amp; Consumable Fuels</td>\n",
       "      <td>0.252826</td>\n",
       "      <td>(0.7892128026074418, ITUB, PBR)</td>\n",
       "      <td>(-0.2554323254657924, FDBC, RRC)</td>\n",
       "    </tr>\n",
       "    <tr>\n",
       "      <th>3</th>\n",
       "      <td>Biotechnology</td>\n",
       "      <td>Oil, Gas &amp; Consumable Fuels</td>\n",
       "      <td>0.136366</td>\n",
       "      <td>(0.8914344905610084, GLV, GLO)</td>\n",
       "      <td>(-0.3043409627580509, ATHX, GLP)</td>\n",
       "    </tr>\n",
       "    <tr>\n",
       "      <th>1</th>\n",
       "      <td>Banks</td>\n",
       "      <td>Biotechnology</td>\n",
       "      <td>0.135676</td>\n",
       "      <td>(0.8726843265470963, BFZ, MYI)</td>\n",
       "      <td>(-0.37291324134746207, BFZ, VNDA)</td>\n",
       "    </tr>\n",
       "  </tbody>\n",
       "</table>\n",
       "</div>"
      ],
      "text/plain": [
       "         Sector1                      Sector2  Average Correlation  \\\n",
       "2          Banks  Oil, Gas & Consumable Fuels             0.252826   \n",
       "3  Biotechnology  Oil, Gas & Consumable Fuels             0.136366   \n",
       "1          Banks                Biotechnology             0.135676   \n",
       "\n",
       "                   Max Correlation                    Min Correlation  \n",
       "2  (0.7892128026074418, ITUB, PBR)   (-0.2554323254657924, FDBC, RRC)  \n",
       "3   (0.8914344905610084, GLV, GLO)   (-0.3043409627580509, ATHX, GLP)  \n",
       "1   (0.8726843265470963, BFZ, MYI)  (-0.37291324134746207, BFZ, VNDA)  "
      ]
     },
     "execution_count": 96,
     "metadata": {},
     "output_type": "execute_result"
    }
   ],
   "source": [
    "df_inter.sort_values('Average Correlation',ascending=False)"
   ]
  },
  {
   "cell_type": "code",
   "execution_count": null,
   "id": "3e2c5557-96db-4e2d-a8f2-2fe27150ef2b",
   "metadata": {},
   "outputs": [],
   "source": []
  }
 ],
 "metadata": {
  "kernelspec": {
   "display_name": "Python 3 (ipykernel)",
   "language": "python",
   "name": "python3"
  },
  "language_info": {
   "codemirror_mode": {
    "name": "ipython",
    "version": 3
   },
   "file_extension": ".py",
   "mimetype": "text/x-python",
   "name": "python",
   "nbconvert_exporter": "python",
   "pygments_lexer": "ipython3",
   "version": "3.9.1"
  }
 },
 "nbformat": 4,
 "nbformat_minor": 5
}
