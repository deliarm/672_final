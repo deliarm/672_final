{
 "cells": [
  {
   "cell_type": "code",
   "execution_count": 1,
   "id": "23c42351-b286-4f77-9c63-799bbf671b70",
   "metadata": {},
   "outputs": [],
   "source": [
    "import numpy as np\n",
    "import pandas as pd\n",
    "import networkx as nx\n",
    "import random\n",
    "from random import sample\n",
    "from datetime import datetime\n",
    "import matplotlib.pyplot as plt\n",
    "import matplotlib as mpl\n",
    "import ast\n",
    "from scipy import spatial\n",
    "import csv\n",
    "from tqdm.notebook import tqdm\n",
    "%matplotlib inline"
   ]
  },
  {
   "cell_type": "code",
   "execution_count": 2,
   "id": "4786a116-22db-4cc1-b81b-38bc98dc4e6b",
   "metadata": {},
   "outputs": [],
   "source": [
    "df_total = pd.read_excel('data/all_data.xlsx', sheet_name='percentChange',engine='openpyxl')\n",
    "stocks = pd.read_csv('data/stocks.csv',)\n",
    "links_total = pd.read_csv('data/links_total.csv',)"
   ]
  },
  {
   "cell_type": "code",
   "execution_count": 3,
   "id": "d2f0b197-1c7d-4f07-a59d-74b1ab25d897",
   "metadata": {},
   "outputs": [],
   "source": [
    "all_sectors = {}\n",
    "for sect in df_total['Sector']:\n",
    "    if(sect in all_sectors):\n",
    "        all_sectors[sect]+=1\n",
    "    else:\n",
    "        all_sectors[sect]=1\n",
    "sorted_sectors = sorted(all_sectors.items(),key=lambda x:x[1],reverse=True)"
   ]
  },
  {
   "cell_type": "markdown",
   "id": "27e66826-bd5c-4d58-9402-c202061c6092",
   "metadata": {},
   "source": [
    "### Identifying Popular Sectors\n",
    "The snippet below prints all the sectors from our raw data, these include banking, software, pharmaceuticals and many more.\n",
    "With these sectors now identified, we can begin exploring the relationship between them, and see how stocks within the same sectors relate to eachother."
   ]
  },
  {
   "cell_type": "code",
   "execution_count": null,
   "id": "2a9121e2-3b9e-451b-b4a3-3f7582f5c044",
   "metadata": {},
   "outputs": [],
   "source": [
    "for sector in sorted_sectors:\n",
    "    print(sector)"
   ]
  },
  {
   "cell_type": "code",
   "execution_count": 5,
   "id": "f440bcb7-6243-475c-8a2d-af2a7641acdb",
   "metadata": {},
   "outputs": [],
   "source": [
    "top_sectors = [\n",
    "'Banks',\n",
    "'Biotechnology',\n",
    "'Oil, Gas & Consumable Fuels',\n",
    "'Equity Real Estate Investment Trusts ...',\n",
    "'Metals & Mining',\n",
    "'Machinery',\n",
    "'Electronic Equipment, Instruments & C...',\n",
    "'Capital Markets',\n",
    "'Health Care Equipment & Supplies',\n",
    "'Insurance',\n",
    "'Semiconductors & Semiconductor Equipment',\n",
    "'Software',\n",
    "'Specialty Retail',\n",
    "'IT Services',\n",
    "'Commercial Services & Supplies',\n",
    "'Pharmaceuticals',\n",
    "'Chemicals',\n",
    "'Hotels, Restaurants & Leisure',\n",
    "'Communications Equipment',\n",
    "'Health Care Providers & Services',\n",
    "'Food Products',\n",
    "'Media',\n",
    "'Aerospace & Defense',\n",
    "'Energy Equipment & Services',\n",
    "'Electrical Equipment',\n",
    "'Textiles, Apparel & Luxury Goods',\n",
    "'Electric Utilities',\n",
    "'Trading Companies & Distributors',\n",
    "'Real Estate Management & Development',\n",
    "'Entertainment',\n",
    "'Technology Hardware, Storage & Periph...',\n",
    "'Construction & Engineering',\n",
    "'Beverages',\n",
    "'Airlines',\n",
    "'Automobiles'\n",
    "]"
   ]
  },
  {
   "cell_type": "markdown",
   "id": "622220dd-1577-4478-9a99-be63e31259a5",
   "metadata": {},
   "source": [
    "### Getting Stocks by sector\n",
    "After we have obtained the top sectors, the snippet of code below goes through the data and finds all the stocks corresponding to our top sectors"
   ]
  },
  {
   "cell_type": "code",
   "execution_count": 6,
   "id": "46264091-92e5-49ce-b68a-2176451563f1",
   "metadata": {},
   "outputs": [],
   "source": [
    "stocks_by_sector = []\n",
    "for sector in top_sectors:\n",
    "    stocks = df_total.loc[df_total['Sector'] == sector]\n",
    "    value = (sector,stocks)\n",
    "    stocks_by_sector.append(value)"
   ]
  },
  {
   "cell_type": "markdown",
   "id": "33e7f029-4bf4-40e7-a9c5-b0a44c93d43d",
   "metadata": {},
   "source": [
    "### Calculating Average Intra-Sector Correlation\n",
    "The following code blocks calculate the average weight of a link between all the stocks in a given sector. For example, in the Bank sector, the functions will go and obtain the links from one bank stock to every other bank stock, and add them to the total. Then this total will be divided by the number of links, to obtain the average weight. This is in hopes of answering our third and fourth research questions."
   ]
  },
  {
   "cell_type": "code",
   "execution_count": 7,
   "id": "f6c915a7-8018-4f89-88de-ba415bfd0bcc",
   "metadata": {},
   "outputs": [],
   "source": [
    "def calculateIntraSectorWeight(sector):\n",
    "    max_corr = (0,\"stock\",\"stock\")\n",
    "    min_corr = (0,\"stock\",\"stock\")\n",
    "    sum_of_links = 0\n",
    "    link_count = 0\n",
    "    sector_index = top_sectors.index(sector)\n",
    "    df = stocks_by_sector[sector_index][1]\n",
    "    num_of_stocks = df.shape[0]\n",
    "    for i in tqdm(range(num_of_stocks)):\n",
    "        first_stock = df.iloc[i,2:]\n",
    "        for j in range(i+1,num_of_stocks):\n",
    "            second_stock = df.iloc[j,2:]\n",
    "            result = 1-spatial.distance.cosine(first_stock,second_stock)\n",
    "            if(result>max_corr[0]):\n",
    "                max_corr = (result,df.iloc[i,0],df.iloc[j,0])\n",
    "            if(result<min_corr[0]):\n",
    "                min_corr = (result,df.iloc[i,0],df.iloc[j,0])\n",
    "            sum_of_links += result\n",
    "            link_count += 1\n",
    "    \n",
    "    average_link = sum_of_links / link_count\n",
    "    return average_link,max_corr,min_corr"
   ]
  },
  {
   "cell_type": "code",
   "execution_count": 8,
   "id": "f272f270-63e0-4c18-bb07-38da6814994c",
   "metadata": {},
   "outputs": [],
   "source": [
    "def getAllIntraSectorCorrelations(df):\n",
    "    for count,sector in enumerate(top_sectors):\n",
    "        avg, max_corr, min_corr = calculateIntraSectorWeight(sector)\n",
    "        df.loc[count] = [sector,avg,(max_corr[0],max_corr[1],max_corr[2]),(min_corr[0],min_corr[1],min_corr[2])]"
   ]
  },
  {
   "cell_type": "code",
   "execution_count": 9,
   "id": "b0f5c4ef-417b-46d0-b660-c0da7307944a",
   "metadata": {},
   "outputs": [
    {
     "data": {
      "application/vnd.jupyter.widget-view+json": {
       "model_id": "b8f33a86f0a842609a2e8ed0f5cf8438",
       "version_major": 2,
       "version_minor": 0
      },
      "text/plain": [
       "  0%|          | 0/271 [00:00<?, ?it/s]"
      ]
     },
     "metadata": {},
     "output_type": "display_data"
    },
    {
     "data": {
      "application/vnd.jupyter.widget-view+json": {
       "model_id": "e0f1c128da80448a8bba503fb7ad393e",
       "version_major": 2,
       "version_minor": 0
      },
      "text/plain": [
       "  0%|          | 0/163 [00:00<?, ?it/s]"
      ]
     },
     "metadata": {},
     "output_type": "display_data"
    },
    {
     "data": {
      "application/vnd.jupyter.widget-view+json": {
       "model_id": "38f7539af38e45fa95cc845c04b1dc03",
       "version_major": 2,
       "version_minor": 0
      },
      "text/plain": [
       "  0%|          | 0/128 [00:00<?, ?it/s]"
      ]
     },
     "metadata": {},
     "output_type": "display_data"
    },
    {
     "data": {
      "application/vnd.jupyter.widget-view+json": {
       "model_id": "e2c6c763ce5e422fbdbac03dfcb82a36",
       "version_major": 2,
       "version_minor": 0
      },
      "text/plain": [
       "  0%|          | 0/101 [00:00<?, ?it/s]"
      ]
     },
     "metadata": {},
     "output_type": "display_data"
    },
    {
     "data": {
      "application/vnd.jupyter.widget-view+json": {
       "model_id": "50b04b1e95f948e1a799f8f266da1683",
       "version_major": 2,
       "version_minor": 0
      },
      "text/plain": [
       "  0%|          | 0/95 [00:00<?, ?it/s]"
      ]
     },
     "metadata": {},
     "output_type": "display_data"
    },
    {
     "data": {
      "application/vnd.jupyter.widget-view+json": {
       "model_id": "e9e37ce40a3444b0b6ff32652ebff8bb",
       "version_major": 2,
       "version_minor": 0
      },
      "text/plain": [
       "  0%|          | 0/93 [00:00<?, ?it/s]"
      ]
     },
     "metadata": {},
     "output_type": "display_data"
    },
    {
     "data": {
      "application/vnd.jupyter.widget-view+json": {
       "model_id": "608dacadd3794d57a2203cb63bdde90c",
       "version_major": 2,
       "version_minor": 0
      },
      "text/plain": [
       "  0%|          | 0/88 [00:00<?, ?it/s]"
      ]
     },
     "metadata": {},
     "output_type": "display_data"
    },
    {
     "data": {
      "application/vnd.jupyter.widget-view+json": {
       "model_id": "6988764752be4db8bce61fbbb6d6d88e",
       "version_major": 2,
       "version_minor": 0
      },
      "text/plain": [
       "  0%|          | 0/87 [00:00<?, ?it/s]"
      ]
     },
     "metadata": {},
     "output_type": "display_data"
    },
    {
     "data": {
      "application/vnd.jupyter.widget-view+json": {
       "model_id": "810e3156565646aba88f88f3820dcb10",
       "version_major": 2,
       "version_minor": 0
      },
      "text/plain": [
       "  0%|          | 0/87 [00:00<?, ?it/s]"
      ]
     },
     "metadata": {},
     "output_type": "display_data"
    },
    {
     "data": {
      "application/vnd.jupyter.widget-view+json": {
       "model_id": "000440e646284ec8815ba9c708defbad",
       "version_major": 2,
       "version_minor": 0
      },
      "text/plain": [
       "  0%|          | 0/80 [00:00<?, ?it/s]"
      ]
     },
     "metadata": {},
     "output_type": "display_data"
    },
    {
     "data": {
      "application/vnd.jupyter.widget-view+json": {
       "model_id": "d2e8d3062281483eb50d274960f0a4fe",
       "version_major": 2,
       "version_minor": 0
      },
      "text/plain": [
       "  0%|          | 0/75 [00:00<?, ?it/s]"
      ]
     },
     "metadata": {},
     "output_type": "display_data"
    },
    {
     "data": {
      "application/vnd.jupyter.widget-view+json": {
       "model_id": "672cbaa7f62644529109f64da26cdcc1",
       "version_major": 2,
       "version_minor": 0
      },
      "text/plain": [
       "  0%|          | 0/70 [00:00<?, ?it/s]"
      ]
     },
     "metadata": {},
     "output_type": "display_data"
    },
    {
     "data": {
      "application/vnd.jupyter.widget-view+json": {
       "model_id": "a17a18d3682942a7abdf1830e8af0d7d",
       "version_major": 2,
       "version_minor": 0
      },
      "text/plain": [
       "  0%|          | 0/63 [00:00<?, ?it/s]"
      ]
     },
     "metadata": {},
     "output_type": "display_data"
    },
    {
     "data": {
      "application/vnd.jupyter.widget-view+json": {
       "model_id": "5f1be91479cd411db86a73cadf46fac1",
       "version_major": 2,
       "version_minor": 0
      },
      "text/plain": [
       "  0%|          | 0/58 [00:00<?, ?it/s]"
      ]
     },
     "metadata": {},
     "output_type": "display_data"
    },
    {
     "data": {
      "application/vnd.jupyter.widget-view+json": {
       "model_id": "a65c16a7c10541d6b994e45587f4e233",
       "version_major": 2,
       "version_minor": 0
      },
      "text/plain": [
       "  0%|          | 0/57 [00:00<?, ?it/s]"
      ]
     },
     "metadata": {},
     "output_type": "display_data"
    },
    {
     "data": {
      "application/vnd.jupyter.widget-view+json": {
       "model_id": "b10cd6e609ea40b6a9b7dfc558f8a587",
       "version_major": 2,
       "version_minor": 0
      },
      "text/plain": [
       "  0%|          | 0/56 [00:00<?, ?it/s]"
      ]
     },
     "metadata": {},
     "output_type": "display_data"
    },
    {
     "data": {
      "application/vnd.jupyter.widget-view+json": {
       "model_id": "3a63f3d5bf564bd7884cccf7dd70f7b6",
       "version_major": 2,
       "version_minor": 0
      },
      "text/plain": [
       "  0%|          | 0/55 [00:00<?, ?it/s]"
      ]
     },
     "metadata": {},
     "output_type": "display_data"
    },
    {
     "data": {
      "application/vnd.jupyter.widget-view+json": {
       "model_id": "73dcf25599f14e4c9abe0731444e0fd7",
       "version_major": 2,
       "version_minor": 0
      },
      "text/plain": [
       "  0%|          | 0/54 [00:00<?, ?it/s]"
      ]
     },
     "metadata": {},
     "output_type": "display_data"
    },
    {
     "data": {
      "application/vnd.jupyter.widget-view+json": {
       "model_id": "f1dbe45435584fce86551a24b7ce3b4f",
       "version_major": 2,
       "version_minor": 0
      },
      "text/plain": [
       "  0%|          | 0/50 [00:00<?, ?it/s]"
      ]
     },
     "metadata": {},
     "output_type": "display_data"
    },
    {
     "data": {
      "application/vnd.jupyter.widget-view+json": {
       "model_id": "13dd3cc5bd6a475bbc28aab107a98abd",
       "version_major": 2,
       "version_minor": 0
      },
      "text/plain": [
       "  0%|          | 0/48 [00:00<?, ?it/s]"
      ]
     },
     "metadata": {},
     "output_type": "display_data"
    },
    {
     "data": {
      "application/vnd.jupyter.widget-view+json": {
       "model_id": "9cd0852cd40c4e82a7ece9309fb0108c",
       "version_major": 2,
       "version_minor": 0
      },
      "text/plain": [
       "  0%|          | 0/47 [00:00<?, ?it/s]"
      ]
     },
     "metadata": {},
     "output_type": "display_data"
    },
    {
     "data": {
      "application/vnd.jupyter.widget-view+json": {
       "model_id": "2823f8f310544f8db252ff8368a30c3f",
       "version_major": 2,
       "version_minor": 0
      },
      "text/plain": [
       "  0%|          | 0/47 [00:00<?, ?it/s]"
      ]
     },
     "metadata": {},
     "output_type": "display_data"
    },
    {
     "data": {
      "application/vnd.jupyter.widget-view+json": {
       "model_id": "46e0bc941b984da19ac9bce480cc898f",
       "version_major": 2,
       "version_minor": 0
      },
      "text/plain": [
       "  0%|          | 0/43 [00:00<?, ?it/s]"
      ]
     },
     "metadata": {},
     "output_type": "display_data"
    },
    {
     "data": {
      "application/vnd.jupyter.widget-view+json": {
       "model_id": "95da57bdddab4540b05b77a5e466e8e9",
       "version_major": 2,
       "version_minor": 0
      },
      "text/plain": [
       "  0%|          | 0/34 [00:00<?, ?it/s]"
      ]
     },
     "metadata": {},
     "output_type": "display_data"
    },
    {
     "data": {
      "application/vnd.jupyter.widget-view+json": {
       "model_id": "eabfb05dde1540d3a862c4b9cb533a6b",
       "version_major": 2,
       "version_minor": 0
      },
      "text/plain": [
       "  0%|          | 0/31 [00:00<?, ?it/s]"
      ]
     },
     "metadata": {},
     "output_type": "display_data"
    },
    {
     "data": {
      "application/vnd.jupyter.widget-view+json": {
       "model_id": "c1a43dc44eba4dd0b0a2e8b93f151f3e",
       "version_major": 2,
       "version_minor": 0
      },
      "text/plain": [
       "  0%|          | 0/30 [00:00<?, ?it/s]"
      ]
     },
     "metadata": {},
     "output_type": "display_data"
    },
    {
     "data": {
      "application/vnd.jupyter.widget-view+json": {
       "model_id": "fb135ea18f73496487ff31aa57843470",
       "version_major": 2,
       "version_minor": 0
      },
      "text/plain": [
       "  0%|          | 0/29 [00:00<?, ?it/s]"
      ]
     },
     "metadata": {},
     "output_type": "display_data"
    },
    {
     "data": {
      "application/vnd.jupyter.widget-view+json": {
       "model_id": "6abcd0342af343e78dfd0304d93b92b3",
       "version_major": 2,
       "version_minor": 0
      },
      "text/plain": [
       "  0%|          | 0/28 [00:00<?, ?it/s]"
      ]
     },
     "metadata": {},
     "output_type": "display_data"
    },
    {
     "data": {
      "application/vnd.jupyter.widget-view+json": {
       "model_id": "a928bdc32a22450fa6cbde217b440b84",
       "version_major": 2,
       "version_minor": 0
      },
      "text/plain": [
       "  0%|          | 0/28 [00:00<?, ?it/s]"
      ]
     },
     "metadata": {},
     "output_type": "display_data"
    },
    {
     "data": {
      "application/vnd.jupyter.widget-view+json": {
       "model_id": "06bb3e729bd6409ab1e5d3a91effffef",
       "version_major": 2,
       "version_minor": 0
      },
      "text/plain": [
       "  0%|          | 0/26 [00:00<?, ?it/s]"
      ]
     },
     "metadata": {},
     "output_type": "display_data"
    },
    {
     "data": {
      "application/vnd.jupyter.widget-view+json": {
       "model_id": "fa46ea0746e04877be77abc5ab4633dc",
       "version_major": 2,
       "version_minor": 0
      },
      "text/plain": [
       "  0%|          | 0/24 [00:00<?, ?it/s]"
      ]
     },
     "metadata": {},
     "output_type": "display_data"
    },
    {
     "data": {
      "application/vnd.jupyter.widget-view+json": {
       "model_id": "4a9c9e5a91a14dc79e8e8942f38013f1",
       "version_major": 2,
       "version_minor": 0
      },
      "text/plain": [
       "  0%|          | 0/23 [00:00<?, ?it/s]"
      ]
     },
     "metadata": {},
     "output_type": "display_data"
    },
    {
     "data": {
      "application/vnd.jupyter.widget-view+json": {
       "model_id": "94d15296875e4397986a96543db1b25f",
       "version_major": 2,
       "version_minor": 0
      },
      "text/plain": [
       "  0%|          | 0/22 [00:00<?, ?it/s]"
      ]
     },
     "metadata": {},
     "output_type": "display_data"
    },
    {
     "data": {
      "application/vnd.jupyter.widget-view+json": {
       "model_id": "0edc37deea4d4e3da095253aa23f16fc",
       "version_major": 2,
       "version_minor": 0
      },
      "text/plain": [
       "  0%|          | 0/15 [00:00<?, ?it/s]"
      ]
     },
     "metadata": {},
     "output_type": "display_data"
    },
    {
     "data": {
      "application/vnd.jupyter.widget-view+json": {
       "model_id": "8279d4a0692d41f1949ceea9aa0b7535",
       "version_major": 2,
       "version_minor": 0
      },
      "text/plain": [
       "  0%|          | 0/9 [00:00<?, ?it/s]"
      ]
     },
     "metadata": {},
     "output_type": "display_data"
    }
   ],
   "source": [
    "df_intra = pd.DataFrame(columns=[\"Sector\",\"Average Correlation\",\"Max Correlation\",\"Min Correlation\"])\n",
    "getAllIntraSectorCorrelations(df_intra)"
   ]
  },
  {
   "cell_type": "code",
   "execution_count": 13,
   "id": "c902b5ad-51ac-4458-91ce-005411ca9276",
   "metadata": {},
   "outputs": [
    {
     "data": {
      "text/html": [
       "<div>\n",
       "<style scoped>\n",
       "    .dataframe tbody tr th:only-of-type {\n",
       "        vertical-align: middle;\n",
       "    }\n",
       "\n",
       "    .dataframe tbody tr th {\n",
       "        vertical-align: top;\n",
       "    }\n",
       "\n",
       "    .dataframe thead th {\n",
       "        text-align: right;\n",
       "    }\n",
       "</style>\n",
       "<table border=\"1\" class=\"dataframe\">\n",
       "  <thead>\n",
       "    <tr style=\"text-align: right;\">\n",
       "      <th></th>\n",
       "      <th>Sector</th>\n",
       "      <th>Average Correlation</th>\n",
       "      <th>Max Correlation</th>\n",
       "      <th>Min Correlation</th>\n",
       "    </tr>\n",
       "  </thead>\n",
       "  <tbody>\n",
       "    <tr>\n",
       "      <th>23</th>\n",
       "      <td>Energy Equipment &amp; Services</td>\n",
       "      <td>0.475037</td>\n",
       "      <td>(0.8882941728141304, HAL, SLB)</td>\n",
       "      <td>(0, stock, stock)</td>\n",
       "    </tr>\n",
       "    <tr>\n",
       "      <th>33</th>\n",
       "      <td>Airlines</td>\n",
       "      <td>0.439068</td>\n",
       "      <td>(0.8928999467636979, CEA, ZNH)</td>\n",
       "      <td>(0, stock, stock)</td>\n",
       "    </tr>\n",
       "    <tr>\n",
       "      <th>3</th>\n",
       "      <td>Equity Real Estate Investment Trusts ...</td>\n",
       "      <td>0.419302</td>\n",
       "      <td>(0.9126866521624862, KIM, REG)</td>\n",
       "      <td>(-0.12823799536807146, IHT, SBAC)</td>\n",
       "    </tr>\n",
       "    <tr>\n",
       "      <th>26</th>\n",
       "      <td>Electric Utilities</td>\n",
       "      <td>0.409064</td>\n",
       "      <td>(0.8963693868337042, LNT, XEL)</td>\n",
       "      <td>(-0.1286715503196716, EDN, MGF)</td>\n",
       "    </tr>\n",
       "    <tr>\n",
       "      <th>17</th>\n",
       "      <td>Hotels, Restaurants &amp; Leisure</td>\n",
       "      <td>0.390153</td>\n",
       "      <td>(0.9866427501699437, CCL, CUK)</td>\n",
       "      <td>(-0.06058279447573067, CPHC, TAST)</td>\n",
       "    </tr>\n",
       "    <tr>\n",
       "      <th>5</th>\n",
       "      <td>Machinery</td>\n",
       "      <td>0.379853</td>\n",
       "      <td>(0.8504897147877548, VKI, VKQ)</td>\n",
       "      <td>(-0.2018622560312524, HURC, VKQ)</td>\n",
       "    </tr>\n",
       "    <tr>\n",
       "      <th>0</th>\n",
       "      <td>Banks</td>\n",
       "      <td>0.352028</td>\n",
       "      <td>(0.9390549555893505, BBD, ITUB)</td>\n",
       "      <td>(-0.25630984505676646, EGF, MCBC)</td>\n",
       "    </tr>\n",
       "    <tr>\n",
       "      <th>27</th>\n",
       "      <td>Trading Companies &amp; Distributors</td>\n",
       "      <td>0.343413</td>\n",
       "      <td>(0.7824808642361912, HRI, URI)</td>\n",
       "      <td>(-0.06427591992427106, GIC, IGC)</td>\n",
       "    </tr>\n",
       "    <tr>\n",
       "      <th>16</th>\n",
       "      <td>Chemicals</td>\n",
       "      <td>0.326630</td>\n",
       "      <td>(0.7563468929285467, CE, EMN)</td>\n",
       "      <td>(-0.20268707348397674, ADES, NEV)</td>\n",
       "    </tr>\n",
       "    <tr>\n",
       "      <th>9</th>\n",
       "      <td>Insurance</td>\n",
       "      <td>0.321942</td>\n",
       "      <td>(0.8855548429127549, LNC, PRU)</td>\n",
       "      <td>(-0.18794377816264296, UNAM, WTM)</td>\n",
       "    </tr>\n",
       "    <tr>\n",
       "      <th>7</th>\n",
       "      <td>Capital Markets</td>\n",
       "      <td>0.316164</td>\n",
       "      <td>(0.867801735645092, GS, MS)</td>\n",
       "      <td>(-0.2835088693097858, BK, MCA)</td>\n",
       "    </tr>\n",
       "    <tr>\n",
       "      <th>4</th>\n",
       "      <td>Metals &amp; Mining</td>\n",
       "      <td>0.314901</td>\n",
       "      <td>(0.884734443836443, BHP, RIO)</td>\n",
       "      <td>(-0.13482150226025102, GFI, SIM)</td>\n",
       "    </tr>\n",
       "    <tr>\n",
       "      <th>31</th>\n",
       "      <td>Construction &amp; Engineering</td>\n",
       "      <td>0.313233</td>\n",
       "      <td>(0.8119973382379071, LEO, VMO)</td>\n",
       "      <td>(-0.1299272782381926, MYRG, VMO)</td>\n",
       "    </tr>\n",
       "    <tr>\n",
       "      <th>34</th>\n",
       "      <td>Automobiles</td>\n",
       "      <td>0.312658</td>\n",
       "      <td>(0.7530429906586505, THO, WGO)</td>\n",
       "      <td>(-0.059791530643316326, HMC, MULN)</td>\n",
       "    </tr>\n",
       "    <tr>\n",
       "      <th>12</th>\n",
       "      <td>Specialty Retail</td>\n",
       "      <td>0.304169</td>\n",
       "      <td>(0.8105472854076968, AZO, ORLY)</td>\n",
       "      <td>(-0.1396974413613823, BBY, SBI)</td>\n",
       "    </tr>\n",
       "    <tr>\n",
       "      <th>2</th>\n",
       "      <td>Oil, Gas &amp; Consumable Fuels</td>\n",
       "      <td>0.303748</td>\n",
       "      <td>(0.9106013366381543, DVN, MRO)</td>\n",
       "      <td>(-0.21890214996055324, NCA, URG)</td>\n",
       "    </tr>\n",
       "    <tr>\n",
       "      <th>10</th>\n",
       "      <td>Semiconductors &amp; Semiconductor Equipment</td>\n",
       "      <td>0.269579</td>\n",
       "      <td>(0.8114408925831192, ADI, TXN)</td>\n",
       "      <td>(-0.17801603560411028, ACLS, MUC)</td>\n",
       "    </tr>\n",
       "    <tr>\n",
       "      <th>22</th>\n",
       "      <td>Aerospace &amp; Defense</td>\n",
       "      <td>0.269163</td>\n",
       "      <td>(0.8219744928965719, LMT, NOC)</td>\n",
       "      <td>(-0.14214991854471348, ASTC, HEI)</td>\n",
       "    </tr>\n",
       "    <tr>\n",
       "      <th>24</th>\n",
       "      <td>Electrical Equipment</td>\n",
       "      <td>0.266421</td>\n",
       "      <td>(0.8048888082084795, ETN, HUBB)</td>\n",
       "      <td>(-0.09017275801105007, ESP, PLUG)</td>\n",
       "    </tr>\n",
       "    <tr>\n",
       "      <th>25</th>\n",
       "      <td>Textiles, Apparel &amp; Luxury Goods</td>\n",
       "      <td>0.266275</td>\n",
       "      <td>(0.715122885890624, PVH, RL)</td>\n",
       "      <td>(-0.12217195516268697, COLM, EVK)</td>\n",
       "    </tr>\n",
       "    <tr>\n",
       "      <th>14</th>\n",
       "      <td>Commercial Services &amp; Supplies</td>\n",
       "      <td>0.258090</td>\n",
       "      <td>(0.8176888952806606, RSG, WM)</td>\n",
       "      <td>(-0.16787974520456328, TOMZ, VVI)</td>\n",
       "    </tr>\n",
       "    <tr>\n",
       "      <th>13</th>\n",
       "      <td>IT Services</td>\n",
       "      <td>0.254002</td>\n",
       "      <td>(0.8858803784155986, MA, V)</td>\n",
       "      <td>(-0.1854744961580359, IIM, UIS)</td>\n",
       "    </tr>\n",
       "    <tr>\n",
       "      <th>32</th>\n",
       "      <td>Beverages</td>\n",
       "      <td>0.253170</td>\n",
       "      <td>(0.7454617057952203, FMX, KOF)</td>\n",
       "      <td>(-0.0621981716299691, KO, REED)</td>\n",
       "    </tr>\n",
       "    <tr>\n",
       "      <th>30</th>\n",
       "      <td>Technology Hardware, Storage &amp; Periph...</td>\n",
       "      <td>0.239072</td>\n",
       "      <td>(0.9398746427877895, HPF, HPI)</td>\n",
       "      <td>(-0.15326342960272465, HPF, SMED)</td>\n",
       "    </tr>\n",
       "    <tr>\n",
       "      <th>19</th>\n",
       "      <td>Health Care Providers &amp; Services</td>\n",
       "      <td>0.226938</td>\n",
       "      <td>(0.8118432344854175, DGX, LH)</td>\n",
       "      <td>(-0.1458622339697846, AMEH, HUM)</td>\n",
       "    </tr>\n",
       "    <tr>\n",
       "      <th>21</th>\n",
       "      <td>Media</td>\n",
       "      <td>0.211735</td>\n",
       "      <td>(0.9899227337087159, LBTYA, LBTYK)</td>\n",
       "      <td>(-0.28221764908029545, DJCO, TVE)</td>\n",
       "    </tr>\n",
       "    <tr>\n",
       "      <th>28</th>\n",
       "      <td>Real Estate Management &amp; Development</td>\n",
       "      <td>0.207576</td>\n",
       "      <td>(0.876530610117323, CBRE, JLL)</td>\n",
       "      <td>(-0.18365658878133506, FRPH, NMT)</td>\n",
       "    </tr>\n",
       "    <tr>\n",
       "      <th>11</th>\n",
       "      <td>Software</td>\n",
       "      <td>0.201368</td>\n",
       "      <td>(0.7221481243370496, ADSK, PTC)</td>\n",
       "      <td>(-0.3010840948427318, CDR, NLOK)</td>\n",
       "    </tr>\n",
       "    <tr>\n",
       "      <th>6</th>\n",
       "      <td>Electronic Equipment, Instruments &amp; C...</td>\n",
       "      <td>0.196907</td>\n",
       "      <td>(0.7945914805764392, ARW, AVT)</td>\n",
       "      <td>(-0.23341537977905125, ELTK, TAIT)</td>\n",
       "    </tr>\n",
       "    <tr>\n",
       "      <th>18</th>\n",
       "      <td>Communications Equipment</td>\n",
       "      <td>0.191746</td>\n",
       "      <td>(0.6704047477288283, FFIV, JNPR)</td>\n",
       "      <td>(-0.2721004251301993, BOSC, NOM)</td>\n",
       "    </tr>\n",
       "    <tr>\n",
       "      <th>29</th>\n",
       "      <td>Entertainment</td>\n",
       "      <td>0.184955</td>\n",
       "      <td>(0.9720050055581492, NCV, NCZ)</td>\n",
       "      <td>(-0.1133171536591886, GAIA, IQI)</td>\n",
       "    </tr>\n",
       "    <tr>\n",
       "      <th>8</th>\n",
       "      <td>Health Care Equipment &amp; Supplies</td>\n",
       "      <td>0.171356</td>\n",
       "      <td>(0.6693853184747948, SYK, ZBH)</td>\n",
       "      <td>(-0.245937572403365, MMU, STXS)</td>\n",
       "    </tr>\n",
       "    <tr>\n",
       "      <th>20</th>\n",
       "      <td>Food Products</td>\n",
       "      <td>0.155084</td>\n",
       "      <td>(0.8342581510738292, SENEA, SENEB)</td>\n",
       "      <td>(-0.18521000769639406, CALM, PMF)</td>\n",
       "    </tr>\n",
       "    <tr>\n",
       "      <th>15</th>\n",
       "      <td>Pharmaceuticals</td>\n",
       "      <td>0.139870</td>\n",
       "      <td>(0.7891538123052999, AVK, EOS)</td>\n",
       "      <td>(-0.1997498977480363, OPNT, SNOA)</td>\n",
       "    </tr>\n",
       "    <tr>\n",
       "      <th>1</th>\n",
       "      <td>Biotechnology</td>\n",
       "      <td>0.126243</td>\n",
       "      <td>(0.9533543806082179, ADX, GAM)</td>\n",
       "      <td>(-0.3494156854338717, MYI, VNDA)</td>\n",
       "    </tr>\n",
       "  </tbody>\n",
       "</table>\n",
       "</div>"
      ],
      "text/plain": [
       "                                      Sector  Average Correlation  \\\n",
       "23               Energy Equipment & Services             0.475037   \n",
       "33                                  Airlines             0.439068   \n",
       "3   Equity Real Estate Investment Trusts ...             0.419302   \n",
       "26                        Electric Utilities             0.409064   \n",
       "17             Hotels, Restaurants & Leisure             0.390153   \n",
       "5                                  Machinery             0.379853   \n",
       "0                                      Banks             0.352028   \n",
       "27          Trading Companies & Distributors             0.343413   \n",
       "16                                 Chemicals             0.326630   \n",
       "9                                  Insurance             0.321942   \n",
       "7                            Capital Markets             0.316164   \n",
       "4                            Metals & Mining             0.314901   \n",
       "31                Construction & Engineering             0.313233   \n",
       "34                               Automobiles             0.312658   \n",
       "12                          Specialty Retail             0.304169   \n",
       "2                Oil, Gas & Consumable Fuels             0.303748   \n",
       "10  Semiconductors & Semiconductor Equipment             0.269579   \n",
       "22                       Aerospace & Defense             0.269163   \n",
       "24                      Electrical Equipment             0.266421   \n",
       "25          Textiles, Apparel & Luxury Goods             0.266275   \n",
       "14            Commercial Services & Supplies             0.258090   \n",
       "13                               IT Services             0.254002   \n",
       "32                                 Beverages             0.253170   \n",
       "30  Technology Hardware, Storage & Periph...             0.239072   \n",
       "19          Health Care Providers & Services             0.226938   \n",
       "21                                     Media             0.211735   \n",
       "28      Real Estate Management & Development             0.207576   \n",
       "11                                  Software             0.201368   \n",
       "6   Electronic Equipment, Instruments & C...             0.196907   \n",
       "18                  Communications Equipment             0.191746   \n",
       "29                             Entertainment             0.184955   \n",
       "8           Health Care Equipment & Supplies             0.171356   \n",
       "20                             Food Products             0.155084   \n",
       "15                           Pharmaceuticals             0.139870   \n",
       "1                              Biotechnology             0.126243   \n",
       "\n",
       "                       Max Correlation                     Min Correlation  \n",
       "23      (0.8882941728141304, HAL, SLB)                   (0, stock, stock)  \n",
       "33      (0.8928999467636979, CEA, ZNH)                   (0, stock, stock)  \n",
       "3       (0.9126866521624862, KIM, REG)   (-0.12823799536807146, IHT, SBAC)  \n",
       "26      (0.8963693868337042, LNT, XEL)     (-0.1286715503196716, EDN, MGF)  \n",
       "17      (0.9866427501699437, CCL, CUK)  (-0.06058279447573067, CPHC, TAST)  \n",
       "5       (0.8504897147877548, VKI, VKQ)    (-0.2018622560312524, HURC, VKQ)  \n",
       "0      (0.9390549555893505, BBD, ITUB)   (-0.25630984505676646, EGF, MCBC)  \n",
       "27      (0.7824808642361912, HRI, URI)    (-0.06427591992427106, GIC, IGC)  \n",
       "16       (0.7563468929285467, CE, EMN)   (-0.20268707348397674, ADES, NEV)  \n",
       "9       (0.8855548429127549, LNC, PRU)   (-0.18794377816264296, UNAM, WTM)  \n",
       "7          (0.867801735645092, GS, MS)      (-0.2835088693097858, BK, MCA)  \n",
       "4        (0.884734443836443, BHP, RIO)    (-0.13482150226025102, GFI, SIM)  \n",
       "31      (0.8119973382379071, LEO, VMO)    (-0.1299272782381926, MYRG, VMO)  \n",
       "34      (0.7530429906586505, THO, WGO)  (-0.059791530643316326, HMC, MULN)  \n",
       "12     (0.8105472854076968, AZO, ORLY)     (-0.1396974413613823, BBY, SBI)  \n",
       "2       (0.9106013366381543, DVN, MRO)    (-0.21890214996055324, NCA, URG)  \n",
       "10      (0.8114408925831192, ADI, TXN)   (-0.17801603560411028, ACLS, MUC)  \n",
       "22      (0.8219744928965719, LMT, NOC)   (-0.14214991854471348, ASTC, HEI)  \n",
       "24     (0.8048888082084795, ETN, HUBB)   (-0.09017275801105007, ESP, PLUG)  \n",
       "25        (0.715122885890624, PVH, RL)   (-0.12217195516268697, COLM, EVK)  \n",
       "14       (0.8176888952806606, RSG, WM)   (-0.16787974520456328, TOMZ, VVI)  \n",
       "13         (0.8858803784155986, MA, V)     (-0.1854744961580359, IIM, UIS)  \n",
       "32      (0.7454617057952203, FMX, KOF)     (-0.0621981716299691, KO, REED)  \n",
       "30      (0.9398746427877895, HPF, HPI)   (-0.15326342960272465, HPF, SMED)  \n",
       "19       (0.8118432344854175, DGX, LH)    (-0.1458622339697846, AMEH, HUM)  \n",
       "21  (0.9899227337087159, LBTYA, LBTYK)   (-0.28221764908029545, DJCO, TVE)  \n",
       "28      (0.876530610117323, CBRE, JLL)   (-0.18365658878133506, FRPH, NMT)  \n",
       "11     (0.7221481243370496, ADSK, PTC)    (-0.3010840948427318, CDR, NLOK)  \n",
       "6       (0.7945914805764392, ARW, AVT)  (-0.23341537977905125, ELTK, TAIT)  \n",
       "18    (0.6704047477288283, FFIV, JNPR)    (-0.2721004251301993, BOSC, NOM)  \n",
       "29      (0.9720050055581492, NCV, NCZ)    (-0.1133171536591886, GAIA, IQI)  \n",
       "8       (0.6693853184747948, SYK, ZBH)     (-0.245937572403365, MMU, STXS)  \n",
       "20  (0.8342581510738292, SENEA, SENEB)   (-0.18521000769639406, CALM, PMF)  \n",
       "15      (0.7891538123052999, AVK, EOS)   (-0.1997498977480363, OPNT, SNOA)  \n",
       "1       (0.9533543806082179, ADX, GAM)    (-0.3494156854338717, MYI, VNDA)  "
      ]
     },
     "execution_count": 13,
     "metadata": {},
     "output_type": "execute_result"
    }
   ],
   "source": [
    "df_intra = df_intra.sort_values('Average Correlation', ascending=False)\n",
    "df_intra"
   ]
  },
  {
   "cell_type": "markdown",
   "id": "8a09cb02-4fba-4c3d-bb6c-716743d250ef",
   "metadata": {},
   "source": [
    "#### Exporting the Data to Excel"
   ]
  },
  {
   "cell_type": "code",
   "execution_count": 15,
   "id": "b25a4554-40bb-4452-ab93-bf34c4f601d4",
   "metadata": {},
   "outputs": [],
   "source": [
    "df_intra.to_excel(\"data/sector_correlations/total_intra.xlsx\",sheet_name=\"Sheet1\",index=False)"
   ]
  },
  {
   "cell_type": "markdown",
   "id": "fc29301d-48fb-4db5-9ad0-956ea3cb6e17",
   "metadata": {},
   "source": [
    "### Calculating Average Intra-Sector Correlation\n",
    "The next few blocks of code perform a similar calculation as above, however this time we are comparing the stocks in different sectors to eachother, rather than looking within the same sector."
   ]
  },
  {
   "cell_type": "code",
   "execution_count": 16,
   "id": "1bd9f58f-2ef5-4a5b-aff8-b3f51e1ad881",
   "metadata": {},
   "outputs": [],
   "source": [
    "def calculateIntraSectorCorrelations(sector1,sector2):\n",
    "    sector1_index = top_sectors.index(sector1)\n",
    "    df1 = stocks_by_sector[sector1_index][1]\n",
    "    sector1_stock_count = df1.shape[0]\n",
    "    \n",
    "    sector2_index = top_sectors.index(sector2)\n",
    "    df2 = stocks_by_sector[sector2_index][1]\n",
    "    sector2_stock_count = df2.shape[0]\n",
    "    \n",
    "    link_count = 0\n",
    "    sum_of_links = 0\n",
    "    max_corr = (0,\"stock\",\"stock\")\n",
    "    min_corr = (0,\"stock\",\"stock\")\n",
    "    for i in range(sector1_stock_count):\n",
    "        first_stock = df1.iloc[i,2:]\n",
    "        for j in range(sector2_stock_count):\n",
    "            second_stock = df2.iloc[j,2:]\n",
    "            result = 1-spatial.distance.cosine(first_stock,second_stock)\n",
    "            if(result>max_corr[0]):\n",
    "                max_corr = (result,df1.iloc[i,0],df2.iloc[j,0])\n",
    "            if(result<min_corr[0]):\n",
    "                min_corr = (result,df1.iloc[i,0],df2.iloc[j,0])\n",
    "            sum_of_links += result\n",
    "            link_count += 1\n",
    "    \n",
    "    average_link = sum_of_links / link_count\n",
    "    return average_link,max_corr,min_corr"
   ]
  },
  {
   "cell_type": "code",
   "execution_count": 17,
   "id": "bcc6cfd0-b61e-4c7b-bd10-b00b01b948b2",
   "metadata": {},
   "outputs": [],
   "source": [
    "def getAllInterSectorCorrelations(df):\n",
    "    num_of_sectors = len(top_sectors)\n",
    "    count = 1\n",
    "    for i in tqdm(range(num_of_sectors)):\n",
    "        sector1 = top_sectors[i]\n",
    "        for j in range(i+1,num_of_sectors):\n",
    "            sector2 = top_sectors[j]\n",
    "            avg_sector_corr, max_corr, min_corr = calculateIntraSectorCorrelations(sector1,sector2)\n",
    "            # print(count,sector1,sector2)\n",
    "            df.loc[count] = [sector1,sector2,avg_sector_corr,\n",
    "                             (max_corr[0],max_corr[1],max_corr[2]),\n",
    "                             (min_corr[0],min_corr[1],min_corr[2])]\n",
    "            count += 1"
   ]
  },
  {
   "cell_type": "code",
   "execution_count": 18,
   "id": "fe99ea17-bc9d-4e79-9b40-403f1028e5ab",
   "metadata": {},
   "outputs": [
    {
     "data": {
      "application/vnd.jupyter.widget-view+json": {
       "model_id": "798d15fa2f2048e89adc918d008d48fc",
       "version_major": 2,
       "version_minor": 0
      },
      "text/plain": [
       "  0%|          | 0/35 [00:00<?, ?it/s]"
      ]
     },
     "metadata": {},
     "output_type": "display_data"
    }
   ],
   "source": [
    "df_inter = pd.DataFrame(columns=[\"Sector1\",\"Sector2\",\"Average Correlation\",\"Max Correlation\",\"Min Correlation\"])\n",
    "getAllInterSectorCorrelations(df_inter)"
   ]
  },
  {
   "cell_type": "code",
   "execution_count": 21,
   "id": "a44ac736-2002-402f-b46d-8905fc12aa6e",
   "metadata": {},
   "outputs": [
    {
     "data": {
      "text/html": [
       "<div>\n",
       "<style scoped>\n",
       "    .dataframe tbody tr th:only-of-type {\n",
       "        vertical-align: middle;\n",
       "    }\n",
       "\n",
       "    .dataframe tbody tr th {\n",
       "        vertical-align: top;\n",
       "    }\n",
       "\n",
       "    .dataframe thead th {\n",
       "        text-align: right;\n",
       "    }\n",
       "</style>\n",
       "<table border=\"1\" class=\"dataframe\">\n",
       "  <thead>\n",
       "    <tr style=\"text-align: right;\">\n",
       "      <th></th>\n",
       "      <th>Sector1</th>\n",
       "      <th>Sector2</th>\n",
       "      <th>Average Correlation</th>\n",
       "      <th>Max Correlation</th>\n",
       "      <th>Min Correlation</th>\n",
       "    </tr>\n",
       "  </thead>\n",
       "  <tbody>\n",
       "    <tr>\n",
       "      <th>88</th>\n",
       "      <td>Oil, Gas &amp; Consumable Fuels</td>\n",
       "      <td>Energy Equipment &amp; Services</td>\n",
       "      <td>0.366777</td>\n",
       "      <td>(0.8399727492326914, EOG, SLB)</td>\n",
       "      <td>(-0.1873191519360753, NCA, ENSV)</td>\n",
       "    </tr>\n",
       "    <tr>\n",
       "      <th>182</th>\n",
       "      <td>Machinery</td>\n",
       "      <td>Trading Companies &amp; Distributors</td>\n",
       "      <td>0.359186</td>\n",
       "      <td>(0.8135388453334176, PH, WCC)</td>\n",
       "      <td>(-0.18475539540172692, VKI, EVI)</td>\n",
       "    </tr>\n",
       "    <tr>\n",
       "      <th>178</th>\n",
       "      <td>Machinery</td>\n",
       "      <td>Energy Equipment &amp; Services</td>\n",
       "      <td>0.346786</td>\n",
       "      <td>(0.7591758042401097, SPXX, CHY)</td>\n",
       "      <td>(-0.19321754621666543, NPV, ENSV)</td>\n",
       "    </tr>\n",
       "    <tr>\n",
       "      <th>171</th>\n",
       "      <td>Machinery</td>\n",
       "      <td>Chemicals</td>\n",
       "      <td>0.345126</td>\n",
       "      <td>(0.8421209108581166, SPXX, FFA)</td>\n",
       "      <td>(-0.1760146450203144, NPV, ADES)</td>\n",
       "    </tr>\n",
       "    <tr>\n",
       "      <th>458</th>\n",
       "      <td>Hotels, Restaurants &amp; Leisure</td>\n",
       "      <td>Airlines</td>\n",
       "      <td>0.344652</td>\n",
       "      <td>(0.717651559636135, CHW, VLT)</td>\n",
       "      <td>(-0.09376241944808883, NATH, ZNH)</td>\n",
       "    </tr>\n",
       "    <tr>\n",
       "      <th>...</th>\n",
       "      <td>...</td>\n",
       "      <td>...</td>\n",
       "      <td>...</td>\n",
       "      <td>...</td>\n",
       "      <td>...</td>\n",
       "    </tr>\n",
       "    <tr>\n",
       "      <th>410</th>\n",
       "      <td>Pharmaceuticals</td>\n",
       "      <td>Food Products</td>\n",
       "      <td>0.111158</td>\n",
       "      <td>(0.704842119705658, NMZ, PMF)</td>\n",
       "      <td>(-0.2562970399232505, CTXS, VFL)</td>\n",
       "    </tr>\n",
       "    <tr>\n",
       "      <th>262</th>\n",
       "      <td>Health Care Equipment &amp; Supplies</td>\n",
       "      <td>Electric Utilities</td>\n",
       "      <td>0.110396</td>\n",
       "      <td>(0.5419559586558121, MMT, OGE)</td>\n",
       "      <td>(-0.2770021994919407, AHPI, PPL)</td>\n",
       "    </tr>\n",
       "    <tr>\n",
       "      <th>416</th>\n",
       "      <td>Pharmaceuticals</td>\n",
       "      <td>Electric Utilities</td>\n",
       "      <td>0.105444</td>\n",
       "      <td>(0.5119125145092944, GSK, OGE)</td>\n",
       "      <td>(-0.3007850838755741, JAZZ, MGF)</td>\n",
       "    </tr>\n",
       "    <tr>\n",
       "      <th>53</th>\n",
       "      <td>Biotechnology</td>\n",
       "      <td>Food Products</td>\n",
       "      <td>0.090528</td>\n",
       "      <td>(0.847429075396005, PMX, PMF)</td>\n",
       "      <td>(-0.32579885937126285, VNDA, VFL)</td>\n",
       "    </tr>\n",
       "    <tr>\n",
       "      <th>59</th>\n",
       "      <td>Biotechnology</td>\n",
       "      <td>Electric Utilities</td>\n",
       "      <td>0.085770</td>\n",
       "      <td>(0.5983064546854756, MGU, OGE)</td>\n",
       "      <td>(-0.270296238068934, AUTO, EVRG)</td>\n",
       "    </tr>\n",
       "  </tbody>\n",
       "</table>\n",
       "<p>595 rows × 5 columns</p>\n",
       "</div>"
      ],
      "text/plain": [
       "                              Sector1                           Sector2  \\\n",
       "88        Oil, Gas & Consumable Fuels       Energy Equipment & Services   \n",
       "182                         Machinery  Trading Companies & Distributors   \n",
       "178                         Machinery       Energy Equipment & Services   \n",
       "171                         Machinery                         Chemicals   \n",
       "458     Hotels, Restaurants & Leisure                          Airlines   \n",
       "..                                ...                               ...   \n",
       "410                   Pharmaceuticals                     Food Products   \n",
       "262  Health Care Equipment & Supplies                Electric Utilities   \n",
       "416                   Pharmaceuticals                Electric Utilities   \n",
       "53                      Biotechnology                     Food Products   \n",
       "59                      Biotechnology                Electric Utilities   \n",
       "\n",
       "     Average Correlation                  Max Correlation  \\\n",
       "88              0.366777   (0.8399727492326914, EOG, SLB)   \n",
       "182             0.359186    (0.8135388453334176, PH, WCC)   \n",
       "178             0.346786  (0.7591758042401097, SPXX, CHY)   \n",
       "171             0.345126  (0.8421209108581166, SPXX, FFA)   \n",
       "458             0.344652    (0.717651559636135, CHW, VLT)   \n",
       "..                   ...                              ...   \n",
       "410             0.111158    (0.704842119705658, NMZ, PMF)   \n",
       "262             0.110396   (0.5419559586558121, MMT, OGE)   \n",
       "416             0.105444   (0.5119125145092944, GSK, OGE)   \n",
       "53              0.090528    (0.847429075396005, PMX, PMF)   \n",
       "59              0.085770   (0.5983064546854756, MGU, OGE)   \n",
       "\n",
       "                       Min Correlation  \n",
       "88    (-0.1873191519360753, NCA, ENSV)  \n",
       "182   (-0.18475539540172692, VKI, EVI)  \n",
       "178  (-0.19321754621666543, NPV, ENSV)  \n",
       "171   (-0.1760146450203144, NPV, ADES)  \n",
       "458  (-0.09376241944808883, NATH, ZNH)  \n",
       "..                                 ...  \n",
       "410   (-0.2562970399232505, CTXS, VFL)  \n",
       "262   (-0.2770021994919407, AHPI, PPL)  \n",
       "416   (-0.3007850838755741, JAZZ, MGF)  \n",
       "53   (-0.32579885937126285, VNDA, VFL)  \n",
       "59    (-0.270296238068934, AUTO, EVRG)  \n",
       "\n",
       "[595 rows x 5 columns]"
      ]
     },
     "execution_count": 21,
     "metadata": {},
     "output_type": "execute_result"
    }
   ],
   "source": [
    "df_inter = df_inter.sort_values('Average Correlation',ascending=False)\n",
    "df_inter"
   ]
  },
  {
   "cell_type": "code",
   "execution_count": 20,
   "id": "3e2c5557-96db-4e2d-a8f2-2fe27150ef2b",
   "metadata": {},
   "outputs": [],
   "source": [
    "df_inter.to_excel(\"data/sector_correlations/total_inter.xlsx\",sheet_name=\"Sheet1\",index=False)"
   ]
  },
  {
   "cell_type": "code",
   "execution_count": null,
   "id": "c226c5e8-4271-4e0c-9f45-ce3199f7480d",
   "metadata": {},
   "outputs": [],
   "source": []
  }
 ],
 "metadata": {
  "kernelspec": {
   "display_name": "Python 3 (ipykernel)",
   "language": "python",
   "name": "python3"
  },
  "language_info": {
   "codemirror_mode": {
    "name": "ipython",
    "version": 3
   },
   "file_extension": ".py",
   "mimetype": "text/x-python",
   "name": "python",
   "nbconvert_exporter": "python",
   "pygments_lexer": "ipython3",
   "version": "3.10.5"
  }
 },
 "nbformat": 4,
 "nbformat_minor": 5
}
